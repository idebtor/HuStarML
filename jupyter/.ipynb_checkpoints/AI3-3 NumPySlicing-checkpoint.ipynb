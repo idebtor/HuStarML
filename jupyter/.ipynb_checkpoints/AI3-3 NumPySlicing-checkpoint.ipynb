{
 "cells": [
  {
   "cell_type": "markdown",
   "metadata": {},
   "source": [
    "나는 인애를 원하고 제사를 원하지 아니하며 번제보다 하나님을 아는 것을 원하노라 (호6:6)\n",
    "\n",
    "-------\n",
    "\n",
    "<center><img src=\"https://github.com/idebtor/KMOOC-ML/blob/master/ipynb/images/joyai/LectureNotes_ML.png?raw=true\" width=1000></center>\n",
    "\n",
    "__NOTE:__ The following materials have been compiled and adapted from the numerous sources including my own. Please help me to keep this tutorial up-to-date by reporting any issues or questions. Send any comments or criticisms to `idebtor@gmail.com` Your assistances and comments will be appreciated."
   ]
  },
  {
   "cell_type": "markdown",
   "metadata": {},
   "source": [
    "<b style=\"font-size:30px\"> Chapter 3. NumPy Slicing:배열 슬라이싱 </b>\n",
    "\n",
    "__학습 목표__ \n",
    "\n",
    "- 기계학습에서 자주 사용하는 배열 슬라이싱을 익힌다\n",
    "- Vectorization - 벡터화 연산을 이해한다\n",
    "- 배열과 벡터의 연산을 익힌다. \n",
    "- 차원 축소 연산을 이해한다. \n",
    "\n",
    "__학습 내용__\n",
    "\n",
    "1. 배열의 슬라이싱   \n",
    "1. 벡터화 연산(Review)\n",
    "1. 배열과 벡터의 연산  \n",
    "1. 차원 축소 연산"
   ]
  },
  {
   "cell_type": "markdown",
   "metadata": {},
   "source": [
    "# 배열의 슬라이싱\n",
    "\n",
    "기계학습을 하면서, 다차원 배열을 부분적으로 다루어야 할 때가 많습니다. 인덱싱과 슬라이싱이 필요한 것입니다. \n",
    "배열의 인덱싱은 0부터 시작하고, 또한 음수 인덱싱도 가능하여 배열의 끝은 -1부터 시작합니다. 또한 범위를 지정할 때, 콜론(:)을 사용합니다. "
   ]
  },
  {
   "cell_type": "markdown",
   "metadata": {},
   "source": [
    "## 행, 열 인덱싱\n",
    "행의 인덱싱은 행의 인덱스로만 가능하지만, 열을 인덱싱할 때는 행의 위치에 콜론(:)을 지정해야 합니다.  \n",
    "콜론(:)을 사용하여 start:end와 같이 범위를 지정할 때, end는 자신을 포함하지 않고, start가 생략이 되면 0부터를 의미하며, end가 생략되면 끝까지를 의미합니다. \n"
   ]
  },
  {
   "cell_type": "markdown",
   "metadata": {},
   "source": [
    "## 원소 인덱싱\n",
    "원소 하나씩 접근하는 것은 일반적인 배열 인덱싱과 같습니다. 다만, 파이썬의 특이한 점은 인덱싱으로 음수를 사용하며, -1은 배열의 끝을 나타냅니다. 그러므로, 아래 그림과 같은 배열에서 원소 12의 인덱싱은 `[-1, -1]`이며, 이런 인덱싱은 2차원 배열의 크기가 바뀔지라도 항상 마지막 원소를 가리키는 편리함이 있습니다."
   ]
  },
  {
   "cell_type": "markdown",
   "metadata": {},
   "source": [
    "예를 들어, \n",
    "- `[:, :]` 2차원 배열의 모든 행과 열을 나타내고, \n",
    "- `[:2]`는 배열의 0, 1의 행, \n",
    "- `[:, 1:3]`은 1, 2열을 나타냅니다. \n",
    "- `[-1, -1]`은 원소 12를 나타냅니다.\n",
    "\n",
    "일반적으로 파이썬에서 범위(인덱싱)를 지정할 때 범위의 끝은 포함하지 않습니다. "
   ]
  },
  {
   "cell_type": "markdown",
   "metadata": {},
   "source": [
    "<center><img src=\"https://github.com/idebtor/KMOOC-ML/blob/master/ipynb/images/ch2/ndarray-indexing.png?raw=true\" width=\"600\">\n",
    "<center>그림 1: 넘파이 배열 인덱싱</center>"
   ]
  },
  {
   "cell_type": "markdown",
   "metadata": {},
   "source": [
    "### Example 1: \n",
    "아래와 같은 배열을 생성하고,  첫째 행과 열을 출력하십시오. \n",
    "```\n",
    "[[ 1  2  3  4]\n",
    " [ 5  6  7  8]\n",
    " [ 9 10 11 12]]\n",
    "```\n",
    "\n",
    "첫 행과 열은 다음과 같습니다. \n",
    "```\n",
    "[1 2 3 4]\n",
    "[1 5 9]\n",
    "```"
   ]
  },
  {
   "cell_type": "code",
   "execution_count": 1,
   "metadata": {},
   "outputs": [
    {
     "name": "stdout",
     "output_type": "stream",
     "text": [
      "[[ 1  2  3  4]\n",
      " [ 5  6  7  8]\n",
      " [ 9 10 11 12]]\n",
      "[1 2 3 4]\n",
      "[1 5 9]\n"
     ]
    }
   ],
   "source": [
    "import numpy as np\n",
    "\n",
    "a = np.arange(1, 13).reshape(3, 4)\n",
    "print(a)\n",
    "print(a[0])\n",
    "print(a[:,0])"
   ]
  },
  {
   "cell_type": "markdown",
   "metadata": {},
   "source": [
    "### Example 2:  \n",
    "다음과 같이 마지막 행과 열을 출력하십시오. \n",
    "```\n",
    "[[ 1  2  3  4]\n",
    " [ 5  6  7  8]\n",
    " [ 9 10 11 12]]\n",
    "```\n",
    "마지막 행과 열\n",
    "```\n",
    "[ 9 10 11 12]\n",
    "[ 4  8 12]\n",
    "```"
   ]
  },
  {
   "cell_type": "code",
   "execution_count": 2,
   "metadata": {},
   "outputs": [
    {
     "name": "stdout",
     "output_type": "stream",
     "text": [
      "[ 9 10 11 12]\n",
      "[ 4  8 12]\n"
     ]
    }
   ],
   "source": [
    "print(a[-1])          # 마지막 행\n",
    "print(a[:, -1])"
   ]
  },
  {
   "cell_type": "markdown",
   "metadata": {},
   "source": [
    "## 행이나 열을 슬라이싱하기\n",
    "두 가지 방법이 있습니다. 하나는 1차원 배열로 하는 방법 또 하나는 2차원 배열로 슬라이싱하는 방법입니다. \n",
    "\n",
    "1. 두 번째 행(`[5 6 7 8]`)을 슬라이싱할 때 (4,) 혹은 (1, 4) 형상으로 슬라이싱하는 방법이 있습니다. \n",
    "2. 두 번째 열(`[2 6 10]`)을 슬라이싱할 때도, (3,) 혹은 (3, 1) 형상으로 슬라이싱하는 방법이 있습니다. \n",
    "\n",
    "```\n",
    "[[ 1  2  3  4]\n",
    " [ 5  6  7  8]\n",
    " [ 9 10 11 12]]\n",
    " ```"
   ]
  },
  {
   "cell_type": "markdown",
   "metadata": {},
   "source": [
    "### Example 3. \n",
    "두번째 행과 열을 각각 1차원으로 추출하십시오.\n",
    "\n",
    "```\n",
    "[[ 1  2  3  4]\n",
    " [ 5  6  7  8]\n",
    " [ 9 10 11 12]]\n",
    "```\n",
    "```\n",
    "[5 6 7 8]\n",
    "[ 2  6 10]\n",
    "```\n",
    "__solution:__"
   ]
  },
  {
   "cell_type": "code",
   "execution_count": 3,
   "metadata": {},
   "outputs": [
    {
     "name": "stdout",
     "output_type": "stream",
     "text": [
      "[5 6 7 8]\n",
      "[ 2  6 10]\n"
     ]
    }
   ],
   "source": [
    "a = np.arange(1, 13).reshape(3,4)\n",
    "row = a[1]      # shape(4,)\n",
    "col = a[:, 1]\n",
    "print(row)\n",
    "print(col)"
   ]
  },
  {
   "cell_type": "markdown",
   "metadata": {},
   "source": [
    "### Example 4\n",
    "두번째 행과 열을 각각 2차원으로 추출하십시오.\n",
    "\n",
    "```\n",
    "[[ 1  2  3  4]\n",
    " [ 5  6  7  8]\n",
    " [ 9 10 11 12]]\n",
    "```\n",
    "```\n",
    "[[5 6 7 8]]\n",
    "[[ 2]\n",
    " [ 6]\n",
    " [10]]\n",
    "```\n",
    "__solution:__"
   ]
  },
  {
   "cell_type": "code",
   "execution_count": 4,
   "metadata": {},
   "outputs": [
    {
     "name": "stdout",
     "output_type": "stream",
     "text": [
      "[[5 6 7 8]]\n",
      "[[ 2]\n",
      " [ 6]\n",
      " [10]]\n"
     ]
    }
   ],
   "source": [
    "row = a[1:2, :]    # 두번째 행 same as a[1:2]\n",
    "col = a[:, 1:2]    # 두번째 열\n",
    "print(row)\n",
    "print(col)"
   ]
  },
  {
   "cell_type": "markdown",
   "metadata": {},
   "source": [
    "## 서브(sub)배열은 기존 배열의 뷰(view)이다. \n",
    "\n",
    "제목이 무슨 말인지 이해가 가지 않지만 그대로 진행해 봅시다. 여기서 기존의 배열은 예를 들면 `org` 배열이라고 합시다.\n",
    "\n",
    "- 서브 배열 `sub`의 첫 원소를 값을 `99`으로 바꾸고 `sub`를 출력하고, 기존의 배열 `org`를 출력해봅시다. \n",
    "- 그러면, `org` 배열도 수정된 것을 볼 수 있습니다. 유의해야 할 점입니다. 이러한 사실을 간과하면, 언제가 몇 시간이나 며칠 동안 디버깅을 해야 할지도 모릅니다. "
   ]
  },
  {
   "cell_type": "code",
   "execution_count": 5,
   "metadata": {},
   "outputs": [
    {
     "name": "stdout",
     "output_type": "stream",
     "text": [
      "[[1 2]\n",
      " [5 6]]\n",
      "[[99  2  3  4]\n",
      " [ 5  6  7  8]\n",
      " [ 9 10 11 12]]\n"
     ]
    }
   ],
   "source": [
    "org = np.arange(1, 13).reshape(3,4)\n",
    "sub = org[:2, :2]      # upper left corner 2x2\n",
    "print(sub)\n",
    "sub[0, 0] = 99\n",
    "print(org)"
   ]
  },
  {
   "cell_type": "markdown",
   "metadata": {},
   "source": [
    "org 배열에서 일부 잘라낸 sub 배열을 서브배열$^{subarray}$라고 부르는 이유가 여기에 있습니다. \n",
    "\n",
    "view(뷰)라는 말은 무슨 말인가요? C프로그래밍의 포인터 개념입니다. 포인터가 가리키고 있는 내용을 바꾸면 원래의 저장된 변수의 내용이 바뀌는 것과 같습니다. "
   ]
  },
  {
   "cell_type": "markdown",
   "metadata": {},
   "source": [
    "## 배열의 복사\n",
    "\n",
    "배열을 복사할 때도 조심해야 합니다. 다음과 같이 `cpy = org`를 하여 `org`를 복사했다고 생각하면 잘못입니다. 여기서 `cpy`도 역시 view(뷰)입니다. "
   ]
  },
  {
   "cell_type": "code",
   "execution_count": 6,
   "metadata": {},
   "outputs": [
    {
     "name": "stdout",
     "output_type": "stream",
     "text": [
      "[[999   2   3   4]\n",
      " [  5   6   7   8]\n",
      " [  9  10  11  12]]\n"
     ]
    }
   ],
   "source": [
    "org = np.arange(1, 13).reshape(3,4)\n",
    "cpy = org\n",
    "cpy[0, 0] = 999\n",
    "print(org)"
   ]
  },
  {
   "cell_type": "markdown",
   "metadata": {},
   "source": [
    "그러면, 배열의 복사는 어떻게 해야 합니까? 배열 ndarray클래스가 제공하는 `copy()`메소드를 사용해야 합니다. "
   ]
  },
  {
   "cell_type": "code",
   "execution_count": 7,
   "metadata": {},
   "outputs": [
    {
     "name": "stdout",
     "output_type": "stream",
     "text": [
      "[[ 1  2  3  4]\n",
      " [ 5  6  7  8]\n",
      " [ 9 10 11 12]]\n",
      "[[999   2   3   4]\n",
      " [  5   6   7   8]\n",
      " [  9  10  11  12]]\n"
     ]
    }
   ],
   "source": [
    "org = np.arange(1, 13).reshape(3,4)\n",
    "cpy = org.copy()\n",
    "cpy[0, 0] = 999\n",
    "print(org)\n",
    "print(cpy)"
   ]
  },
  {
   "cell_type": "markdown",
   "metadata": {},
   "source": [
    "## 불린$^{Boolean}$ 배열과 Arg 함수 다루기\n",
    "\n",
    "기계학습에서 종종 사용되는 인덱싱입니다. 어떤 조건을 만족하는 배열의 원소를 선택할 때 사용합니다. 분류를 한 결과가 배열로 저장되어 있을 때, 어떤 임계값보다 큰 모든 원소의 갯수나 인덱스를 구할 수 있습니다.  \n",
    "\n",
    "- `argmax(), argmin()`: 배열의 값들 중에서 가장 크거나 혹은 작은 값을 가진 원소의 인덱스를 반환합니다. \n",
    "- `argwhere()`: 배열의 값들 중에서 0가 아닌 원소들의 인덱스를 반환합니다. "
   ]
  },
  {
   "cell_type": "markdown",
   "metadata": {},
   "source": [
    "### Example 1: \n",
    "\n",
    "아래와 같이 True 혹은 False를 무작위로 설정한 배열(size = 10) `data`를 생성하십시오.\n",
    "\n",
    "```\n",
    "[False  True  True  True False False  True False False False]\n",
    "```"
   ]
  },
  {
   "cell_type": "code",
   "execution_count": 8,
   "metadata": {},
   "outputs": [
    {
     "name": "stdout",
     "output_type": "stream",
     "text": [
      "[ True False  True False  True  True False False  True  True]\n"
     ]
    }
   ],
   "source": [
    "data = np.random.random(10)  # np.random.random(12).reshape(3,4)\n",
    "data = data > 0.5\n",
    "print(data)"
   ]
  },
  {
   "cell_type": "markdown",
   "metadata": {},
   "source": [
    "### Example 2: \n",
    "\n",
    "아래와 같이 무작위로 설정된 배열에서  `True`의 갯수를 계산하십시오.\n",
    "```\n",
    "[False  True  True  True False False  True False False False]\n",
    "4\n",
    "```"
   ]
  },
  {
   "cell_type": "code",
   "execution_count": 9,
   "metadata": {},
   "outputs": [
    {
     "name": "stdout",
     "output_type": "stream",
     "text": [
      "[ True False  True False  True  True False False  True  True]\n",
      "6\n"
     ]
    }
   ],
   "source": [
    "print(data)\n",
    "print(sum(data))"
   ]
  },
  {
   "cell_type": "markdown",
   "metadata": {},
   "source": [
    "### Example 3: argmax()\n",
    "\n",
    "아래와 같이 난수로 이루어진 배열에서 가장 큰 수의 인덱스를 찾으십시오. \n",
    "\n",
    "```\n",
    "[0.34467622 0.64589714 0.88837541 0.90331364 0.81690392 0.64632381\n",
    " 0.65675037 0.27906638 0.39276939 0.6985122 ]\n",
    "3\n",
    "```"
   ]
  },
  {
   "cell_type": "code",
   "execution_count": 10,
   "metadata": {},
   "outputs": [
    {
     "name": "stdout",
     "output_type": "stream",
     "text": [
      "[0.33729699 0.88544315 0.17622593 0.5535594  0.66832209 0.59968724\n",
      " 0.88126781 0.60774014 0.06887122 0.91597016]\n",
      "9\n"
     ]
    }
   ],
   "source": [
    "data = np.random.random(10)  # np.random.random(12).reshape(3,4)\n",
    "print(data)\n",
    "print(np.argmax(data))"
   ]
  },
  {
   "cell_type": "markdown",
   "metadata": {},
   "source": [
    "### Example 4: argwhere()\n",
    "\n",
    "아래와 같이 무작위로 설정된 배열에서  `True` 원소가 있는 인덱스로 구성된 리스트를 생성하십시오. \n",
    "```\n",
    "[ True False False False  True False False False  True  True]\n",
    "[[0]\n",
    " [4]\n",
    " [8]\n",
    " [9]]\n",
    "[0 4 8 9]\n",
    "```"
   ]
  },
  {
   "cell_type": "code",
   "execution_count": 11,
   "metadata": {},
   "outputs": [
    {
     "name": "stdout",
     "output_type": "stream",
     "text": [
      "[ True  True  True  True  True False False  True False False]\n",
      "[[0]\n",
      " [1]\n",
      " [2]\n",
      " [3]\n",
      " [4]\n",
      " [7]]\n",
      "[0 1 2 3 4 7]\n"
     ]
    }
   ],
   "source": [
    "data = np.random.random(10)  # np.random.random(12).reshape(3,4)\n",
    "data = data > 0.5\n",
    "print(data)\n",
    "indices = np.argwhere(data)\n",
    "print(indices)\n",
    "alist = indices.flatten()\n",
    "print(alist)"
   ]
  },
  {
   "cell_type": "markdown",
   "metadata": {},
   "source": [
    "# 벡터화 연산 \n",
    "앞 단원에서 우리는 넘파이 배열과 파이썬 리스트의 연산 속도를 비교해 보았습니다. 여기서는 넘파이 배열의 연산속도화 넘파이 배열의 벡터화 연산을 아래와 같이 비교해 볼 수 있습니다. \n",
    "\n",
    "첫번째 코드는 for 반복문을 사용하여 배열의 원소들을 각각 합한 값을 구했고, 두 번째 코드는 for 반복문을 사용하지 않고, 넘파이의 벡터화 연산으로 한 번에 연산을 하였습니다. 이제 각각 %%time 혹은 %%timeit 셀 매직코멘드로 소요시간을 측정해볼 수 있습니다. 이러한 매직 코맨드를 셀의 첫줄에 나와야 합니다. time은 셀의 코드를 한번 실행한 시간을 반환하지만, timeit를 여러 번 실행하여 평균을 반환합니다. "
   ]
  },
  {
   "cell_type": "code",
   "execution_count": 12,
   "metadata": {},
   "outputs": [],
   "source": [
    "import numpy as np\n",
    "\n",
    "n = 1_000_000\n",
    "w = np.arange(1, n+1)\n",
    "x = np.arange(n+1, 2*n + 1)\n",
    "y = np.zeros_like(x)"
   ]
  },
  {
   "cell_type": "code",
   "execution_count": 13,
   "metadata": {},
   "outputs": [
    {
     "name": "stdout",
     "output_type": "stream",
     "text": [
      "Wall time: 335 ms\n"
     ]
    },
    {
     "data": {
      "text/plain": [
       "array([2999992, 2999994, 2999996, 2999998, 3000000])"
      ]
     },
     "execution_count": 13,
     "metadata": {},
     "output_type": "execute_result"
    }
   ],
   "source": [
    "%%time\n",
    "for i in range(n):\n",
    "    y[i] = w[i] + x[i]\n",
    "\n",
    "y[-5:]"
   ]
  },
  {
   "cell_type": "code",
   "execution_count": 14,
   "metadata": {},
   "outputs": [
    {
     "name": "stdout",
     "output_type": "stream",
     "text": [
      "Wall time: 2.11 ms\n"
     ]
    },
    {
     "data": {
      "text/plain": [
       "array([2999992, 2999994, 2999996, 2999998, 3000000])"
      ]
     },
     "execution_count": 14,
     "metadata": {},
     "output_type": "execute_result"
    }
   ],
   "source": [
    "%%time\n",
    "y = w + x\n",
    "y[-5:]"
   ]
  },
  {
   "cell_type": "markdown",
   "metadata": {},
   "source": [
    "이와같이 벡터화 연산을 사용하면 덧셈 연산 하나로 신속히 계산합니다.\n",
    "\n",
    "사칙 연산뿐 아니라 비교 연산과 같은 논리 연산도 벡터화 연산이 가능합니다. 아래와 같이 코딩하지만, 벡터화 연산으로 말미암아 각 원소마다 각각 같은 논리 연산을 적용하여 그 결과를 반환합니다. "
   ]
  },
  {
   "cell_type": "code",
   "execution_count": 15,
   "metadata": {},
   "outputs": [
    {
     "data": {
      "text/plain": [
       "array([False,  True, False,  True])"
      ]
     },
     "execution_count": 15,
     "metadata": {},
     "output_type": "execute_result"
    }
   ],
   "source": [
    "a = np.array([1, 2, 3, 4])\n",
    "b = np.array([4, 2, 2, 4])\n",
    "\n",
    "a == b"
   ]
  },
  {
   "cell_type": "markdown",
   "metadata": {},
   "source": [
    "그런데, 만약 배열의 각 원소들을 일일히 비교하는 것이 아니라 배열의 모든 원소가 다 같은지 알고 싶다면 `all` 명령을 사용하면 됩니다."
   ]
  },
  {
   "cell_type": "code",
   "execution_count": 16,
   "metadata": {},
   "outputs": [
    {
     "name": "stdout",
     "output_type": "stream",
     "text": [
      "False\n",
      "True\n"
     ]
    }
   ],
   "source": [
    "x = np.array([1, 2, 3, 4])\n",
    "y = np.array([4, 2, 2, 4])\n",
    "z = np.array([1, 2, 3, 4])\n",
    "\n",
    "print(np.all(x == y))   # 각각 원소를 1:1로 비교할 때 모두 같은가?\n",
    "print(np.any(x == y))   # 각각 원소를 1:1로 비교할 때 하나라도 같은가?"
   ]
  },
  {
   "cell_type": "markdown",
   "metadata": {},
   "source": [
    "# 배열과 벡터의 연산\n",
    "\n",
    "행렬은 여러 벡터로 구성된 데이터 셋입니다. 하나의 벡터 안에는 원소의 값이 같은 형식(type)이며, 이러한 벡터를 여러 개 모은 것이 행렬입니다. 원소가 3개인 벡터가 2개 있으면 2행, 3열의 행렬, 2x3 행렬입니다.  \n",
    "\n",
    "## 원소별 사칙 연산\n",
    "\n",
    "파이썬에서 숫자로 사칙연산을 하듯이 연산을 합니다. 형상(shape)이 같은 배열끼리 사칙연산을 수행하게 되면 같은 위치에 있는 항목끼리 연산을 수행합니다. "
   ]
  },
  {
   "cell_type": "markdown",
   "metadata": {},
   "source": [
    "$ \\left\\lgroup \\matrix{1 & 2\\cr 3 & 4} \\right\\rgroup \n",
    "+ \\left\\lgroup \\matrix{5 & 6\\cr 7 & 8} \\right\\rgroup\n",
    "= \\left\\lgroup \\matrix{1+5 & 2+6\\cr 3+7 & 4+8} \\right\\rgroup $"
   ]
  },
  {
   "cell_type": "code",
   "execution_count": 17,
   "metadata": {},
   "outputs": [],
   "source": [
    "import numpy as np\n",
    "\n",
    "A = np.array([[1, 2],[3, 4]])\n",
    "B = np.array([[5, 6],[7, 8]])"
   ]
  },
  {
   "cell_type": "code",
   "execution_count": 18,
   "metadata": {},
   "outputs": [
    {
     "name": "stdout",
     "output_type": "stream",
     "text": [
      "[[ 6  8]\n",
      " [10 12]]\n"
     ]
    }
   ],
   "source": [
    "print(A + B)"
   ]
  },
  {
   "cell_type": "code",
   "execution_count": 19,
   "metadata": {},
   "outputs": [
    {
     "name": "stdout",
     "output_type": "stream",
     "text": [
      "[[-4 -4]\n",
      " [-4 -4]]\n"
     ]
    }
   ],
   "source": [
    "print(A - B)"
   ]
  },
  {
   "cell_type": "code",
   "execution_count": 20,
   "metadata": {},
   "outputs": [
    {
     "name": "stdout",
     "output_type": "stream",
     "text": [
      "[[ 5 12]\n",
      " [21 32]]\n"
     ]
    }
   ],
   "source": [
    "print(A * B)"
   ]
  },
  {
   "cell_type": "code",
   "execution_count": 21,
   "metadata": {},
   "outputs": [
    {
     "name": "stdout",
     "output_type": "stream",
     "text": [
      "[[0.2        0.33333333]\n",
      " [0.42857143 0.5       ]]\n"
     ]
    }
   ],
   "source": [
    "print(A / B)"
   ]
  },
  {
   "cell_type": "markdown",
   "metadata": {},
   "source": [
    "## 행 벡터와 열 벡터\n",
    "\n",
    "선형 대수학에서, 행 벡터는 행 행렬 1xm 행렬, 즉 m 원소들로 구성된 단일 행 행렬이며 다음과 같이 나타낼 수 있습니다.\n",
    "\\begin{align} \\mathbf{w} = \\begin{pmatrix} w_1 \\ w_2 \\ \\cdots \\ w_m \\end{pmatrix} \\end{align}\n",
    "\n",
    "마찬가지로, 열 벡터는 열 행렬 mx1 행렬, 즉 m 원소들의 구성된 단일 열 행렬이며 다음과 같이 표시합니다. \n",
    "\\begin{align} \\mathbf{x} = \\begin{pmatrix} x_1 \\cr x_2 \\cr \\vdots \\cr x_m \\end{pmatrix} \\end{align}\n",
    "\n",
    "\n",
    "행 벡터의 전치 행렬은 열 벡터이며, 열 벡터의 전치$^{transpose}$ 행렬은 행 벡터입니다. \n",
    "\n",
    "\\begin{align} \\begin{pmatrix} x_1 \\ x_2 \\ \\cdots \\ x_m \\end{pmatrix}^T \n",
    "            = \\begin{pmatrix} x_1 \\cr x_2 \\cr \\vdots \\cr x_m \\end{pmatrix}, \\qquad \n",
    "            \\begin{pmatrix} x_1 \\cr x_2 \\cr \\vdots \\cr x_m \\end{pmatrix}^T\n",
    "            = \\begin{pmatrix} x_1 \\ x_2 \\ \\cdots \\ x_m \\end{pmatrix} \\end{align}"
   ]
  },
  {
   "cell_type": "markdown",
   "metadata": {},
   "source": [
    "##  점곱(혹은 내적, inner product)\n",
    "\n",
    "### 행 벡터와 열 벡터의 점곱\n",
    "행 벡터 $\\mathbf{w}$와 열 벡터 $\\mathbf{x}$를 각각 원소별로 곱한 것을 합산함으로 내적(inner product, 혹은 점곱)을 구할 수 있습니다.    \n",
    "\n",
    "\\begin{align} \n",
    "\\mathbf{w \\cdot x} &= \\begin{pmatrix} w_1 \\ w_2 \\ \\cdots \\ w_m \\end{pmatrix} \\cdot \n",
    "                     \\begin{pmatrix} x_1 \\cr x_2 \\cr \\vdots \\cr x_m \\end{pmatrix}  \\\\\n",
    "                   &= \\sum_{i=1}^{m} w_ix_i \\\\\n",
    "                   &= w_1x_1 + w_2x_2 + \\cdots + w_m x_m\n",
    "\\end{align}\n",
    "\n"
   ]
  },
  {
   "cell_type": "markdown",
   "metadata": {},
   "source": [
    "### 열 벡터와 행 벡터의 점곱\n",
    "\n",
    "만약, 우리가 열(col) 벡터 `x`와 행(row) 벡터 `w`의 내적을 하면 어떻게 될까요?  \n",
    "\\begin{align} \n",
    "\\mathbf{x \\cdot w} &= \\begin{pmatrix} x_1 \\cr x_2 \\cr \\vdots \\cr x_m \\end{pmatrix}\n",
    "                      \\cdot \\begin{pmatrix} w_1 \\ w_2 \\ \\cdots \\ w_m \\end{pmatrix} \n",
    "                   = \\begin{pmatrix} x_1w_1 & x_1w_2 & \\cdots & x_1w_m \\cr\n",
    "                                     x_2w_1 & x_2w_2 & \\cdots & x_2w_m \\cr\n",
    "                                     ... &  &  \\cdots & \\cdots \\cr \n",
    "                                     x_mw_1 & x_mw_2 & \\cdots & x_mw_m \\end{pmatrix}\n",
    "\\end{align}\n"
   ]
  },
  {
   "cell_type": "markdown",
   "metadata": {},
   "source": [
    "### 넘파이 벡터의 형상\n",
    "\n",
    "벡터를 1차원 배열로 쉽게 나타낼 수도 있겠지만, 만약 그렇게 한다면, 행(row)과 열(col)의 점곱은 스칼라 값을 얻을 수 있지만, 열(col)과 행(row) 벡터의 점곱은 얻을 수 없습니다. 행/열의 점곱과 열/행의 점곱을 온전히 계산하려면, __벡터__ 를 1차원 배열이 아니라, __2차원 배열__을 사용하여 $\\mathbf{w}$를 `1 x m`형상으로, $\\mathbf{x}$를 `m x 1` 형상으로 생성해야 합니다. \n",
    "\n",
    "\n",
    "그러면, 어떻게 하면,$\\mathbf{w}$, $\\mathbf{x}$를 __진정한__ 열 벡터와 행 벡터로 생성할 수 있을까요?\n",
    "\n",
    "`reshape()`를 사용하여, 원하는 shape을 지정하거나 벡터를 생성할 때 __겹`[]`__ 을 사용하여 2차원 배열로 만들어야 합니다. 다음과 같이 말입니다. \n",
    "\n",
    "`row_vector = np.array([[0, 1, 2, 3]])`   \n",
    "\n",
    "`col_vector = np.array([[4, 3, 2, 1]])`"
   ]
  },
  {
   "cell_type": "code",
   "execution_count": 22,
   "metadata": {},
   "outputs": [
    {
     "name": "stdout",
     "output_type": "stream",
     "text": [
      "[[0 1 2 3]]\n",
      "[[4]\n",
      " [3]\n",
      " [2]\n",
      " [1]]\n"
     ]
    }
   ],
   "source": [
    "w = np.array(np.arange(4)).reshape(1, 4)\n",
    "x = np.array(np.arange(4, 0, -1)).reshape(4, 1)\n",
    "print(w)\n",
    "print(x)"
   ]
  },
  {
   "cell_type": "code",
   "execution_count": 23,
   "metadata": {},
   "outputs": [
    {
     "data": {
      "text/plain": [
       "array([[10]])"
      ]
     },
     "execution_count": 23,
     "metadata": {},
     "output_type": "execute_result"
    }
   ],
   "source": [
    "np.dot(w, x)    # 행/렬의 점곱"
   ]
  },
  {
   "cell_type": "code",
   "execution_count": 24,
   "metadata": {},
   "outputs": [
    {
     "data": {
      "text/plain": [
       "array([[ 0,  4,  8, 12],\n",
       "       [ 0,  3,  6,  9],\n",
       "       [ 0,  2,  4,  6],\n",
       "       [ 0,  1,  2,  3]])"
      ]
     },
     "execution_count": 24,
     "metadata": {},
     "output_type": "execute_result"
    }
   ],
   "source": [
    "np.dot(x,w)     # 렬/행의 점곱"
   ]
  },
  {
   "cell_type": "markdown",
   "metadata": {},
   "source": [
    "결론적으로, __벡터는 2차원 배열__ 입니다. 2차원 배열에서 행(row)이나 열(col)만 있는 배열입니다. \n",
    "2차원 배열로 벡터를 표시하면 __전치(transpose)__ 도 작동합니다. "
   ]
  },
  {
   "cell_type": "code",
   "execution_count": 25,
   "metadata": {},
   "outputs": [
    {
     "name": "stdout",
     "output_type": "stream",
     "text": [
      "[[0]\n",
      " [1]\n",
      " [2]\n",
      " [3]]\n",
      "[[4 3 2 1]]\n"
     ]
    }
   ],
   "source": [
    "print(w.T)\n",
    "print(x.T)"
   ]
  },
  {
   "cell_type": "markdown",
   "metadata": {},
   "source": [
    "__NOTE: 1차원 배열은 벡터가 아니지만, 점곱이 가능합니다.__   \n",
    "\n",
    "그런데, 만약, 우리가 두 개의 1차원 배열 `w = [0 1 2 3] x = [4 3 2 1]`를 점곱하면 스칼라 10을 얻습니다. w, x 두 벡터가 모두 똑같이 shape이 (4,)이며, 서로 구별할 수 없으며, `np.dot(w, x)`와 `np.dot(x, w)`는 같은 결과를 도출합니다. 결론적으로, w, x는 벡터가 아니고 1차원 배열입니다. "
   ]
  },
  {
   "cell_type": "code",
   "execution_count": 26,
   "metadata": {},
   "outputs": [
    {
     "name": "stdout",
     "output_type": "stream",
     "text": [
      "[0 1 2 3]\n",
      "[4 3 2 1]\n",
      "10\n"
     ]
    }
   ],
   "source": [
    "import numpy as np\n",
    "w = np.array(np.arange(0, 4))         # w = [0 1 2 3]\n",
    "x = np.array(np.arange(4, 0, -1))     # x = [4 3 2 1]  \n",
    "print(w)\n",
    "print(x)\n",
    "print(np.dot(w, x))"
   ]
  },
  {
   "cell_type": "code",
   "execution_count": 27,
   "metadata": {},
   "outputs": [
    {
     "data": {
      "text/plain": [
       "10"
      ]
     },
     "execution_count": 27,
     "metadata": {},
     "output_type": "execute_result"
    }
   ],
   "source": [
    "np.dot(w, x)"
   ]
  },
  {
   "cell_type": "markdown",
   "metadata": {},
   "source": [
    " 두 배열의 내적 결과는 나왔지만, 사실 행 벡터와 열 벡터의 점곱(dot product)를 한 것은 아닙니다. 왜냐하면, w, x는 1차원 배열이지 사실상 벡터는 아닙니다. 그 형상을 살펴보면, 모두 __똑같이 형상이 (4,)이기 때문입니다__. "
   ]
  },
  {
   "cell_type": "markdown",
   "metadata": {},
   "source": [
    "## 행렬의 내적\n",
    "\n",
    "NumPy ndarray 클래스의 `dot` 메소드, `@` 연산자를 사용해서 행렬의 내적을 구할 수 있습니다. \n",
    "\n",
    "$ \\left\\lgroup \\matrix{1 & 2\\cr 3 & 4} \\right\\rgroup  \\bullet\n",
    "  \\left\\lgroup \\matrix{5 & 6\\cr 7 & 8} \\right\\rgroup  =\n",
    "  \\left\\lgroup \\matrix{1\\times5+2\\times7 & 1\\times6+2\\times8\\cr 3\\times5+4\\times7 & 3\\times6+4\\times8} \\right\\rgroup\n",
    "$"
   ]
  },
  {
   "cell_type": "code",
   "execution_count": 28,
   "metadata": {},
   "outputs": [
    {
     "name": "stdout",
     "output_type": "stream",
     "text": [
      "[[19 22]\n",
      " [43 50]]\n"
     ]
    }
   ],
   "source": [
    "A = np.array([[1, 2],[3, 4]])\n",
    "B = np.array([[5, 6],[7, 8]])\n",
    "print(np.dot(A, B))"
   ]
  },
  {
   "cell_type": "code",
   "execution_count": 29,
   "metadata": {},
   "outputs": [
    {
     "name": "stdout",
     "output_type": "stream",
     "text": [
      "[[19 22]\n",
      " [43 50]]\n"
     ]
    }
   ],
   "source": [
    "print(A.dot(B))"
   ]
  },
  {
   "cell_type": "code",
   "execution_count": 30,
   "metadata": {},
   "outputs": [
    {
     "data": {
      "text/plain": [
       "array([[19, 22],\n",
       "       [43, 50]])"
      ]
     },
     "execution_count": 30,
     "metadata": {},
     "output_type": "execute_result"
    }
   ],
   "source": [
    "A@B"
   ]
  },
  {
   "cell_type": "markdown",
   "metadata": {},
   "source": [
    "## 행렬의 전치$^{transpose}$\n",
    "\n",
    "기계학습 코딩을 하다보면, 종종 배열의 모양을 바꾸어야 할 할 때가 있습니다. 전치는 행렬 내의 원소를 왼쪽 위에서 오른쪽 아래를 가로지르는 대각선을 기준으로 서로 위치를 바꾼 것입니다.  다른 말로, 행과 열의 인덱스를 바꾸는 것을 __전치$^{transpose}$__라고 합니다. 넘파이에서 행렬을 전치하기 위해선, 간단하게 배열 객체의 ‘T’ 속성을 사용하면 됩니다:\n",
    "\n",
    "다음의 동영상 파일을 보면 이해에 도움이 될 것입니다. \n",
    "\n",
    "다음의 동영상 파일을 보면 이해에 도움이 될 것입니다. \n",
    "<img src = \"https://github.com/idebtor/KMOOC-ML/blob/e863edf0614fcfab3b50ef910c022a9dc3d0ee8f/ipynb/images/ch3/Matrix_transpose.gif?raw=true\" width = \"200\">\n",
    "<center> 그림 3: 행렬의 전치(출처:https://en.wikipedia.org/wiki/Transpose)  </center>\n"
   ]
  },
  {
   "cell_type": "markdown",
   "metadata": {},
   "source": [
    "다음과 같이 두 행렬 A 와 B 가 있다고 합시다.\n",
    "\n",
    "$ A = \\left\\lgroup \\matrix{1 & 2 & 3\\cr 4 & 5 & 6} \\right\\rgroup, \\quad\n",
    "B = \\lgroup \\matrix{1 & 2 & 3} \\rgroup\n",
    "$\n",
    "\n",
    "위의 두 행렬을 넘파이 배열로 표현하면 다음과 같습니다. `array` 메소드의 인자로 1차원 파이썬 리스트를 넣으면, 크기가 리스트의 길이와 같은 벡터가 생성됩니다. 넘파이 배열의 형상을 확인하려면 `shape` 메소드를 사용하면 됩니다. \n",
    "\n",
    "여기서 A, B의 rank는 각각 2, 1 입니다. rank가 1인 배열은 전치를 해도 아무런 변화가 없습니다. \n",
    "\n",
    "먼저, 두 행렬을 넘파이 배열로 만들고 각각의 shape(형상)을 출력해봅시다.  "
   ]
  },
  {
   "cell_type": "code",
   "execution_count": 31,
   "metadata": {},
   "outputs": [
    {
     "name": "stdout",
     "output_type": "stream",
     "text": [
      "(2, 3) (3,)\n"
     ]
    }
   ],
   "source": [
    "A = np.array([[1,2,3],[4,5,6]])\n",
    "B = np.array([1,2,3])        # 벡터가 아님. \n",
    "print(A.shape, B.shape)"
   ]
  },
  {
   "cell_type": "markdown",
   "metadata": {},
   "source": [
    "두 배열의 형상이 각각 (2,3), (3,) 배열인데, 서로 곱셈이 가능한지 코드로 시도해 봅시다"
   ]
  },
  {
   "cell_type": "code",
   "execution_count": 32,
   "metadata": {},
   "outputs": [
    {
     "name": "stdout",
     "output_type": "stream",
     "text": [
      "[14 32]\n",
      "(2,)\n"
     ]
    }
   ],
   "source": [
    "C = np.dot(A, B)           # 벡터가 아닌 1차원의 값으로 반환\n",
    "print(C)\n",
    "print(C.shape)"
   ]
  },
  {
   "cell_type": "markdown",
   "metadata": {},
   "source": [
    "1차원 배열 형상(2,)의 결과를 얻었습니다. "
   ]
  },
  {
   "cell_type": "markdown",
   "metadata": {},
   "source": [
    "만약에, 우리가 수학의 행렬의 내적처럼 두 행렬 (2 x 3), (3 x 1)을 내적하여 2차원 행렬(2, 1)을 구하길 원한다면 어떻게 해야 할까요? \n",
    "\n",
    "$ A \\bullet B^T = \\begin{pmatrix}  1 & 2 & 3\\cr 4 & 5 & 6 \\end{pmatrix}\n",
    "\\bullet \\begin{pmatrix} 1 \\cr 2 \\cr3 \\end{pmatrix} \n",
    "= \\begin{pmatrix}1\\times1+2\\times2+3\\times3 \\cr 4\\times1+5\\times2+6\\times3 \\end{pmatrix} \n",
    "= \\begin{pmatrix} 14 \\cr 32 \\end{pmatrix} \n",
    "$\n",
    "  \n",
    "\n",
    "우리가 수학적인 `reshape` 메소드를 사용해서 __벡터__를 행렬로 만들어줄 수 있습니다. `reshape(1,3)` 는 넘파이 배열을 크기 1 x 3 의 행렬로 형태를 바꾸겠다는 의미입니다. 결과도 __벡터__로 산출됩니다. "
   ]
  },
  {
   "cell_type": "code",
   "execution_count": 33,
   "metadata": {
    "scrolled": true,
    "tags": []
   },
   "outputs": [
    {
     "name": "stdout",
     "output_type": "stream",
     "text": [
      "[[14]\n",
      " [32]]\n"
     ]
    }
   ],
   "source": [
    "A = np.array([[1,2,3],[4,5,6]])        # rank 2, shape (2, 3)\n",
    "B = np.array([1,2,3]).reshape(1,3)     # rank 2, shape (1, 3)\n",
    "C = np.dot(A, B.T)                     # (2x3)(3x1) ==> (2x1)\n",
    "print(C)"
   ]
  },
  {
   "cell_type": "markdown",
   "metadata": {},
   "source": [
    "# 차원 축소 연산\n",
    "\n",
    "행렬의 하나의 행에 있는 원소들을 하나의 데이터 집합으로 보고 그 집합의 평균을 구하면 각 행에 대해 하나의 숫자가 나오게 됩니다. 예를 들어 3 x 5 크기의 2차원 배열에 대해 행-평균을 구하면 3개의 숫자를 가진 1차원 벡터가 나오게 된다. 이러한 연산을 차원 축소(dimension reduction) 연산이라고 합니다.\n",
    "\n",
    "넘파이는 다음과 같은 차원 축소 연산 명령 혹은 메서드를 지원합니다.\n",
    "\n",
    "- 최대/최소: min, max, argmin, argmax\n",
    "\n",
    "- 통계: sum, mean, median, std, var\n",
    "\n",
    "- 불리언: all, any\n"
   ]
  },
  {
   "cell_type": "markdown",
   "metadata": {},
   "source": [
    "## Example 1:\n",
    "\n",
    "아래와 같이 함수 혹은 메소드로 사용 가능합니다. "
   ]
  },
  {
   "cell_type": "code",
   "execution_count": 34,
   "metadata": {},
   "outputs": [
    {
     "name": "stdout",
     "output_type": "stream",
     "text": [
      "15\n",
      "15\n",
      "5\n",
      "5\n"
     ]
    }
   ],
   "source": [
    "x = np.array([0, 1, 2, 3, 4, 5])\n",
    "print(sum(x))\n",
    "print(x.sum())\n",
    "\n",
    "print(max(x))\n",
    "print(x.max())"
   ]
  },
  {
   "cell_type": "markdown",
   "metadata": {},
   "source": [
    "## Example 2:\n",
    "배열의 모든 원소에 용하여 스칼라 값을 반환합니다. "
   ]
  },
  {
   "cell_type": "code",
   "execution_count": 35,
   "metadata": {},
   "outputs": [
    {
     "name": "stdout",
     "output_type": "stream",
     "text": [
      "False\n",
      "True\n"
     ]
    }
   ],
   "source": [
    "print(np.all([True, False, False]))  # 배열의 모든 원소가 참인가? \n",
    "print(np.any([True, True, False]))   # 배열에서 1개 이상의 원소가 참인가?"
   ]
  },
  {
   "cell_type": "code",
   "execution_count": 36,
   "metadata": {},
   "outputs": [
    {
     "name": "stdout",
     "output_type": "stream",
     "text": [
      "[0 1 2 3 4 5]\n",
      "[1 1 1 1 1 1]\n",
      "False\n",
      "True\n"
     ]
    }
   ],
   "source": [
    "y = np.ones_like(x)\n",
    "print(x)\n",
    "print(y)\n",
    "print(np.all( x == 1 ))\n",
    "print(np.all( y == 1 ))"
   ]
  },
  {
   "cell_type": "markdown",
   "metadata": {},
   "source": [
    "## Example 3: "
   ]
  },
  {
   "cell_type": "markdown",
   "metadata": {},
   "source": [
    "axis를 활용한 행 혹은 열에 대하여 연산합니다. \n",
    "\n",
    "\n",
    "연산의 대상이 2차원 이상인 경우에는 어느 차원으로 계산을 할 지를 axis 인수를 사용하여 지시할 수 있습니다. axis=0인 경우는 열 연산, axis=1인 경우는 행 연산이 됩니다. \n",
    "\n",
    "디폴트 값은 axis=0 입니다. axis 인수는 대부분의 차원 축소 명령에 적용할 수 있습니다."
   ]
  },
  {
   "cell_type": "code",
   "execution_count": 37,
   "metadata": {},
   "outputs": [
    {
     "name": "stdout",
     "output_type": "stream",
     "text": [
      "False\n",
      "[ True False False]\n",
      "[False False]\n"
     ]
    }
   ],
   "source": [
    "print(np.all([[True, False, False], [True, True, False]]))\n",
    "print(np.all([[True, False, False], [True, True, False]], axis = 0))\n",
    "print(np.all([[True, False, False], [True, True, False]], axis = 1))"
   ]
  },
  {
   "cell_type": "code",
   "execution_count": 38,
   "metadata": {},
   "outputs": [
    {
     "name": "stdout",
     "output_type": "stream",
     "text": [
      "[[ 0  1  2  3]\n",
      " [ 4  5  6  7]\n",
      " [ 8  9 10 11]]\n",
      "sum()\t 66\n",
      "sum(axis=0) [12 15 18 21]\n",
      "sum(axis=1) [ 6 22 38]\n",
      "max()\t 11\n",
      "max(axis=0) [ 8  9 10 11]\n",
      "max(axis=1) [ 3  7 11]\n"
     ]
    }
   ],
   "source": [
    "x = np.arange(12).reshape(3, 4)\n",
    "print(x)\n",
    "\n",
    "print('sum()\\t', x.sum())\n",
    "print('sum(axis=0)', x.sum(axis = 0))\n",
    "print('sum(axis=1)', x.sum(axis = 1))\n",
    "\n",
    "print('max()\\t', x.max())\n",
    "print('max(axis=0)', x.max(axis = 0))\n",
    "print('max(axis=1)', x.max(axis = 1))"
   ]
  },
  {
   "cell_type": "markdown",
   "metadata": {},
   "source": [
    "#  Exercises \n",
    "\n",
    "## 배열 생성 \n",
    "다음과 같이 3x4 배열을 만들고, np.newaxis를 이용하여 axis 0 를 추가 하여 (1, 3, 4) 형상의 배열과 axis 2를 추가하여 (3, 1, 4) 형상의 배열을 생성하십시오. \n",
    "\n",
    "2차원 배열 형상(3, 4)\n",
    "```\n",
    "[[ 0  1  2  3]\n",
    " [ 4  5  6  7]\n",
    " [ 8  9 10 11]]\n",
    "```\n",
    "\n",
    "3차원 배열 형상 (1, 3, 4) \n",
    "```\n",
    "[[[ 0  1  2  3]\n",
    "  [ 4  5  6  7]\n",
    "  [ 8  9 10 11]]]\n",
    "  \n",
    "```\n",
    "\n",
    "3차원 배열 형상 (3, 1, 4) \n",
    "```\n",
    "[[[ 0  1  2  3]]\n",
    "\n",
    "  [[ 4  5  6  7]]\n",
    "\n",
    "  [[ 8  9 10 11]]]\n",
    "```\n",
    "\n",
    "__Solution:__"
   ]
  },
  {
   "cell_type": "code",
   "execution_count": 39,
   "metadata": {},
   "outputs": [
    {
     "name": "stdout",
     "output_type": "stream",
     "text": [
      "[[ 0  1  2  3]\n",
      " [ 4  5  6  7]\n",
      " [ 8  9 10 11]]\n",
      "[[[ 0  1  2  3]\n",
      "  [ 4  5  6  7]\n",
      "  [ 8  9 10 11]]]\n",
      "[[[ 0  1  2  3]]\n",
      "\n",
      " [[ 4  5  6  7]]\n",
      "\n",
      " [[ 8  9 10 11]]]\n",
      "(3, 1, 4)\n"
     ]
    }
   ],
   "source": [
    "a = np.arange(12).reshape(3, 4)\n",
    "print(a)\n",
    "None    # using newaxis\n",
    "print(b)\n",
    "None   # using newaxis\n",
    "print(c)\n",
    "print(c.shape)"
   ]
  },
  {
   "cell_type": "markdown",
   "metadata": {},
   "source": [
    "## 배열의 슬라이싱\n",
    "다음 그림의 배열의 위 왼쪽 코너의 4개의 원소 즉 `[[1, 2], [5,6]]`와 아래 오른쪽 코너 4개의 원소 즉 `[[7, 8], [11,12]]`를 추출하십시오. \n",
    "\n",
    "<center>\n",
    "    <img src=\"https://github.com/idebtor/KMOOC-ML/blob/master/ipynb/images/ch2/ndarray-indexing1.png?raw=true\" width=\"200\">\n",
    "</center>\n",
    "\n",
    "<center>그림 2: NumPy 배열 인덱싱</center>\n",
    " "
   ]
  },
  {
   "cell_type": "markdown",
   "metadata": {},
   "source": [
    "  \n",
    "__Solution:__"
   ]
  },
  {
   "cell_type": "code",
   "execution_count": 40,
   "metadata": {},
   "outputs": [
    {
     "name": "stdout",
     "output_type": "stream",
     "text": [
      "[[ 1  2  3  4]\n",
      " [ 5  6  7  8]\n",
      " [ 9 10 11 12]]\n",
      "[[1 2]\n",
      " [5 6]]\n",
      "[[ 7  8]\n",
      " [11 12]]\n"
     ]
    }
   ],
   "source": [
    "data = np.arange(1,13).reshape(3, 4)\n",
    "print(data)\n",
    "None\n",
    "None"
   ]
  },
  {
   "cell_type": "markdown",
   "metadata": {},
   "source": [
    "## 배열의 슬라이싱\n",
    "다음 코드 셀에서 생성하는 3x4 배열에서 가장 가운데 있는 배열의 원소 `7, 8, 9`를 슬라이싱하여 출력하십시오. \n",
    "\n",
    "__Sample Run:__\n",
    "```\n",
    "array([[ 1  2  3  4  5]\n",
    "       [ 6  7  8  9 10]\n",
    "       [11 12 13 14 15]])\n",
    "```\n",
    "\n",
    "__Expected Output:__\n",
    "```\n",
    "array([[7 8 9]])\n",
    "```\n",
    "\n",
    "__Solution:__"
   ]
  },
  {
   "cell_type": "code",
   "execution_count": 41,
   "metadata": {},
   "outputs": [
    {
     "name": "stdout",
     "output_type": "stream",
     "text": [
      "[[ 1  2  3  4  5]\n",
      " [ 6  7  8  9 10]\n",
      " [11 12 13 14 15]]\n",
      "[[7 8 9]]\n"
     ]
    }
   ],
   "source": [
    "data = np.arange(1, 16).reshape(3, -1)\n",
    "print(data)\n",
    "None"
   ]
  },
  {
   "cell_type": "markdown",
   "metadata": {},
   "source": [
    "## 배열의 슬라이싱\n",
    "\n",
    "아래와 같이 주어진 배열의 가장자리의 행과 열을 제외한 나머지 배열을 인덱싱하여 다음과 같이 출력하십시오. 단, 이 문제의 답을 바로 위의 문제에 넣어도 답이 되도록 코딩(Slicing)을 하십시오. \n",
    "\n",
    "__Sample Run1:__\n",
    "```\n",
    "array([[ 1  2  3  4  5  6]\n",
    "       [ 7  8  9 10 11 12]\n",
    "       [13 14 15 16 17 18]\n",
    "       [19 20 21 22 23 24]\n",
    "       [25 26 27 28 29 30]])\n",
    "```\n",
    "\n",
    "__Expected Output1:__\n",
    "```\n",
    "[[ 8  9 10 11]\n",
    " [14 15 16 17]\n",
    " [20 21 22 23]]\n",
    "```\n",
    "\n",
    "__Sample Run2:__\n",
    "```\n",
    "array([[ 1  2  3  4  5]\n",
    "       [ 6  7  8  9 10]\n",
    "       [11 12 13 14 15]])\n",
    "```\n",
    "\n",
    "__Expected Output2:__\n",
    "```\n",
    "array([[7 8 9]])\n",
    "```\n",
    "\n",
    "__solution:__"
   ]
  },
  {
   "cell_type": "code",
   "execution_count": 42,
   "metadata": {},
   "outputs": [
    {
     "name": "stdout",
     "output_type": "stream",
     "text": [
      "[[ 1  2  3  4  5  6]\n",
      " [ 7  8  9 10 11 12]\n",
      " [13 14 15 16 17 18]\n",
      " [19 20 21 22 23 24]\n",
      " [25 26 27 28 29 30]]\n",
      "[[ 8  9 10 11]\n",
      " [14 15 16 17]\n",
      " [20 21 22 23]]\n"
     ]
    }
   ],
   "source": [
    "data = np.arange(1, 31).reshape(5, 6)\n",
    "print(data)\n",
    "None"
   ]
  },
  {
   "cell_type": "markdown",
   "metadata": {},
   "source": [
    "## 배열의 슬라이싱\n",
    "\n",
    "다음 코드 셀에서, 아래와 같이 주어진 배열의 짝수번째 열을 제외한 모든 요소를 포함하는 배열을 출력하십시오.  \n",
    "\n",
    "힌트: 파이썬의 여러 곳에서 사용되고 있는 `[star:end:step]` 용법을 적용하면 됩니다. \n",
    "\n",
    "```\n",
    "[[ 1  2  3  4  5  6  7  8]\n",
    " [ 9 10 11 12 13 14 15 16]\n",
    " [17 18 19 20 21 22 23 24]]\n",
    "[[ 1  3  5  7]\n",
    " [ 9 11 13 15]\n",
    " [17 19 21 23]]\n",
    "```\n",
    "\n",
    "__Solution:__"
   ]
  },
  {
   "cell_type": "code",
   "execution_count": 43,
   "metadata": {},
   "outputs": [
    {
     "name": "stdout",
     "output_type": "stream",
     "text": [
      "[[ 1  2  3  4  5  6  7  8]\n",
      " [ 9 10 11 12 13 14 15 16]\n",
      " [17 18 19 20 21 22 23 24]]\n",
      "[[ 1  3  5  7]\n",
      " [ 9 11 13 15]\n",
      " [17 19 21 23]]\n"
     ]
    }
   ],
   "source": [
    "data = np.arange(1, 25).reshape(3, 8)\n",
    "print(data)\n",
    "None"
   ]
  },
  {
   "cell_type": "markdown",
   "metadata": {},
   "source": [
    "__Reminder:__\n",
    "- 다음과 같은 리스트에서, 과일 이름들이나 숫자만을 찾아내 리스트로 만들 수 있습니다. "
   ]
  },
  {
   "cell_type": "code",
   "execution_count": 44,
   "metadata": {},
   "outputs": [
    {
     "name": "stdout",
     "output_type": "stream",
     "text": [
      "['apple', 'kiwi', 'banana', 'pear']\n",
      "[5, 7, 8, 3]\n"
     ]
    }
   ],
   "source": [
    "store = ['apple', 5, 'kiwi', 7, 'banana', 8, 'pear', 3]\n",
    "fruits = store[::2]\n",
    "number = store[1::2]\n",
    "print(fruits)\n",
    "print(number)"
   ]
  },
  {
   "cell_type": "markdown",
   "metadata": {},
   "source": [
    "## 배열의 슬라이싱\n",
    "\n",
    "아래의 4x4 배열 `data`에서 첫 세개의 열을 (4, 3)형상으로, 마지막 열을(4,1)형상 또한 (4,)형상으로 슬라이싱 하여 출력하십시오.\n",
    "```\n",
    "[[1 0 0 0]\n",
    " [1 0 1 1]\n",
    " [1 1 0 1]\n",
    " [1 1 1 0]]\n",
    "```"
   ]
  },
  {
   "cell_type": "markdown",
   "metadata": {},
   "source": [
    "__Expected Output:__\n",
    "```\n",
    "[[1 0 0]\n",
    " [1 0 1]\n",
    " [1 1 0]\n",
    " [1 1 1]]\n",
    "   \n",
    "[[0]\n",
    " [1]\n",
    " [1]\n",
    " [0]]\n",
    " \n",
    "[0 1 1 0]\n",
    "``` \n",
    "\n",
    "__solution:__"
   ]
  },
  {
   "cell_type": "code",
   "execution_count": 45,
   "metadata": {},
   "outputs": [
    {
     "name": "stdout",
     "output_type": "stream",
     "text": [
      "[[1 0 0 0]\n",
      " [1 0 1 1]\n",
      " [1 1 0 1]\n",
      " [1 1 1 0]]\n",
      "[[1 0 0]\n",
      " [1 0 1]\n",
      " [1 1 0]\n",
      " [1 1 1]]\n",
      "[[0]\n",
      " [1]\n",
      " [1]\n",
      " [0]]\n",
      "[0 1 1 0]\n"
     ]
    }
   ],
   "source": [
    "data = np.array([[1, 0, 0, 0], [1, 0, 1, 1], [1, 1, 0, 1], [1, 1, 1, 0]])\n",
    "print(data)\n",
    "x, y, z= None\n",
    "print(x)\n",
    "print(y)\n",
    "print(z)"
   ]
  },
  {
   "cell_type": "markdown",
   "metadata": {
    "tags": []
   },
   "source": [
    "## 배열 슬라이싱 함수 구현하기\n",
    "\n",
    "배열의 크기와 관계없이 주어진 배열에서 첫째 행부터 시작하여 세째 행, 다섯째 행...과 같이 홀수 행들을 출력하는 `oddrow()` 함수를 구현하십시오. 같은 방식으로 열을 반환하는 `oddcol()`함수를 구현하십시오. \n",
    "\n",
    "예를 들면, 아래와 같은 입력에 대해서\n",
    "```\n",
    "[[ 0  1  2  3  4  5  6]\n",
    " [ 7  8  9 10 11 12 13]\n",
    " [14 15 16 17 18 19 20]\n",
    " [21 22 23 24 25 26 27]\n",
    " [28 29 30 31 32 33 34]\n",
    " [35 36 37 38 39 40 41]]\n",
    "``` \n",
    "`oddrow(), oddcol()`는 다음과 같이 값들을 각각 반환합니다. \n",
    "```\n",
    "[[ 0,  1,  2,  3,  4,  5,  6],\n",
    " [14, 15, 16, 17, 18, 19, 20],\n",
    " [28, 29, 30, 31, 32, 33, 34]]\n",
    " \n",
    " [[ 0,  2,  4,  6],\n",
    "  [ 7,  9, 11, 13],\n",
    "  [14, 16, 18, 20],\n",
    "  [21, 23, 25, 27],\n",
    "  [28, 30, 32, 34],\n",
    "  [35, 37, 39, 41]]\n",
    "```\n",
    "\n",
    "다음과 같은 결과가 도출될 수 있도록 입력 배열도 형성하고, 함수들도 구현하는 코드를 아래에 완성하십시오. \n",
    "\n",
    "__Expected Output:__\n",
    "```\n",
    "[[ 0  1  2  3]\n",
    " [ 8  9 10 11]]\n",
    "[[ 0  1  2  3  4]\n",
    " [10 11 12 13 14]\n",
    " [20 21 22 23 24]]\n",
    "[[ 0  1  2  3  4  5  6]\n",
    " [14 15 16 17 18 19 20]\n",
    " [28 29 30 31 32 33 34]]\n",
    "[[ 0  2]\n",
    " [ 4  6]\n",
    " [ 8 10]]\n",
    "[[ 0  2  4]\n",
    " [ 5  7  9]\n",
    " [10 12 14]\n",
    " [15 17 19]\n",
    " [20 22 24]]\n",
    "[[ 0  2  4  6]\n",
    " [ 7  9 11 13]\n",
    " [14 16 18 20]\n",
    " [21 23 25 27]\n",
    " [28 30 32 34]\n",
    " [35 37 39 41]]\n",
    "```\n",
    "\n",
    "__Solution:__"
   ]
  },
  {
   "cell_type": "code",
   "execution_count": 46,
   "metadata": {},
   "outputs": [
    {
     "name": "stdout",
     "output_type": "stream",
     "text": [
      "[[ 0  1  2  3]\n",
      " [ 4  5  6  7]\n",
      " [ 8  9 10 11]]\n",
      "[[ 0  1  2  3  4]\n",
      " [ 5  6  7  8  9]\n",
      " [10 11 12 13 14]\n",
      " [15 16 17 18 19]\n",
      " [20 21 22 23 24]]\n",
      "[[ 0  1  2  3  4  5  6]\n",
      " [ 7  8  9 10 11 12 13]\n",
      " [14 15 16 17 18 19 20]\n",
      " [21 22 23 24 25 26 27]\n",
      " [28 29 30 31 32 33 34]\n",
      " [35 36 37 38 39 40 41]]\n",
      "[[ 0  1  2  3]\n",
      " [ 8  9 10 11]]\n",
      "[[ 0  1  2  3  4]\n",
      " [10 11 12 13 14]\n",
      " [20 21 22 23 24]]\n",
      "[[ 0  1  2  3  4  5  6]\n",
      " [14 15 16 17 18 19 20]\n",
      " [28 29 30 31 32 33 34]]\n",
      "[[ 0  2]\n",
      " [ 4  6]\n",
      " [ 8 10]]\n",
      "[[ 0  2  4]\n",
      " [ 5  7  9]\n",
      " [10 12 14]\n",
      " [15 17 19]\n",
      " [20 22 24]]\n",
      "[[ 0  2  4  6]\n",
      " [ 7  9 11 13]\n",
      " [14 16 18 20]\n",
      " [21 23 25 27]\n",
      " [28 30 32 34]\n",
      " [35 37 39 41]]\n"
     ]
    }
   ],
   "source": [
    "def oddrow(data):\n",
    "    return None\n",
    "\n",
    "def oddcol(data):\n",
    "    return None\n",
    "\n",
    "data3 = np.arange(12).reshape(3, -1)\n",
    "data5 = np.arange(25).reshape(5, -1)\n",
    "data6 = np.arange(42).reshape(6, -1)\n",
    "print(data3)\n",
    "print(data5)\n",
    "print(data6)\n",
    "\n",
    "print(oddrow(data3))\n",
    "print(oddrow(data5))\n",
    "print(oddrow(data6))\n",
    "\n",
    "print(oddcol(data3))\n",
    "print(oddcol(data5))\n",
    "print(oddcol(data6))"
   ]
  },
  {
   "cell_type": "markdown",
   "metadata": {},
   "source": [
    "## 배열 확장하기 \n",
    "\n",
    "다음과 같이 주어진 7x7 넘파이 배열을 각 원소마다 4번씩 반복하여 28x28 배열로 만드십시오. \n",
    "\n",
    "__힌트:__ `list comprehension`과 `np.concatenate()`를 사용하여 원소를 하나씩 확장할 수도 있지만, `np.repeat()` 함수를 사용하면 어렵지 않게 해결할 수 있습니다. `help(np.repeat)` 명령어를 실행하여 문서를 참고하십시오. \n",
    "\n",
    "```\n",
    "    [[0,0,0,0,0,0,0],\n",
    "     [0,0,99,99,99,0,0],\n",
    "     [0,0,0,0,99,0,0],\n",
    "     [0,0,0,0,99,0,0],\n",
    "     [0,0,0,0,99,0,0],\n",
    "     [0,0,0,0,99,0,0],\n",
    "     [0,0,0,0,0,0,0]])\n",
    "```"
   ]
  },
  {
   "cell_type": "markdown",
   "metadata": {},
   "source": [
    "__Expected Output:__ \n",
    "```\n",
    "array([[ 0,  0,  0,  0,  0,  0,  0,  0,  0,  0,  0,  0,  0,  0,  0,  0,  0,  0,  0,  0,  0,  0,  0,  0,  0,  0,  0,  0],\n",
    "       [ 0,  0,  0,  0,  0,  0,  0,  0,  0,  0,  0,  0,  0,  0,  0,  0,  0,  0,  0,  0,  0,  0,  0,  0,  0,  0,  0,  0],\n",
    "       [ 0,  0,  0,  0,  0,  0,  0,  0,  0,  0,  0,  0,  0,  0,  0,  0,  0,  0,  0,  0,  0,  0,  0,  0,  0,  0,  0,  0],\n",
    "       [ 0,  0,  0,  0,  0,  0,  0,  0,  0,  0,  0,  0,  0,  0,  0,  0,  0,  0,  0,  0,  0,  0,  0,  0,  0,  0,  0,  0],\n",
    "       [ 0,  0,  0,  0,  0,  0,  0,  0, 99, 99, 99, 99, 99, 99, 99, 99, 99, 99, 99, 99,  0,  0,  0,  0,  0,  0,  0,  0],\n",
    "       [ 0,  0,  0,  0,  0,  0,  0,  0, 99, 99, 99, 99, 99, 99, 99, 99, 99, 99, 99, 99,  0,  0,  0,  0,  0,  0,  0,  0],\n",
    "       [ 0,  0,  0,  0,  0,  0,  0,  0, 99, 99, 99, 99, 99, 99, 99, 99, 99, 99, 99, 99,  0,  0,  0,  0,  0,  0,  0,  0],\n",
    "       [ 0,  0,  0,  0,  0,  0,  0,  0, 99, 99, 99, 99, 99, 99, 99, 99, 99, 99, 99, 99,  0,  0,  0,  0,  0,  0,  0,  0],\n",
    "       [ 0,  0,  0,  0,  0,  0,  0,  0,  0,  0,  0,  0,  0,  0,  0,  0, 99, 99, 99, 99,  0,  0,  0,  0,  0,  0,  0,  0],\n",
    "       [ 0,  0,  0,  0,  0,  0,  0,  0,  0,  0,  0,  0,  0,  0,  0,  0, 99, 99, 99, 99,  0,  0,  0,  0,  0,  0,  0,  0],\n",
    "       [ 0,  0,  0,  0,  0,  0,  0,  0,  0,  0,  0,  0,  0,  0,  0,  0, 99, 99, 99, 99,  0,  0,  0,  0,  0,  0,  0,  0],\n",
    "       [ 0,  0,  0,  0,  0,  0,  0,  0,  0,  0,  0,  0,  0,  0,  0,  0, 99, 99, 99, 99,  0,  0,  0,  0,  0,  0,  0,  0],\n",
    "       [ 0,  0,  0,  0,  0,  0,  0,  0,  0,  0,  0,  0,  0,  0,  0,  0, 99, 99, 99, 99,  0,  0,  0,  0,  0,  0,  0,  0],\n",
    "       [ 0,  0,  0,  0,  0,  0,  0,  0,  0,  0,  0,  0,  0,  0,  0,  0, 99, 99, 99, 99,  0,  0,  0,  0,  0,  0,  0,  0],\n",
    "       [ 0,  0,  0,  0,  0,  0,  0,  0,  0,  0,  0,  0,  0,  0,  0,  0, 99, 99, 99, 99,  0,  0,  0,  0,  0,  0,  0,  0],\n",
    "       [ 0,  0,  0,  0,  0,  0,  0,  0,  0,  0,  0,  0,  0,  0,  0,  0, 99, 99, 99, 99,  0,  0,  0,  0,  0,  0,  0,  0],\n",
    "       [ 0,  0,  0,  0,  0,  0,  0,  0,  0,  0,  0,  0,  0,  0,  0,  0, 99, 99, 99, 99,  0,  0,  0,  0,  0,  0,  0,  0],\n",
    "       [ 0,  0,  0,  0,  0,  0,  0,  0,  0,  0,  0,  0,  0,  0,  0,  0, 99, 99, 99, 99,  0,  0,  0,  0,  0,  0,  0,  0],\n",
    "       [ 0,  0,  0,  0,  0,  0,  0,  0,  0,  0,  0,  0,  0,  0,  0,  0, 99, 99, 99, 99,  0,  0,  0,  0,  0,  0,  0,  0],\n",
    "       [ 0,  0,  0,  0,  0,  0,  0,  0,  0,  0,  0,  0,  0,  0,  0,  0, 99, 99, 99, 99,  0,  0,  0,  0,  0,  0,  0,  0],\n",
    "       [ 0,  0,  0,  0,  0,  0,  0,  0,  0,  0,  0,  0,  0,  0,  0,  0, 99, 99, 99, 99,  0,  0,  0,  0,  0,  0,  0,  0],\n",
    "       [ 0,  0,  0,  0,  0,  0,  0,  0,  0,  0,  0,  0,  0,  0,  0,  0, 99, 99, 99, 99,  0,  0,  0,  0,  0,  0,  0,  0],\n",
    "       [ 0,  0,  0,  0,  0,  0,  0,  0,  0,  0,  0,  0,  0,  0,  0,  0, 99, 99, 99, 99,  0,  0,  0,  0,  0,  0,  0,  0],\n",
    "       [ 0,  0,  0,  0,  0,  0,  0,  0,  0,  0,  0,  0,  0,  0,  0,  0, 99, 99, 99, 99,  0,  0,  0,  0,  0,  0,  0,  0],\n",
    "       [ 0,  0,  0,  0,  0,  0,  0,  0,  0,  0,  0,  0,  0,  0,  0,  0,  0,  0,  0,  0,  0,  0,  0,  0,  0,  0,  0,  0],\n",
    "       [ 0,  0,  0,  0,  0,  0,  0,  0,  0,  0,  0,  0,  0,  0,  0,  0,  0,  0,  0,  0,  0,  0,  0,  0,  0,  0,  0,  0],\n",
    "       [ 0,  0,  0,  0,  0,  0,  0,  0,  0,  0,  0,  0,  0,  0,  0,  0,  0,  0,  0,  0,  0,  0,  0,  0,  0,  0,  0,  0],\n",
    "       [ 0,  0,  0,  0,  0,  0,  0,  0,  0,  0,  0,  0,  0,  0,  0,  0,  0,  0,  0,  0,  0,  0,  0,  0,  0,  0,  0,  0]])\n",
    "```"
   ]
  },
  {
   "cell_type": "markdown",
   "metadata": {},
   "source": [
    "만약, 28x28의 형상으로 확장된 결과를 img라고 한다면 다음과 같이 문자열로 출력해볼 수 있습니다. \n",
    "\n",
    "```\n",
    "np.set_printoptions(linewidth=np.inf)\n",
    "print(img)\n",
    "```\n",
    "\n",
    "혹은 이미지로 출력해볼 수 있습니다. \n",
    "\n",
    "```\n",
    "import matplotlib.pyplot as plt\n",
    "plt.imshow(img, cmap='gray')\n",
    "```"
   ]
  },
  {
   "cell_type": "code",
   "execution_count": 3,
   "metadata": {},
   "outputs": [
    {
     "name": "stdout",
     "output_type": "stream",
     "text": [
      "Help on function repeat in module numpy:\n",
      "\n",
      "repeat(a, repeats, axis=None)\n",
      "    Repeat elements of an array.\n",
      "    \n",
      "    Parameters\n",
      "    ----------\n",
      "    a : array_like\n",
      "        Input array.\n",
      "    repeats : int or array of ints\n",
      "        The number of repetitions for each element.  `repeats` is broadcasted\n",
      "        to fit the shape of the given axis.\n",
      "    axis : int, optional\n",
      "        The axis along which to repeat values.  By default, use the\n",
      "        flattened input array, and return a flat output array.\n",
      "    \n",
      "    Returns\n",
      "    -------\n",
      "    repeated_array : ndarray\n",
      "        Output array which has the same shape as `a`, except along\n",
      "        the given axis.\n",
      "    \n",
      "    See Also\n",
      "    --------\n",
      "    tile : Tile an array.\n",
      "    unique : Find the unique elements of an array.\n",
      "    \n",
      "    Examples\n",
      "    --------\n",
      "    >>> np.repeat(3, 4)\n",
      "    array([3, 3, 3, 3])\n",
      "    >>> x = np.array([[1,2],[3,4]])\n",
      "    >>> np.repeat(x, 2)\n",
      "    array([1, 1, 2, 2, 3, 3, 4, 4])\n",
      "    >>> np.repeat(x, 3, axis=1)\n",
      "    array([[1, 1, 1, 2, 2, 2],\n",
      "           [3, 3, 3, 4, 4, 4]])\n",
      "    >>> np.repeat(x, [1, 2], axis=0)\n",
      "    array([[1, 2],\n",
      "           [3, 4],\n",
      "           [3, 4]])\n",
      "\n"
     ]
    }
   ],
   "source": [
    "import numpy as np\n",
    "help(np.repeat)"
   ]
  },
  {
   "cell_type": "code",
   "execution_count": null,
   "metadata": {},
   "outputs": [],
   "source": []
  },
  {
   "cell_type": "code",
   "execution_count": 12,
   "metadata": {},
   "outputs": [
    {
     "name": "stdout",
     "output_type": "stream",
     "text": [
      "[[ 0  0  0  0  0  0  0  0  0  0  0  0  0  0  0  0  0  0  0  0  0  0  0  0  0  0  0  0]\n",
      " [ 0  0  0  0  0  0  0  0  0  0  0  0  0  0  0  0  0  0  0  0  0  0  0  0  0  0  0  0]\n",
      " [ 0  0  0  0  0  0  0  0  0  0  0  0  0  0  0  0  0  0  0  0  0  0  0  0  0  0  0  0]\n",
      " [ 0  0  0  0  0  0  0  0  0  0  0  0  0  0  0  0  0  0  0  0  0  0  0  0  0  0  0  0]\n",
      " [ 0  0  0  0  0  0  0  0 99 99 99 99 99 99 99 99 99 99 99 99  0  0  0  0  0  0  0  0]\n",
      " [ 0  0  0  0  0  0  0  0 99 99 99 99 99 99 99 99 99 99 99 99  0  0  0  0  0  0  0  0]\n",
      " [ 0  0  0  0  0  0  0  0 99 99 99 99 99 99 99 99 99 99 99 99  0  0  0  0  0  0  0  0]\n",
      " [ 0  0  0  0  0  0  0  0 99 99 99 99 99 99 99 99 99 99 99 99  0  0  0  0  0  0  0  0]\n",
      " [ 0  0  0  0  0  0  0  0  0  0  0  0  0  0  0  0 99 99 99 99  0  0  0  0  0  0  0  0]\n",
      " [ 0  0  0  0  0  0  0  0  0  0  0  0  0  0  0  0 99 99 99 99  0  0  0  0  0  0  0  0]\n",
      " [ 0  0  0  0  0  0  0  0  0  0  0  0  0  0  0  0 99 99 99 99  0  0  0  0  0  0  0  0]\n",
      " [ 0  0  0  0  0  0  0  0  0  0  0  0  0  0  0  0 99 99 99 99  0  0  0  0  0  0  0  0]\n",
      " [ 0  0  0  0  0  0  0  0  0  0  0  0  0  0  0  0 99 99 99 99  0  0  0  0  0  0  0  0]\n",
      " [ 0  0  0  0  0  0  0  0  0  0  0  0  0  0  0  0 99 99 99 99  0  0  0  0  0  0  0  0]\n",
      " [ 0  0  0  0  0  0  0  0  0  0  0  0  0  0  0  0 99 99 99 99  0  0  0  0  0  0  0  0]\n",
      " [ 0  0  0  0  0  0  0  0  0  0  0  0  0  0  0  0 99 99 99 99  0  0  0  0  0  0  0  0]\n",
      " [ 0  0  0  0  0  0  0  0  0  0  0  0  0  0  0  0 99 99 99 99  0  0  0  0  0  0  0  0]\n",
      " [ 0  0  0  0  0  0  0  0  0  0  0  0  0  0  0  0 99 99 99 99  0  0  0  0  0  0  0  0]\n",
      " [ 0  0  0  0  0  0  0  0  0  0  0  0  0  0  0  0 99 99 99 99  0  0  0  0  0  0  0  0]\n",
      " [ 0  0  0  0  0  0  0  0  0  0  0  0  0  0  0  0 99 99 99 99  0  0  0  0  0  0  0  0]\n",
      " [ 0  0  0  0  0  0  0  0  0  0  0  0  0  0  0  0 99 99 99 99  0  0  0  0  0  0  0  0]\n",
      " [ 0  0  0  0  0  0  0  0  0  0  0  0  0  0  0  0 99 99 99 99  0  0  0  0  0  0  0  0]\n",
      " [ 0  0  0  0  0  0  0  0  0  0  0  0  0  0  0  0 99 99 99 99  0  0  0  0  0  0  0  0]\n",
      " [ 0  0  0  0  0  0  0  0  0  0  0  0  0  0  0  0 99 99 99 99  0  0  0  0  0  0  0  0]\n",
      " [ 0  0  0  0  0  0  0  0  0  0  0  0  0  0  0  0  0  0  0  0  0  0  0  0  0  0  0  0]\n",
      " [ 0  0  0  0  0  0  0  0  0  0  0  0  0  0  0  0  0  0  0  0  0  0  0  0  0  0  0  0]\n",
      " [ 0  0  0  0  0  0  0  0  0  0  0  0  0  0  0  0  0  0  0  0  0  0  0  0  0  0  0  0]\n",
      " [ 0  0  0  0  0  0  0  0  0  0  0  0  0  0  0  0  0  0  0  0  0  0  0  0  0  0  0  0]]\n"
     ]
    },
    {
     "data": {
      "text/plain": [
       "<matplotlib.image.AxesImage at 0x22500c25130>"
      ]
     },
     "execution_count": 12,
     "metadata": {},
     "output_type": "execute_result"
    },
    {
     "data": {
      "image/png": "[encoded data removed]",
      "text/plain": [
       "<Figure size 432x288 with 1 Axes>"
      ]
     },
     "metadata": {
      "needs_background": "light"
     },
     "output_type": "display_data"
    }
   ],
   "source": [
    "import numpy as np\n",
    "import matplotlib.pyplot as plt\n",
    "\n",
    "m = np.array(\n",
    "    [[0,0,0,0,0,0,0],\n",
    "     [0,0,99,99,99,0,0],\n",
    "     [0,0,0,0,99,0,0],\n",
    "     [0,0,0,0,99,0,0],\n",
    "     [0,0,0,0,99,0,0],\n",
    "     [0,0,0,0,99,0,0],\n",
    "     [0,0,0,0,0,0,0]])\n",
    "\n",
    "m = None\n",
    "img = None\n",
    "\n",
    "np.set_printoptions(linewidth=np.inf)\n",
    "print(img)\n",
    "\n",
    "plt.imshow(img, cmap='gray', vmax=255)"
   ]
  },
  {
   "cell_type": "code",
   "execution_count": null,
   "metadata": {},
   "outputs": [],
   "source": [
    "m = np.array(\n",
    "    [[0,0,0,0,0,0,0],\n",
    "     [0,0,99,99,99,0,0],\n",
    "     [0,0,0,0,99,0,0],\n",
    "     [0,0,0,0,99,0,0],\n",
    "     [0,0,0,0,99,0,0],\n",
    "     [0,0,0,0,99,0,0],\n",
    "     [0,0,0,0,0,0,0]])\n",
    "\n",
    "np.set_printoptions(linewidth=np.inf)\n",
    "m = np.concatenate([np.concatenate([[x]*4 for x in y]*4) for y in m])\n",
    "m = m.reshape(28, 28)\n",
    "plt.imshow(m, cmap='gray')\n",
    "print(m)"
   ]
  },
  {
   "cell_type": "markdown",
   "metadata": {},
   "source": [
    "# 학습 정리\n",
    "\n",
    "1. 배열의 슬라이싱   \n",
    "1. 벡터화 연산(Review)\n",
    "1. 배열과 벡터의 연산  \n",
    "1. 차원 축소 연산"
   ]
  },
  {
   "cell_type": "markdown",
   "metadata": {},
   "source": [
    "# 참고자료\n",
    "- CS231n Convolutional Neural Networks for Visual Recognition, [Python Numpy Tutorial](http://cs231n.github.io/python-numpy-tutorial/), Stanford University\n",
    "- [Python For Data Science Cheat Sheet NumPy Basics](https://s3.amazonaws.com/assets.datacamp.com/blog_assets/Numpy_Python_Cheat_Sheet.pdf), DataCamp\n",
    "- [astroML](http://www.astroml.org/book_figures/appendix/fig_broadcast_visual.html) \n",
    "- Python Numpy Tutorial - http://cs231n.github.io/\n",
    "- 김태완 블로그: [파이썬 데이터 사이언스 Cheat Sheet](http://taewan.kim/post/numpy_cheat_sheet/)"
   ]
  },
  {
   "cell_type": "code",
   "execution_count": null,
   "metadata": {},
   "outputs": [],
   "source": []
  }
 ],
 "metadata": {
  "kernelspec": {
   "display_name": "Python 3",
   "language": "python",
   "name": "python3"
  },
  "language_info": {
   "codemirror_mode": {
    "name": "ipython",
    "version": 3
   },
   "file_extension": ".py",
   "mimetype": "text/x-python",
   "name": "python",
   "nbconvert_exporter": "python",
   "pygments_lexer": "ipython3",
   "version": "3.8.3"
  }
 },
 "nbformat": 4,
 "nbformat_minor": 4
}
