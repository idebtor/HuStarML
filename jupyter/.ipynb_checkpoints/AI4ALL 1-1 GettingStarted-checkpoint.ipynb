{
 "cells": [
  {
   "cell_type": "markdown",
   "metadata": {},
   "source": [
    "The fear of the LORD is the beginning of knowledge, but fools despise wisdom and discipline. Proverbs 1:7\n",
    "\n",
    "-------\n",
    "\n",
    "# Welcome to \"AI for All\"\n",
    "\n",
    "Lecture Notes by idebtor@gmail.com, Handong Global University"
   ]
  },
  {
   "cell_type": "markdown",
   "metadata": {},
   "source": [
    "# Chapter 1. Getting Started\n",
    "\n",
    "  __To get started__, do the first thing first:\n",
    "\n",
    "1. Read README.\n",
    "1. Read Syllabus.\n",
    "1. Read 'GettingStarted' - this file\n",
    "1. Follow instructions in 'GettingStarted' as soon as possible(ASAP)"
   ]
  },
  {
   "cell_type": "markdown",
   "metadata": {},
   "source": [
    "## 1. Join Piazza\n",
    "\n",
    "There are two ways to join Piazza, connect to the `www.piazza.com`.\n",
    "  - To join Piazza, you may need the following information and\n",
    "    - School: __Handong Global University__\n",
    "    - Course: __Artificial Intelligence for all__\n",
    "  - If you have an email address that ends with __~.hgu.edu__ or __~.handong.edu__ domain and use it everyday, go the `www.piazza.com` and follow the instructions in the website.\n",
    "\n",
    "  - On your request with your email address, I may register it for you.  We'll be conducting all class-related discussion here this term. The quicker you begin asking questions on Piazza (rather than via emails), the quicker you'll benefit from the collective knowledge of your classmates and instructors. We encourage you to ask questions when you're struggling to understand a concept—you can even do so anonymously."
   ]
  },
  {
   "cell_type": "markdown",
   "metadata": {},
   "source": [
    "## 2. Anaconda Installation\n",
    "\n",
    "Anaconda is  a Python and R distribution package. It aims to provide everything you need (python wise) for data science \"out of the box\".  It includes:\n",
    "-\tThe core python language\n",
    "-\t200+ python \"packages\" (libraries)\n",
    "-\tSpyder (IDE/editor) and Jupyter Notebook\n",
    "-\tconda, Anaconda's own package manager, used for updating Anaconda and packages "
   ]
  },
  {
   "cell_type": "markdown",
   "metadata": {},
   "source": [
    "### 2.1 To install the anaconda:\n",
    "\n",
    "  - Visit website [Anaconda Distribution](https://www.anaconda.com/distribution/)\n",
    "    - Choose one of Windows/MacOS/Linux\n",
    "    - Python 3.x Version Download\n",
    "  - At the beginning of installation, check the following option\n",
    "      - Add Anaconda to my PATH environment variable as shown below:\n",
    "\n",
    "    <img attr=\"center\" src=\"https://github.com/idebtor/KMOOC-ML/blob/master/ipynb/images/anaconda_check_path.jpg?raw=true\" width=500> \n",
    "    \n",
    "\n",
    "\n",
    "\n",
    "\n",
    "  - Need help? Follow [this guide](https://m.blog.naver.com/PostView.nhn?blogId=jooostory&logNo=221196479998&proxyReferer=https%3A%2F%2Fwww.google.com%2F).\n",
    "\n"
   ]
  },
  {
   "cell_type": "markdown",
   "metadata": {},
   "source": [
    "### 2.2 Installation Verification\n",
    "아래 각 셀에 보기와 같이 입력하고, 각 셀을 실행하기 위해 <Ctrl + Enter> 혹은 <Shift + Enter>키를 입력하여 결과를 관찰하십시오. "
   ]
  },
  {
   "cell_type": "code",
   "execution_count": 5,
   "metadata": {},
   "outputs": [
    {
     "name": "stdout",
     "output_type": "stream",
     "text": [
      "Hello World\n"
     ]
    }
   ],
   "source": [
    "print('Hello World')"
   ]
  },
  {
   "cell_type": "code",
   "execution_count": 6,
   "metadata": {},
   "outputs": [
    {
     "name": "stdout",
     "output_type": "stream",
     "text": [
      "sys.version_info(major=3, minor=7, micro=7, releaselevel='final', serial=0)\n"
     ]
    }
   ],
   "source": [
    "import sys\n",
    "print(sys.version_info)"
   ]
  },
  {
   "cell_type": "code",
   "execution_count": 7,
   "metadata": {
    "scrolled": true
   },
   "outputs": [
    {
     "name": "stdout",
     "output_type": "stream",
     "text": [
      "2.3.0\n"
     ]
    }
   ],
   "source": [
    "import tensorflow as tf\n",
    "print(tf.__version__)"
   ]
  },
  {
   "cell_type": "code",
   "execution_count": 8,
   "metadata": {},
   "outputs": [],
   "source": [
    "import keras"
   ]
  },
  {
   "cell_type": "markdown",
   "metadata": {},
   "source": [
    "여기까지 아무런 문제없이 진행이 되었다면, 여러 분은 이제 인공지능을 시작할 준비를 마친 것입니다. "
   ]
  },
  {
   "cell_type": "markdown",
   "metadata": {},
   "source": [
    "### 2.3 More Installation?\n",
    "Use the following command if you need more installation of packages (-U for upgrade only):\n",
    "\n",
    "```\n",
    "pip install a_package_name\n",
    "pip install -U a_package_name     \n",
    "  \n",
    "```"
   ]
  },
  {
   "cell_type": "markdown",
   "metadata": {},
   "source": [
    "## 3. A few ways to start Jupyter notebook\n",
    "\n",
    "__Method 1__: \n",
    "This option always works:\n",
    "  1. Go to the Windows menu `<Start> -> <Anaconda 3> -> <Anaconda Prompt>`\n",
    "     For OSX, start a terminal. \n",
    "  2. At a console, enter the following:\n",
    "  ```\n",
    "  (base) C:\\Users\\user> jupyter notebook\n",
    "  ```\n",
    "\n",
    "__Method 2__: (Windows Only)\n",
    "This method may not work unless you have set PATH environment variable.\n",
    "  1. Using File Explorer, navigate to where your Jupyter notebook file is\n",
    "  2. Using File menu in File Explorer, click Open PowerShell(PS).\n",
    "  3. At PS console, enter the following:\n",
    "  ```\n",
    "  PS C:\\> jupyter notebook\n",
    "  ```\n",
    "\n",
    "__Method 3__: (Windows Only)\n",
    "This is one-line batch command file that runs Jupyter notebook.\n",
    "  1. Get a copy of the batch file `start_ipynb.bat` which is available at https://github.com/idebtor/JoyAI\n",
    "  2. Place the batch file at the folder where your notebook file is.\n",
    "  3. Double-click the batch file.\n",
    "\n",
    "__Method 4__: (Windows & OSX)\n",
    "\n",
    "This is not recommended since it is too slow to start the notebook. \n",
    "  1. Using Anaconda Navigator, choose Jupyter Notebook."
   ]
  },
  {
   "cell_type": "markdown",
   "metadata": {},
   "source": [
    "# 4. Welcome to Git/GitHub/GitHubDesktop\n",
    "\n",
    "[한글 깃/깃허브 소개 동영상 5분](https://www.youtube.com/watch?v=Bd35Ze7-dIw)\n",
    "\n",
    "### 4.1 Why use Git?\n",
    "\n",
    "Resources: http://kbroman.org/github_tutorial/pages/why.html\n",
    "\n",
    "__Version control is the only reasonable way to keep track of changes in code, manuscripts, presentations, and data analysis projects.__ I used to make numbered tar.gz files for a project. But exploring the differences is difficult, to say the least. And if you use git properly, you’ll have annotated each small change.\n",
    "\n",
    "Merging collaborators’ changes made easy. Have you ever had to deal with a collaborator sending you modifications distributed across many files, or had to deal with two people having made changes to the same file at the same time? Painful. git merge is the answer."
   ]
  },
  {
   "cell_type": "markdown",
   "metadata": {},
   "source": [
    "### 4.2 Why use Github?\n",
    "\n",
    "__Github is like facebook for programmers.__ Everyone’s on there. You can look at what they’re working on and easily peruse their code and make suggestions or changes.\n",
    "\n",
    "It’s really open source. “Open source” is not so open if you can’t easily study it. With github, all of the code is easily inspected, as is its entire history.\n",
    "\n",
    "Github lowers the barriers to collaboration. It’s easy to offer suggested changes to others’ code through github. I was able to fix a mistake in the phobos library for the D programming language, because it’s hosted on github. I fixed some problems in some very useful code developed by someone I don’t know, because it’s hosted on github."
   ]
  },
  {
   "cell_type": "markdown",
   "metadata": {},
   "source": [
    "### 4.3 Why use Github Desktop?\n",
    "\n",
    "GitHub Desktop will allow us to easily start using version control. GitHub Desktop offers a Graphical User Interface (GUI) to use Git. A GUI allows users to interact with a program using a visual interface rather than relying on text commands. Though there are some potential advantages to using the command line version of Git in the long run, using a GUI can reduce the learning curve of using version control and Git. "
   ]
  },
  {
   "cell_type": "markdown",
   "metadata": {},
   "source": [
    "### 4.4 Git & GitHub Desktop Installation\n",
    "\n",
    "1. Install __git__ from [this site](https://git-scm.com/downloads) for your computer.\n",
    "1. Install __GitHub Desktop__\n",
    "1. Be a member of `www.github.com` site if not already.\n",
    "1. Follow 모인활_1주차_안내서.pdf to clone `JoyAI` repository from [GitHub](https://github.com/idebtor/JoyAI) into your local computer. "
   ]
  },
  {
   "cell_type": "markdown",
   "metadata": {},
   "source": [
    "-------\n",
    "__Be joyful always!__ 1 Thes.5:16"
   ]
  }
 ],
 "metadata": {
  "kernelspec": {
   "display_name": "Python 3",
   "language": "python",
   "name": "python3"
  },
  "language_info": {
   "codemirror_mode": {
    "name": "ipython",
    "version": 3
   },
   "file_extension": ".py",
   "mimetype": "text/x-python",
   "name": "python",
   "nbconvert_exporter": "python",
   "pygments_lexer": "ipython3",
   "version": "3.7.7"
  }
 },
 "nbformat": 4,
 "nbformat_minor": 1
}
