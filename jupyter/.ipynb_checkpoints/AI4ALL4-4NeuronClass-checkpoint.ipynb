{
 "cells": [
  {
   "cell_type": "markdown",
   "metadata": {},
   "source": [
    "The fear of the LORD is the beginning of knowledge, but fools despise wisdom and discipline. Proverbs 1:7\n",
    "\n",
    "-------\n",
    "\n",
    "# Welcome to \"AI for All\"\n",
    "\n",
    "Lecture Notes by idebtor@gmail.com, Handong Global University"
   ]
  },
  {
   "cell_type": "markdown",
   "metadata": {},
   "source": [
    "\n",
    "# 선형 회귀를 위한 뉴론 만들기\n",
    "\n",
    ":본 단원은 참고문헌 (3)에서 대부분 발췌한 것입니다. \n",
    "\n",
    "--------------\n",
    "지금가지 만들어 본 경사 하강법 알고리즘을 Neuron이라는 이름의 파이썬 클래스를 만들어 봅니다. 여기서 만드는 Neuron 클래스를 다양하게 확장하며 계속해서 활용할 예정입니다.  "
   ]
  },
  {
   "cell_type": "markdown",
   "metadata": {},
   "source": [
    "## 1. Neuron 클래스 만들기\n",
    "\n",
    "Neuron 클래스를 정의하고 __init__() 메소드에 필요한 변수를 선언합니다. 클래스로 템플릿으로 삼아 만드는 객체들이 항상 유지하고 있는 변수를 인스턴스 변수라고 합니다, 이런 인스턴스 변수를 __init__()함수에서 초기화 합니다. "
   ]
  },
  {
   "cell_type": "code",
   "execution_count": 1,
   "metadata": {},
   "outputs": [],
   "source": [
    "class Neuron:\n",
    "    def __init__(self):\n",
    "        self.w = 1.0\n",
    "        self.b = 1.0"
   ]
  },
  {
   "cell_type": "markdown",
   "metadata": {},
   "source": [
    "간단하게 시작할 수 있습니다. 학습할 때 가중치 $w$와 편향 $b$은 시작값이 있어야 하므로 임의로 1.0으로 설정하였습니다. "
   ]
  },
  {
   "cell_type": "markdown",
   "metadata": {},
   "source": [
    "## 2. 순전파(forpass) 메소드 만들기\n",
    "\n",
    "뉴론의 입력된 신호가 $\\hat{y}$을 구하는 방향으로 진행하면 연산하는 과정을 순전파(정방향)라고 이름하였습니다. 지금까지의 모델은 일차 함수였으므로 forpass()메소드도 일차함수를 통해 예측값을 계산합니다. 가중치와 편향은 인스탄스(instance) 변수 $w$와 $b$에 저장되어 있는 값을 사용합니다. "
   ]
  },
  {
   "cell_type": "code",
   "execution_count": 2,
   "metadata": {},
   "outputs": [],
   "source": [
    "def forpass(self, x):\n",
    "    y_hat = None\n",
    "    return y_hat"
   ]
  },
  {
   "cell_type": "markdown",
   "metadata": {},
   "source": [
    "위 메소드를 그림으로 표시하면 다음과 같습니다. 뉴론은 동그라미로, 3개의 입력 신호 $(w, b, x)$는 왼쪽 화살표에, 결과 신호는 오른쪽 화살표에 표시했습니다. \n",
    "\n",
    "<img src=\"https://github.com/idebtor/KMOOC-ML/blob/master/ipynb/images/ai4all-neuron1.png?raw=true\" width=\"400\">\n",
    "<center>그림 1: 순방향 뉴론의 계산 </center>"
   ]
  },
  {
   "cell_type": "markdown",
   "metadata": {},
   "source": [
    "$w, x, b$가 뉴론의 왼쪽에서 오른쪽 방향으로 흘러 $\\hat{y}$가 됩니다. 그래서, 순방향 계산이라는 용어를 사용하였고, 이 계산도 앞에서 한 것과 같습니다. 앞으로 순방향으로 계산을 한다고 하면, $\\hat{y}$을 구한다고 생각하면 됩니다. 순방향 계산을 정리하면 다음과 같습니다. 단순한 수식이니 꼭 기억하고 넘어가기 바랍니다. "
   ]
  },
  {
   "cell_type": "markdown",
   "metadata": {},
   "source": [
    "## 3. 역방향 메소드 만들기\n",
    "\n",
    "$\\hat{y}$을 계산하여 $y$와의 오차를 계산하고, 오차를 이용해 $w$와 $b$의 그레디언트를 계산했던 기억을 하나요? \n",
    "\n",
    "\n",
    "\n",
    "\n",
    "\\begin{align}\n",
    "\\frac{\\partial{L}}{\\partial{w}} &= - (y - \\hat{y}) x  \\\\\n",
    "\\frac{\\partial{L}}{\\partial{b}} &= - (y - \\hat{y}) \\tag{1}\n",
    "\\end{align}"
   ]
  },
  {
   "cell_type": "markdown",
   "metadata": {},
   "source": [
    "각각의 그래디언트가 뉴론에서 어떤 역할을 했는지 그림으로 표현해 보았습니다. 그러면, 역방향(backpropagraion) 계산이라는 말도 잘 이해가 될 것입니다. \n",
    "\n",
    "<img src=\"https://github.com/idebtor/KMOOC-ML/blob/master/ipynb/images/ai4all-neuron2.png?raw=true\" width=\"400\">\n",
    "<center>그림 2: 역방향 뉴론의 계산 </center>"
   ]
  },
  {
   "cell_type": "markdown",
   "metadata": {},
   "source": [
    "그림을 보면, 순방향 계산을 통해 얻어낸 $\\hat{y}$과 $y$의 차이, 즉 오차가 뉴론의 오른쪽 방향에서 왼쪽 방향으로 흐르는 것처럼 보입니다. 그래서, 역방향 계산이라고 부릅니다. 즉, 오차의 역전파(backpropagration)이 됩니다. 그러면, 역방향 계산도 메소드로 아래와 같이 구현합니다. "
   ]
  },
  {
   "cell_type": "code",
   "execution_count": 3,
   "metadata": {},
   "outputs": [],
   "source": [
    "def backprop(self, x, err): \n",
    "    w_grad = None\n",
    "    b_grad = None\n",
    "    return w_grad, b_grad"
   ]
  },
  {
   "cell_type": "markdown",
   "metadata": {},
   "source": [
    "앞에서 편미분을 통해 얻었던 수식을 그대로 코드로 옮기면 됩니다. 즉, 가중치의 그래디언트는 $x$와 오차(err)를 곱하고 편향의 그래디언트는 1과 오차(err)를 곱하면 됩니다.  이 후, 이 값들로 가중치와 편향을 반복해서 조정해 나가면, 점차 훈련 데이터에 최적화된 (손실 함수가 가장 작은 값인) 가중치와 편향을 얻을 것입니다. "
   ]
  },
  {
   "cell_type": "markdown",
   "metadata": {},
   "source": [
    "## 4. 지금까지의 Neuron 클래스 코드\n",
    "\n",
    "다음은 지금까지 작성한 Neuron 클래스입니다. 코드는 간단하지만 기계학습과 딥러닝이 사용하는 경사 하강법 알고리즘의 핵심이 담겨져 있습니다. 딥러닝은 이렇게 간단한 연산의 조합으로 이루어져 있습니다. "
   ]
  },
  {
   "cell_type": "code",
   "execution_count": 1,
   "metadata": {},
   "outputs": [],
   "source": [
    "class Neuron:\n",
    "    def __init__(self):\n",
    "        self.w = 1.0\n",
    "        self.b = 1.0\n",
    "\n",
    "    def forpass(self, x):\n",
    "        None\n",
    "\n",
    "    def backprop(self, x, err): \n",
    "        None\n",
    "    "
   ]
  },
  {
   "cell_type": "markdown",
   "metadata": {},
   "source": [
    "지금까지 과정을 조합하여 훈련 데이터를 가중치와 편향을 조정할 수 있도록 fit()메소드를 구현하겠습니다. 바로 이 과정이 훈련이고, 학습 과정입니다. 이 메소드는 오차 역전파를 학습하여 for문으로 구현했던 코드와 매우 비슷합니다. "
   ]
  },
  {
   "cell_type": "markdown",
   "metadata": {},
   "source": [
    "## 5. 훈련을 위한 fit() 메소드 구현하기\n",
    "\n",
    "우선 fit() 메소드의 구조를 간단히 살펴보겠습니다. \n",
    "\n",
    "1. 처음에는 forpass() 메소드를 호출하여 $\\hat{y}$을 구합니다. \n",
    "1. 그런 다음 오차(err)를 계산하고, \n",
    "1. 그 오차로 backprop() 메소드를 호출하여 가중치와 편향에 대한 그래디언트를 구합니다. \n",
    "1. 마지막으로 그래디언트를 가중치와 편향에서 빼면 가중치와 편향의 조정이 끝납니다. \n",
    "\n",
    "```\n",
    "        y_hat = self.forpass(x_i)                  # 순전파 계산\n",
    "        err = -(y_i - y_hat)                       # 오차 계산\n",
    "        w_grad, b_grad = self.backprop(x_i, err)   # 역방향 계산\n",
    "        self.w -= w_grad                           # 가중치 조정\n",
    "        self.b -= b_grad                           # 편향 조정\n",
    "```\n",
    "\n",
    "- 이 과정을 모든 훈련 샘플에 대해 수행하고(one epoch), \n",
    "- 적절한 가중치와 편향이 구해질만큼 반복(epochs=100)하면 됩니다. \n",
    "\n",
    "```\n",
    "    for i in range(epochs):                            # epoch만큼 반복합니다. \n",
    "        for x_i, y_i in zip(x, y):                     # 모든 샘플에 대해 반복합니다.\n",
    "```"
   ]
  },
  {
   "cell_type": "code",
   "execution_count": 10,
   "metadata": {},
   "outputs": [],
   "source": [
    "class Neuron:\n",
    "    def __init__(self):\n",
    "        self.w = 1.0\n",
    "        self.b = 1.0\n",
    "\n",
    "    def forpass(self, x):\n",
    "        y_hat = x * self.w + self.b \n",
    "        return y_hat\n",
    "\n",
    "    def backprop(self, x, err): \n",
    "        w_grad = x * err\n",
    "        b_grad = 1 * err\n",
    "        return w_grad, b_grad\n",
    "\n",
    "    def fit(self, x, y, epochs = 100): \n",
    "        None"
   ]
  },
  {
   "cell_type": "markdown",
   "metadata": {},
   "source": [
    "## 6. 모델 훈련하기(학습시키기)\n",
    "\n",
    "이제 실제로 모델을 만들고 훈련(학습)시켜 보도록 하겠습니다.  Neuron클래스의 객체 neuron을 생성하고 fit() 메소드에 입력 데이터($x$)와 타깃 데이터($y$)를 전달하면 됩니다. "
   ]
  },
  {
   "cell_type": "code",
   "execution_count": 11,
   "metadata": {},
   "outputs": [],
   "source": [
    "from sklearn.datasets import load_diabetes\n",
    "diabetes = load_diabetes()\n",
    "\n",
    "x = diabetes.data[:, 2]\n",
    "y = diabetes.target"
   ]
  },
  {
   "cell_type": "code",
   "execution_count": 12,
   "metadata": {},
   "outputs": [],
   "source": [
    "neuron = None\n",
    "neuron.None"
   ]
  },
  {
   "cell_type": "markdown",
   "metadata": {},
   "source": [
    "## 7. 학습이 완료된 모델의 가중치와 편향을 확인하기\n",
    "\n",
    "학습이 완료된 가중치와 편향은 neuron.w와 neuron.b에 저장되어 있습니다. 이 값을 이용하여 산점도 위에 직선 그래프롤 그려보도록 하겠습니다.  \n",
    "\n",
    "산점도 위에 직선을 그리기 위해서, 최소한 두 점의 (x, y)값을 알아야 합니다. 임의로 두 개의 x값은 어디로 정하면 될까요? x값들 중에 min, max를 찾고, 약간의 margin을 더하거나 감하면 될 것입니다. 그러한 min, max에 따른 예측값 즉 y값은 neuron.w와 neuron.b를 통해서 구할 수 있습니다. 두 점의 x, y를 구하고, 이를 연결하면 직선이 됩니다.\n",
    "\n",
    "#### Example: 직선을 그리기 위한 좌표 구하기\n",
    "\n",
    "- linex : 두 점의 x 좌표 구하기\n",
    "- liney : 두 점의 x 좌표에 대한 y값 즉 예측값 구하기"
   ]
  },
  {
   "cell_type": "code",
   "execution_count": 33,
   "metadata": {},
   "outputs": [],
   "source": [
    "delta = (max(x) - min(x))/10\n",
    "min_x, max_x = min(x) - delta, max(x) + delta\n",
    "linex = [None, None]\n",
    "liney = [None, None]"
   ]
  },
  {
   "cell_type": "code",
   "execution_count": 34,
   "metadata": {},
   "outputs": [
    {
     "data": {
      "image/png": "[encoded data removed]",
      "text/plain": [
       "<Figure size 432x288 with 1 Axes>"
      ]
     },
     "metadata": {
      "needs_background": "light"
     },
     "output_type": "display_data"
    }
   ],
   "source": [
    "import matplotlib.pyplot as plt\n",
    "\n",
    "plt.scatter(x, y, marker='.')\n",
    "plt.plot(linex, liney, 'r')\n",
    "plt.xlabel('x')\n",
    "plt.ylabel('y')\n",
    "plt.show()"
   ]
  },
  {
   "cell_type": "markdown",
   "metadata": {},
   "source": [
    "축하합니다. \n",
    "\n",
    "여러분은 경사 하강법을 적용한 뉴론을 구현했습니다. 신경망 모델을 사용하는 딥러닝은 항상 경사 하강법 알고리즘을 사용하믈, 경사 하강법 알고리즘이 딥러닝의 핵심 요소 중 하나라고 할 수 있습니다. 앞으로 Neuron 클래스를 기반으로 더 복잡한 딥러닝 알고리즘을 만들 것입니다.  "
   ]
  },
  {
   "cell_type": "markdown",
   "metadata": {},
   "source": [
    "## 참고문헌\n",
    "\n",
    "1. 케라스 창시자에게 배우는 딥러닝, 프랑소와 숄레, 길벗\n",
    "1. 핸즈온 머신러닝, 오렐리앙 제롱, 한빛미디어\n",
    "1. 딥러닝 입문, 박해선, 이지스 퍼블리싱\n",
    "1. 파이썬으로 배우는 기계학습, 김영섭, K-MOOC"
   ]
  },
  {
   "cell_type": "markdown",
   "metadata": {},
   "source": [
    "-------\n",
    "__Be joyful always!__ 1 Thes.5:16"
   ]
  }
 ],
 "metadata": {
  "kernelspec": {
   "display_name": "Python 3",
   "language": "python",
   "name": "python3"
  },
  "language_info": {
   "codemirror_mode": {
    "name": "ipython",
    "version": 3
   },
   "file_extension": ".py",
   "mimetype": "text/x-python",
   "name": "python",
   "nbconvert_exporter": "python",
   "pygments_lexer": "ipython3",
   "version": "3.7.7"
  }
 },
 "nbformat": 4,
 "nbformat_minor": 1
}
