{
 "cells": [
  {
   "cell_type": "markdown",
   "metadata": {},
   "source": [
    "# Welcome to \"CrushPython\"\n",
    "\n",
    "__So whether you eat or drink or whatever you do, do it all for the glory of God.__ \n",
    "1 Corinthians 10:31\n",
    "\n",
    "\n",
    "------"
   ]
  },
  {
   "cell_type": "markdown",
   "metadata": {},
   "source": [
    "__NOTE:__ The following materials have been compiled and adapted from the numerous sources including Python and Canopy web sites including my own. Please help me to keep this tutorial up-to-date by reporting any issues or questions. Send any comments or criticisms to `idebtor@gmail.com` Your assistances and comments will be appreciated."
   ]
  },
  {
   "cell_type": "markdown",
   "metadata": {},
   "source": [
    "---------\n",
    "\n",
    "# Lesson - For loop with range\n",
    "\n",
    "------------\n",
    "\n",
    "Often the program needs to repeat some code many times. That's where the loops come in handy. There are `for` and `while` loop operators in Python, in this lesson we cover for.\n",
    "\n",
    "The `for` loop iterates over any sequence. For instance, any string in Python is a sequence of its characters, so we can iterate over them using for:"
   ]
  },
  {
   "cell_type": "code",
   "execution_count": 1,
   "metadata": {},
   "outputs": [
    {
     "name": "stdout",
     "output_type": "stream",
     "text": [
      "h\n",
      "e\n",
      "l\n",
      "l\n",
      "o\n"
     ]
    }
   ],
   "source": [
    "# print each letter using for loop\n",
    "for char in 'hello':\n",
    "    print(char)"
   ]
  },
  {
   "cell_type": "code",
   "execution_count": null,
   "metadata": {},
   "outputs": [],
   "source": [
    "# print each letter using for loop in a row\n",
    "for char in 'hello':\n",
    "    print(char, None)  # use ' ' instead of \\n at the end"
   ]
  },
  {
   "cell_type": "code",
   "execution_count": 2,
   "metadata": {},
   "outputs": [
    {
     "name": "stdout",
     "output_type": "stream",
     "text": [
      "Help on built-in function print in module builtins:\n",
      "\n",
      "print(...)\n",
      "    print(value, ..., sep=' ', end='\\n', file=sys.stdout, flush=False)\n",
      "    \n",
      "    Prints the values to a stream, or to sys.stdout by default.\n",
      "    Optional keyword arguments:\n",
      "    file:  a file-like object (stream); defaults to the current sys.stdout.\n",
      "    sep:   string inserted between values, default a space.\n",
      "    end:   string appended after the last value, default a newline.\n",
      "    flush: whether to forcibly flush the stream.\n",
      "\n"
     ]
    }
   ],
   "source": [
    "help(print)"
   ]
  },
  {
   "cell_type": "markdown",
   "metadata": {},
   "source": [
    "By default, the function `print()` prints all its arguments separating them by a space and the puts a newline symbol after it. This behavior can be changed using keyword arguments `sep` (separator) and `end`."
   ]
  },
  {
   "cell_type": "markdown",
   "metadata": {},
   "source": [
    "#### Example: \n",
    "\n",
    "Complete the code to produce the following output?\n",
    "\n",
    "```\n",
    "1 2 3\n",
    "4 5 6\n",
    "1, 2, 3. 4, 5, 6. \n",
    "123 -- 4*5*6.\n",
    "```"
   ]
  },
  {
   "cell_type": "code",
   "execution_count": null,
   "metadata": {},
   "outputs": [],
   "source": [
    "print(1, 2, 3)\n",
    "print(4, 5, 6)\n",
    "print(1, 2, 3, None)\n",
    "print(4, 5, 6, None)\n",
    "print()\n",
    "print(1, 2, 3, None)\n",
    "print(4, 5, 6, None)"
   ]
  },
  {
   "cell_type": "markdown",
   "metadata": {},
   "source": [
    "Another use case for a for-loop is to iterate some integer variable in increasing or decreasing order. Such a sequence of integer can be created using the function `range(min_value, max_value)`:"
   ]
  },
  {
   "cell_type": "markdown",
   "metadata": {},
   "source": [
    "#### Example: \n",
    "\n",
    "Complete the code to produce the following output?\n",
    "\n",
    "```\n",
    "4 16\n",
    "5 25\n",
    "6 36\n",
    "7 49\n",
    "8 64\n",
    "9 81\n",
    "```"
   ]
  },
  {
   "cell_type": "code",
   "execution_count": null,
   "metadata": {
    "scrolled": true
   },
   "outputs": [],
   "source": [
    "# compute power of 2 from 1 to 10\n",
    "for i in None:\n",
    "    print(i, None)"
   ]
  },
  {
   "cell_type": "markdown",
   "metadata": {},
   "source": [
    "Function `range(min_value, max_value)` generates a sequence with numbers `min_value, min_value + 1, ..., max_value - 1`. The last number is not included.\n",
    "\n",
    "Function `range(max_value)` means that `min_value` is implicitly set to zero:"
   ]
  },
  {
   "cell_type": "markdown",
   "metadata": {},
   "source": [
    "#### Example: \n",
    "\n",
    "Complete the code to produce the following output?\n",
    "\n",
    "```\n",
    "0 0\n",
    "1 1\n",
    "2 4\n",
    "3 9\n",
    "4 16\n",
    "```"
   ]
  },
  {
   "cell_type": "code",
   "execution_count": null,
   "metadata": {},
   "outputs": [],
   "source": [
    "for i in range(None):\n",
    "    print(None)"
   ]
  },
  {
   "cell_type": "markdown",
   "metadata": {},
   "source": [
    "#### Example: \n",
    "Let's have more complex example and sum the integers from 1 to n inclusively. Complete the code to produce the following output when n = 10.\n",
    "\n",
    "```\n",
    "55\n",
    "```"
   ]
  },
  {
   "cell_type": "code",
   "execution_count": null,
   "metadata": {},
   "outputs": [],
   "source": [
    "# add numbers from 1 to 10\n",
    "sum = 0\n",
    "n = 10\n",
    "for i in range(None):\n",
    "    None\n",
    "print(sum)"
   ]
  },
  {
   "cell_type": "code",
   "execution_count": null,
   "metadata": {},
   "outputs": [],
   "source": []
  },
  {
   "cell_type": "markdown",
   "metadata": {},
   "source": [
    "Pay attention that maximum value in `range()` is `n + 1` to make `i` equal to `n` on the last step.\n",
    "\n",
    "To iterate over a decreasing sequence, we can use an extended form of `range()` with three arguments - `range(start_value, end_value, step)`. When omitted, the `step` is implicitly equal to `1`. However, can be any non-zero value. The loop always includes `start_value` and excludes `end_value` during iteration:\n",
    "\n"
   ]
  },
  {
   "cell_type": "markdown",
   "metadata": {},
   "source": [
    "#### Example: \n",
    "\n",
    "Count down a number starting n and print `blast off`. Complete the code to produce the following output when N = 5.\n",
    "\n",
    "```\n",
    "5\n",
    "4\n",
    "3\n",
    "2\n",
    "1\n",
    "blast off\n",
    "```"
   ]
  },
  {
   "cell_type": "code",
   "execution_count": 2,
   "metadata": {},
   "outputs": [
    {
     "name": "stdout",
     "output_type": "stream",
     "text": [
      "Enter N: 5\n",
      "None\n",
      "None\n",
      "None\n",
      "None\n",
      "None\n"
     ]
    }
   ],
   "source": [
    "# count down from N to 1 and blast off\n",
    "N = int(input(\"Enter N: \"))\n",
    "for i in range(N):\n",
    "    print(None)\n",
    "None"
   ]
  },
  {
   "cell_type": "code",
   "execution_count": null,
   "metadata": {},
   "outputs": [],
   "source": [
    "# count down from N to 1 and blast off\n",
    "N = int(input(\"Enter N: \"))\n",
    "for i in range(None):\n",
    "    print(i)\n",
    "None"
   ]
  },
  {
   "cell_type": "markdown",
   "metadata": {},
   "source": [
    "## Exercises\n",
    "\n",
    "#### 1. Count to N\n",
    "\n",
    "Given an integer N, print all the numbers from 1 to N twice as shown below.\n",
    "```\n",
    "Enter N: 5\n",
    "1\n",
    "2\n",
    "3\n",
    "4\n",
    "5\n",
    "1 2 3 4 5 \n",
    "```"
   ]
  },
  {
   "cell_type": "code",
   "execution_count": null,
   "metadata": {},
   "outputs": [],
   "source": [
    "N = int(input(\"Enter N: \"))\n",
    "for i in range(N):\n",
    "    print(None)\n",
    "for i in range(N):\n",
    "    print(None)"
   ]
  },
  {
   "cell_type": "markdown",
   "metadata": {},
   "source": [
    "#### 2. Print even numbers twice\n",
    "\n",
    "Given an integer N, print all even numbers from 0 to N in ascending order and descending order\n",
    "\n",
    "Sample runs:\n",
    "```\n",
    "Enter N: 5\n",
    "0 2 4 \n",
    "4 2 0\n",
    "\n",
    "Enter N: 10\n",
    "0 2 4 6 8 10 \n",
    "10 8 6 4 2 0\n",
    "\n",
    "Enter N: 11\n",
    "0 2 4 6 8 10 \n",
    "10 8 6 4 2 0\n",
    "\n",
    "Enter N: 14\n",
    "0 2 4 6 8 10 12 14 \n",
    "14 12 10 8 6 4 2 0\n",
    "```"
   ]
  },
  {
   "cell_type": "markdown",
   "metadata": {},
   "source": [
    "1 2 3 4 5"
   ]
  },
  {
   "cell_type": "code",
   "execution_count": null,
   "metadata": {},
   "outputs": [],
   "source": [
    "N = int(input(\"Enter N: \"))\n",
    "for i in range(None):\n",
    "    None\n",
    "print()\n",
    "for i in range(None):\n",
    "    None"
   ]
  },
  {
   "cell_type": "markdown",
   "metadata": {},
   "source": [
    "#### 3.1 Ladder \n",
    "\n",
    "For given integer N ≤ 9 print a ladder of N steps. The k-th step consists of the integers from 1 to k without spaces between them.\n",
    "To do that, you can use the sep and end arguments for the function print().\n",
    "\n",
    "```\n",
    "Enter N: 5\n",
    "1\n",
    "12\n",
    "123\n",
    "1234\n",
    "12345\n",
    "\n",
    "Enter N: 3\n",
    "1\n",
    "12\n",
    "123\n",
    "```"
   ]
  },
  {
   "cell_type": "code",
   "execution_count": null,
   "metadata": {},
   "outputs": [],
   "source": [
    "N = int(input('Enter N: '))\n"
   ]
  },
  {
   "cell_type": "markdown",
   "metadata": {},
   "source": [
    "---------\n",
    "__\"Everything is permissible\" - but not everything is beneficial. \"Everything is permissible\" - but not everything is constructive.__\n",
    "1 Corinthians 10:23\n",
    "    "
   ]
  }
 ],
 "metadata": {
  "kernelspec": {
   "display_name": "Python 3",
   "language": "python",
   "name": "python3"
  },
  "language_info": {
   "codemirror_mode": {
    "name": "ipython",
    "version": 3
   },
   "file_extension": ".py",
   "mimetype": "text/x-python",
   "name": "python",
   "nbconvert_exporter": "python",
   "pygments_lexer": "ipython3",
   "version": "3.7.3"
  }
 },
 "nbformat": 4,
 "nbformat_minor": 1
}
