{
 "cells": [
  {
   "cell_type": "markdown",
   "metadata": {},
   "source": [
    "# Welcome to \"CrushPython\"\n",
    "\n",
    "\n",
    "__The prudent see danger and take refuge, but the simple keep going and suffer for it.__ Proverbs 27:12\n",
    "\n",
    "---------"
   ]
  },
  {
   "cell_type": "markdown",
   "metadata": {},
   "source": [
    "# Lesson - Lists  \n",
    "\n",
    "------\n",
    "Most of programs work not only with variables, but also use lists of variables. For example, a program can handle students informationin in a class by reading the list of students from the keyboard or from a file. \n",
    "\n",
    "To store such data, you can use the data structure called __list__. \n",
    "\n",
    "- Lists are sequences of objects. \n",
    "- Lists can contain a mix of any type of objects:\n",
    "- Lists are one of the workhorse data structures.\n",
    "\n",
    "A list is a sequence of elements numbered from 0, just as characters in the string. You create a list by putting square brackets around a comma-separated list of other Python items:"
   ]
  },
  {
   "cell_type": "code",
   "execution_count": 1,
   "metadata": {},
   "outputs": [],
   "source": [
    "emptylist = []\n",
    "primes = [2, 3, 5, 7, 11, 13, 17, 19]\n",
    "rainbow = ['red', 'orange', 'yellow', 'green', 'blue', 'indigo', 'violet']"
   ]
  },
  {
   "cell_type": "markdown",
   "metadata": {},
   "source": [
    "Like strings, you can concatenate lists using the add operation:"
   ]
  },
  {
   "cell_type": "code",
   "execution_count": 2,
   "metadata": {},
   "outputs": [
    {
     "name": "stdout",
     "output_type": "stream",
     "text": [
      "[1, 2, 3, 'four', 'five']\n"
     ]
    }
   ],
   "source": [
    "a = [1, 2, 3]\n",
    "b = ['four', 'five']\n",
    "# combine two lists\n",
    "c = a + b\n",
    "print(c)"
   ]
  },
  {
   "cell_type": "markdown",
   "metadata": {},
   "source": [
    "and you can multiply a list by an integer to repeat the items in a list multiple times:"
   ]
  },
  {
   "cell_type": "code",
   "execution_count": 5,
   "metadata": {},
   "outputs": [
    {
     "data": {
      "text/plain": [
       "[True, False, True, False, True, False, True, False, True, False]"
      ]
     },
     "execution_count": 5,
     "metadata": {},
     "output_type": "execute_result"
    }
   ],
   "source": [
    "[True, False] * 5"
   ]
  },
  {
   "cell_type": "markdown",
   "metadata": {},
   "source": [
    "## Making a list\n",
    "\n",
    "#### For example\n",
    "- Make a list with odd numbers between 1 and 20. Use a for loop and range().\n",
    "    - Create an empty list.\n",
    "    - Use a for loop and range().\n",
    "    - Use append() method to append an item to the list one by one.\n",
    "    - If you enter a tab after `your_object.<tab>`, it display a list of methods available for `your_object`.  "
   ]
  },
  {
   "cell_type": "code",
   "execution_count": 8,
   "metadata": {},
   "outputs": [
    {
     "name": "stdout",
     "output_type": "stream",
     "text": [
      "[1, 3, 5, 7, 9, 11, 13, 15, 17, 19]\n"
     ]
    }
   ],
   "source": [
    "seq = []\n",
    "N = 20 \n",
    "\n",
    "for x in range(1, N, 2):\n",
    "    seq.append(x)\n",
    "    \n",
    "print(seq)"
   ]
  },
  {
   "cell_type": "markdown",
   "metadata": {},
   "source": [
    "\n",
    "## Indexing\n",
    "\n",
    "Indexing on lists works much the same way as strings.\n",
    "\n",
    "To get the first element of a list, use index 0:"
   ]
  },
  {
   "cell_type": "code",
   "execution_count": 10,
   "metadata": {},
   "outputs": [
    {
     "name": "stdout",
     "output_type": "stream",
     "text": [
      "['red', 'orange', 'yellow', 'green', 'blue', 'indigo', 'violet']\n"
     ]
    }
   ],
   "source": [
    "# print the first color\n",
    "rainbow = ['red', 'orange', 'yellow', 'green', 'blue', 'indigo', 'violet']\n",
    "print(rainbow)"
   ]
  },
  {
   "cell_type": "markdown",
   "metadata": {},
   "source": [
    "Print the rainbow, one element at a time:\n",
    "- using iterable\n",
    "- using index\n",
    "\n",
    "\n",
    "#### Example: Using list which is iterable\n",
    "\n",
    "Using the iterable list, complete the code to produce the following output:\n",
    "```\n",
    "red orange yellow green blue indigo violet \n",
    "```"
   ]
  },
  {
   "cell_type": "code",
   "execution_count": 12,
   "metadata": {},
   "outputs": [
    {
     "name": "stdout",
     "output_type": "stream",
     "text": [
      "red orange yellow green blue indigo violet "
     ]
    }
   ],
   "source": [
    "# using list which is iterable\n",
    "rainbow = ['red', 'orange', 'yellow', 'green', 'blue', 'indigo', 'violet']\n",
    "for x in rainbow:\n",
    "    print(x, end=' ')"
   ]
  },
  {
   "cell_type": "markdown",
   "metadata": {},
   "source": [
    "#### Example: Using list indexing\n",
    "\n",
    "Using list indexing, complete the code to produce the following output:\n",
    "\n",
    "```\n",
    "red orange yellow green blue indigo violet \n",
    "```"
   ]
  },
  {
   "cell_type": "code",
   "execution_count": 17,
   "metadata": {},
   "outputs": [
    {
     "name": "stdout",
     "output_type": "stream",
     "text": [
      "1 red\n",
      "2 orange\n",
      "3 yellow\n",
      "4 green\n",
      "5 blue\n",
      "6 indigo\n",
      "7 violet\n"
     ]
    }
   ],
   "source": [
    "# using index, print colors\n",
    "rainbow = ['red', 'orange', 'yellow', 'green', 'blue', 'indigo', 'violet']\n",
    "for color in range(len(rainbow)):\n",
    "    print(color + 1, rainbow[color])"
   ]
  },
  {
   "cell_type": "markdown",
   "metadata": {},
   "source": [
    "#### Example: Using iterable \n",
    "\n",
    "Using iterable concept of an object, complete the code to produce the following output:\n",
    "```\n",
    "1 red\n",
    "2 orange\n",
    "3 yellow\n",
    "4 green\n",
    "5 blue\n",
    "6 indigo\n",
    "7 violet\n",
    "```"
   ]
  },
  {
   "cell_type": "code",
   "execution_count": null,
   "metadata": {},
   "outputs": [],
   "source": [
    "# using iterable\n",
    "i = 0 \n",
    "for color in None:\n",
    "    None"
   ]
  },
  {
   "cell_type": "markdown",
   "metadata": {},
   "source": [
    "#### Example: Using enumerating list\n",
    "\n",
    "Using enumerating list concept of an object, complete the code to produce the following output:\n",
    "```\n",
    "1 red\n",
    "2 orange\n",
    "3 yellow\n",
    "4 green\n",
    "5 blue\n",
    "6 indigo\n",
    "7 violet\n",
    "```"
   ]
  },
  {
   "cell_type": "code",
   "execution_count": 19,
   "metadata": {},
   "outputs": [
    {
     "name": "stdout",
     "output_type": "stream",
     "text": [
      "1 red\n",
      "2 orange\n",
      "3 yellow\n",
      "4 green\n",
      "5 blue\n",
      "6 indigo\n",
      "7 violet\n"
     ]
    }
   ],
   "source": [
    "# enumerating list\n",
    "rainbow = ['red', 'orange', 'yellow', 'green', 'blue', 'indigo', 'violet']\n",
    "for i, color in enumerate(rainbow):\n",
    "    print(i + 1, color)"
   ]
  },
  {
   "cell_type": "markdown",
   "metadata": {},
   "source": [
    "Lists are mutable\n",
    "----------\n",
    "\n",
    "Unlike strings, list indexing is different that you can set the values in the list: strings are _immutable_, but lists are _mutable_.\n",
    "\n",
    "So we can change the second element like so:"
   ]
  },
  {
   "cell_type": "code",
   "execution_count": 21,
   "metadata": {},
   "outputs": [
    {
     "name": "stdout",
     "output_type": "stream",
     "text": [
      "['red', 'orange', 'yellow', 'green', 'blue', 'indigo', 'violet']\n",
      "no pink\n"
     ]
    }
   ],
   "source": [
    "# change the first one to 'RED'\n",
    "rainbow = ['red', 'orange', 'yellow', 'green', 'blue', 'indigo', 'violet']\n",
    "rainbow[0] = rainbow[0].upper()\n",
    "print(rainbow)\n",
    "\n",
    "if rainbow.count('pink') == 0:\n",
    "    print('no pink')\n",
    "else:\n",
    "    print('yes, pink')"
   ]
  },
  {
   "cell_type": "markdown",
   "metadata": {},
   "source": [
    "__Negative indices__ work in the same way as strings:\n",
    "\n",
    "#### Example:\n",
    "- Get the last element in the list"
   ]
  },
  {
   "cell_type": "code",
   "execution_count": 22,
   "metadata": {},
   "outputs": [
    {
     "name": "stdout",
     "output_type": "stream",
     "text": [
      "violet\n"
     ]
    }
   ],
   "source": [
    "print(rainbow[-1])"
   ]
  },
  {
   "cell_type": "markdown",
   "metadata": {},
   "source": [
    "## Creating a list from user's input\n",
    "\n",
    "In the demonstrated example, \n",
    "\n",
    "- the empty list is created, then \n",
    "- the number of elements is read, then \n",
    "- you read the list items line by line and append to the end. \n",
    "\n",
    "Sample run:\n",
    "```\n",
    "How many: 3\n",
    "1: 3\n",
    "2: 6\n",
    "3: 9\n",
    "[3, 6, 9]\n",
    "```\n",
    "\n",
    "The same thing can be done, saving the variable `n`:"
   ]
  },
  {
   "cell_type": "code",
   "execution_count": 3,
   "metadata": {},
   "outputs": [
    {
     "name": "stdout",
     "output_type": "stream",
     "text": [
      "How many: 3\n",
      "1:4\n",
      "2:5\n",
      "3:6\n",
      "['4', '5', '6']\n"
     ]
    }
   ],
   "source": [
    "a = []                      # start an empty list\n",
    "n = int(input('How many: '))  # read number of elements in the list\n",
    "for i in range(n): \n",
    "    prompt = str(i + 1) + \":\"\n",
    "    a.append(input(prompt))                  # add it to the list\n",
    "\n",
    "print(a)"
   ]
  },
  {
   "cell_type": "markdown",
   "metadata": {},
   "source": [
    "#### Simplified version:"
   ]
  },
  {
   "cell_type": "code",
   "execution_count": null,
   "metadata": {},
   "outputs": [],
   "source": [
    "a = None\n",
    "for i in range(None):\n",
    "    None\n",
    "print(a)"
   ]
  },
  {
   "cell_type": "markdown",
   "metadata": {},
   "source": [
    "Slicing\n",
    "-------\n",
    "Slicing is used to extract a subsequence out of your sequence(e.g. list, string):\n",
    "\n",
    "    var[lower:upper:step]\n",
    "\n",
    "The element which has index equal to the lower bound is included in the slice, but the element which has index equal to the upper bound is excluded, so mathematically, the ie slice is `[lower, upper)`.  If you think of the indices as being between the elements, then this mentally works very nicely, as we'll see.\n",
    "\n",
    "The `step` argument is optional, and indicates the strides between elements in the subsequence, so a step of 2 takes every second element.\n",
    "\n",
    "List slicing also has very similar semantics to slicing on strings. \n",
    "- a[start:end]      \n",
    "  items start through end-1\n",
    "- a[start:]         \n",
    "  items start through the rest of the array\n",
    "- a[:end]           \n",
    "  items from the beginning through end-1\n",
    "- a[:]              \n",
    "  a copy of the whole list\n",
    "- a[start:end:step] \n",
    "  start through not past end, by step\n"
   ]
  },
  {
   "cell_type": "markdown",
   "metadata": {},
   "source": [
    "#### Example:\n",
    "\n",
    "- slice [11, 12]"
   ]
  },
  {
   "cell_type": "code",
   "execution_count": 4,
   "metadata": {},
   "outputs": [
    {
     "data": {
      "text/plain": [
       "[11, 12]"
      ]
     },
     "execution_count": 4,
     "metadata": {},
     "output_type": "execute_result"
    }
   ],
   "source": [
    "# slice [11, 12]\n",
    "a = [10, 11, 12, 13, 14, 15]\n",
    "a[1:3]"
   ]
  },
  {
   "cell_type": "markdown",
   "metadata": {},
   "source": [
    "#### Example: Using a negative indices\n",
    "\n",
    "- slice [11, 12]\n"
   ]
  },
  {
   "cell_type": "code",
   "execution_count": 5,
   "metadata": {},
   "outputs": [
    {
     "data": {
      "text/plain": [
       "[11, 12]"
      ]
     },
     "execution_count": 5,
     "metadata": {},
     "output_type": "execute_result"
    }
   ],
   "source": [
    "# slice [11, 12], use negative indices\n",
    "a = [10, 11, 12, 13, 14, 15]\n",
    "a[1:-3]"
   ]
  },
  {
   "cell_type": "markdown",
   "metadata": {},
   "source": [
    "### Example: Omitting indices\n",
    "\n",
    "- slice [10, 11, 12]"
   ]
  },
  {
   "cell_type": "code",
   "execution_count": 6,
   "metadata": {},
   "outputs": [
    {
     "data": {
      "text/plain": [
       "[10, 11, 12]"
      ]
     },
     "execution_count": 6,
     "metadata": {},
     "output_type": "execute_result"
    }
   ],
   "source": [
    "# slice [10, 11, 12]\n",
    "a = [10, 11, 12, 13, 14, 15]\n",
    "a[:3]"
   ]
  },
  {
   "cell_type": "markdown",
   "metadata": {},
   "source": [
    "### Replace elements with \n",
    "\n",
    "Unlike strings, because lists are mutable, you can write values into a slice.  \n",
    "\n",
    "#### Example\n",
    "Complete the code to produce `[10, 1, 2, 13, 14, 15]`"
   ]
  },
  {
   "cell_type": "code",
   "execution_count": 7,
   "metadata": {},
   "outputs": [
    {
     "name": "stdout",
     "output_type": "stream",
     "text": [
      "[10, 1, 2, 13, 13, 15]\n"
     ]
    }
   ],
   "source": [
    "# replace 11, 12 with 1, 2\n",
    "a = [10, 11, 12, 13, 13, 15]\n",
    "a[1:3] = [1, 2]\n",
    "print(a)"
   ]
  },
  {
   "cell_type": "markdown",
   "metadata": {},
   "source": [
    "This overwrites the second and third elements.  However you can inject extra elements into the list in the same way: the length of the slice and the length of the injected list don't have to match.\n",
    "\n",
    "#### Example:\n",
    "Insert `[1, 2, 3, 4]` into the slice from 1 to 3 such that it produces \n",
    "`[10, 1, 2, 3, 4, 13, 14, 15]`.\n",
    "This will remove the current contents of the slice and replace it with the new list, increasing the length of the list:"
   ]
  },
  {
   "cell_type": "code",
   "execution_count": 8,
   "metadata": {},
   "outputs": [
    {
     "name": "stdout",
     "output_type": "stream",
     "text": [
      "[10, 1, 2, 3, 4, 13, 14, 15]\n"
     ]
    }
   ],
   "source": [
    "# replace, 1, 2 with 1, 2, 3, 4\n",
    "a = [10, 1, 2, 13, 14, 15]\n",
    "a[1:3] = [1, 2, 3, 4]\n",
    "print(a)"
   ]
  },
  {
   "cell_type": "markdown",
   "metadata": {},
   "source": [
    "### Delete elements\n",
    "\n",
    "It's also possible to use the same idea for deleting elements.\n",
    "\n",
    "If we take the slice from 1 to 3 and inject an empty list into the slice, it will __delete__ the second and third elements:\n",
    "\n",
    "#### Example:\n",
    "Complete the code to produce `[10, 3, 4, 13, 14, 15]`.\n"
   ]
  },
  {
   "cell_type": "code",
   "execution_count": 9,
   "metadata": {},
   "outputs": [
    {
     "name": "stdout",
     "output_type": "stream",
     "text": [
      "[10, 1, 2, 13, 14, 15]\n"
     ]
    }
   ],
   "source": [
    "a = [10, 1, 2, 3, 4, 13, 14, 15]\n",
    "a[3:5] = []\n",
    "print(a)"
   ]
  },
  {
   "cell_type": "markdown",
   "metadata": {},
   "source": [
    "### Copying elements\n",
    "\n",
    "Finally, you can __slice or copy all of the elements__ with a slice like this:"
   ]
  },
  {
   "cell_type": "markdown",
   "metadata": {},
   "source": [
    "#### Example:\n",
    "\n",
    "We want to make a copy of list `a` and have 'red' is replaced with 'white' as shown below:\n",
    "\n",
    "```\n",
    "a = ['red', 'green', 'yellow']\n",
    "b = ['white', 'green', 'yellow']\n",
    "```\n",
    "\n",
    "What is wrong with the following code?"
   ]
  },
  {
   "cell_type": "code",
   "execution_count": 10,
   "metadata": {},
   "outputs": [
    {
     "name": "stdout",
     "output_type": "stream",
     "text": [
      "a = ['white', 'green', 'yellow']\n",
      "b = ['white', 'green', 'yellow']\n"
     ]
    }
   ],
   "source": [
    "a = ['red', 'green', 'yellow']\n",
    "b = a                       \n",
    "b[0] = 'white'\n",
    "print('a =', a)\n",
    "print('b =', b)"
   ]
  },
  {
   "cell_type": "markdown",
   "metadata": {},
   "source": [
    "__Tips__: Use `[:]` for mutable objects:"
   ]
  },
  {
   "cell_type": "code",
   "execution_count": 11,
   "metadata": {},
   "outputs": [
    {
     "name": "stdout",
     "output_type": "stream",
     "text": [
      "a = ['red', 'green', 'yellow']\n",
      "b = ['white', 'green', 'yellow']\n"
     ]
    }
   ],
   "source": [
    "a = ['red', 'green', 'yellow']\n",
    "b = a[:]                       \n",
    "b[0] = 'white'\n",
    "print('a =', a)\n",
    "print('b =', b)"
   ]
  },
  {
   "cell_type": "markdown",
   "metadata": {},
   "source": [
    "## Pop Quiz: WWJD or WWPP?"
   ]
  },
  {
   "cell_type": "code",
   "execution_count": 12,
   "metadata": {},
   "outputs": [
    {
     "data": {
      "text/plain": [
       "'olleh'"
      ]
     },
     "execution_count": 12,
     "metadata": {},
     "output_type": "execute_result"
    }
   ],
   "source": [
    "# reverse\n",
    "s=\"hello\"\n",
    "s[::-1]"
   ]
  },
  {
   "cell_type": "markdown",
   "metadata": {},
   "source": [
    "## Operations on Lists\n",
    "\n",
    "We've seen the generic length function in Python and it works on any kind of sequence, including lists:\n",
    "\n",
    "- len()\n",
    "- sorted()\n",
    "- del\n",
    "- in\n",
    "- not in"
   ]
  },
  {
   "cell_type": "markdown",
   "metadata": {},
   "source": [
    "#### Example:\n",
    "Get the length of the list given:"
   ]
  },
  {
   "cell_type": "code",
   "execution_count": 13,
   "metadata": {},
   "outputs": [
    {
     "data": {
      "text/plain": [
       "6"
      ]
     },
     "execution_count": 13,
     "metadata": {},
     "output_type": "execute_result"
    }
   ],
   "source": [
    "a = [10, 11, 12, 13, 14, 15]\n",
    "len(a)"
   ]
  },
  {
   "cell_type": "markdown",
   "metadata": {},
   "source": [
    "#### Example:\n",
    "\n",
    "Use sorted() to reverse the sequence."
   ]
  },
  {
   "cell_type": "code",
   "execution_count": 21,
   "metadata": {},
   "outputs": [
    {
     "name": "stdout",
     "output_type": "stream",
     "text": [
      "[20, 10, 11, 12, 13, 14, 15]\n",
      "[10, 11, 12, 13, 14, 15, 20]\n"
     ]
    }
   ],
   "source": [
    "a = [20, 10, 11, 12, 13, 14, 15]\n",
    "b = sorted(a)\n",
    "print(a)\n",
    "print(b)"
   ]
  },
  {
   "cell_type": "code",
   "execution_count": 24,
   "metadata": {},
   "outputs": [
    {
     "name": "stdout",
     "output_type": "stream",
     "text": [
      "None\n"
     ]
    }
   ],
   "source": [
    "a = [20, 10, 11, 12, 13, 14, 15]\n",
    "a.sort()"
   ]
  },
  {
   "cell_type": "markdown",
   "metadata": {},
   "source": [
    "To delete an item from a list, use the `del` keyword.  For example, to delete the item at index 2, you would use:"
   ]
  },
  {
   "cell_type": "code",
   "execution_count": null,
   "metadata": {},
   "outputs": [],
   "source": [
    "a = [10, 11, 12, 13, 14, 15]\n",
    "del a[2]\n",
    "print(a)"
   ]
  },
  {
   "cell_type": "markdown",
   "metadata": {},
   "source": [
    "A powerful feature is being able to test for membership in a list using the `in` keyword.\n",
    "\n",
    "So to test if 13 is in our list, we would use:"
   ]
  },
  {
   "cell_type": "code",
   "execution_count": 25,
   "metadata": {},
   "outputs": [
    {
     "data": {
      "text/plain": [
       "True"
      ]
     },
     "execution_count": 25,
     "metadata": {},
     "output_type": "execute_result"
    }
   ],
   "source": [
    "a = [10, 11, 12, 13, 14, 15]\n",
    "13 in a"
   ]
  },
  {
   "cell_type": "markdown",
   "metadata": {},
   "source": [
    "which is `True` since 13 is in the list.\n",
    "\n",
    "You can invert the idea and test to see if something is `not in` the list:"
   ]
  },
  {
   "cell_type": "code",
   "execution_count": 27,
   "metadata": {},
   "outputs": [
    {
     "data": {
      "text/plain": [
       "False"
      ]
     },
     "execution_count": 27,
     "metadata": {},
     "output_type": "execute_result"
    }
   ],
   "source": [
    "a = [10, 11, 12, 13, 14, 15]\n",
    "13 not in a"
   ]
  },
  {
   "cell_type": "markdown",
   "metadata": {},
   "source": [
    "which is `False` since 13 is in `a`."
   ]
  },
  {
   "cell_type": "markdown",
   "metadata": {},
   "source": [
    "## List Methods\n",
    "\n",
    "Lists are objects, so they have a lot of methods available on them.\n",
    "\n",
    "- append\n",
    "- extend\n",
    "- count\n",
    "- index\n",
    "- insert\n",
    "- remove\n",
    "- pop\n",
    "- sort\n",
    "\n",
    "`append()` adds a single element to the end of a list:"
   ]
  },
  {
   "cell_type": "code",
   "execution_count": 28,
   "metadata": {},
   "outputs": [
    {
     "name": "stdout",
     "output_type": "stream",
     "text": [
      "[10, 11, 12, 13, 14, 15, 20]\n"
     ]
    }
   ],
   "source": [
    "a = [10, 11, 12, 13, 14, 15]\n",
    "a.append(20)\n",
    "print(a)"
   ]
  },
  {
   "cell_type": "markdown",
   "metadata": {},
   "source": [
    "If you instead want to add a sequence to the end of a list, then you can use `extend()`:"
   ]
  },
  {
   "cell_type": "code",
   "execution_count": 30,
   "metadata": {},
   "outputs": [
    {
     "name": "stdout",
     "output_type": "stream",
     "text": [
      "[10, 11, 12, 13, 14, 15, 20, 21]\n"
     ]
    }
   ],
   "source": [
    "a = [10, 11, 12, 13, 14, 15]\n",
    "a.extend([20, 21])\n",
    "print(a)"
   ]
  },
  {
   "cell_type": "markdown",
   "metadata": {},
   "source": [
    "This is the same as using __inplace addition__:"
   ]
  },
  {
   "cell_type": "code",
   "execution_count": 31,
   "metadata": {},
   "outputs": [
    {
     "name": "stdout",
     "output_type": "stream",
     "text": [
      "[10, 11, 12, 13, 14, 15, 1, 2]\n"
     ]
    }
   ],
   "source": [
    "a = [10, 11, 12, 13, 14, 15]\n",
    "a += [1, 2]\n",
    "print(a)"
   ]
  },
  {
   "cell_type": "markdown",
   "metadata": {},
   "source": [
    "Note that using `append()` with a list produces a differnt result than `extend()`:"
   ]
  },
  {
   "cell_type": "code",
   "execution_count": 32,
   "metadata": {},
   "outputs": [
    {
     "name": "stdout",
     "output_type": "stream",
     "text": [
      "[10, 11, 12, 13, 14, 15, [1, 2]]\n"
     ]
    }
   ],
   "source": [
    "a = [10, 11, 12, 13, 14, 15]\n",
    "a.append([1, 2])\n",
    "print(a)"
   ]
  },
  {
   "cell_type": "markdown",
   "metadata": {},
   "source": [
    "This adds a single element to the end of the list, and that element contains the thing we appended, in this case the list `[1, 2]`.\n",
    "\n",
    "The `count()` method tells you how many of a certain element are in a list:"
   ]
  },
  {
   "cell_type": "code",
   "execution_count": 33,
   "metadata": {},
   "outputs": [
    {
     "data": {
      "text/plain": [
       "2"
      ]
     },
     "execution_count": 33,
     "metadata": {},
     "output_type": "execute_result"
    }
   ],
   "source": [
    "a = [10, 11, 12, 13, 14, 15, 11]\n",
    "a.count(11)"
   ]
  },
  {
   "cell_type": "markdown",
   "metadata": {},
   "source": [
    "The `index()` method tells you the index of the first occurence of an element:\n",
    "\n",
    "__ index of 11__"
   ]
  },
  {
   "cell_type": "code",
   "execution_count": 36,
   "metadata": {},
   "outputs": [
    {
     "data": {
      "text/plain": [
       "6"
      ]
     },
     "execution_count": 36,
     "metadata": {},
     "output_type": "execute_result"
    }
   ],
   "source": [
    "a = [10, 11, 12, 13, 14, 15, 11]\n",
    "idx = a.index(11)\n",
    "a.index(11, idx+1)"
   ]
  },
  {
   "cell_type": "markdown",
   "metadata": {},
   "source": [
    "Notice that even though we have two 11s we only get the index of the first one.\n",
    "\n",
    "The `insert()` method inserts a new element into a list at a particular index. \n",
    "\n",
    "#### Example\n",
    "Inject the number 20 into a list at index 3 to produce the following:\n",
    "\n",
    "```\n",
    "[10, 11, 12, 20, 13, 14, 15, 11]\n",
    "```"
   ]
  },
  {
   "cell_type": "code",
   "execution_count": null,
   "metadata": {},
   "outputs": [],
   "source": [
    "a = [10, 11, 12, 13, 14, 15, 11]\n",
    "None\n",
    "print(a)"
   ]
  },
  {
   "cell_type": "markdown",
   "metadata": {},
   "source": [
    "#### Example\n",
    "`del` command deletes an element by index. \n",
    "\n",
    "Use the `remove()` method to produce the following:\n",
    "\n",
    "```\n",
    "[10, 12, 20, 13, 14, 15, 11]\n",
    "```"
   ]
  },
  {
   "cell_type": "code",
   "execution_count": null,
   "metadata": {},
   "outputs": [],
   "source": [
    "a = [10, 11, 12, 13, 14, 15, 11]\n",
    "a.remove(11)\n",
    "print(a)"
   ]
  },
  {
   "cell_type": "markdown",
   "metadata": {},
   "source": [
    "So this removed the first occurrence of the element 11 from the list.\n",
    "\n",
    "The `pop()` method is another way to remove an element from a list, but __by index__ rather than by value. What is the differenct from `del`?\n",
    "\n",
    "#### Example\n",
    "Remove the third element and print the element removed."
   ]
  },
  {
   "cell_type": "code",
   "execution_count": null,
   "metadata": {},
   "outputs": [],
   "source": [
    "a = [10, 11, 12, 13, 14, 15, 11]\n",
    "None\n",
    "print(a)\n",
    "print(b)"
   ]
  },
  {
   "cell_type": "markdown",
   "metadata": {},
   "source": [
    "So this removed the element at index 2, returning the value that was removed so now you can use that value in some other operation.  This is similar to `del a[2]`, but `del a[2]` doesn't return the element, it just gets rid of it:"
   ]
  },
  {
   "cell_type": "code",
   "execution_count": null,
   "metadata": {},
   "outputs": [],
   "source": [
    "a = [10, 11, 12, 13, 14, 15, 11]\n",
    "del a[2]\n",
    "print(a)"
   ]
  },
  {
   "cell_type": "markdown",
   "metadata": {},
   "source": [
    "Lists have a `sort()` method which is quite powerful.  The sort method takes various arguments that allow you to control how the sorting is done, and we'll cover that in another lecture.  But if you just call it without any argument it will sort the elements in ascending order, which is fairly useful by itself:"
   ]
  },
  {
   "cell_type": "code",
   "execution_count": null,
   "metadata": {},
   "outputs": [],
   "source": [
    "a = [10, 1, 11, 13, 11, 2, 15, 14]\n",
    "None\n",
    "print(a)"
   ]
  },
  {
   "cell_type": "markdown",
   "metadata": {},
   "source": [
    "This is an __in-place sort__, so it actually modifies the list `a`.  If you want to sort a list, but don't want to modify it, but instead create a new, sorted list, then the `sorted()` built-in function will do this for you. Some built-in functions such as sum, len, max can be used.\n",
    "\n",
    "#### Example:\n",
    "\n",
    "Keep the `a` as it is, but have `a` sorted in another list `b` as shown below: \n",
    "\n",
    "```\n",
    "a = [10, 1, 11, 13, 11, 2, 15, 14]\n",
    "b = [1, 2, 10, 11, 11, 13, 14, 15]\n",
    "```"
   ]
  },
  {
   "cell_type": "code",
   "execution_count": null,
   "metadata": {},
   "outputs": [],
   "source": [
    "a = [10, 1, 11, 13, 11, 2, 15, 14]\n",
    "None\n",
    "print('a =', a)\n",
    "print('b =', b)"
   ]
  },
  {
   "cell_type": "markdown",
   "metadata": {},
   "source": [
    "Finally, there is the `reverse()` method that reverses the elements of the list in-place:\n"
   ]
  },
  {
   "cell_type": "code",
   "execution_count": null,
   "metadata": {},
   "outputs": [],
   "source": [
    "a = [1, 2, 3, 4, 5, 6]\n",
    "None    \n",
    "print(a)"
   ]
  },
  {
   "cell_type": "markdown",
   "metadata": {},
   "source": [
    "## Pop Quiz 1\n",
    "\n",
    "Replace two `None`'s with a proper code such that it produces the following output. The list reverse() method modifies the original list.\n",
    "```\n",
    "a = [7, 5, 4, 3, 2, 1]\n",
    "b = [6, 5, 4, 3, 2, 1]\n",
    "```"
   ]
  },
  {
   "cell_type": "code",
   "execution_count": null,
   "metadata": {},
   "outputs": [],
   "source": [
    "a = [1, 2, 3, 4, 5, 6]\n",
    "None\n",
    "b = None\n",
    "a[0] = 7\n",
    "print('a =', a)\n",
    "print('b =', b)"
   ]
  },
  {
   "cell_type": "markdown",
   "metadata": {},
   "source": [
    "## Pop Quiz 2\n",
    "\n",
    "Initialize a list, `a`, with True and print it. Its length is 10. Don't use  any loop nor range().  \n",
    "`a = [True, True, True, True, True, True, True, True, True, True]`"
   ]
  },
  {
   "cell_type": "code",
   "execution_count": null,
   "metadata": {},
   "outputs": [],
   "source": [
    "a = [True] * 10      # your code here\n",
    "print(a)"
   ]
  },
  {
   "cell_type": "markdown",
   "metadata": {},
   "source": [
    "## Exercises"
   ]
  },
  {
   "cell_type": "markdown",
   "metadata": {},
   "source": [
    "## 1. Swap neighbours\n",
    "\n",
    "Given a list of numbers, swap adjacent items in pairs (`a[0]` with `a[1]`, `a[2]` with `a[3]`, etc.). Print the resulting list. If a list has an odd number of elements, leave the last element in place.\n",
    "\n",
    "For example:\n",
    "```\n",
    "a = [1, 2, 3]\n",
    "# your code here\n",
    "print(a)\n",
    "\n",
    "[2, 1, 3]\n",
    "```\n",
    "-----------\n",
    "```\n",
    "a = [0, 9, 4, 5, 2, 3]\n",
    "# your code here\n",
    "print(a)\n",
    "\n",
    "[9, 0, 5, 4, 3, 2]\n",
    "```\n",
    "-----------\n",
    "```\n",
    "a = [0, 9, 4, 5, 2, 3, 1]\n",
    "# your code here\n",
    "print(a)\n",
    "\n",
    "[9, 0, 5, 4, 3, 2, 1]\n",
    "```\n",
    "\n",
    "__Hint__: Believe it or not, mutiple assignments are possible. In the following code, two values of `x` and `y` are swapped.\n",
    "```\n",
    "x, y = 1, 2      # x = 1, y = 2\n",
    "x, y = y, x      # x = 2, y = 1\n",
    "```"
   ]
  },
  {
   "cell_type": "code",
   "execution_count": 39,
   "metadata": {},
   "outputs": [
    {
     "data": {
      "text/plain": [
       "[9, 0, 5, 4, 3, 2, 7]"
      ]
     },
     "execution_count": 39,
     "metadata": {},
     "output_type": "execute_result"
    }
   ],
   "source": [
    "a = [0, 9, 4, 5, 2, 3, 7]\n",
    "for i in range(1, len(a), 2):\n",
    "    a[i-1], a[i] = a[i], a[i-1]\n",
    "\n",
    "a"
   ]
  },
  {
   "cell_type": "code",
   "execution_count": null,
   "metadata": {},
   "outputs": [],
   "source": [
    "a = [0, 9, 4, 5, 2, 3]\n",
    "for i in None:\n",
    "    None"
   ]
  },
  {
   "cell_type": "markdown",
   "metadata": {},
   "source": [
    "## 2. swap_two()\n",
    "\n",
    "Make the functionality of 'swap neighbours' coded above into a function. There are two ways to implement this function. \n",
    "- swap_two_inplace() in place returns None, but changes the input list itself in the argument\n",
    "- swap_two() returns a new list without changing the input list in the argument"
   ]
  },
  {
   "cell_type": "code",
   "execution_count": 41,
   "metadata": {},
   "outputs": [],
   "source": [
    "def swap_two_inplace(a):\n",
    "    for i in range(1, len(a), 2):\n",
    "        a[i-1], a[i] = a[i], a[i-1]\n",
    "        "
   ]
  },
  {
   "cell_type": "code",
   "execution_count": 42,
   "metadata": {},
   "outputs": [
    {
     "name": "stdout",
     "output_type": "stream",
     "text": [
      "a: [9, 0, 5, 4, 3, 2, 1]\n",
      "b: None\n"
     ]
    }
   ],
   "source": [
    "a = [0, 9, 4, 5, 2, 3, 1]\n",
    "b = swap_two_inplace(a)\n",
    "print(\"a:\", a)\n",
    "print(\"b:\", b)\n",
    "\n",
    "# a: [9, 0, 5, 4, 3, 2, 1]\n",
    "# b: None"
   ]
  },
  {
   "cell_type": "code",
   "execution_count": 43,
   "metadata": {},
   "outputs": [],
   "source": [
    "def swap_two(a):\n",
    "    b = a[:]\n",
    "    for i in range(1, len(b), 2):\n",
    "        b[i-1], b[i] = b[i], b[i-1]\n",
    "    return b"
   ]
  },
  {
   "cell_type": "code",
   "execution_count": 44,
   "metadata": {},
   "outputs": [
    {
     "name": "stdout",
     "output_type": "stream",
     "text": [
      "a: [0, 9, 4, 5, 2, 3, 1]\n",
      "b: [9, 0, 5, 4, 3, 2, 1]\n"
     ]
    }
   ],
   "source": [
    "a = [0, 9, 4, 5, 2, 3, 1]\n",
    "b = swap_two(a)\n",
    "print(\"a:\", a)\n",
    "print(\"b:\", b)\n",
    "\n",
    "# a: [0, 9, 4, 5, 2, 3, 1] \n",
    "# b: [9, 0, 5, 4, 3, 2, 1]"
   ]
  },
  {
   "cell_type": "markdown",
   "metadata": {},
   "source": [
    "## 3. The largest element and its index\n",
    "\n",
    "Get a list of integers, print the value of the largest element and then the index number. If the highest element is not unique, print the index of the first instance.\n",
    "\n",
    "__Hint__: You can solve this problem without using a loop if you use methods available for the list object as well as built-in functions in Python. "
   ]
  },
  {
   "cell_type": "code",
   "execution_count": 45,
   "metadata": {},
   "outputs": [
    {
     "name": "stdout",
     "output_type": "stream",
     "text": [
      "26 7\n"
     ]
    }
   ],
   "source": [
    "a = [6, 9, 6, 23, 12, 19, 14, 26]\n",
    "a.sort()\n",
    "x_value = a[-1]\n",
    "x_index = a.index(x_value)\n",
    "\n",
    "print(x_value, x_index)"
   ]
  },
  {
   "cell_type": "markdown",
   "metadata": {},
   "source": [
    "## 4. Unique elements\n",
    "\n",
    "Given a list of integers, this function, `only_once(alist)`, returns a list with the elements that appear in the original list only once. The elements must be listed in the order in which they occur in the original list. Don't use set. \n",
    "For example:\n",
    "```\n",
    "a = [4, 3, 5, 2, 5, 1, 3, 5]\n",
    "print(only_once(a))\n",
    "[4, 2, 1]\n",
    "```\n",
    "```\n",
    "b = [6, 9, 6, 23, 12, 19, 14, 26]\n",
    "print(only_once(b))\n",
    "[9, 23, 12, 19, 14, 26]\n",
    "```\n",
    "\n",
    "__Hint:__ Use a method available for a list object. Remember that `obejct.<tab>` displays a list of methods available for that `object`."
   ]
  },
  {
   "cell_type": "code",
   "execution_count": 46,
   "metadata": {},
   "outputs": [],
   "source": [
    "def only_once(alist):\n",
    "    b = []\n",
    "    for x in alist:\n",
    "        if alist.count(x) == 1:\n",
    "            b.append(x)\n",
    "    return b"
   ]
  },
  {
   "cell_type": "code",
   "execution_count": 47,
   "metadata": {},
   "outputs": [
    {
     "name": "stdout",
     "output_type": "stream",
     "text": [
      "[4, 2, 1]\n",
      "[9, 23, 12, 19, 14, 26]\n"
     ]
    }
   ],
   "source": [
    "a = [4, 3, 5, 2, 5, 1, 3, 5]\n",
    "b = [6, 9, 6, 23, 12, 19, 14, 26]\n",
    "print(only_once(a))\n",
    "print(only_once(b))"
   ]
  },
  {
   "cell_type": "markdown",
   "metadata": {},
   "source": [
    "--------\n",
    "__슬기로운 자는 재앙을 보면 숨어 피하여도 어리석은 자들은 나가다가 해를 받느니라.__\n",
    "잠언27:12"
   ]
  }
 ],
 "metadata": {
  "kernelspec": {
   "display_name": "Python 3",
   "language": "python",
   "name": "python3"
  },
  "language_info": {
   "codemirror_mode": {
    "name": "ipython",
    "version": 3
   },
   "file_extension": ".py",
   "mimetype": "text/x-python",
   "name": "python",
   "nbconvert_exporter": "python",
   "pygments_lexer": "ipython3",
   "version": "3.7.3"
  }
 },
 "nbformat": 4,
 "nbformat_minor": 1
}
