{
 "cells": [
  {
   "cell_type": "markdown",
   "metadata": {},
   "source": [
    "# Welcome to \"CrushPython\"\n",
    "\n",
    "\n",
    "__The prudent see danger and take refuge, but the simple keep going and suffer for it.__ Proverbs 27:12\n",
    "\n",
    "---------"
   ]
  },
  {
   "cell_type": "markdown",
   "metadata": {},
   "source": [
    "# Lesson - Lists  \n",
    "\n",
    "------\n",
    "Most of programs work not only with variables, but also use lists of variables. For example, a program can handle students informationin in a class by reading the list of students from the keyboard or from a file. \n",
    "\n",
    "To store such data, you can use the data structure called __list__. \n",
    "\n",
    "- Lists are sequences of objects. \n",
    "- Lists can contain a mix of any type of objects:\n",
    "- Lists are one of the workhorse data structures.\n",
    "\n",
    "A list is a sequence of elements numbered from 0, just as characters in the string. You create a list by putting square brackets around a comma-separated list of other Python items:"
   ]
  },
  {
   "cell_type": "code",
   "execution_count": 2,
   "metadata": {},
   "outputs": [],
   "source": [
    "primes = [2, 3, 5, 7, 11, 13]\n",
    "rainbow = ['red', 'orange', 'yellow', 'green', 'blue', 'indigo', 'violet']"
   ]
  },
  {
   "cell_type": "markdown",
   "metadata": {},
   "source": [
    "Like strings, you can concatenate lists using the add operation:"
   ]
  },
  {
   "cell_type": "code",
   "execution_count": 4,
   "metadata": {},
   "outputs": [
    {
     "name": "stdout",
     "output_type": "stream",
     "text": [
      "[2, 3, 5, 7, 11, 13, 'red', 'orange', 'yellow', 'green', 'blue', 'indigo', 'violet']\n"
     ]
    }
   ],
   "source": [
    "# combine two lists\n",
    "c = primes + rainbow\n",
    "print(c)"
   ]
  },
  {
   "cell_type": "markdown",
   "metadata": {},
   "source": [
    "and you can multiply a list by an integer to repeat the items in a list multiple times:"
   ]
  },
  {
   "cell_type": "code",
   "execution_count": null,
   "metadata": {},
   "outputs": [],
   "source": [
    "[True] * None"
   ]
  },
  {
   "cell_type": "markdown",
   "metadata": {},
   "source": [
    "## Making a list\n",
    "\n",
    "#### Example 1:\n",
    "- Make a list called `seq1` with __odd__ numbers between 1 and 22 as shown below:\n",
    "\n",
    "```\n",
    "[1, 3, 5, 7, 9, 11, 13, 15, 17, 19, 21]\n",
    "```"
   ]
  },
  {
   "cell_type": "markdown",
   "metadata": {},
   "source": [
    "#### Solution: \n",
    "- Create an empty list or initialize a list.\n",
    "- Use a `for` loop and `range()`.\n",
    "- Use `append()` method to append an item to the list one by one. "
   ]
  },
  {
   "cell_type": "code",
   "execution_count": null,
   "metadata": {},
   "outputs": [],
   "source": [
    "seq = None\n",
    "for x in None:\n",
    "    seq.None"
   ]
  },
  {
   "cell_type": "markdown",
   "metadata": {},
   "source": [
    "#### Example 2:\n",
    "- Make a new list `seq2` with every other element in `seq1` as shown below:\n",
    "\n",
    "```\n",
    "[1, 5, 9, 13, 17, 21]\n",
    "```\n",
    "\n",
    "#### Solution 1: Using enumerate() or for loop"
   ]
  },
  {
   "cell_type": "code",
   "execution_count": null,
   "metadata": {},
   "outputs": [],
   "source": [
    "seq2 = []                      \n",
    "for i, x in enumerate(seq1):\n",
    "    None\n",
    "    \n",
    "print(seq2)"
   ]
  },
  {
   "cell_type": "markdown",
   "metadata": {},
   "source": [
    "#### Solution 2: Using slicing  - the simplest solution\n"
   ]
  },
  {
   "cell_type": "code",
   "execution_count": null,
   "metadata": {},
   "outputs": [],
   "source": [
    "seq2 = None\n",
    "print(seq2)"
   ]
  },
  {
   "cell_type": "markdown",
   "metadata": {},
   "source": [
    "#### Example 3: \n",
    "- Make a list of names or every other elements as shown in the following list, `data`.\n",
    "```\n",
    "data = ['john', 3, 'kim', 7, 'peter', 13, 'paul', 17, 'david', 21]\n",
    "```\n",
    "- Use slicing.\n",
    "\n",
    "#### Solution: Using slicing  - the simplest solution"
   ]
  },
  {
   "cell_type": "code",
   "execution_count": null,
   "metadata": {},
   "outputs": [],
   "source": [
    "names = None\n",
    "print(names)"
   ]
  },
  {
   "cell_type": "markdown",
   "metadata": {},
   "source": [
    "#### Example 4: \n",
    "\n",
    "- Get the sum of numbers following every name in the list, `data`. \n",
    "- Make sure that even when the list  may be extended or shortened with a pair of data (a name and a number). \n",
    "```\n",
    "data = ['john', 3, 'kim', 7, 'peter', 13, 'paul', 17, 'david', 21]\n",
    "```\n",
    "- Use slicing.\n",
    "\n",
    "#### Solution: Using slicing  - the simplest solution"
   ]
  },
  {
   "cell_type": "code",
   "execution_count": null,
   "metadata": {},
   "outputs": [],
   "source": [
    "total = None\n",
    "print(total)"
   ]
  },
  {
   "cell_type": "markdown",
   "metadata": {},
   "source": [
    "\n",
    "## Indexing\n",
    "\n",
    "Indexing on lists works much the same way as strings.\n",
    "\n",
    "To get the first element of a list, use index 0:"
   ]
  },
  {
   "cell_type": "code",
   "execution_count": null,
   "metadata": {},
   "outputs": [],
   "source": [
    "# print the first color\n",
    "rainbow = ['red', 'orange', 'yellow', 'green', 'blue', 'indigo', 'violet']\n",
    "print(rainbow)"
   ]
  },
  {
   "cell_type": "markdown",
   "metadata": {},
   "source": [
    "### Three ways of printing each color in the rainbow, one element at a time as shown below:\n",
    "\n",
    "1. using index\n",
    "1. using iterable\n",
    "1. using enumerate\n",
    "\n",
    "```\n",
    "1:red 2:orange 3:yellow 4:green 5:blue 6:indigo 7:violet \n",
    "```"
   ]
  },
  {
   "cell_type": "markdown",
   "metadata": {},
   "source": [
    "#### Example 1: Using list indexing \n",
    "\n",
    "#### solution"
   ]
  },
  {
   "cell_type": "code",
   "execution_count": null,
   "metadata": {},
   "outputs": [],
   "source": [
    "# using indexing \n",
    "rainbow = ['red', 'orange', 'yellow', 'green', 'blue', 'indigo', 'violet']\n",
    "for i in None\n",
    "    print(None)\n",
    "print()\n",
    "\n",
    "for i in None: \n",
    "    print(None)\n",
    "print()"
   ]
  },
  {
   "cell_type": "markdown",
   "metadata": {},
   "source": [
    "#### Example 2: Using list indexing \n",
    "\n",
    "#### solution"
   ]
  },
  {
   "cell_type": "code",
   "execution_count": null,
   "metadata": {},
   "outputs": [],
   "source": [
    "# using list which is iterable\n",
    "rainbow = ['red', 'orange', 'yellow', 'green', 'blue', 'indigo', 'violet']\n",
    "for x in None:\n",
    "    print(None)\n",
    "print()\n",
    "    \n",
    "\n",
    "for x in None:\n",
    "    print(None)\n"
   ]
  },
  {
   "cell_type": "markdown",
   "metadata": {},
   "source": [
    "#### Example 3: Using list indexing \n",
    "\n",
    "#### solution"
   ]
  },
  {
   "cell_type": "code",
   "execution_count": null,
   "metadata": {},
   "outputs": [],
   "source": [
    "# enumerating list\n",
    "for None in None:\n",
    "    print(None)"
   ]
  },
  {
   "cell_type": "markdown",
   "metadata": {},
   "source": [
    "Use enumerating list to list items with a sequence number."
   ]
  },
  {
   "cell_type": "code",
   "execution_count": null,
   "metadata": {},
   "outputs": [],
   "source": [
    "# enumerating list with indices\n",
    "for None in None:\n",
    "    print(None)\n",
    "print()\n",
    "\n",
    "for None in None:\n",
    "    print(None)"
   ]
  },
  {
   "cell_type": "markdown",
   "metadata": {},
   "source": [
    "## Lists are mutable\n",
    "\n",
    "\n",
    "Unlike strings, list indexing is different that you can set the values in the list: strings are __immutable__, but lists are __mutable__.\n",
    "\n",
    "#### Example 6: Change the second element into uppercase\n",
    "\n",
    "```\n",
    "['red', 'ORANGE', 'yellow', 'green', 'blue', 'indigo', 'violet']\n",
    "```"
   ]
  },
  {
   "cell_type": "code",
   "execution_count": null,
   "metadata": {},
   "outputs": [],
   "source": [
    "# change the first one to 'RED'\n",
    "rainbow = ['red', 'orange', 'yellow', 'green', 'blue', 'indigo', 'violet']\n",
    "None\n",
    "print(rainbow)"
   ]
  },
  {
   "cell_type": "markdown",
   "metadata": {},
   "source": [
    "Slicing\n",
    "-------\n",
    "Slicing is used to extract a subsequence out of your sequence(e.g. list, string):\n",
    "\n",
    "    var[lower:upper:step]\n",
    "\n",
    "The element which has index equal to the lower bound is included in the slice, but the element which has index equal to the upper bound is excluded, so mathematically, the ie slice is `[lower, upper)`.  If you think of the indices as being between the elements, then this mentally works very nicely, as we'll see.\n",
    "\n",
    "The `step` argument is optional, and indicates the strides between elements in the subsequence, so a step of 2 takes every second element.\n",
    "\n",
    "List slicing also has very similar semantics to slicing on strings. \n",
    "```\n",
    "- a[start:end]  items start through end-1\n",
    "- a[start:]     items start through the rest of the array\n",
    "- a[:end]       items from the beginning through end - 1\n",
    "- a[:]          a copy of the whole list\n",
    "- a[start:end:step]  start through end - 1, by step\n",
    "```"
   ]
  },
  {
   "cell_type": "markdown",
   "metadata": {},
   "source": [
    "#### Example 1: Slice `[11, 12]`\n",
    "\n",
    "- slice [11, 12]"
   ]
  },
  {
   "cell_type": "code",
   "execution_count": null,
   "metadata": {},
   "outputs": [],
   "source": [
    "# slice [11, 12]\n",
    "a = [10, 11, 12, 13, 14, 15]\n",
    "a[1:None]"
   ]
  },
  {
   "cell_type": "markdown",
   "metadata": {},
   "source": [
    "#### Example 2: Slice all elements except the last one using a negative indices"
   ]
  },
  {
   "cell_type": "code",
   "execution_count": null,
   "metadata": {},
   "outputs": [],
   "source": [
    "# slice [10, 11, 12, 13, 14], use negative indices\n",
    "a = [10, 11, 12, 13, 14, 15]\n",
    "a[1:None]"
   ]
  },
  {
   "cell_type": "markdown",
   "metadata": {},
   "source": [
    "#### Example 3: Slice the first three elements `[10, 11, 12]`"
   ]
  },
  {
   "cell_type": "code",
   "execution_count": null,
   "metadata": {},
   "outputs": [],
   "source": [
    "# slice [10, 11, 12]\n",
    "a = [10, 11, 12, 13, 14, 15]\n",
    "a[None]"
   ]
  },
  {
   "cell_type": "markdown",
   "metadata": {},
   "source": [
    "### Replace elements with \n",
    "\n",
    "Unlike strings, because lists are mutable, you can write values into a slice.  \n",
    "\n",
    "#### Example 4: Replace `11, 12` with `1, 2`"
   ]
  },
  {
   "cell_type": "code",
   "execution_count": null,
   "metadata": {},
   "outputs": [],
   "source": [
    "# replace 11, 12 with 1, 2\n",
    "a = [10, 11, 12, 13, 13, 15]\n",
    "None\n",
    "print(a)"
   ]
  },
  {
   "cell_type": "markdown",
   "metadata": {},
   "source": [
    "This overwrites the second and third elements.  However you can inject extra elements into the list in the same way: the length of the slice and the length of the injected list don't have to match.\n",
    "\n",
    "#### Example 5: Replace `11, 12` with `1, 2, 3, 4`\n",
    "Insert `[1, 2, 3, 4]` into the slice from 1 to 3 such that it produces \n",
    "`[10, 1, 2, 3, 4, 13, 14, 15]`. \n",
    "This will remove the current contents of the slice and replace it with the new list, increasing the length of the list:"
   ]
  },
  {
   "cell_type": "code",
   "execution_count": null,
   "metadata": {},
   "outputs": [],
   "source": [
    "# replace, 1, 2 with 1, 2, 3, 4\n",
    "a = [10, 1, 2, 13, 14, 15]\n",
    "None\n",
    "print(a)"
   ]
  },
  {
   "cell_type": "markdown",
   "metadata": {},
   "source": [
    "### Delete elements\n",
    "\n",
    "It's also possible to use the same idea for deleting elements.\n",
    "\n",
    "If we take the slice from 1 to 3 and inject an empty list into the slice, it will __delete__ the second and third elements:\n",
    "\n",
    "#### Example 6: Delete elements `1, 2`\n",
    "Complete the code to produce `[10, 3, 4, 13, 14, 15]`."
   ]
  },
  {
   "cell_type": "code",
   "execution_count": null,
   "metadata": {},
   "outputs": [],
   "source": [
    "a = [10, 1, 2, 3, 4, 13, 14, 15]\n",
    "None\n",
    "print(a)"
   ]
  },
  {
   "cell_type": "markdown",
   "metadata": {},
   "source": [
    "### Copying elements\n",
    "\n",
    "Finally, you can __slice or copy all of the elements__ with a slice like this:"
   ]
  },
  {
   "cell_type": "markdown",
   "metadata": {},
   "source": [
    "For example, we want to make a copy of list `a` and have `red` is replaced with `white` as shown below:\n",
    "\n",
    "```\n",
    "a = ['red', 'green', 'yellow']\n",
    "b = ['white', 'green', 'yellow']\n",
    "```\n",
    "What is wrong with the following code?"
   ]
  },
  {
   "cell_type": "code",
   "execution_count": null,
   "metadata": {},
   "outputs": [],
   "source": [
    "a = ['red', 'green', 'yellow']\n",
    "b = a                       \n",
    "b[0] = 'white'\n",
    "print('a =', a)\n",
    "print('b =', b)"
   ]
  },
  {
   "cell_type": "markdown",
   "metadata": {},
   "source": [
    "#### Example 7:  Make a new `Vowel` from `vowel` as shown below:\n",
    "\n",
    "```\n",
    "vowel = ['a', 'e', 'i', 'o', 'u']\n",
    "Vowel = ['A', 'e', 'i', 'o', 'u']\n",
    "```\n",
    "\n",
    "- Copy a list `vowel` first. \n",
    "- Then, convert the first color into uppercase.\n",
    "- __Tips__: Use `[:]` to copy a list since it is mutable,"
   ]
  },
  {
   "cell_type": "code",
   "execution_count": 1,
   "metadata": {},
   "outputs": [
    {
     "name": "stdout",
     "output_type": "stream",
     "text": [
      "['a', 'e', 'i', 'o', 'u']\n"
     ]
    },
    {
     "ename": "NameError",
     "evalue": "name 'Vowel' is not defined",
     "output_type": "error",
     "traceback": [
      "\u001b[1;31m---------------------------------------------------------------------------\u001b[0m",
      "\u001b[1;31mNameError\u001b[0m                                 Traceback (most recent call last)",
      "\u001b[1;32m<ipython-input-1-04c437935d59>\u001b[0m in \u001b[0;36m<module>\u001b[1;34m\u001b[0m\n\u001b[0;32m      3\u001b[0m \u001b[1;32mNone\u001b[0m\u001b[1;33m\u001b[0m\u001b[1;33m\u001b[0m\u001b[0m\n\u001b[0;32m      4\u001b[0m \u001b[0mprint\u001b[0m\u001b[1;33m(\u001b[0m\u001b[0mvowel\u001b[0m\u001b[1;33m)\u001b[0m\u001b[1;33m\u001b[0m\u001b[1;33m\u001b[0m\u001b[0m\n\u001b[1;32m----> 5\u001b[1;33m \u001b[0mprint\u001b[0m\u001b[1;33m(\u001b[0m\u001b[0mVowel\u001b[0m\u001b[1;33m)\u001b[0m\u001b[1;33m\u001b[0m\u001b[1;33m\u001b[0m\u001b[0m\n\u001b[0m",
      "\u001b[1;31mNameError\u001b[0m: name 'Vowel' is not defined"
     ]
    }
   ],
   "source": [
    "vowel = ['a', 'e', 'i', 'o', 'u']\n",
    "None\n",
    "None\n",
    "print(vowel)\n",
    "print(Vowel)"
   ]
  },
  {
   "cell_type": "markdown",
   "metadata": {},
   "source": [
    "#### Example 8: Tuple data type is immutable.\n",
    "\n",
    "Tuple data type is defined by `( )` instead of `[ ]`.\n",
    "\n",
    "If you want to change the first element of `vowel` into uppercase, which line of code would be a problem?"
   ]
  },
  {
   "cell_type": "code",
   "execution_count": 16,
   "metadata": {},
   "outputs": [
    {
     "ename": "NameError",
     "evalue": "name 'vowel' is not defined",
     "output_type": "error",
     "traceback": [
      "\u001b[1;31m---------------------------------------------------------------------------\u001b[0m",
      "\u001b[1;31mNameError\u001b[0m                                 Traceback (most recent call last)",
      "\u001b[1;32m<ipython-input-16-22dc655b9e92>\u001b[0m in \u001b[0;36m<module>\u001b[1;34m\u001b[0m\n\u001b[1;32m----> 1\u001b[1;33m \u001b[0mvowel\u001b[0m \u001b[1;33m=\u001b[0m \u001b[0mtuple\u001b[0m\u001b[1;33m(\u001b[0m\u001b[0mvowel\u001b[0m\u001b[1;33m)\u001b[0m\u001b[1;33m\u001b[0m\u001b[1;33m\u001b[0m\u001b[0m\n\u001b[0m\u001b[0;32m      2\u001b[0m \u001b[0mVowel\u001b[0m \u001b[1;33m=\u001b[0m \u001b[0mvowel\u001b[0m\u001b[1;33m[\u001b[0m\u001b[1;33m:\u001b[0m\u001b[1;33m]\u001b[0m\u001b[1;33m\u001b[0m\u001b[1;33m\u001b[0m\u001b[0m\n\u001b[0;32m      3\u001b[0m \u001b[0mprint\u001b[0m\u001b[1;33m(\u001b[0m\u001b[0mvowel\u001b[0m\u001b[1;33m)\u001b[0m\u001b[1;33m\u001b[0m\u001b[1;33m\u001b[0m\u001b[0m\n\u001b[0;32m      4\u001b[0m \u001b[0mprint\u001b[0m\u001b[1;33m(\u001b[0m\u001b[0mVowel\u001b[0m\u001b[1;33m)\u001b[0m\u001b[1;33m\u001b[0m\u001b[1;33m\u001b[0m\u001b[0m\n",
      "\u001b[1;31mNameError\u001b[0m: name 'vowel' is not defined"
     ]
    }
   ],
   "source": [
    "vowel = tuple(vowel)\n",
    "Vowel = vowel[:]\n",
    "print(vowel)\n",
    "print(Vowel)"
   ]
  },
  {
   "cell_type": "code",
   "execution_count": null,
   "metadata": {},
   "outputs": [],
   "source": [
    "Vowel[0] = Vowel[0].upper()\n",
    "print(vowel)\n",
    "print(Vowel)"
   ]
  },
  {
   "cell_type": "markdown",
   "metadata": {},
   "source": [
    "## Operations on Lists\n",
    "\n",
    "We've seen the generic length function in Python and __it works on any kind of sequence__, including lists:\n",
    "\n",
    "- `len()`     - returns the length of an object\n",
    "- `sorted()`  - returns sorted list of an object \n",
    "- `del`       - deletes an item from a list by index\n",
    "- `in`        - tests for membership in a list \n",
    "- `not in`    - tests for membership in a list \n",
    "\n",
    "#### Example 1: Get the length of the list given:"
   ]
  },
  {
   "cell_type": "code",
   "execution_count": 6,
   "metadata": {},
   "outputs": [],
   "source": [
    "rainbow = ['red', 'orange', 'yellow', 'green', 'blue', 'indigo', 'violet']\n",
    "None"
   ]
  },
  {
   "cell_type": "markdown",
   "metadata": {},
   "source": [
    "#### Example 2: Use `sorted()` function to sort the sequence.\n",
    "\n",
    "Note: A list also has the `sort()` method which performs the same way as `sorted()`. The only difference being, the `sort()` method doesn't return any value and changes the original list."
   ]
  },
  {
   "cell_type": "code",
   "execution_count": 7,
   "metadata": {},
   "outputs": [
    {
     "name": "stdout",
     "output_type": "stream",
     "text": [
      "['red', 'green', 'blue']\n",
      "['blue', 'green', 'red']\n"
     ]
    }
   ],
   "source": [
    "rainbow = ['red', 'green', 'blue']\n",
    "rsorted = sorted(rainbow)\n",
    "print(rainbow)\n",
    "print(rsorted)"
   ]
  },
  {
   "cell_type": "markdown",
   "metadata": {},
   "source": [
    "#### Example 3: Use `sorted()` function to reverse the sequence."
   ]
  },
  {
   "cell_type": "code",
   "execution_count": 9,
   "metadata": {},
   "outputs": [
    {
     "name": "stdout",
     "output_type": "stream",
     "text": [
      "Help on built-in function sorted in module builtins:\n",
      "\n",
      "sorted(iterable, /, *, key=None, reverse=False)\n",
      "    Return a new list containing all items from the iterable in ascending order.\n",
      "    \n",
      "    A custom key function can be supplied to customize the sort order, and the\n",
      "    reverse flag can be set to request the result in descending order.\n",
      "\n"
     ]
    }
   ],
   "source": [
    "help(sorted)"
   ]
  },
  {
   "cell_type": "code",
   "execution_count": null,
   "metadata": {},
   "outputs": [],
   "source": [
    "rainbow = ['blue', 'green', 'red']\n",
    "rsorted = sorted(rainbow, reverse = True)\n",
    "print(rainbow)\n",
    "print(rsorted)"
   ]
  },
  {
   "cell_type": "markdown",
   "metadata": {},
   "source": [
    "#### Example 4: Use `sorted()` to sort by its length"
   ]
  },
  {
   "cell_type": "code",
   "execution_count": null,
   "metadata": {},
   "outputs": [],
   "source": [
    "rainbow = ['red', 'green', 'blue']\n",
    "rsorted = sorted(rainbow, key = len)\n",
    "print(rainbow)\n",
    "print(rsorted)"
   ]
  },
  {
   "cell_type": "markdown",
   "metadata": {},
   "source": [
    "#### Example 5: Test if  `purple` is in `rainbow`.\n",
    "\n",
    "A powerful feature is being able to test for membership in a list using the `in` keyword."
   ]
  },
  {
   "cell_type": "code",
   "execution_count": null,
   "metadata": {},
   "outputs": [],
   "source": [
    "rainbow = ['red', 'orange', 'yellow', 'green', 'blue', 'indigo', 'violet']\n",
    "\n",
    "None"
   ]
  },
  {
   "cell_type": "markdown",
   "metadata": {},
   "source": [
    "You can invert the idea and test to see if something is `not in` the list:"
   ]
  },
  {
   "cell_type": "code",
   "execution_count": null,
   "metadata": {},
   "outputs": [],
   "source": [
    "rainbow = ['red', 'orange', 'yellow', 'green', 'blue', 'indigo', 'violet']\n",
    "\n",
    "None"
   ]
  },
  {
   "cell_type": "markdown",
   "metadata": {},
   "source": [
    "which is `False` since 13 is in `a`."
   ]
  },
  {
   "cell_type": "markdown",
   "metadata": {},
   "source": [
    "## List Methods\n",
    "\n",
    "Lists are objects, so they have a lot of methods available on them.\n",
    "\n",
    "- append         - add one element at the end\n",
    "- extend         - add a sequence to the list, or an addition of two lists \n",
    "- count          - returns the number of occurences\n",
    "- index          - returns the index of the first occurence.\n",
    "- insert         - inserts an element by its index\n",
    "- remove         - removes an element by its value\n",
    "- pop            - removes an element by index and returns the value\n",
    "- sort           - performs in-place sort \n",
    "\n",
    "#### Example 1: `append()` adds a single element to the end of a list:"
   ]
  },
  {
   "cell_type": "code",
   "execution_count": null,
   "metadata": {},
   "outputs": [],
   "source": [
    "# add violet at the end\n",
    "rainbow = ['red', 'green', 'blue']\n",
    "None\n",
    "print(rainbow)"
   ]
  },
  {
   "cell_type": "markdown",
   "metadata": {},
   "source": [
    "#### Example 2: add a sequence such as `[indigo, violet]` \n",
    "If you instead want to add a sequence to the end of a list, then you can use `extend()`:"
   ]
  },
  {
   "cell_type": "code",
   "execution_count": null,
   "metadata": {},
   "outputs": [],
   "source": [
    "# add [indigo, violet] at the end\n",
    "rainbow = ['red', 'green', 'blue']\n",
    "None\n",
    "print(rainbow)"
   ]
  },
  {
   "cell_type": "markdown",
   "metadata": {},
   "source": [
    "#### Note 1: \n",
    "This is the same as using __inplace addition__:"
   ]
  },
  {
   "cell_type": "code",
   "execution_count": null,
   "metadata": {},
   "outputs": [],
   "source": [
    "rainbow = ['red', 'green', 'blue']\n",
    "None\n",
    "print(rainbow)"
   ]
  },
  {
   "cell_type": "markdown",
   "metadata": {},
   "source": [
    "#### Note 2:\n",
    "Using `append()` with a list produces a differnt result than `extend()`:"
   ]
  },
  {
   "cell_type": "code",
   "execution_count": null,
   "metadata": {},
   "outputs": [],
   "source": [
    "rainbow = ['red', 'green', 'blue']\n",
    "rainbow.append(['indigo', 'violet'])\n",
    "print(rainbow)"
   ]
  },
  {
   "cell_type": "markdown",
   "metadata": {},
   "source": [
    "TThis adds a single element to the end of the list, and that element contains the thing we appended, in this case the list `['indigo', 'violet']`.\n",
    "\n",
    "#### Example 3:\n",
    "The `count()` method tells you how many of a certain element are in a list:"
   ]
  },
  {
   "cell_type": "code",
   "execution_count": null,
   "metadata": {},
   "outputs": [],
   "source": [
    "rainbow = ['red', 'orange', 'yellow', 'green', 'blue', 'red']\n",
    "rainbow.count('red')"
   ]
  },
  {
   "cell_type": "markdown",
   "metadata": {},
   "source": [
    "#### Example 4: Remove all elements after `yellow` in the list rainbow. \n",
    "\n",
    "The `index()` method tells you the index of the first occurence of an element:"
   ]
  },
  {
   "cell_type": "code",
   "execution_count": null,
   "metadata": {},
   "outputs": [],
   "source": [
    "rainbow = ['red', 'orange', 'yellow', 'green', 'blue', 'indigo', 'violet']\n",
    "index = rainbow.index('yellow') + 1\n",
    "\n",
    "None\n",
    "print(rainbow)"
   ]
  },
  {
   "cell_type": "markdown",
   "metadata": {},
   "source": [
    "Notice that even though we have two 11s we only get the index of the first one.\n",
    "\n",
    "The `insert()` method inserts a new element into a list at a particular index. \n",
    "\n",
    "\n",
    "#### Example 5: Insert `pink` at the index = 2 in the list.\n",
    "It produces the following:\n",
    "\n",
    "```\n",
    "['red', 'orange', 'pink', 'yellow', 'green', 'blue', 'indigo', 'violet']\n",
    "```"
   ]
  },
  {
   "cell_type": "code",
   "execution_count": null,
   "metadata": {},
   "outputs": [],
   "source": [
    "rainbow = ['red', 'orange', 'yellow', 'green', 'blue', 'indigo', 'violet']\n",
    "\n",
    "None\n",
    "print(rainbow)"
   ]
  },
  {
   "cell_type": "markdown",
   "metadata": {},
   "source": [
    "#### Example 6: Remove `yellow` in the list.\n",
    "Use the `remove()` method to produce the following:\n",
    "\n",
    "```\n",
    "rainbow = ['red', 'orange', 'green', 'blue', 'indigo', 'violet']\n",
    "```"
   ]
  },
  {
   "cell_type": "code",
   "execution_count": null,
   "metadata": {},
   "outputs": [],
   "source": [
    "rainbow = ['red', 'orange', 'yellow', 'green', 'blue', 'indigo', 'violet']\n",
    "\n",
    "None\n",
    "print(rainbow)"
   ]
  },
  {
   "cell_type": "markdown",
   "metadata": {},
   "source": [
    "#### Example 7: Remove third element and print its value\n",
    "\n",
    "```\n",
    "['red', 'orange', 'yellow', 'green', 'blue', 'indigo', 'violet']\n",
    "['red', 'orange', 'green', 'blue', 'indigo', 'violet']\n",
    "'yellow'\n",
    "```\n",
    "\n",
    "The `pop()` method is another way to remove an element from a list, but __by index__ rather than by value. "
   ]
  },
  {
   "cell_type": "code",
   "execution_count": null,
   "metadata": {},
   "outputs": [],
   "source": [
    "rainbow = ['red', 'orange', 'yellow', 'green', 'blue', 'indigo', 'violet']\n",
    "\n",
    "zap = None\n",
    "print(rainbow)\n",
    "print(zap)"
   ]
  },
  {
   "cell_type": "markdown",
   "metadata": {},
   "source": [
    "#### Example 8: `sort()` : in-place sort\n",
    "\n",
    "Lists have a `sort()` method which is quite powerful.  The sort method takes various arguments that allow you to control how the sorting is done, and we'll cover that in another lecture.  But if you just call it without any argument it will sort the elements in ascending order, which is fairly useful by itself:"
   ]
  },
  {
   "cell_type": "code",
   "execution_count": null,
   "metadata": {},
   "outputs": [],
   "source": [
    "a = [10, 1, 11, 13, 11, 2, 15, 14]\n",
    "b = a[:]\n",
    "None\n",
    "print(a)\n",
    "\n",
    "sorted(b)\n",
    "print(b)"
   ]
  },
  {
   "cell_type": "markdown",
   "metadata": {},
   "source": [
    "This is an __in-place sort__, so it actually modifies the list `a`.  If you want to sort a list, but don't want to modify it, but instead create a new, sorted list, then the `sorted()` built-in function will do this for you. Some built-in functions such as sum, len, max can be used."
   ]
  },
  {
   "cell_type": "markdown",
   "metadata": {},
   "source": [
    "#### Example 9: reverse()\n",
    "\n",
    "Finally, there is the `reverse()` method that reverses the elements of the list __in-place__:\n"
   ]
  },
  {
   "cell_type": "code",
   "execution_count": null,
   "metadata": {},
   "outputs": [],
   "source": [
    "a = [1, 2, 3, 4, 5, 6]\n",
    "None    \n",
    "print(a)"
   ]
  },
  {
   "cell_type": "markdown",
   "metadata": {},
   "source": [
    "## Pop Quiz 1: WWJD or WWPP?"
   ]
  },
  {
   "cell_type": "code",
   "execution_count": null,
   "metadata": {},
   "outputs": [],
   "source": [
    "s=\"hello\"\n",
    "s[::-1]"
   ]
  },
  {
   "cell_type": "markdown",
   "metadata": {},
   "source": [
    "## Pop Quiz 2\n",
    "\n",
    "Replace two `None`'s with a proper code such that it produces the following output. The list `reverse()` method modifies the original list.\n",
    "```\n",
    "a = [6, 5, 4, 3, 2, 1]\n",
    "b = [6, 5, 4, 3, 2, 1]\n",
    "```"
   ]
  },
  {
   "cell_type": "code",
   "execution_count": null,
   "metadata": {},
   "outputs": [],
   "source": [
    "a = [1, 2, 3, 4, 5, 6]\n",
    "None                      # reverse\n",
    "b = None                  # copy\n",
    "a[0] = 7                  # replace\n",
    "print('a =', a)\n",
    "print('b =', b)"
   ]
  },
  {
   "cell_type": "markdown",
   "metadata": {},
   "source": [
    "# Exercise [모인활 숙제]\n",
    "\n",
    "## 1. Swap neighbours\n",
    "\n",
    "Given a list of numbers, swap adjacent items in pairs (`a[0]` with `a[1]`, `a[2]` with `a[3]`, etc.). Print the resulting list. If a list has an odd number of elements, leave the last element in place.\n",
    "\n",
    "For example:\n",
    "```\n",
    "a = [1, 2, 3]\n",
    "# your code here\n",
    "print(a)\n",
    "\n",
    "[2, 1, 3]\n",
    "```\n",
    "-----------\n",
    "```\n",
    "a = [0, 9, 4, 5, 2, 3]\n",
    "# your code here\n",
    "print(a)\n",
    "\n",
    "[9, 0, 5, 4, 3, 2]\n",
    "```\n",
    "-----------\n",
    "```\n",
    "a = [0, 9, 4, 5, 2, 3, 1]\n",
    "# your code here\n",
    "print(a)\n",
    "\n",
    "[9, 0, 5, 4, 3, 2, 1]\n",
    "```\n",
    "\n",
    "__Hint__: Believe it or not, mutiple assignments are possible. In the following code, two values of `x` and `y` are swapped.\n",
    "```\n",
    "x, y = 1, 2      # x = 1, y = 2\n",
    "x, y = y, x      # x = 2, y = 1\n",
    "```"
   ]
  },
  {
   "cell_type": "code",
   "execution_count": null,
   "metadata": {},
   "outputs": [],
   "source": [
    "a = [0, 9, 4, 5, 2, 3]\n",
    "for i in None:\n",
    "    None"
   ]
  },
  {
   "cell_type": "markdown",
   "metadata": {},
   "source": [
    "## 2. swap_two()\n",
    "\n",
    "Make the functionality of 'swap neighbours' coded above into a function. There are two ways to implement this function. \n",
    "- swap_two_inplace() in place returns None, but changes the input list itself in the argument\n",
    "- swap_two() returns a new list without changing the input list in the argument"
   ]
  },
  {
   "cell_type": "code",
   "execution_count": null,
   "metadata": {},
   "outputs": [],
   "source": [
    "def swap_two_inplace(a):\n",
    "    None"
   ]
  },
  {
   "cell_type": "code",
   "execution_count": null,
   "metadata": {},
   "outputs": [],
   "source": [
    "a = [0, 9, 4, 5, 2, 3, 1]\n",
    "b = swap_two_inplace(a)\n",
    "print(\"a:\", a)\n",
    "print(\"b:\", b)\n",
    "\n",
    "# a: [9, 0, 5, 4, 3, 2, 1]\n",
    "# b: None"
   ]
  },
  {
   "cell_type": "code",
   "execution_count": null,
   "metadata": {},
   "outputs": [],
   "source": [
    "def swap_two(a):\n",
    "    None"
   ]
  },
  {
   "cell_type": "code",
   "execution_count": null,
   "metadata": {},
   "outputs": [],
   "source": [
    "a = [0, 9, 4, 5, 2, 3, 1]\n",
    "b = swap_two(a)\n",
    "print(\"a:\", a)\n",
    "print(\"b:\", b)\n",
    "\n",
    "# a: [0, 9, 4, 5, 2, 3, 1] \n",
    "# b: [9, 0, 5, 4, 3, 2, 1]"
   ]
  },
  {
   "cell_type": "markdown",
   "metadata": {},
   "source": [
    "## 3. The largest element and its index\n",
    "\n",
    "Get a list of integers, print the value of the largest element and then the index number. If the highest element is not unique, print the index of the first instance.\n",
    "\n",
    "__Hint__: You can solve this problem without using a loop if you use methods available for the list object as well as built-in functions in Python. "
   ]
  },
  {
   "cell_type": "code",
   "execution_count": null,
   "metadata": {},
   "outputs": [],
   "source": [
    "a = [6, 9, 6, 23, 12, 19, 14, 26]\n",
    "\n",
    "None\n",
    "x_value = None\n",
    "x_index = None\n",
    "\n",
    "print(x_value, x_index)"
   ]
  },
  {
   "cell_type": "markdown",
   "metadata": {},
   "source": [
    "## 4. Unique elements\n",
    "\n",
    "Given a list of integers, this function, `only_once(alist)`, returns a list with the elements that appear in the original list only once. The elements must be listed in the order in which they occur in the original list. Don't use set. \n",
    "For example:\n",
    "```\n",
    "a = [4, 3, 5, 2, 5, 1, 3, 5]\n",
    "print(only_once(a))\n",
    "[4, 2, 1]\n",
    "```\n",
    "```\n",
    "b = [6, 9, 6, 23, 12, 19, 14, 26]\n",
    "print(only_once(b))\n",
    "[9, 23, 12, 19, 14, 26]\n",
    "```\n",
    "\n",
    "__Hint:__ Use a method available for a list object. Remember that `obejct.<tab>` displays a list of methods available for that `object`."
   ]
  },
  {
   "cell_type": "code",
   "execution_count": null,
   "metadata": {},
   "outputs": [],
   "source": [
    "def only_once(alist):\n",
    "    b = None\n",
    "\n",
    "    return b"
   ]
  },
  {
   "cell_type": "code",
   "execution_count": null,
   "metadata": {},
   "outputs": [],
   "source": [
    "a = [4, 3, 5, 2, 5, 1, 3, 5]\n",
    "b = [6, 9, 6, 23, 12, 19, 14, 26]\n",
    "print(only_once(a))\n",
    "print(only_once(b))"
   ]
  },
  {
   "cell_type": "markdown",
   "metadata": {},
   "source": [
    "## 5.  new_stairs()\n",
    "\n",
    "For a given positive integer N ≤ 9 print a stair of N steps. The k-th step consists of the integers from k to 1 without spaces between them. The result of new_stairs(8) produces the following:\n",
    "\n",
    "```\n",
    "[1]\n",
    "[1, 21]\n",
    "[1, 21, 321]\n",
    "[1, 21, 321, 4321]\n",
    "[1, 21, 321, 4321, 54321]\n",
    "[1, 21, 321, 4321, 54321, 654321]\n",
    "[1, 21, 321, 4321, 54321, 654321, 7654321]\n",
    "[1, 21, 321, 4321, 54321, 654321, 7654321, 87654321]\n",
    "```\n",
    "\n",
    "__Hints__: if your returns `stairs` at the end, it contains the last line of stairs.\n",
    "For new\n",
    "- Need two for-loops, one for range(N) and the other for range(?,0, -1) \n",
    "- At the end of two loops when stairs(8), `stairs[]` contains the follwoing:\n",
    "\n",
    "`[1, 21, 321, 4321, 54321, 654321, 7654321, 87654321]`"
   ]
  },
  {
   "cell_type": "code",
   "execution_count": null,
   "metadata": {},
   "outputs": [],
   "source": [
    "def new_stairs(N):\n",
    "    stairs = []\n",
    "    # your code here\n",
    "\n",
    "    \n",
    "new_stairs(8)"
   ]
  },
  {
   "cell_type": "markdown",
   "metadata": {},
   "source": [
    "--------\n",
    "__슬기로운 자는 재앙을 보면 숨어 피하여도 어리석은 자들은 나가다가 해를 받느니라.__\n",
    "잠언27:12"
   ]
  }
 ],
 "metadata": {
  "kernelspec": {
   "display_name": "Python 3",
   "language": "python",
   "name": "python3"
  },
  "language_info": {
   "codemirror_mode": {
    "name": "ipython",
    "version": 3
   },
   "file_extension": ".py",
   "mimetype": "text/x-python",
   "name": "python",
   "nbconvert_exporter": "python",
   "pygments_lexer": "ipython3",
   "version": "3.7.7"
  }
 },
 "nbformat": 4,
 "nbformat_minor": 1
}
