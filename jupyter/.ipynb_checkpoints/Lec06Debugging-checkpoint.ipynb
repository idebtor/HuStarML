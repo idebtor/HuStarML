{
 "cells": [
  {
   "cell_type": "markdown",
   "metadata": {},
   "source": [
    "# Welcome to \"CrushPython\"\n",
    "\n",
    "\n",
    "__The prudent see danger and take refuge, but the simple keep going and suffer for it.__ Proverbs 27:12\n",
    "\n",
    "---------"
   ]
  },
  {
   "cell_type": "code",
   "execution_count": 2,
   "metadata": {},
   "outputs": [
    {
     "data": {
      "text/plain": [
       "'C:\\\\GitHub\\\\MyLectures\\\\Capstone-Camp\\\\Camp2015-17\\\\CampBook\\\\Python\\\\lec_ipynb'"
      ]
     },
     "execution_count": 2,
     "metadata": {},
     "output_type": "execute_result"
    }
   ],
   "source": [
    "pwd"
   ]
  },
  {
   "cell_type": "markdown",
   "metadata": {},
   "source": [
    "# Lesson - Debugging \n",
    "\n",
    "------\n"
   ]
  },
  {
   "cell_type": "markdown",
   "metadata": {},
   "source": [
    "There is a charming urban legend about how the process of fixing flaws in software came to be known as __debugging__. The [photo](http://en.wikipedia.org/wiki/Software_bug#mediaviewer/File:H96566k.jpg) is of a September 9, 1947, page in a laboratory book from the group working on the Mark I Aiken Relay Calculator at Harvard University. \n",
    "\n",
    "The use of the word \"bug\" sometimes leads people to ignore the fundamental fact that if you wrote a program and it has a \"bug,\" you messed up. Bugs do not crawl unbidden into flawless programs. If your program has a bug, it is because you put it there. Bugs do not breed in programs. If your program has multiple bugs, it is because you made multiple mistakes. \n",
    "\n",
    "## Learning to Debug\n",
    "\n",
    "Debugging is a learned skill. Nobody does it well instinctively. The good news is that it is not hard to learn, and it is a transferrable skill. The same skills used to debug software can be used to find out what is wrong with other complex systems, e.g., laboratory experiments or sick humans. For at least four decades people have been building tools called debuggers, and there are debugging tools built into IDE. These are supposed to help people find bugs in their programs. They can help, but only a bit. What's much more important is how you approach the problem. Many experienced programmers don't even bother with debugging tools. Most programmers say that the most important debugging tool is the `print` statement.\n",
    "\n",
    "## When You Have Found \"The\" Bug\n",
    "\n",
    "When you think you have found a bug in your code, the temptation to start coding and testing a fix is almost irresistible. It is often better, however, to slow down a little. Remember that the goal is not to fix one bug, but to move rapidly and efficiently towards a bug-free program.\n",
    "\n",
    "- Ask yourself if this bug explains all the observed symptons, or whether it is just the tip of iceberg. If the latter, it may be better to think about taking care of this bug in concert with other changes. Suppose, for example, that you ahve discovered that the bug is the result of having accidentally mutated a list. You could circumvent the problem locally (perhaps by making a copy of the list), or you could consider using a tuple instead of list (since tuples are immutable), perhaps eliminating similar bugs elsewhere in the code. \n",
    "\n",
    "- Before making any change, try and understand the ramification of the proposed \"fix.\" Will it break something else? Does it introduce excessive complexity? Does it offer the opportunity to tidy up other parts of the code? \n",
    "\n",
    "- Always make sure that you can get back to where you are. There is nothing more frustrating than realizing that a long series of changes have left you further from the goal than when you started, and having no way to get back to where you started. Disk space is usually plentiful. Use it to store old versions of your programs. You are highly recommended to use GIT or GitHub. \n",
    "\n",
    "- Finally, if there are many unexplained errors, you might consider whether finding and fixing bugs one at a time is even the right approach. Maybe you would be better off thinking about whether there is some better way to orgainze your program or some simpler algorithm that will be easier to implement correctly. \n",
    "\n",
    "__References__ \n",
    "- Introduction to Computation and Programming Using Python by John V. Guttag, pps. 76~83\n",
    "- http://en.wikipedia.org/wiki/Software_bug\n"
   ]
  },
  {
   "cell_type": "markdown",
   "metadata": {},
   "source": [
    "## Example\n",
    "\n",
    "Imagine that you wrote the palindrome checking code as shown below and that you are so confident of your programming skills that you put it up on the Web without testing it. Suppose further that you receive an email saying, \"I tested your program on the following 1000-string input, and it printed \"Yes\". Yet any fool can see that it is not a palindrome. Fix it.\""
   ]
  },
  {
   "cell_type": "code",
   "execution_count": 1,
   "metadata": {},
   "outputs": [
    {
     "name": "stdout",
     "output_type": "stream",
     "text": [
      "Enter element: 1\n",
      "Enter element: 2\n",
      "Enter element: 3\n",
      "['1', '2', '3']\n",
      "Yes\n"
     ]
    }
   ],
   "source": [
    "def isPal(x):\n",
    "    \"\"\"Assume x is a list\n",
    "    Returns True if the list is a palindrome; False otherwise\"\"\"\n",
    "    temp = x\n",
    "    temp.reverse\n",
    "    if temp == x:\n",
    "        return True\n",
    "    else:\n",
    "        return False\n",
    "    \n",
    "def silly(n):\n",
    "    \"\"\"Assumes n is an int > 0\n",
    "    Gets n inputs from user, prints 'Yes' if the sequence of inputs forms a palindrome;\n",
    "    'No' otherwise\"\"\"\n",
    "    \n",
    "    result = []\n",
    "    for i in range(n):\n",
    "        elem = input('Enter element: ')\n",
    "        result.append(elem)\n",
    "    print(result)\n",
    "    if isPal(result):\n",
    "        print('Yes')\n",
    "    else:\n",
    "        print('No')   \n",
    "        \n",
    "\n",
    "silly(3)"
   ]
  },
  {
   "cell_type": "markdown",
   "metadata": {},
   "source": [
    "# Assertions\n",
    "\n",
    "---------\n",
    "The assert statement in programming helps you find bugs more quickly and with less pain. This note has some suggestions on good ways to use it.\n",
    "\n",
    "Here are some [observations](https://wiki.python.org/moin/UsingAssertionsEffectively) about debugging:\n",
    "\n",
    "- Practically all software has some bugs; it's a matter of frequency and severity rather than absolute perfection.\n",
    "- The sooner you find a bug, the better: amongst other things, that it avoids wasting other people's time when they're bitten, and it makes schedules less likely to slip through extended debugging.\n",
    "- When a bug does occur, you want to spend the minimum amount of time getting from the observed symptom to the root cause. \n",
    "\n",
    "An [assertion](http://en.wikipedia.org/wiki/Assertion) is a __predicate__ (a true–false statement) placed in a program to indicate that the developer thinks that the predicate is always true at that place. If an assertion evaluates to false at run-time, an assertion failure results, which typically causes execution to abort.  \n",
    "\n",
    "Assertions can function as a form of documentation: they can describe the state the code expects to find before it runs (its __preconditions__), and the state the code expects to result in when it is finished running (__postconditions__); they can also specify __invariants__ of a class. Eiffel integrates such assertions into the language and automatically extracts them to document the class. This forms an important part of the method of design by contract.\n",
    "\n",
    "There are three types of assertion:\n",
    "1. Preconditions: Specify conditions at the start of a function.\n",
    "2. Postconditions: Specify conditions at the end of a function.\n",
    "3. Invariants: Specify conditions over a defined region of a program.\n",
    "\n",
    "This approach is also useful in languages that do not explicitly support it: the advantage of using assertion statements rather than assertions in comments is that the program can check the assertions every time it runs; if the assertion no longer holds, an error can be reported. This prevents the code from getting out of sync with the assertions.\n",
    "\n",
    "\n"
   ]
  },
  {
   "cell_type": "markdown",
   "metadata": {},
   "source": [
    "Python syntax for assert\n",
    "-----\n",
    "\n",
    "The syntax for assert is:\n",
    "\n",
    "assert BooleanExpression[, Arguments]\n",
    "\n",
    "When an assert statement is encountered, the Boolean expression is evaluated. If it is evaluates to True, execution proceeds on its merry way. If it evaluates to False, an `AssertionError` expection is raised.\n",
    "\n",
    "##Example:\n",
    "Here is a function that converts a temperature from degrees Kelvin to degrees Fahrenheit. Since zero degrees Kelvin is as cold as it gets, the function bails out if it sees a negative temperature:"
   ]
  },
  {
   "cell_type": "code",
   "execution_count": null,
   "metadata": {},
   "outputs": [],
   "source": [
    "def KelvinToFahrenheit(Temperature):\n",
    "   assert Temperature >= 0,\"Colder than absolute zero!\"\n",
    "   return (Temperature - 273) * 1.8 + 32\n",
    "\n",
    "print(KelvinToFahrenheit(273))\n",
    "print(int(KelvinToFahrenheit(505.78)))\n",
    "print(KelvinToFahrenheit(-5))"
   ]
  },
  {
   "cell_type": "markdown",
   "metadata": {},
   "source": [
    "## Exercise:\n",
    "Suppose we have a simple database-like class which keeps an index from name to a numeric id, and from id to name.\n",
    "- Where is a good place to add assertions to this class such that it checks the data structure invariants are correct?\n",
    "\n",
    "__Hint:__ One of the \"invariants\" of this class is that the name->id map ought to always be in the inverse of the id->name map. You can see that the add() function tries to enforce that. However, it's possible that this invariant will be broken at some point: perhaps there is a typo in one of the methods, or perhaps some other bit of code gets in and fiddles with the private variables, etc. Perhaps it only happens for some values.  \n",
    "The symptoms are likely to be pretty confusing: code that uses the file will see results that are inconsistent. Perhaps what used to be a 1:1 map is no longer so."
   ]
  },
  {
   "cell_type": "code",
   "execution_count": null,
   "metadata": {},
   "outputs": [],
   "source": [
    "class MyDB:\n",
    "    def __init__(self):\n",
    "        self.id2name = {}\n",
    "        self.name2id = {}\n",
    "\n",
    "    def add(self, id, name):\n",
    "        self.name2id[name] = id\n",
    "        self.id2name[id] = name\n",
    "\n",
    "    def by_name(self, name):\n",
    "        return self.name2id[name]"
   ]
  },
  {
   "cell_type": "markdown",
   "metadata": {},
   "source": [
    "### A solution: assert"
   ]
  },
  {
   "cell_type": "code",
   "execution_count": 26,
   "metadata": {},
   "outputs": [],
   "source": [
    "%load assert.py"
   ]
  },
  {
   "cell_type": "markdown",
   "metadata": {},
   "source": [
    "This is not very hard to write or expensive to run, and follows naturally from the design of the class. It makes the programmer's assumptions clear to anyone else who works in the file in the future. If for any reason the code gets broken in the future, the failure will be obvious: the next time the key is accessed, the caller will get an AssertionError exception, which will typically go onto stderr or syslog.   \n",
    "Reference: https://wiki.python.org/moin/UsingAssertionsEffectively"
   ]
  },
  {
   "cell_type": "markdown",
   "metadata": {},
   "source": [
    "## Note:\n",
    "\n",
    "If Python is started with the -O option, then assertions will be stripped out and not evaluated. So if code uses assertions heavily, but is performance-critical, then there is a system for turning them off in release builds. (But don't do this unless it's really necessary. It's been scientifically proven that some bugs only show up when a customer uses the machine and we want assertions to help there too."
   ]
  },
  {
   "cell_type": "markdown",
   "metadata": {},
   "source": [
    "--------\n",
    "__슬기로운 자는 재앙을 보면 숨어 피하여도 어리석은 자들은 나가다가 해를 받느니라.__\n",
    "잠언27:12"
   ]
  }
 ],
 "metadata": {
  "kernelspec": {
   "display_name": "Python 3",
   "language": "python",
   "name": "python3"
  },
  "language_info": {
   "codemirror_mode": {
    "name": "ipython",
    "version": 3
   },
   "file_extension": ".py",
   "mimetype": "text/x-python",
   "name": "python",
   "nbconvert_exporter": "python",
   "pygments_lexer": "ipython3",
   "version": "3.7.3"
  }
 },
 "nbformat": 4,
 "nbformat_minor": 1
}
