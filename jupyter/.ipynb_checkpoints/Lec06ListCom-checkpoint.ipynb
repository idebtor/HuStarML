{
 "cells": [
  {
   "cell_type": "markdown",
   "metadata": {},
   "source": [
    "# Welcome to \"CrushPython\"\n",
    "\n",
    "\n",
    "__The prudent see danger and take refuge, but the simple keep going and suffer for it.__ Proverbs 27:12\n",
    "\n",
    "---------"
   ]
  },
  {
   "cell_type": "markdown",
   "metadata": {},
   "source": [
    "# Lesson - List comprehension \n",
    "\n",
    "### What is List Comprehension?\n",
    "- List comprehensions provide us with a simple way to create a list based on some iterable. During the creation, elements from the iterable can be conditionally included in the new list and transformed as needed. An iterable is something you can loop over. \n",
    "\n",
    "### Three components of a comprehension\n",
    "\n",
    "The components of a list comprehension are:\n",
    "- Output Expression (Optional)\n",
    "- Iterable\n",
    "- Iterator variable which represents the members of the iterable\n",
    "\n",
    "### Syntax\n",
    "- The syntax is:\n",
    "    - [**expression** for **variable** in **iterable**] \n",
    "\n",
    "    - [**expression** for **variable** in **iterable** if **condition**] \n",
    "    \n",
    "- It sounds like \n",
    "\n",
    "```\n",
    "    - [output expression for item in iterable]\n",
    "    - [output expression for item in iterable if condition]\n",
    "```\n",
    "\n",
    "- The `if` **condition** part is optional, the statement and the condition can use variable.\n",
    "\n",
    "### Three kinds of Comprehensions\n",
    "There are three different kind of comprehensions in Python\n",
    "\n",
    "- list comprehensions, \n",
    "- set comprehensions and \n",
    "- dictionary comprehensions"
   ]
  },
  {
   "cell_type": "markdown",
   "metadata": {},
   "source": [
    "## 1. Loops and Comprehensions \n",
    "\n",
    "The list comprehensions are more efficient both computationally and in terms of coding space and time than a for loop. \n",
    "Typically, they are written in a single line of code."
   ]
  },
  {
   "cell_type": "markdown",
   "metadata": {},
   "source": [
    "### Example 1\n",
    "\n",
    "#### Using hand-coding \n",
    "\n",
    "Create a list from 0 to 9 by hand-coding. "
   ]
  },
  {
   "cell_type": "code",
   "execution_count": null,
   "metadata": {},
   "outputs": [],
   "source": [
    "numbers = [0, 1, 2, 3, 4, 5, 6, 7, 8, 9]"
   ]
  },
  {
   "cell_type": "markdown",
   "metadata": {},
   "source": [
    "#### Using for loop\n",
    "Creat a list from 0 to 9 using a for loop"
   ]
  },
  {
   "cell_type": "code",
   "execution_count": 1,
   "metadata": {},
   "outputs": [
    {
     "data": {
      "text/plain": [
       "[0, 1, 2, 3, 4, 5, 6, 7, 8, 9]"
      ]
     },
     "execution_count": 1,
     "metadata": {},
     "output_type": "execute_result"
    }
   ],
   "source": [
    "numbers = []\n",
    "for number in range(10):\n",
    "    numbers.append(number)\n",
    "    \n",
    "numbers"
   ]
  },
  {
   "cell_type": "markdown",
   "metadata": {},
   "source": [
    "#### Using List comprehension\n",
    "\n",
    "<img src=\"https://github.com/idebtor/KMOOC-ML/blob/master/ipynb/images/list_comprehension.png?raw=true\" width=\"600\">\n",
    "<center>그림 1: 리스트 컴프리헨션</center>\n"
   ]
  },
  {
   "cell_type": "code",
   "execution_count": 2,
   "metadata": {},
   "outputs": [
    {
     "data": {
      "text/plain": [
       "[0, 1, 2, 3, 4, 5, 6, 7, 8, 9]"
      ]
     },
     "execution_count": 2,
     "metadata": {},
     "output_type": "execute_result"
    }
   ],
   "source": [
    "numbers = [   number for number in range(10)]\n",
    "numbers"
   ]
  },
  {
   "cell_type": "markdown",
   "metadata": {},
   "source": [
    "### Example 2\n",
    "\n",
    "Generate numbers squared from 1 to 10 using a list comprehension as shown below\n",
    "```\n",
    "[1, 4, 9, 16, 25, 36, 49, 64, 81, 100]\n",
    "```\n",
    "\n",
    "#### Using a for loop"
   ]
  },
  {
   "cell_type": "code",
   "execution_count": 4,
   "metadata": {},
   "outputs": [
    {
     "name": "stdout",
     "output_type": "stream",
     "text": [
      "[1, 4, 9, 16, 25, 36, 49, 64, 81, 100]\n"
     ]
    }
   ],
   "source": [
    "squares = []\n",
    "for i in range(1, 11):\n",
    "    squares.append(i * i)\n",
    "print(squares)"
   ]
  },
  {
   "cell_type": "markdown",
   "metadata": {},
   "source": [
    "#### Using list comprehension"
   ]
  },
  {
   "cell_type": "code",
   "execution_count": 8,
   "metadata": {},
   "outputs": [
    {
     "data": {
      "text/plain": [
       "[1, 4, 9, 16, 25, 36, 49, 64, 81, 100]"
      ]
     },
     "execution_count": 8,
     "metadata": {},
     "output_type": "execute_result"
    }
   ],
   "source": [
    "numbers = [x * x for x in range(1, 11)]\n",
    "numbers"
   ]
  },
  {
   "cell_type": "markdown",
   "metadata": {},
   "source": [
    "### Example 3\n",
    "\n",
    "Generate odd numbers squared from 1 to 10 using a list comprehension as shown below\n",
    "```\n",
    "[1, 9, 25, 49, 81]\n",
    "```\n",
    "\n",
    "\n",
    "#### Using a for loop \n",
    "- With using a conditional statement `if`\n",
    "- Without using a conditional statement `if`, but utilizing the step in range()"
   ]
  },
  {
   "cell_type": "code",
   "execution_count": 10,
   "metadata": {},
   "outputs": [
    {
     "name": "stdout",
     "output_type": "stream",
     "text": [
      "[1, 9, 25, 49, 81]\n"
     ]
    }
   ],
   "source": [
    "# using for loop and a conditional statement `if`\n",
    "squares = []\n",
    "for i in range(1, 10):\n",
    "    if i % 2 == 1:\n",
    "        squares.append(i * i)\n",
    "    else:\n",
    "        squares.append(i * i * i)\n",
    "print(squares)"
   ]
  },
  {
   "cell_type": "code",
   "execution_count": 11,
   "metadata": {},
   "outputs": [
    {
     "name": "stdout",
     "output_type": "stream",
     "text": [
      "[1, 9, 25, 49, 81]\n"
     ]
    }
   ],
   "source": [
    "# using for loop without a conditional statement `if`, but utilizing the step in range()\n",
    "squares = []\n",
    "for i in range(1, 10, 2):\n",
    "    squares.append(i * i)\n",
    "print(squares)"
   ]
  },
  {
   "cell_type": "markdown",
   "metadata": {},
   "source": [
    "#### Using list comprehension\n",
    "\n",
    "We can also create more advanced list comprehensions which include __a conditional statement__ on the iterable. "
   ]
  },
  {
   "cell_type": "code",
   "execution_count": 13,
   "metadata": {},
   "outputs": [
    {
     "name": "stdout",
     "output_type": "stream",
     "text": [
      "[1, 9, 25, 49, 81]\n"
     ]
    }
   ],
   "source": [
    "# list comprehension without if, but use the step in range()\n",
    "squares = [ i * i  for i in range(1, 10) if i % 2 == 1]\n",
    "print(squares)"
   ]
  },
  {
   "cell_type": "code",
   "execution_count": 14,
   "metadata": {},
   "outputs": [
    {
     "name": "stdout",
     "output_type": "stream",
     "text": [
      "[1, 9, 25, 49, 81]\n"
     ]
    }
   ],
   "source": [
    "# list comprehension with if \n",
    "squares = [ i * i  for i in range(1, 10, 2)]\n",
    "print(squares)"
   ]
  },
  {
   "cell_type": "markdown",
   "metadata": {},
   "source": [
    "### Example 4\n",
    "\n",
    "Using a list comprehension, create a list of the square roots of odd numbers between 1 and 20:"
   ]
  },
  {
   "cell_type": "code",
   "execution_count": null,
   "metadata": {},
   "outputs": [],
   "source": [
    "numbers = None\n",
    "numbers"
   ]
  },
  {
   "cell_type": "markdown",
   "metadata": {},
   "source": [
    "Using a for loop, convert the list comprehension shown above.\n"
   ]
  },
  {
   "cell_type": "code",
   "execution_count": null,
   "metadata": {},
   "outputs": [],
   "source": [
    "numbers = []\n",
    "None   \n",
    "numbers"
   ]
  },
  {
   "cell_type": "markdown",
   "metadata": {},
   "source": [
    "### Example 5\n",
    "\n",
    "Convert a list of temperatures in Celsius into Fahrenheit using \n",
    "\n",
    "- Using a for loop and \n",
    "- Using a list comprehension, \n",
    "\n",
    "You may convert a Celsisus into Fahrenheit using the formula:\n",
    "\n",
    "```f = 1.8 * c + 32```"
   ]
  },
  {
   "cell_type": "code",
   "execution_count": 15,
   "metadata": {},
   "outputs": [
    {
     "name": "stdout",
     "output_type": "stream",
     "text": [
      "[14.0, 32.0, 50.0, 122.0, 212.0, 392.0]\n"
     ]
    }
   ],
   "source": [
    "clist = [-10, 0, 10, 50, 100, 200]\n",
    "flist = []\n",
    "for c in clist:\n",
    "    flist.append(1.8 * c + 32)\n",
    "    \n",
    "print(flist)"
   ]
  },
  {
   "cell_type": "code",
   "execution_count": 16,
   "metadata": {},
   "outputs": [
    {
     "data": {
      "text/plain": [
       "[14.0, 32.0, 50.0, 122.0, 212.0, 392.0]"
      ]
     },
     "execution_count": 16,
     "metadata": {},
     "output_type": "execute_result"
    }
   ],
   "source": [
    "#use list comprehension\n",
    "clist = [-10, 0, 10, 50, 100, 200] \n",
    "flist = [ 1.8 * c + 32 for c in clist ]\n",
    "flist"
   ]
  },
  {
   "cell_type": "markdown",
   "metadata": {},
   "source": [
    "### Example 6: Using nested `if` \n",
    "\n",
    "Find numbers that are divisible by 2 and 3 from 1 to 50.\n",
    "\n",
    "The output we are expecting is\n",
    "```\n",
    "[6, 12, 18, 24, 30, 36, 42, 48]\n",
    "```\n",
    "\n",
    "#### Using logical `and`"
   ]
  },
  {
   "cell_type": "code",
   "execution_count": 19,
   "metadata": {},
   "outputs": [
    {
     "name": "stdout",
     "output_type": "stream",
     "text": [
      "[6, 12, 18, 24, 30, 36, 42, 48]\n"
     ]
    }
   ],
   "source": [
    "num = [ i  for i in range(1, 50) if i % 2 == 0 and i % 3 == 0   ]\n",
    "print(num)"
   ]
  },
  {
   "cell_type": "markdown",
   "metadata": {},
   "source": [
    "#### Using nested `if`"
   ]
  },
  {
   "cell_type": "code",
   "execution_count": 26,
   "metadata": {},
   "outputs": [
    {
     "data": {
      "text/plain": [
       "[6, 12, 18, 24, 30, 36, 42, 48]"
      ]
     },
     "execution_count": 26,
     "metadata": {},
     "output_type": "execute_result"
    }
   ],
   "source": [
    "num = [ i  for i in range(1, 50) if i % 2 == 0 if i % 3 == 0   ]\n",
    "print(num)"
   ]
  },
  {
   "cell_type": "markdown",
   "metadata": {},
   "source": [
    "### Example  7 Using `if ... else` \n",
    "\n",
    "Given a list of scores Convert a list of scores into 'P' and 'F'. It is 'P' if the score is greater than or equal to 70, `F` otherwise.\n",
    "\n",
    "__Scores given:__ `[75, 85, 95, 65, 70]`"
   ]
  },
  {
   "cell_type": "code",
   "execution_count": 23,
   "metadata": {},
   "outputs": [
    {
     "data": {
      "text/plain": [
       "['P', 'P', 'P', 'F', 'P']"
      ]
     },
     "execution_count": 23,
     "metadata": {},
     "output_type": "execute_result"
    }
   ],
   "source": [
    "scores = [75, 85, 95, 65, 70]\n",
    "grades = ['P' if i >= 70 else 'F'  for i in scores ]\n",
    "grades"
   ]
  },
  {
   "cell_type": "markdown",
   "metadata": {},
   "source": [
    "### Example 8\n",
    "\n",
    "Let's suppose we have lists in a list. For example, a matrix is a sort of lists in a list. Sometimes, we want to make lists in a list into a list. This operation is called `flatten`. For example,  The following matrix may be flattened \n",
    "\n",
    "```\n",
    "matrix = [ [1, 2, 3, 4],\n",
    "           [5, 6, 7, 8],\n",
    "           [9, 10, 11, 12]]\n",
    "```\n",
    "into \n",
    "```\n",
    "[1, 2, 3, 4, 5, 6, 7, 8, 9, 10, 11, 12]\n",
    "```\n",
    "\n",
    "Flatten the following matrix by\n",
    "- Using for loops\n",
    "- Using list comprehension."
   ]
  },
  {
   "cell_type": "code",
   "execution_count": 24,
   "metadata": {},
   "outputs": [
    {
     "data": {
      "text/plain": [
       "[1, 2, 3, 4, 5, 6, 7, 8, 9, 10, 11, 12]"
      ]
     },
     "execution_count": 24,
     "metadata": {},
     "output_type": "execute_result"
    }
   ],
   "source": [
    "matrix = [\n",
    "    [1, 2, 3, 4],\n",
    "    [5, 6, 7, 8],\n",
    "    [9, 10, 11, 12],\n",
    "]\n",
    "\n",
    "flattened = []\n",
    "for row in matrix:\n",
    "    for x  in row:\n",
    "        flattened.append(x)\n",
    "        \n",
    "flattened"
   ]
  },
  {
   "cell_type": "markdown",
   "metadata": {},
   "source": [
    "It flattens the list of the list. "
   ]
  },
  {
   "cell_type": "code",
   "execution_count": 26,
   "metadata": {},
   "outputs": [
    {
     "data": {
      "text/plain": [
       "[1, 2, 3, 4, 5, 6, 7, 8, 9, 10, 11, 12]"
      ]
     },
     "execution_count": 26,
     "metadata": {},
     "output_type": "execute_result"
    }
   ],
   "source": [
    "flattened = [ x for row in matrix for x in row ]      # incorrect ->  [n for n in row for row in matrix]\n",
    "flattened"
   ]
  },
  {
   "cell_type": "markdown",
   "metadata": {},
   "source": [
    "## 2. List Comprehension vs loop\n",
    "\n",
    "The list comprehensions are __more efficient__ both computationally and in terms of coding space and time than a `for` loop. Typically, they are written in a single line of code.\n",
    "\n",
    "### Step 1:\n",
    "\n",
    "Let’s square for every item in a list from 1 to 5 such that it produces the following:\n",
    "\n",
    "```[1, 4, 9, 16, 25]```\n",
    "\n",
    "Let's implement this (when N = 5) when  using a for loop. "
   ]
  },
  {
   "cell_type": "code",
   "execution_count": 12,
   "metadata": {},
   "outputs": [
    {
     "name": "stdout",
     "output_type": "stream",
     "text": [
      "[1, 4, 9, 16, 25]\n"
     ]
    }
   ],
   "source": [
    "N = 5\n",
    "result = []\n",
    "for x in range(1, N + 1):\n",
    "    result.append(x * x)\n",
    "    \n",
    "print(result)"
   ]
  },
  {
   "cell_type": "markdown",
   "metadata": {},
   "source": [
    "### Step 2:\n",
    "\n",
    "Let us implement it as a function that returns a list."
   ]
  },
  {
   "cell_type": "code",
   "execution_count": 27,
   "metadata": {},
   "outputs": [],
   "source": [
    "def squares(N):\n",
    "    result = []\n",
    "    for x in range(1, N + 1):\n",
    "        result.append(x * x)\n",
    "    return result"
   ]
  },
  {
   "cell_type": "markdown",
   "metadata": {},
   "source": [
    "### Step 3:\n",
    "\n",
    "Let us implement it as a list comprehension."
   ]
  },
  {
   "cell_type": "code",
   "execution_count": 31,
   "metadata": {},
   "outputs": [],
   "source": [
    "def squares_x(N):\n",
    "    return [ x * x for x in range(1, N + 1) ]"
   ]
  },
  {
   "cell_type": "markdown",
   "metadata": {},
   "source": [
    "### Step 4\n",
    "Let us run two functions 10_000_000 times, respectively and time it."
   ]
  },
  {
   "cell_type": "code",
   "execution_count": 35,
   "metadata": {},
   "outputs": [
    {
     "name": "stdout",
     "output_type": "stream",
     "text": [
      "289 ns ± 46 ns per loop (mean ± std. dev. of 7 runs, 1000000 loops each)\n"
     ]
    }
   ],
   "source": [
    "%%timeit\n",
    "N = 10_000_000\n",
    "squares(N)"
   ]
  },
  {
   "cell_type": "code",
   "execution_count": 36,
   "metadata": {},
   "outputs": [
    {
     "name": "stdout",
     "output_type": "stream",
     "text": [
      "2.02 s ± 71.8 ms per loop (mean ± std. dev. of 7 runs, 1 loop each)\n"
     ]
    }
   ],
   "source": [
    "%%timeit\n",
    "N = 10_000_000\n",
    "squares_x(N)"
   ]
  },
  {
   "cell_type": "code",
   "execution_count": 37,
   "metadata": {},
   "outputs": [
    {
     "name": "stdout",
     "output_type": "stream",
     "text": [
      "0.00027249999993728125\n",
      "1.7053273999999874\n"
     ]
    }
   ],
   "source": [
    "import timeit\n",
    "print(timeit.timeit(\"squares(10_000)\", \"from __main__ import squares\", number = 1000))\n",
    "print(timeit.timeit(\"squares_x(10_000)\", \"from __main__ import squares_x\", number = 1000))"
   ]
  },
  {
   "cell_type": "markdown",
   "metadata": {},
   "source": [
    "## 3. A pythonic way of coding: For-loop vs List comprehension\n",
    "\n",
    "#### A sort of Palindrome \n",
    "\n",
    "A string is said to be __palindrome__ if the reverse of the string is the same as string. For example, “radar”or \"civic\" is a palindrome, \n",
    "\n",
    "Emordnilaps are like __palindromes'__ evil twins. Instead of being the same word, these rare words make a different real word when spelled backward! Reverse the word \"stop\" and it becomes \"pots.\" Flip \"drawer\" and you get \"reward.\" English contains a surprising variety of words that change meanings as soon as you read them right to left.\n",
    "\n",
    "Emordnilap Examples: \n",
    "    - desserts and stressed, \n",
    "    - decaf and faced\n",
    "    - edit and tide\n",
    "    - deeps and speed\n",
    "\n"
   ]
  },
  {
   "cell_type": "code",
   "execution_count": 38,
   "metadata": {},
   "outputs": [],
   "source": [
    "from urllib.request import urlopen \n",
    "#book = urlopen('http://www.gutenberg.org/cache/epub/10/pg10.txt')\n",
    "book = urlopen('http://composingprograms.com/shakespeare.txt')\n",
    "\n",
    "# Make a list words out of the book read from url.\n",
    "wlist = book.read().decode().split()"
   ]
  },
  {
   "cell_type": "code",
   "execution_count": 39,
   "metadata": {},
   "outputs": [
    {
     "data": {
      "text/plain": [
       "980637"
      ]
     },
     "execution_count": 39,
     "metadata": {},
     "output_type": "execute_result"
    }
   ],
   "source": [
    "len(wlist)"
   ]
  },
  {
   "cell_type": "code",
   "execution_count": 40,
   "metadata": {},
   "outputs": [
    {
     "data": {
      "text/plain": [
       "33505"
      ]
     },
     "execution_count": 40,
     "metadata": {},
     "output_type": "execute_result"
    }
   ],
   "source": [
    "## make a list that has a set of unique words.\n",
    "ulist = set(wlist)\n",
    "type(ulist)\n",
    "# then, convert the set back to a list type\n",
    "wlist = list(ulist)\n",
    "len(wlist)"
   ]
  },
  {
   "cell_type": "markdown",
   "metadata": {},
   "source": [
    "\n",
    "#### Finding Emordnilaps"
   ]
  },
  {
   "cell_type": "code",
   "execution_count": 41,
   "metadata": {},
   "outputs": [
    {
     "name": "stdout",
     "output_type": "stream",
     "text": [
      "['madam', 'stink', 'stops', 'sleek', 'level', 'rever', 'redder', 'steel', 'lived', 'diaper', 'sessa', 'asses', 'keels', 'knits', 'minim', 'speed', 'refer', 'leets', 'spots', 'leper', 'repaid', 'devil', 'drawer', 'repel', 'deeps', 'reward']\n"
     ]
    }
   ],
   "source": [
    "alist = [] \n",
    "for w in wlist:\n",
    "    if len(w) >= 5 and w[::-1] in wlist:\n",
    "        alist.append(w)\n",
    "print(alist)"
   ]
  },
  {
   "cell_type": "code",
   "execution_count": 44,
   "metadata": {},
   "outputs": [
    {
     "name": "stdout",
     "output_type": "stream",
     "text": [
      "['asses', 'deeps', 'devil', 'diaper', 'drawer', 'keels', 'knits', 'leets', 'leper', 'level', 'lived', 'madam', 'minim', 'redder', 'refer', 'repaid', 'repel', 'rever', 'reward', 'sessa', 'sleek', 'speed', 'spots', 'steel', 'stink', 'stops']\n"
     ]
    }
   ],
   "source": [
    "alist.sort()\n",
    "print(alist)"
   ]
  },
  {
   "cell_type": "markdown",
   "metadata": {},
   "source": [
    "### a pythonic way - using list comprehension"
   ]
  },
  {
   "cell_type": "code",
   "execution_count": null,
   "metadata": {},
   "outputs": [],
   "source": []
  },
  {
   "cell_type": "markdown",
   "metadata": {},
   "source": [
    "### Palindome\n",
    "- Modify the code above to find all the palindromes in the book."
   ]
  },
  {
   "cell_type": "code",
   "execution_count": 45,
   "metadata": {},
   "outputs": [
    {
     "name": "stdout",
     "output_type": "stream",
     "text": [
      "['madam', 'level', 'rever', 'redder', 'minim', 'refer']\n"
     ]
    }
   ],
   "source": [
    "palindromes = [] \n",
    "for w in wlist:\n",
    "    if len(w) >= 5 and (w == w[::-1]):\n",
    "        palindromes.append(w)\n",
    "print(palindromes)"
   ]
  },
  {
   "cell_type": "code",
   "execution_count": 47,
   "metadata": {},
   "outputs": [
    {
     "data": {
      "text/plain": [
       "['madam', 'level', 'rever', 'redder', 'minim', 'refer']"
      ]
     },
     "execution_count": 47,
     "metadata": {},
     "output_type": "execute_result"
    }
   ],
   "source": [
    "palindromes = [w for w in wlist if len(w) >= 5 and (w == w[::-1])]\n",
    "palindromes"
   ]
  },
  {
   "cell_type": "markdown",
   "metadata": {},
   "source": [
    "## 4. Tuple\n",
    "\n",
    "A __tuple__ is an __immutable__ sequence type. One of the ways of creating tuple is by using the `tuple()` construct."
   ]
  },
  {
   "cell_type": "code",
   "execution_count": 48,
   "metadata": {},
   "outputs": [
    {
     "name": "stdout",
     "output_type": "stream",
     "text": [
      "t1 = (2, 8, 1, 9)\n",
      "t2 = ('P', 'y', 't', 'h', 'o', 'n')\n"
     ]
    }
   ],
   "source": [
    "# creating a tuple from a list\n",
    "t1 = tuple([2, 8, 1, 9])\n",
    "print('t1 =', t1)\n",
    "\n",
    "# creating a tuple from a string\n",
    "t2 = tuple('Python')\n",
    "print('t2 =',t2)"
   ]
  },
  {
   "cell_type": "markdown",
   "metadata": {},
   "source": [
    "#### Example 1: Make a list of tuples from two collections or lists.\n",
    "\n",
    "- `zip()` with `n` arguments returns an __iterator__ that generates `tuple`s of length `n`. \n",
    "- `list()` takes iterator as an argument"
   ]
  },
  {
   "cell_type": "code",
   "execution_count": 52,
   "metadata": {},
   "outputs": [
    {
     "name": "stdout",
     "output_type": "stream",
     "text": [
      "apple 2\n",
      "banana 8\n",
      "kiwi 1\n",
      "mango 9\n"
     ]
    }
   ],
   "source": [
    "fruit = ['apple', 'banana', 'kiwi', 'mango']\n",
    "count = [2, 8, 1, 9]\n",
    "for x, c in zip(fruit, count):\n",
    "    print(x, c)"
   ]
  },
  {
   "cell_type": "code",
   "execution_count": 53,
   "metadata": {},
   "outputs": [
    {
     "name": "stdout",
     "output_type": "stream",
     "text": [
      "[('apple', 2), ('banana', 8), ('kiwi', 1), ('mango', 9)]\n"
     ]
    }
   ],
   "source": [
    "fruits = list(zip(fruit, count))\n",
    "print(fruits)"
   ]
  },
  {
   "cell_type": "markdown",
   "metadata": {},
   "source": [
    "#### Example 2: Count the number of fruits using list comprehension\n",
    "\n",
    "Hint: `sum([2, 8, 1, 9])` returns 20. "
   ]
  },
  {
   "cell_type": "code",
   "execution_count": 55,
   "metadata": {},
   "outputs": [
    {
     "data": {
      "text/plain": [
       "20"
      ]
     },
     "execution_count": 55,
     "metadata": {},
     "output_type": "execute_result"
    }
   ],
   "source": [
    "sum([ c for x, c in fruits ])"
   ]
  },
  {
   "cell_type": "markdown",
   "metadata": {},
   "source": [
    "## 5. Dictionary\n",
    "\n",
    "Python dictionary is an unordered collection of items. Each item of a dictionary has a key/value pair. Creating a dictionary is as simple as placing items inside curly braces `{ }` separated by commas.\n",
    "\n",
    "An item has a key and a corresponding value that is expressed as a pair or `key: value`. You may use the `dict()` construct. \n",
    "\n",
    "For example: \n",
    "```\n",
    "my_dict = {'apple': 5,'orange': 10}\n",
    "ur_dict = dict([('apple', 2), ('banana', 3), ('kiwi', 1), ('mango', 5)])\n",
    "```"
   ]
  },
  {
   "cell_type": "markdown",
   "metadata": {},
   "source": [
    "#### Example 1: construct a dictionary from the tuple we used above.\n",
    "\n"
   ]
  },
  {
   "cell_type": "code",
   "execution_count": 57,
   "metadata": {},
   "outputs": [
    {
     "name": "stdout",
     "output_type": "stream",
     "text": [
      "{'apple': 2, 'banana': 3, 'kiwi': 1, 'mango': 5}\n"
     ]
    }
   ],
   "source": [
    "ur_dict = dict([('apple', 2), ('banana', 3), ('kiwi', 1), ('mango', 5)])\n",
    "print(ur_dict)"
   ]
  },
  {
   "cell_type": "markdown",
   "metadata": {},
   "source": [
    "#### Example 2: List all keys"
   ]
  },
  {
   "cell_type": "code",
   "execution_count": 59,
   "metadata": {},
   "outputs": [
    {
     "data": {
      "text/plain": [
       "dict_keys(['apple', 'banana', 'kiwi', 'mango'])"
      ]
     },
     "execution_count": 59,
     "metadata": {},
     "output_type": "execute_result"
    }
   ],
   "source": [
    "ur_dict.keys()\n"
   ]
  },
  {
   "cell_type": "markdown",
   "metadata": {},
   "source": [
    "#### Example 3: List all values and its sum"
   ]
  },
  {
   "cell_type": "code",
   "execution_count": 61,
   "metadata": {},
   "outputs": [
    {
     "data": {
      "text/plain": [
       "11"
      ]
     },
     "execution_count": 61,
     "metadata": {},
     "output_type": "execute_result"
    }
   ],
   "source": [
    "sum(ur_dict.values())"
   ]
  },
  {
   "cell_type": "markdown",
   "metadata": {},
   "source": [
    "#### Example 4: List all key:value pairs"
   ]
  },
  {
   "cell_type": "code",
   "execution_count": 62,
   "metadata": {},
   "outputs": [
    {
     "name": "stdout",
     "output_type": "stream",
     "text": [
      "apple: 2\n",
      "banana: 3\n",
      "kiwi: 1\n",
      "mango: 5\n"
     ]
    }
   ],
   "source": [
    "for i, c in ur_dict.items():\n",
    "    print(i, c, sep = ': ')"
   ]
  },
  {
   "cell_type": "markdown",
   "metadata": {},
   "source": [
    "## 6. Dict Comprehension \n",
    "\n",
    "A dictionary is a collection of __key/value pairs__. Python has various methods to work in dictionaries. "
   ]
  },
  {
   "cell_type": "markdown",
   "metadata": {},
   "source": [
    "#### Example 1. Using list comprehension to make a dict from two lists."
   ]
  },
  {
   "cell_type": "code",
   "execution_count": 32,
   "metadata": {},
   "outputs": [],
   "source": [
    "#converting two lists or sets into one dict type object\n",
    "fruit = ['apple', 'banana', 'kiwi', 'mango']\n",
    "count = [2, 8, 1, 9]"
   ]
  },
  {
   "cell_type": "code",
   "execution_count": 63,
   "metadata": {},
   "outputs": [
    {
     "name": "stdout",
     "output_type": "stream",
     "text": [
      "{'apple': 2, 'banana': 8, 'kiwi': 1, 'mango': 9}\n"
     ]
    }
   ],
   "source": [
    "store = dict(zip(fruit, count))\n",
    "print(store)"
   ]
  },
  {
   "cell_type": "markdown",
   "metadata": {},
   "source": [
    "#### Example 2. Using list comprehension to make a list of tuple from a dict"
   ]
  },
  {
   "cell_type": "code",
   "execution_count": 69,
   "metadata": {},
   "outputs": [
    {
     "name": "stdout",
     "output_type": "stream",
     "text": [
      "{'apple': 2, 'banana': 8, 'kiwi': 1, 'mango': 9}\n",
      "(('apple', 2), ('banana', 8), ('kiwi', 1), ('mango', 9))\n"
     ]
    }
   ],
   "source": [
    "# converting tuple list to a dictionary\n",
    "print(store)\n",
    "tuple_store = tuple( [ (i, c) for i, c in store.items() ] )\n",
    "print(tuple_store)"
   ]
  },
  {
   "cell_type": "markdown",
   "metadata": {},
   "source": [
    "#### Example 3. Create the following dict type data set.\n",
    "\n",
    "```\n",
    "data = {'a': 1, 'b': 2, 'c': 3, ..., 'x': 24, 'y': 25, 'z': 26}\n",
    "```\n",
    "\n",
    "\n",
    "- You may import the sequence of ASCII lowercase as shown below:\n",
    "\n",
    "\n",
    "```\n",
    "from string import ascii_lowercase as lowers\n",
    "```"
   ]
  },
  {
   "cell_type": "markdown",
   "metadata": {},
   "source": [
    "#### Solution 1: Using dict() function and zip()."
   ]
  },
  {
   "cell_type": "code",
   "execution_count": 74,
   "metadata": {},
   "outputs": [
    {
     "name": "stdout",
     "output_type": "stream",
     "text": [
      "{'a': 1, 'b': 2, 'c': 3, 'd': 4, 'e': 5, 'f': 6, 'g': 7, 'h': 8, 'i': 9, 'j': 10, 'k': 11, 'l': 12, 'm': 13, 'n': 14, 'o': 15, 'p': 16, 'q': 17, 'r': 18, 's': 19, 't': 20, 'u': 21, 'v': 22, 'w': 23, 'x': 24, 'y': 25, 'z': 26}\n"
     ]
    }
   ],
   "source": [
    "from string import ascii_lowercase as lowers\n",
    "\n",
    "data = dict( zip( lowers, range(1, len(lowers) + 1))  )\n",
    "print(data)"
   ]
  },
  {
   "cell_type": "markdown",
   "metadata": {},
   "source": [
    "#### Solution 2: Using dict comprehension\n"
   ]
  },
  {
   "cell_type": "code",
   "execution_count": 75,
   "metadata": {},
   "outputs": [
    {
     "ename": "NameError",
     "evalue": "name 'lower' is not defined",
     "output_type": "error",
     "traceback": [
      "\u001b[1;31m---------------------------------------------------------------------------\u001b[0m",
      "\u001b[1;31mNameError\u001b[0m                                 Traceback (most recent call last)",
      "\u001b[1;32m<ipython-input-75-867e7c858a04>\u001b[0m in \u001b[0;36m<module>\u001b[1;34m\u001b[0m\n\u001b[1;32m----> 1\u001b[1;33m \u001b[0mdata\u001b[0m \u001b[1;33m=\u001b[0m \u001b[1;33m{\u001b[0m \u001b[0mch\u001b[0m\u001b[1;33m:\u001b[0m \u001b[0mnum\u001b[0m \u001b[1;32mfor\u001b[0m \u001b[0mch\u001b[0m\u001b[1;33m,\u001b[0m \u001b[0mnum\u001b[0m \u001b[1;32min\u001b[0m \u001b[0mzip\u001b[0m\u001b[1;33m(\u001b[0m\u001b[0mlower\u001b[0m\u001b[1;33m,\u001b[0m \u001b[0mrange\u001b[0m\u001b[1;33m(\u001b[0m\u001b[1;36m1\u001b[0m\u001b[1;33m,\u001b[0m \u001b[1;36m27\u001b[0m\u001b[1;33m)\u001b[0m\u001b[1;33m)\u001b[0m\u001b[1;33m}\u001b[0m\u001b[1;33m\u001b[0m\u001b[1;33m\u001b[0m\u001b[0m\n\u001b[0m\u001b[0;32m      2\u001b[0m \u001b[0mprint\u001b[0m\u001b[1;33m(\u001b[0m\u001b[0mdata\u001b[0m\u001b[1;33m)\u001b[0m\u001b[1;33m\u001b[0m\u001b[1;33m\u001b[0m\u001b[0m\n",
      "\u001b[1;31mNameError\u001b[0m: name 'lower' is not defined"
     ]
    }
   ],
   "source": [
    "data = { ch: num for ch, num in zip(lower, range(1, 27))}\n",
    "print(data)"
   ]
  },
  {
   "cell_type": "markdown",
   "metadata": {},
   "source": [
    "## Exercises [모인활 숙제]\n",
    "\n",
    "### 1.  Find colors\n",
    "\n",
    "Given a list of colors, create a list of colors of which the length is greater than 5.  \n",
    "    - Use a for loop\n",
    "    - Use a list comprehension.\n",
    "    \n",
    "#### Using for-loop"
   ]
  },
  {
   "cell_type": "code",
   "execution_count": null,
   "metadata": {},
   "outputs": [],
   "source": [
    "# Use a for loop\n",
    "rainbow = ['red', 'orange', 'yellow', 'green', 'blue', 'indigo', 'violet']\n",
    "colors = []\n",
    "\n",
    "\n",
    "print(colors)"
   ]
  },
  {
   "cell_type": "markdown",
   "metadata": {},
   "source": [
    "#### Using list comprehension"
   ]
  },
  {
   "cell_type": "code",
   "execution_count": null,
   "metadata": {},
   "outputs": [],
   "source": [
    "# Use a list comprehension.\n",
    "\n",
    "rainbow = ['red', 'orange', 'yellow', 'green', 'blue', 'indigo', 'violet']\n",
    "colors = None\n",
    "print(colors)"
   ]
  },
  {
   "cell_type": "markdown",
   "metadata": {},
   "source": [
    "### 2. Grading\n",
    "Given a list of grades, count how many are above the average.\n",
    "\n",
    "1. Get an average\n",
    "2. Get a list of grades above the average using a for loop\n",
    "3. Get the number of grades above the average \n",
    "\n",
    "The output expected:\n",
    "```\n",
    "17 grades are above the average 73.74074074074075\n",
    "[88, 76, 78, 87, 100, 77, 89, 92, 87, 88, 95, 99, 76, 87, 98, 87, 89]\n",
    "```\n",
    "\n",
    "#### Using for loop:"
   ]
  },
  {
   "cell_type": "code",
   "execution_count": null,
   "metadata": {},
   "outputs": [],
   "source": [
    "grades = [88,67,45,67,76,78,53,87,12,100,77,89,92,53,55,45,87,88,95,99,76,87,56,45,98,87,89]\n",
    "avg = None\n",
    "alist = []\n",
    "\n",
    "\n",
    "        \n",
    "        \n",
    "print(len(alist), \"grades are above the average\", avg)\n",
    "print(alist)"
   ]
  },
  {
   "cell_type": "markdown",
   "metadata": {},
   "source": [
    "#### Using list comprehension"
   ]
  },
  {
   "cell_type": "code",
   "execution_count": null,
   "metadata": {},
   "outputs": [],
   "source": [
    "avg = None\n",
    "alist = None\n",
    "        \n",
    "print(len(alist), \"grades are above the average\", avg)\n",
    "print(alist)"
   ]
  },
  {
   "cell_type": "markdown",
   "metadata": {},
   "source": [
    "### 3. Pythagorean triplet 1\n",
    "\n",
    "A Pythagorean triplet is a set of three positive integers a, b and c such that $a^2 + b^2 = c^2$. Given a limit, generate all Pythagorean Triples with values smaller than given limit n. Assume that a < b < c.\n",
    "\n",
    "피타고라스 정리(Pythagorean theorem)는 직각 삼각형의 빗변의 제곱이 두 직각변의 제곱의 합과 같다라는 것입니다.  삼각형 세 변의 길이가 각각 a, b, c 이며, a < b < c 라고 가정한다면, $a^2 + b^2 = c^2$ 를 만족합니다. 피타고라스 정리의 조건을 만족하는 n 보다 작은 정수 a, b, c를 요소로 하는 list를 출력하십시오. \n",
    "\n",
    "If n is 10, the following output is expected:\n",
    "\n",
    "```\n",
    "3, 4, 5\n",
    "6, 8, 10\n",
    "```\n",
    "\n",
    "If n is 20, the following output is expected:\n",
    "```\n",
    "3, 4, 5\n",
    "5, 12, 13\n",
    "6, 8, 10\n",
    "8, 15, 17\n",
    "9, 12, 15\n",
    "12, 16, 20\n",
    "```\n",
    "\n",
    "__Hints and Tips__: You may use `sep` option duing print(). "
   ]
  },
  {
   "cell_type": "code",
   "execution_count": null,
   "metadata": {
    "scrolled": true
   },
   "outputs": [],
   "source": [
    "n = 11\n",
    "for a in range(1, n):\n",
    "    for b in None:\n",
    "        for c in None:\n",
    "            if None:\n",
    "                None"
   ]
  },
  {
   "cell_type": "markdown",
   "metadata": {},
   "source": [
    "### 4. Pythagorean triplet 2\n",
    "Write a function, `pythagorean(n)`, that returns a list of Pythagorean triplet lists. \n",
    "\n",
    "If n is 20, the following output is expected:\n",
    "\n",
    "```\n",
    "[[3, 4, 5], [5, 12, 13], [6, 8, 10], [8, 15, 17], [9, 12, 15], [12, 16, 20]]\n",
    "```"
   ]
  },
  {
   "cell_type": "code",
   "execution_count": null,
   "metadata": {},
   "outputs": [],
   "source": [
    "def pythagorean(n):\n",
    "    None\n",
    "    for a in None\n",
    "        for b in None\n",
    "            for c in None\n",
    "                if None\n",
    "                    None\n",
    "    return None\n",
    "\n",
    "n = 20\n",
    "pythagorean(n) "
   ]
  },
  {
   "cell_type": "markdown",
   "metadata": {},
   "source": [
    "### 5. Pythagorean triplet 3\n",
    "Write a function, `pythagorean(n)`, that returns a list of Pythagorean triplet tuples. The __tuple__ data type in Python just works like a __list__ but it is immutable.\n",
    "\n",
    "If n is 20, the following output is expected:\n",
    "\n",
    "```\n",
    "[(3, 4, 5), (5, 12, 13), (6, 8, 10), (8, 15, 17), (9, 12, 15), (12, 16, 20)]\n",
    "```"
   ]
  },
  {
   "cell_type": "code",
   "execution_count": null,
   "metadata": {},
   "outputs": [],
   "source": [
    "def pythagorean(n):\n",
    "    None\n",
    "    for a in None\n",
    "        for b in None\n",
    "            for c in None\n",
    "                if None\n",
    "                    None\n",
    "    return None\n",
    "\n",
    "n = 20\n",
    "pythagorean(n) "
   ]
  },
  {
   "cell_type": "markdown",
   "metadata": {},
   "source": [
    "### 6. Pythagorean triplet 4\n",
    "Using a list comprehension, implement `pythagorean(n)`, that returns a list of Pythagorean triplet tuples. "
   ]
  },
  {
   "cell_type": "code",
   "execution_count": null,
   "metadata": {},
   "outputs": [],
   "source": [
    "def pythagorean(n):\n",
    "    return [None]\n",
    "\n",
    "n = 20\n",
    "pythagorean(n) "
   ]
  },
  {
   "cell_type": "markdown",
   "metadata": {},
   "source": [
    "### Reference for Pythagorean triplet\n",
    "\n",
    "There are some useful discussions to make this function faster. \n",
    "\n",
    "- https://stackoverflow.com/questions/575117/generating-unique-ordered-pythagorean-triplets\n",
    "\n",
    "- https://www.geeksforgeeks.org/generate-pythagorean-triplets/"
   ]
  },
  {
   "cell_type": "markdown",
   "metadata": {},
   "source": [
    "## Key Points to Remember\n",
    "- List comprehension is an elegant way to define and create lists based on existing lists.\n",
    "- List comprehension is generally more compact and faster than normal functions and loops for creating list.\n",
    "- However, we should avoid writing very long list comprehensions in one line to ensure that code is user-friendly.\n",
    "- Remember, every list comprehension can be rewritten in for loop, but every for loop can’t be rewritten in the form of list comprehension."
   ]
  },
  {
   "cell_type": "markdown",
   "metadata": {},
   "source": [
    "--------\n",
    "__슬기로운 자는 재앙을 보면 숨어 피하여도 어리석은 자들은 나가다가 해를 받느니라.__\n",
    "잠언27:12"
   ]
  }
 ],
 "metadata": {
  "kernelspec": {
   "display_name": "Python 3",
   "language": "python",
   "name": "python3"
  },
  "language_info": {
   "codemirror_mode": {
    "name": "ipython",
    "version": 3
   },
   "file_extension": ".py",
   "mimetype": "text/x-python",
   "name": "python",
   "nbconvert_exporter": "python",
   "pygments_lexer": "ipython3",
   "version": "3.7.7"
  }
 },
 "nbformat": 4,
 "nbformat_minor": 1
}
