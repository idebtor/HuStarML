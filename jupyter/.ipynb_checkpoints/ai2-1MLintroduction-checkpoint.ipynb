{
 "cells": [
  {
   "cell_type": "markdown",
   "metadata": {},
   "source": [
    "The fear of the LORD is the beginning of knowledge, but fools despise wisdom and discipline. Proverbs 1:7\n",
    "\n",
    "-------\n",
    "\n",
    "# Welcome to \"AI for All\"\n",
    "\n",
    "Lecture Notes by idebtor@gmail.com, Handong Global University"
   ]
  },
  {
   "cell_type": "markdown",
   "metadata": {},
   "source": [
    "\n",
    "# Chapter 2. 기계학습(머신러닝) 소개\n",
    "\n",
    "기계학습 (Machine Learning) - 기계가 학습한다는 말은 무엇을 의미합니까? 믿거나 말거나 이 개념은 컴퓨터가 처음 만들어졌을 때부터 시작된 이야기이니까 이미 6~70년전에 과학자들이 생각해왔던 것입니다. \n",
    "\n",
    "\n",
    "1959년 아더 사무엘 𝐴𝑟𝑡ℎ𝑢𝑟 𝑆𝑎𝑚𝑢𝑒𝑙 은 기계 학습을 \"컴퓨터가 배울 수 있는 능력, 즉 __프로그램으로 정의하지 않아도,__ 컴퓨터가 스스로 학습하여 실행할 수 있는 능력에 대한 연구분야( \"Field of Study that gives computers the ability to learn without being explicitly programmed\")라고 정의했습니다. 앞으로 기계학습을 통해 무엇을 더 잘 할 수 있을지는 우리의 상상력에 달려 있을 것입니다.\n",
    "\n",
    "기계학습과 더불어 인공지능과 딥러닝이란 말을 많이 듣는데, 이 용어도 우리가 정리해둘 필요가 있습니다. 기계학습은 인공 지능 𝐴𝑟𝑡𝑖𝑓𝑖𝑐𝑖𝑎𝑙 𝐼𝑛𝑡𝑒𝑙𝑙𝑖𝑔𝑒𝑛𝑐𝑒 의 한 분야이며, 데이터를 이용하여 학습시키는 방법론입니다.\n",
    "심화학습(혹은 심층학습, Deep Learning)은 다층적인 인공신경망 𝐴𝑁𝑁  알고리즘을 이용한 기계학습의 한 분야입니다.\n",
    "다음과 같이 도식화할 수 있습니다."
   ]
  },
  {
   "cell_type": "markdown",
   "metadata": {},
   "source": [
    "<img src=\"https://github.com/idebtor/KMOOC-ML/blob/master/ipynb/images/AI_ML_DL_diagram.png?raw=true\" width=\"300\">\n",
    "<center>그림 1: 딥러닝, 기계학습, 인공지능 다이어그램</center>"
   ]
  },
  {
   "cell_type": "markdown",
   "metadata": {},
   "source": [
    "## 1. 기계학습은 스스로 `__규칙____`을 찾아낸다. \n",
    "\n",
    "기계학습의 핵심은 __학습__입니다. 기계가 학습한다는 것입니다. 우리가 풀 수 있거나 없거나 아무튼 복잡한 문제와 답을 여러 번 알려주면, 기계가 스스로 문제를 어떻게 푸는지 그 규칙을 알아낸다는 것입니다.\"문제를 어떻게 푸는지 알아낸다\"는 것이 학습입니다. 다른 말로, 예제들과 답을 제공하면 기계가 알아서 __규칙__(혹은 __공식__)을 스스로 찾아내고,다른 문제가 들어오면 자신이 예상한 답을 낼 줄 아는 것이 __학습__입니다. \n",
    "\n",
    "프로그래밍이라는 것은 프로그래머가 주어진 문제를 해결하는 __규칙을 알고, 그 규칙을 코딩하여__ 컴퓨터로 하여금 부지런히 코드를 실행하도록 하는 것입니다. 이것이 바로 전통적인 프로그래밍이며, 컴퓨터는 프로그래머가 정한 규칙대로 동작하는 것입니다. 컴퓨터의 실행 결과를 관찰하면서, 원하는 결과를 얻을 수 있을 때까지, 사람이 코딩 즉 규칙을 수정을 하게 됩니다.  \n",
    "\n",
    "반면에, 기계학습은 사람이 만든 프로그램이긴 하지만, 규칙을 스스로 찾아 수정합니다. 바로 여기서 말하는 규칙을 찾아 수정하는 과정을 `__________ 또는 _________ `이라고 부릅니다. "
   ]
  },
  {
   "cell_type": "markdown",
   "metadata": {},
   "source": [
    "기계학습은 새로운 프로그래밍 패러다임의 장을 열었습니다. 전통적인 프로그래밍 패러다임에서는 규칙(코드)과 이 규칙에 따라 처리될 데이터를 입력하면 답이 출력이 됩니다. 기계학습에서는 데이터와 이 데이터로부터 기대되는 답을 입력하면 `______`이 출력됩니다. 이 규칙에 새로운 데이터를 적용하면 새로운 답을 출력하는 방식이 바로 기계학습니다. "
   ]
  },
  {
   "cell_type": "markdown",
   "metadata": {},
   "source": [
    "<img src=\"https://github.com/idebtor/KMOOC-ML/blob/master/ipynb/images/machine_learning1.png?raw=true\" width=\"300\">\n",
    "<center>그림 2: 전통적인 프로그래밍과 새로운 프로그래밍 패러다임</center>"
   ]
  },
  {
   "cell_type": "markdown",
   "metadata": {},
   "source": [
    "## 2. 기계학습의 학습 방식들\n",
    "\n",
    "기계학습은 학습의 방식에 따라 다음과 같이 세 가지로 분류합니다. \n",
    "1. 지도학습(supervised learning), \n",
    "1. 비지도학습(unsupervised learning), \n",
    "1. 강화학습(reinforcement learning)\n",
    "\n",
    "본 과정에서 우리는 기계학습의 많은 부분을 차지하고 있는 supervised learning을 중심으로 공부할 예정입니다. "
   ]
  },
  {
   "cell_type": "markdown",
   "metadata": {},
   "source": [
    "### 2.1 지도학습은 `_______`과 `________`으로 모델을 훈련한다. \n",
    "\n",
    "만약 전 날의 습도에 따라 다음 날에 비가 왔는지 안 왔는지 꾸준히 기록했다면, 오늘의 습도만 알아도 그 다음 날 비가 올지 안 올지 예측할 수 있을 것입니다. 이러한 데이터를 가지고 기계는 \"습도가 0.6 이상이면 다음 날에 비가 온다\"는 __규칙__을 도출해낼 수 있습니다. \n",
    "\n",
    "또 다른 예로, 사람들의 운전 면허 공부 시간에 따른 면허 시험 합력 여부에 대한  기록 즉 통계가 있다면 이러한 데이터를 바탕으로 모델을 훈련시켜서 \"4.5시간 이상 공부하면 운전면허 시험을 합격한다\"라고 규칙을 얻을 수 있습니다. \n",
    "\n",
    "이것이 __지도학습__에 속합니다. 훈련을 시작하기 위하여 필요한 데이터 중에서 정답에 해당하는 데이터는 타깃(target) 혹은 레이블(label)이라고 부릅니다. "
   ]
  },
  {
   "cell_type": "markdown",
   "metadata": {},
   "source": [
    "<img src=\"https://github.com/idebtor/KMOOC-ML/blob/master/ipynb/images/machine_learning2.png?raw=true\" width=\"300\">\n",
    "<center>그림 3: 지도 학습 방법</center>"
   ]
  },
  {
   "cell_type": "markdown",
   "metadata": {},
   "source": [
    "위 그림에서 모델을 훈련시키기 위해 사용하는 데이터를 \"훈련 데이터\"라고 부릅니다. 훈련 데이터는 입력(input)과 레이블(label or target, 정답)으로 구성되어 있습니다. 입력은 모델이 풀어야 할 일종의 문제와 같은 것이며, 레이블은 모델이 맞추어야 할 정답과 같은 것입니다. 문제에 대한 답을 주는 방법으로 모델을 훈련시키는 것입니다. 학습을 통해 만들어진 규칙(프로그램)은 __모델(model)__이라고 하는데, 훈련의 결과로 만들어진 모델은 새로운 입력에 대한 예측을 출력할 수 있습니다.  "
   ]
  },
  {
   "cell_type": "markdown",
   "metadata": {},
   "source": [
    "<img src=\"https://github.com/idebtor/KMOOC-ML/blob/master/ipynb/images/machine_learning3.png?raw=true\" width=\"300\">\n",
    "<center>그림 4: 기계학습 모델의 활용</center>"
   ]
  },
  {
   "cell_type": "markdown",
   "metadata": {},
   "source": [
    "훈련으로 통하여 모델을 완성한 후에는 실전에서 새로운 입력에 대한 예측을 할 수 있습니다. 예를 들면, 습도로 내일 비가에 대한 예보를 할 수 있고, 공부한 시간에 따른 합격 여부를 판단할 수 있습니다. 그런데, 사실상 이러한 종류의 지도학습에서 가장 어려운 일은 모델을 훈련 시키는 일이 아니라 훈련 데이터셋을 만드는 일입니다. "
   ]
  },
  {
   "cell_type": "markdown",
   "metadata": {},
   "source": [
    "### 2.2 비지도학습은 `_________`이 없는 데이터를 사용한다.\n",
    "\n",
    "__레이블(label or target)__이 없는 훈련 데이터셋을 사용하면 비지도학습이라고 말합니다. 신용카드회사에서 카드 고객들의 소비 성형에 따라 그룹을 지정하는 상황을 생각하면 비지도학습의 개념을 쉽게 이해할 수 있을 것입니다. 그룹을 만들기 전까지는 어떤 그룹이 존재하는지 또 몇 개의 그룹으로 만들어야 좋을지 알 수가 없습니다. 비지도학습의 종요한 특징은 레이블(타깃)이 없다는 것입니다. 카드 소유자의 소비 패턴이 얼마나 다양할지 상상하기 어려울 것이며, 레이블이 없으니, 모델의 훈련 결과를 평가하기도 어려울 것입니다. \n",
    "\n",
    "또 다른 예를 들면, 다음과 같이 레이블이 없이 주여진 자료(검은 색)에 대해 스스로 학습하여 자료들을 여러 개의 군집을 유추해내는 학습방법도 비지도학습이라고 합니다. "
   ]
  },
  {
   "cell_type": "markdown",
   "metadata": {},
   "source": [
    "<img src=\"https://github.com/idebtor/KMOOC-ML/blob/master/ipynb/images/Kmeans_animation_withoutWatermark.gif?raw=true\" width=\"200\">\n",
    "<center>그림 5: 비지도학습-군집화 </center>\n",
    "<center> 출처: https://ko.wikipedia.org/wiki/K-평균_알고리즘</center>"
   ]
  },
  {
   "cell_type": "markdown",
   "metadata": {},
   "source": [
    "이러한 군집화(Clustering)은 추천 시스템, 타켓 마케팅, 고객 세분화에 활용되고 있습니다. 비지도 학습 중에 대표적인 \"차원 감소\"는 빅데이터 시각화(feature elicitation), 특성 추출, 구조 탐색(structure discovery), 압축(meaningful compression)에 활용 됩니다. "
   ]
  },
  {
   "cell_type": "markdown",
   "metadata": {},
   "source": [
    "### 2.3 강화학습은 주어진 환경으로부터 피드백을 받아 훈련한다. \n",
    "\n",
    "주어진 환경$^{state}$에서 어떤 행동$^{action}$을 할 때 얻는 보상$^{reward}$을 극대화함으로 학습하는 방법입니다. 강화학습에서는 지도학습과 달리 훈련 데이터셋이 제공되지 않으며, 보상이 주어집니다.  행동을 하는 주체$^{agent}$는 환경을 관찰하고, 이를 기반으로 의사결정을 내려 행동합니다.  이때 환경이 변화하면서 행동의 주체가 어떤 보상을 받습니다. 이를 기반으로 행동의 주체는 더 많은 보상을 얻을 수 있는 방향으로 행동을 학습하게 됩니다. \n"
   ]
  },
  {
   "cell_type": "markdown",
   "metadata": {},
   "source": [
    "<img src=\"https://github.com/idebtor/KMOOC-ML/blob/master/ipynb/images/reinforcementlearning.png?raw=true\"  width=\"400\">\n",
    "<center>그림 6: 강화학습 </center>"
   ]
  },
  {
   "cell_type": "markdown",
   "metadata": {},
   "source": [
    "예를 들면, 행동의 주체를 \"강아지\" 그리고, 환경을 \"먹이 기계\"가 있다고 가정합시다.  강아지는 먹이 기계에서 냄새가 난다는 것을 알게 됩니다. 그러나 어떻게 먹어야 하는지는 모릅니다. 강아지는 기계에 대해 다양한 행동을 시도하다가 어떤 버튼을 눌러 먹이가 조금 나오는 것을 발견하고, 여러 버튼들 중에서 어떤 것을 누르면 물을 마실 수 있게 됩니다.  강아지가 자신의 어떤 행동에 대해 보상을 받게 된 것입니다.  강아지가 자기 행동에 대한 보상을 받으면서 학습하고, 자기가 해야 할 최선을 행동(정책)을 찾아가는 학습 방법이 강화학습입니다. \n",
    "\n",
    "강화학습의 대표적인 예로 2017년에 이세돌 프로 바둑기사와 대국을 펼친 알파고가 있습니다. 체스는 이미 지난 1997년 인간이 컴퓨터에 정복당한 영역 중 하나이지만, 바둑은 복잡성으로 인해 아직까지 정복되지 않고 있는 분야였습니다. 바둑 경기의 경우의 수는 10의 170 제곱에 이릅니다. 이를 숫자로 풀면 우주에 있는 원자의 수보다 더 큰 숫자이지요. 체스와 비교해서도 경우의 수가 10의 100제곱 이상 많은 것이기도 합니다. 알파고는 강화학습을 통해 좋은 수를 두었을 때 그에 대한 보상을 받으면서 학습하여, 자신이 어떤 수를 두어야 하는지 스스로 판단했습니다. </span>\n",
    "\n",
    "강화학습의 또 다른 예로, 영국의 딥마인드$^{Deep \\ Mind}$라는 벤처 회사가 벽돌부수기(아타리 2600 비디오)게임을 강화학습으로 학습하는 과정을 2014년에 발표하였습니다. 컴퓨터에 주어진 입력 정보는 점수와 픽셀 디스플레이뿐이었다고 합니다. 게임의 규칙도 모른 채 게임을 시작했습니다. 컴퓨터가 처음에는 무엇을 하는지 잘 몰랐지만, 벽돌을 깰 때마다 점수$^{reward}$를 주는 방식으로 학습 과정을 거치며, 일정한 시간이 지난 후에는 점점 실력이 좋아지고, 6시간 후에 굉장한 속도로 벽돌을 깨는 것을 [볼 수 있습니다](https://www.youtube.com/watch?v=V1eYniJ0Rnk). 이러한 과정이 논문으로 네이처(2015년 2월, https://www.nature.com/articles/nature14236)에 실렸습니다. \n",
    "\n",
    "그 즈음에 딥마인드는 구글의 한 회사가 됩니다. 그리고 2년 후, 딥마인드는 알파고를 만들어서 이세돌 기사와 대국을 하여 4:1로 이기는 일이 일어난 것입니다. 딥마인드 알파고가 최근에 은퇴를 했다는 소식을 들었습니다\n",
    "\n",
    "강화학습은 능력 습득, 로봇 항법, 실시간 결정, 게임에 많이 사용됩니다. "
   ]
  },
  {
   "cell_type": "markdown",
   "metadata": {},
   "source": [
    "## 3. 규칙이란 `________`와 `_________`이다. \n",
    "\n",
    "앞에서, 기계학습은 스스로 규칙을 찾아낸다고 했습니다. 그러면, 기계학습이 찾아낸다고 하는 규칙은 과연 무엇일까요? 앞에 지도학습의 예로 소개한 \"공부 시간에 따른 운전면허 시험 합격여부 예측 모델\"의 경우 '공부 시간이 4.5시간 이상이면 합격이다'라는 규칙을 찾아냈습니다. "
   ]
  },
  {
   "cell_type": "markdown",
   "metadata": {},
   "source": [
    "<img src=\"https://github.com/idebtor/KMOOC-ML/blob/master/ipynb/images/machine_learning4.png?raw=true\" width=\"400\">\n",
    "<center>그림 7: 기계학습 모델의 규칙은 가중치와 편향을 말한다</center>"
   ]
  },
  {
   "cell_type": "markdown",
   "metadata": {},
   "source": [
    "실제로 위의 규칙은 어떻게 표현할 수 있을까요? 대부분의 기계학습 알고리즘은 훈련 데이터와 규칙의 관계를 식으로 표현할 수 있습니다. 예를 들면, 위의 경우는 다음과 같은 식을 표현할 수 있습니다. \n",
    "\n",
    "\\begin{align}\n",
    "y &= 0.2 x + 0.1 \\quad \\text{$(pass \\quad if \\ y > 1)$} \\\\\n",
    "y &= a x  + b \\\\\n",
    "output &= weight \\times input + bias\n",
    "\\end{align}"
   ]
  },
  {
   "cell_type": "markdown",
   "metadata": {},
   "source": [
    "위의 식에서 $x$는 입력이고, $y$는 출력 즉 예측값(target)입니다. $0.2$와 $0.1$이 바로 __규칙__입니다. 이 규칙을 수학에서는 기울기와 절편이라고 부릅니다. 기계학습에서는 입력과 곱하는 수를 __가중치(weight)__, 더하는 수를 __편향(bias)__이라고 부릅니다. 여기서는 가중치와 편향이 각각 한 개인 간단한 식을 규칙이라고 했지만, 기계학습에서는 이 갯수가 엄청나게 늘어나게 됩니다. "
   ]
  },
  {
   "cell_type": "markdown",
   "metadata": {},
   "source": [
    "## 4. `________`은 기계학습의 수학적 표현이다.\n",
    "\n",
    " 앞에서 만든 수학 식이 일종의 모델입니다. 훈련 데이터로 학습된 기계학습의 규칙을 말합니다. 그리고, 가중치와 편향 등등 출력을 제어하는 매개 변수들을 모델 파라미터 혹은 __하이퍼 파라미터(hyperparameter)__라 부릅니다. 기계학습의 결과물로 산출되는 것은 곧 매개변수가 주를 이룹니다. 이러한 파이썬 코딩에서는 모델을 하나의 객체로 표현하게 될 것입니다. "
   ]
  },
  {
   "cell_type": "markdown",
   "metadata": {},
   "source": [
    "## 5. 손실 함수로 모델의 `___________`을 조정한다. \n",
    "\n",
    " \n",
    "우리가 앞에서 만든 모델을 공부 시간에 따라 시험 합격여부를 잘 예측하는 것 같습니다. 그런데, 만약 훈련 데이터에 다음과 같은 데이터가 있다면 어떻게 되겠습니까?"
   ]
  },
  {
   "cell_type": "markdown",
   "metadata": {},
   "source": [
    "<img src=\"https://github.com/idebtor/KMOOC-ML/blob/master/ipynb/images/machine_learning5.png?raw=true\" width=\"400\">\n",
    "<center>그림 8: 모델의 규칙을 손실 함수로 조정하기</center>"
   ]
  },
  {
   "cell_type": "markdown",
   "metadata": {},
   "source": [
    "이전에 만든 모델($y = 0.2 x + 0.1$)에 새로운 입력을 넣어보면, 모델이 예측한 값은 약0.7(불합격)이므로 실제 레이블(합격)과 맞지 않습니다. 모델은 불합격(fail)으로 예측했는데, 실제로는 합격(Pass)인 것입니다. 이러한 경우에 모델의 규칙 즉 가중치와 편향을 수정해야 합니다. \n",
    "\n",
    "이때 모델의 규칙을 조정하는 기준이 되는 함수를 __손실 함수(loss function)__ 혹은 오차함수(error function)이라고 합니다. 결국은, 훈련을 통해서 이러한 손실(오차)를 최소화 할 수 있도록 `__________`와 `__________`을 수정하는 것이 훈련의 목적입니다. 그래서, 이러한 손실/오차 함수를 __목적 함수__라 부르기도 합니다. \n",
    "\n",
    "여기 예제는 간단히 예측값과 레이블의 차이를 쉽게 계산할 수 있었지만, 복잡한 문제에서는 손실 함수의 최솟값을 효율적으로 찾아가는 것이 상당히 중요합니다. 손실 함수의 최솟값을 효율적으로 찾는 방법을 __최적화 알고리즘(optimizer)__라고 부릅니다. "
   ]
  },
  {
   "cell_type": "markdown",
   "metadata": {},
   "source": [
    "## 참고문헌\n",
    "\n",
    "- 케라스 창시자에게 배우는 딥러닝, 프랑소와 숄레, 길벗\n",
    "- 핸즈온 머신러닝, 오렐리앙 제롱, 한빛미디어\n",
    "- 딥러닝 입문, 박해선, 이지스 퍼블리싱\n",
    "- 파이썬으로 배우는 기계학습, 김영섭, K-MOOC"
   ]
  },
  {
   "cell_type": "markdown",
   "metadata": {},
   "source": [
    "-------\n",
    "__Be joyful always!__ 1 Thes.5:16"
   ]
  }
 ],
 "metadata": {
  "kernelspec": {
   "display_name": "Python 3",
   "language": "python",
   "name": "python3"
  },
  "language_info": {
   "codemirror_mode": {
    "name": "ipython",
    "version": 3
   },
   "file_extension": ".py",
   "mimetype": "text/x-python",
   "name": "python",
   "nbconvert_exporter": "python",
   "pygments_lexer": "ipython3",
   "version": "3.7.7"
  }
 },
 "nbformat": 4,
 "nbformat_minor": 1
}
