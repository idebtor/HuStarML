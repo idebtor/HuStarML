{
 "cells": [
  {
   "cell_type": "markdown",
   "metadata": {},
   "source": [
    "He has saved us and called us to a holy life — not because of anything we have done but because of his own purpose and grace. This grace was given us in Christ Jesus before the beginning of time. (2 Tim 1:9)  \n",
    "하나님이 우리를 구원하사 거룩하신 소명으로 부르심은 우리의 행위대로 하심이 아니요 오직 자기의 뜻과 영원 전부터 그리스도 예수 안에서 우리에게 주신 은혜대로 하심이라. (딤후1:9)\n",
    "\n",
    "-------\n",
    "\n",
    "# Welcome to \"AI for All\"\n",
    "\n",
    "Lecture Notes by idebtor@gmail.com, Handong Global University"
   ]
  },
  {
   "cell_type": "markdown",
   "metadata": {},
   "source": [
    "\n",
    "# Chapter 3. 텐서(Tensor)\n",
    "\n",
    "전통적으로 텐서를 정의해온 수학적 의미와는 약간의 차이가 있지만, 일반적으로 다차원의 넘파이 배열을 텐서라고 부릅니다. 최근의 모든 기계학습과 딥러닝 시스템은 텐서를 기본 데이터 구조로 사용합니다. 구글의 텐서플로(Tensorflow) 이름을 여기서 유래했습니다. \n",
    "\n",
    "텐서는 데이터를 저장하는 일종의 Container입니다. 예를 들면, 지금까지 사용해온 행렬은 일종의 2D 텐서입니다. 텐서는 임의의 차원 개수를 가지는 행렬을 일반화한 것이라 생각할 수 있습니다. 텐서에서는 차원(Dimension) 대신에 축(axis)라고 부릅니다. "
   ]
  },
  {
   "cell_type": "markdown",
   "metadata": {},
   "source": [
    "## 1. 스칼라(0 D 텐서)\n",
    "\n",
    "숫자 하나만 담고 있는 텐서를 스칼라(Scalar, 0차원 텐서, 0D 텐서라고 부릅니다. 스칼라 텐서의 축 개수는 0입니다. 텐서의 축 개수를 rank라고도 부릅니다. 넘파이에서 ndim 속성으로 확인할 수 있습니다. "
   ]
  },
  {
   "cell_type": "code",
   "execution_count": null,
   "metadata": {},
   "outputs": [],
   "source": [
    "import numpy as np\n",
    "\n",
    "x = np.array(12)   # x - scalar\n",
    "x.ndim             # x - 축의 개수 0"
   ]
  },
  {
   "cell_type": "markdown",
   "metadata": {},
   "source": [
    "## 2. 벡터(1 D 텐서)\n",
    "\n",
    "숫자의 배열을 벡터(vector) 또는 1D 텐서라고 부릅니다. 벡터는 단 하나의 축을 가집니다. 넘파이에서 벡터를 나타내면 다음과 같습니다.  (단, 행 벡터와 열 벡터는 2D 텐서로 나타내야 합니다.) "
   ]
  },
  {
   "cell_type": "code",
   "execution_count": null,
   "metadata": {},
   "outputs": [],
   "source": [
    "x = np.array([3, 1, 6, 2, 20])\n",
    "x"
   ]
  },
  {
   "cell_type": "code",
   "execution_count": null,
   "metadata": {},
   "outputs": [],
   "source": [
    "x.ndim"
   ]
  },
  {
   "cell_type": "markdown",
   "metadata": {},
   "source": [
    "이 벡터는 5개의 원소를 가지고 있으므로 5차원 벡터라고 부릅니다. 5D 텐서는 아닙니다. 하나의 축을 따라 5개의 차원을 가진 것입니다. 하나의 축을 따라 여러 개의 차원을 가진 벡터가 놓일 수 있습니다. "
   ]
  },
  {
   "cell_type": "markdown",
   "metadata": {},
   "source": [
    "## 3. 행렬(2 D 텐서)\n",
    "\n",
    "행렬은 숫자가 채워진 사각 격자형이며, 두 개의 축 즉 행(row)과 열(column)이 있습니다. 이를 2D 텐서라고 볼 수 있습니다. 넘파이에서 행렬은 다음과 같이 나탸냅니다. "
   ]
  },
  {
   "cell_type": "code",
   "execution_count": null,
   "metadata": {},
   "outputs": [],
   "source": [
    "x = np.array([[1, 2, 3, 4, 5], \n",
    "              [6, 7, 8, 9, 10],\n",
    "              [11, 12, 13, 14, 15]])\n",
    "x.ndim"
   ]
  },
  {
   "cell_type": "markdown",
   "metadata": {},
   "source": [
    "여기서 첫 번째 축에 놓인 원소, 즉 `[1, 2, 3, 4, 5]`를 행이라 부릅니다. 첫 번째 열은 `[1, 6, 11]`입니다. "
   ]
  },
  {
   "cell_type": "markdown",
   "metadata": {},
   "source": [
    "## 4. 3 D 텐서와 고차원 텐서\n",
    "행렬 여러 개로 하나의 새로운 배열로 모으면, 입체 형태로 해석할 수 있는 3D 텐서가 만들어집니다. 넘파이로 3D 텐서를 나타내면 다음과 같습니다. "
   ]
  },
  {
   "cell_type": "code",
   "execution_count": null,
   "metadata": {},
   "outputs": [],
   "source": [
    "x = np.arange(24).reshape(2, 3, 4)\n",
    "y = np.arange(36).reshape(3, 3, 4)\n",
    "print(x)\n",
    "print('x.shape =', x.shape, 'x.ndim =', x.ndim)\n",
    "print()\n",
    "print(y)\n",
    "print('y.shape =', y.shape, 'y.ndim =', y.ndim)"
   ]
  },
  {
   "cell_type": "markdown",
   "metadata": {},
   "source": [
    "3D 텐서들을 하나의 배열로 합치면 4D텐서가 만들어집니다. 기계학습과 딥러닝에서 보통 4D텐서까지 다루고 있으며, 동영상까지 다룰 경우, 5D 텐서까지 확장하기도합니다. "
   ]
  },
  {
   "cell_type": "markdown",
   "metadata": {},
   "source": [
    "## 5. 텐서의 핵심 속성\n",
    "\n",
    "텐서는 3개의 핵심 속성이 있습니다. \n",
    "\n",
    "- 축의 개수(Rank): 행렬은 2개의 축(axis)가 있으며, 3D 텐서에는 3개의 축이 있습니다. `ndim` 속성으로 저장되어 있습니다. \n",
    "- 크기(shape): 형상이라고도 하며, 각 축을 따라 얼마나 많은 차원이 있는지를 나타냅니다. 파이썬의 투플(tuple)로 표기하고, `shape` 속성으로 저장되어 있습니다. 예를 들면, 앞에 나온 행렬의 크기는 `(3, 5)`이고, 3D 텐서는 각각 `(2, 3, 4)`, `(3, 3, 4)`입니다. 벡터의 크기는 `(5,)`처럼 1개의 원소로 이루어진 투플로 표기합니다. 특히, `(5)`가 아니라 `(5, )`인 것은 쉼표(,)가 있어야 원소가 하나인 투플이란 것을 구별할 수 있기 때문입니다. 스칼라는 ()로 표기하고 크기가 없습니다. \n",
    "- 데이터 타입: 넘파이에서는 `dtype`으로 저장됩니다. float32, float64, unit8, int32, char, 등등이 있습니다. "
   ]
  },
  {
   "cell_type": "markdown",
   "metadata": {},
   "source": [
    "### 5.1 Batch Data\n",
    "\n",
    "일반적으로 기계학습에서 사용하는 모든 데이터 텐서의 첫 번째 축(인덱스가 0부터)시작하므로, 0번째 축은 __샘플 축(sample axis)__입니다. 그 다음에 나오는 것이 __특성(feature axis)__입니다. MNIST에서 `x_train.shape = (60000, 28, 28)`이라면 60000만은 샘플 축이며, 특성 축은 28, 28입니다. \n",
    "\n",
    "신경망 모델은 한번에 전체 데이터셋을 처리하지 않습니다. 그 대신 데이터를 작은 배치(batch, 묶음)으로 나눕니다. MNIST 예를 들면, batch 크기를 128로 하면, 첫 번째 배치는 다음과 같습니다. \n",
    "\n",
    "`batch = x_train[:128]`\n",
    "\n",
    "그 다음 배치는 다음과 같습니다. \n",
    "\n",
    "`batch = x_train[128:256]`\n",
    "\n",
    "그리고, n 번째 배치는 다음과 같습니다. \n",
    "\n",
    "`batch = x_train[128 * n: 128 * (n + 1)]`\n",
    "\n",
    "이런 배치 데이터를 다룰 때는 첫 번째 축을 배치 축(batch axis or batch dimension)이라고 부릅니다. "
   ]
  },
  {
   "cell_type": "markdown",
   "metadata": {},
   "source": [
    "### 5.2. Vector Data\n",
    "\n",
    "가장 일반적으로 많이 쓰이는 벡터 데이터셋에서는 하나의 데이터 포인트가 벡터로 인코딩될 수 있으므로, 배치 데이터는 2D 텐서로 인코딩됩니다. 왜냐하면, 첫 번째 축은 샘플 축이 되고, 그 다음에 나오는 벡터가 한 축을 담당하기 때문입니다. 두 번째 나오는 축은 특성 축(feature axis)입니다. \n",
    "\n",
    "#### Example 1:\n",
    "예를 들면, 사람의 나이, 우편 번호, 소득으로 구성된 인구 통계 데이터입니다. 각 사람은 3개의 값을 가진 벡터로 구성이 됩니다. 만 명에 대한 이런 자료가 있다면, 이 데이터셋은 (10000, 3) 크기의 텐서에 저장할 수 있습니다. \n",
    "\n",
    "데이터에서 시간이 중요한 경우, 시간이 또한 포함하여 3D 텐서로 저장됩니다. \n",
    "\n",
    "#### Example 2:\n",
    "예를 들어, 분 단위로 현재 주식 가격, 지난 일분간의 최고 가격, 최저 가격을 저장한다고 하면, 이것은 3D벡터로 인코딩 됩니다. 하루에 390분(오전 9:00 ~ 오후3:30)동안 거래하므로, 하루 데이터는 (390, 3)크기의 2D텐서에 인코딩할 수 있습니다. 250일간 거래 데이터셋이라고 하면, 이는 (250, 390, 3)크기의 3D텐서에 저장할 수 있습니다. 여기서 1일치 데이터가 하나의 샘플이 됩니다. \n",
    "\n",
    "#### Example 3:\n",
    "트윗 데이터셋: 각 트윗은 128개의 알파벳으로 구성된 280개의 문자 시퀀스입니다. 여기에서는 각 문자가 128개의 크기인 이진 벡터로 인코딩될 수 있습니다(해당 문자의 인덱스만 1이고 나머지는 모두 0인 벡터). 그러면 각 트윗은 (280, 128) 크기의 2D 텐서로 인코딩될 수 있습니다. 100만 개의 트윗으로 구성된 데이터셋은 (1000000, 280, 128) 크기의 텐서에 저장됩니다."
   ]
  },
  {
   "cell_type": "markdown",
   "metadata": {},
   "source": [
    "### 5.3 Image Data \n",
    "이미지는 전형적으로 높이, 너비, 컬러 채널의 3차원으로 이루어집니다. 다만, MNIST 데이터셋처럼 흑백 이미지는 하나의 컬러 채널만을 가지고 있어 2D텐서로 저장할 수 있습니다. 흑백이미지의 경우, 컬러 채널의 차원 크기는 1입니다. 일반적으로 이미지 텐서는 3D로 저장합니다. \n",
    "\n",
    "예를 들면, 256x256 흑백이미지에 대한 128개 배치 데이터는 (128, 256, 256, 1)크기의 텐서에 저장할 수 있습니다. 컬러 이미지라면, (28, 256, 256, 3) 크기의 텐서에 저장합니다. 이렇게 (samples, height, width, color_depth) 형식과 다르게 Theano같은 라이브러리에서는 (samples, color_depth, height, width)형식으로 데이터를 다룹니다. Keras는 keras.jason에 설정을 통해서 두 형식을 모두 지원합니다."
   ]
  },
  {
   "cell_type": "markdown",
   "metadata": {},
   "source": [
    "## 6. 텐서의 활용 예제 - MNIST \n",
    "\n",
    "기계학습/딥러닝의 \"Hello World\"에 해당하는 MNIST 예제에서 사용하는 데이터셋을 불러서 텐서에 대해 알아봅니다. \n",
    "\n",
    "학습 과정에 사용할 train 자료의 개수는 60000개 이고, 테스트 자료의 개수는 10000개입니다. 각 자료(sample)의 x는 가로x세로가 각각 28x28 픽셀로 구성된 grayscale 이미지이며, y는 각 이미지의 실제 값(label)을 가지고 있습니다. 다음 그림은 데이터의 상태를 잘 보여주고 있습니다. "
   ]
  },
  {
   "cell_type": "markdown",
   "metadata": {},
   "source": [
    "<img src=\"https://github.com/idebtor/KMOOC-ML/blob/master/ipynb/images/MNISTdataset2.png?raw=true\" width=\"500\">\n",
    "<center>그림 1: MNIST 데이터셋의 x_train 훈련 자료 형상</center>"
   ]
  },
  {
   "cell_type": "code",
   "execution_count": null,
   "metadata": {},
   "outputs": [],
   "source": [
    "from keras.datasets import mnist\n",
    "\n",
    "(x_train, y_train), (x_test, y_test)= None"
   ]
  },
  {
   "cell_type": "markdown",
   "metadata": {},
   "source": [
    "#### Example 1. Training과 test 데이터셋의 ndim 차원 속성을 알아봅니다. \n"
   ]
  },
  {
   "cell_type": "code",
   "execution_count": null,
   "metadata": {},
   "outputs": [],
   "source": [
    "print(x_train.ndim, y_train.ndim)\n",
    "print(x_test.ndim, y_test.ndim)"
   ]
  },
  {
   "cell_type": "markdown",
   "metadata": {},
   "source": [
    "#### Example 2. Training과 test데이터셋의 크기(shape, 형상)를 알아봅니다. "
   ]
  },
  {
   "cell_type": "code",
   "execution_count": null,
   "metadata": {},
   "outputs": [],
   "source": [
    "print(x_train.shape, y_train.shape)\n",
    "print(x_test.shape, y_test.shape)"
   ]
  },
  {
   "cell_type": "markdown",
   "metadata": {},
   "source": [
    "#### Example 3. Training과 test데이터셋의 데이터 타입은 dtype으로 찾아볼 수 있습니다. "
   ]
  },
  {
   "cell_type": "code",
   "execution_count": null,
   "metadata": {},
   "outputs": [],
   "source": [
    "print(x_train.dtype, y_train.dtype)"
   ]
  },
  {
   "cell_type": "markdown",
   "metadata": {},
   "source": [
    "여기서 사용하는 배열은 정수형 3D 텐서입니다. 좀 더 정확하게는 28x28 크기의 정수 행렬 6만개가 학습을 위한 것이며, 1만개가 테스트를 위한 것입니다. 각 행렬은 하나의 흑백 이미지고, 행렬의 각 원소는 0에서 255사이의 값입니다. "
   ]
  },
  {
   "cell_type": "markdown",
   "metadata": {},
   "source": [
    "#### Example 4. 데이터셋에서 하나의 이미지 추출하기"
   ]
  },
  {
   "cell_type": "markdown",
   "metadata": {},
   "source": [
    "x_train에 저장되어 있는 6만개 샘플의 처음과 마지막 샘플을 조사(슬라이싱, 출력, 시각화 등등)해보려면 어떻게 하면 될까요?\n",
    "\n",
    "x_train으로부터 처음 이미지와 마지막 이미지를 복사해오기 즉 slicing해서 각각 a_image, z_image에 저장하기로 합니다. 그리고, 그대로 출력을 시도합니다. "
   ]
  },
  {
   "cell_type": "code",
   "execution_count": null,
   "metadata": {},
   "outputs": [],
   "source": [
    "a_image, z_image = None, None\n",
    "print('shape:', a_image.shape,'dim:', a_image.ndim, 'type:', a_image.dtype)"
   ]
  },
  {
   "cell_type": "markdown",
   "metadata": {},
   "source": [
    "Before working on a_image and z_image, check labels of two images using `y_train`,"
   ]
  },
  {
   "cell_type": "code",
   "execution_count": null,
   "metadata": {},
   "outputs": [],
   "source": [
    "a_label, z_label = None, None\n",
    "print(a_label, z_label)"
   ]
  },
  {
   "cell_type": "markdown",
   "metadata": {},
   "source": [
    "Print a_image as it is."
   ]
  },
  {
   "cell_type": "code",
   "execution_count": null,
   "metadata": {},
   "outputs": [],
   "source": [
    "print(a_image)"
   ]
  },
  {
   "cell_type": "markdown",
   "metadata": {},
   "source": [
    "#### Example 5. 이미지의 픽셀 값들을 28 x 28 행렬로 출력하기 즉 각 row(행)을 한 줄로 출력해보기\n",
    "\n",
    "그러면, 우리가 여기서 출력한 첫 데이타는 28 x 28 배열의 2D 텐서인 것을 알고 있습니다. 2D 텐서를 출력할 때, 디폴트 print를 사용하지 말고, 한 줄에 한 row씩, 28 x 28 형식으로 출력하도록 다음과 같이 코딩을 해봅니다. "
   ]
  },
  {
   "cell_type": "code",
   "execution_count": null,
   "metadata": {},
   "outputs": [],
   "source": [
    "for row in z_image:                    # row \n",
    "    None:                    # each element in a row\n",
    "        print('%3d' % pix, end = ' ')  # print('{0:3d}'.format(pix), end=' '), print('%3d' % pix, end=' ')\n",
    "    print()"
   ]
  },
  {
   "cell_type": "markdown",
   "metadata": {},
   "source": [
    "각 숫자는 이미지 픽셀이며, 각 픽셀은 0~255사이의 값이며, 각 픽셀의 밝기 정도를 나타냅니다. 가장 작은 수 0이면 가장 어두운 검은색이며, 255는 가장 밝은 색, 흰색을 나타냅니다. "
   ]
  },
  {
   "cell_type": "markdown",
   "metadata": {},
   "source": [
    "#### Example 6. 이미지의 픽셀 값들을 28 x 28 이미지로 시각화 하기\n",
    "\n",
    "그러면, 이것을 실제로 그림으로 나타내면 더 좋지 않을까요? 다행히도, 이러한 단순한 배열을 실제 이미지로 시각화할 수 있는 파이썬 표준 라이브러리인 맷플롯립(matplotlib)이 있습니다. 이 라이브러리을 import하고, imshow() 함수를 이용하여 시각화할 수 있습니다. 모든 이미지가 x_train에 저장되어 있으므로, 그 중에 첫 번째 이미지는 `x_train[0]`에, 마지막 이미지는 `x_train[-1]`로 슬라이싱(추출)하여 하나의 이미지를 다루거나 시각화할 수 있습니다. "
   ]
  },
  {
   "cell_type": "code",
   "execution_count": null,
   "metadata": {},
   "outputs": [],
   "source": [
    "import matplotlib.pyplot as plt\n",
    "\n",
    "plt.imshow(None, cmap='gray')    # use 'Greys' or cmap=plot.cm.binary for inverted grayscale image\n",
    "plt.show()"
   ]
  },
  {
   "cell_type": "markdown",
   "metadata": {},
   "source": [
    "#### Example 7. 여러 장의 이미지를 시각화 하기\n",
    "\n",
    "첫 한장이 아니라 첫 10장을 시각화하려면 어떻게 할까요?  다음과 같이 처음 10장의 이미지를 slicing할 수 있습니다. 여기서 콜론은 range를 특정할 때 사용합니다. `start:end`형식입니다. 단, start 부분이 생략되어 있으면, 처음부터이고, end 부분이 생략되어 있으면, 끝까지를 의미합니다. 둘 다 생략이 되어 콜론만 남아 있으면, 처음부터 끝까지 모두를 의미합니다. "
   ]
  },
  {
   "cell_type": "code",
   "execution_count": null,
   "metadata": {},
   "outputs": [],
   "source": [
    "images = None\n",
    "labels = None\n",
    "print(images.shape)"
   ]
  },
  {
   "cell_type": "code",
   "execution_count": null,
   "metadata": {},
   "outputs": [],
   "source": [
    "plt.figure(figsize=(20,20))\n",
    "for i in range(len(images)):\n",
    "    plt.subplot(10, 10, i + 1)     # displays upto 100 images\n",
    "    plt.xticks([])\n",
    "    plt.yticks([])\n",
    "    plt.grid(False)\n",
    "    plt.imshow(images[i], cmap=\"gray\")\n",
    "    plt.xlabel(labels[i])\n",
    "plt.show()"
   ]
  },
  {
   "cell_type": "markdown",
   "metadata": {},
   "source": [
    "## 7. 넘파이로 텐서 다루기 - MNIST 이미지 추출하기\n",
    "\n",
    "기계학습과 딥러닝에서 많이 사용하는 넘파이 배열에 대한 Slicing연산을 다루어 봅니다. \n",
    "\n",
    "#### Example 1. \n",
    "\n",
    "다음 예는 11째부터 90개의 이미지들, 즉 11번째부터 100번째 이미지까지 추출하고자 합니다. 다른 프로그래밍 언어와 마찬가지로, 넘파이에서 인덱싱은 언제든지 0부터 시작합니다. 그러므로, 11번째 이미지는 `x_train[10]`에 저장되어 있고, 100번째 이미지는 `x_train[99]`에 저장되어 있습니다. 그러나, 주의할 것은 그리고, 슬라이싱의 범위를 명시할 때 시작 start(시작) 인덱스는 항상 포함하고, 끝나는 end(마지막) 인덱스는 __포함하지 않습니다__.  그러므로 end index는 100으로 지정해야 99까지 slicing을 하게 됩니다. "
   ]
  },
  {
   "cell_type": "code",
   "execution_count": null,
   "metadata": {},
   "outputs": [],
   "source": [
    "print(x_train.shape)\n",
    "my_slice = None\n",
    "print('shape:', my_slice.shape)\n",
    "print('len:', len(my_slice))"
   ]
  },
  {
   "cell_type": "markdown",
   "metadata": {},
   "source": [
    "#### Example 2. \n",
    "\n",
    "그러면, 6만장의 이미지 데이터셋 x_train(60000, 28, 28)의 upper-left corner를 모두 추출하여 (60000, 14, 14)의 크기를 얻기 위한 Slicing을 하십시오.  \n",
    "\n",
    "```\n",
    "(60000, 14, 14)\n",
    "```"
   ]
  },
  {
   "cell_type": "code",
   "execution_count": null,
   "metadata": {},
   "outputs": [],
   "source": [
    "my_slice = None\n",
    "print(my_slice.shape)"
   ]
  },
  {
   "cell_type": "markdown",
   "metadata": {},
   "source": [
    "위와 같은 경우, 각 이미지의 x 방향으로 `0 ~ 13` 픽셀까지, y 방향으로 `0 ~ 13` 픽셀까지 slicing됩니다. 즉 이미지의 왼쪽 위 코너부분 1/4 크기로 slicing이 이루어질 것입니다. \n",
    "\n",
    "각 이미지의 오른쪽 아래 코너 부분을 slicing하려면, `x_train[:, 14:, 14:]`로 설정하면, x, y방향으로 15번째 픽셀부터 끝까지(28번째) 추출될 것입니다. "
   ]
  },
  {
   "cell_type": "markdown",
   "metadata": {},
   "source": [
    "# Homework\n",
    "\n",
    "다음의 각 항목을 주피터 노트북의 각각의 셀에서 완성하고 실행하십시오. 각각의 코드 셀 바로 다음에 마크다운 셀에서 코드를 설명하십시오. \n",
    "1. MNIST 데이터셋 x_train의 마지막 10개의 이미지와 레이블을 slicing(추출)하여 zap라고 설정하고, 시각화합니다. \n",
    "2. x_train이 아니라 zap으로부터 각 이미지의 가운데 부분(14 x 14)을 추출하여 zip라고 설정하고, 이미지와 레이블을 시각화합니다. .\n",
    "\n",
    "<img src=\"https://github.com/idebtor/KMOOC-ML/blob/master/ipynb/images/zipzap.png?raw=true\" width=\"800\">\n",
    "<center>그림 1: MINST 데이터셋 이미지 추출하기와 시각화</center>\n",
    "\n",
    "#### Solution 1:"
   ]
  },
  {
   "cell_type": "code",
   "execution_count": null,
   "metadata": {},
   "outputs": [],
   "source": [
    "import matplotlib.pyplot as plt\n",
    "\n",
    "zap = None\n",
    "label = None\n",
    "    \n",
    "plt.figure(figsize=(12,12))\n",
    "for i in range(len(zap)):\n",
    "    None\n",
    "    \n",
    "plt.show()"
   ]
  },
  {
   "cell_type": "markdown",
   "metadata": {},
   "source": [
    "#### Solution 2:"
   ]
  },
  {
   "cell_type": "code",
   "execution_count": null,
   "metadata": {},
   "outputs": [],
   "source": [
    "zip = None\n",
    "\n",
    "print(zip.shape)\n",
    "plt.figure(figsize=(12,12))\n",
    "for i in range(len(zip)):\n",
    "    None\n",
    "    \n",
    "plt.show()"
   ]
  },
  {
   "cell_type": "markdown",
   "metadata": {},
   "source": [
    "## FYI: For Your Information\n",
    "다음은 MNIST데이터셋의 처음 95개의 이미지를 시각화하는 코드입니다. "
   ]
  },
  {
   "cell_type": "code",
   "execution_count": null,
   "metadata": {},
   "outputs": [],
   "source": [
    "import numpy as np\n",
    "import matplotlib.pyplot as plt\n",
    "\n",
    "images = x_train[:95]\n",
    "labels = y_train[:95]\n",
    "plt.figure(figsize=(15,15))\n",
    "for i in range(len(images)):\n",
    "    plt.subplot(10, 10, i + 1)\n",
    "    plt.xticks([])\n",
    "    plt.yticks([])\n",
    "    plt.grid(False)\n",
    "    plt.imshow(images[i], cmap=\"gray\")\n",
    "    plt.xlabel(labels[i])"
   ]
  },
  {
   "cell_type": "code",
   "execution_count": null,
   "metadata": {},
   "outputs": [],
   "source": []
  },
  {
   "cell_type": "markdown",
   "metadata": {},
   "source": [
    "-------\n",
    "__Be joyful always!__ 1 Thes.5:16"
   ]
  }
 ],
 "metadata": {
  "kernelspec": {
   "display_name": "Python 3",
   "language": "python",
   "name": "python3"
  },
  "language_info": {
   "codemirror_mode": {
    "name": "ipython",
    "version": 3
   },
   "file_extension": ".py",
   "mimetype": "text/x-python",
   "name": "python",
   "nbconvert_exporter": "python",
   "pygments_lexer": "ipython3",
   "version": "3.7.7"
  }
 },
 "nbformat": 4,
 "nbformat_minor": 1
}
