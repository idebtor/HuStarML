{
 "cells": [
  {
   "cell_type": "markdown",
   "metadata": {},
   "source": [
    "# Welcome to CrushPython\n",
    "\n",
    "-------\n",
    "So tell them, 'As surely as I live, declares the LORD, I will do to you the very things I heard you say.' Numbers 14:28  \n"
   ]
  },
  {
   "cell_type": "markdown",
   "metadata": {},
   "source": [
    "__NOTE:__ The following materials have been compiled and adapted from the numerous sources including my own. Please help me to keep this tutorial up-to-date by reporting any issues or questions. Send any comments or criticisms to `idebtor@gmail.com` Your assistances and comments will be appreciated."
   ]
  },
  {
   "cell_type": "markdown",
   "metadata": {},
   "source": [
    "# Revisit cell magic commands\n",
    "\n",
    "### Exercise 1.\n",
    "\n",
    "1. Save the following cell in `person.py`.\n",
    "1. Read `person.py` file into a cell.\n",
    "1. Run the code.\n",
    "\n",
    "__hint:__ %%writefile, %load"
   ]
  },
  {
   "cell_type": "code",
   "execution_count": null,
   "metadata": {},
   "outputs": [],
   "source": [
    "%%writefile person.py\n",
    "import matplotlib.pyplot as plt\n",
    "from matplotlib.image import imread\n",
    "\n",
    "img = imread('https://github.com/idebtor/KMOOC-ML/blob/master/ipynb/images/person.png?raw=true')\n",
    "plt.imshow(img)\n",
    "plt.show()"
   ]
  },
  {
   "cell_type": "markdown",
   "metadata": {},
   "source": [
    "__a solution__:"
   ]
  },
  {
   "cell_type": "code",
   "execution_count": null,
   "metadata": {},
   "outputs": [],
   "source": [
    "!type person.py"
   ]
  },
  {
   "cell_type": "markdown",
   "metadata": {},
   "source": [
    "### Exercise 2. \n",
    "\n",
    "1. Start Python with person.py script at the console(or terminal).\n",
    "1. Start Python and import person.py module at the >>> prompt."
   ]
  },
  {
   "cell_type": "markdown",
   "metadata": {},
   "source": [
    "----------\n",
    "\n",
    "# Lesson - Data Types and Operations\n",
    "\n",
    "- In programming, data type is an important concept.\n",
    "- Variables can store data of different types, and different types can do different things.\n",
    "- Python has the following data types built-in by default, in these categories:\n",
    "\n",
    "\n",
    "> Text Type:\t`str`   \n",
    "> Numeric Types:\t`int, float, complex`   \n",
    "> Sequence Types:\t`list, tuple, range`   \n",
    "> Mapping Type:\t`dict`   \n",
    "> Set Types:\t`set, frozenset`   \n",
    "> Boolean Type:\t`bool`   \n"
   ]
  },
  {
   "cell_type": "markdown",
   "metadata": {},
   "source": [
    "## 1. Setting the data type\n",
    "\n",
    "The data type in Python is set __when you assign a value to a variable:__\n",
    "\n",
    "\n",
    "Let's take a look at the common numerical data types, string, bool and some other data types.\n",
    "\n",
    "- __int__ - integers: ..., -3, -2, -1, 0, 1, 2, 3, ...\n",
    "- __float__ - floating point numbers, decimal point fractions: -3.1, 1.5, 1e-8, 3.141592e5\n",
    "- __str__ - character strings, text: \"WhynotPython\", 'python', '3.16'\n",
    "- __bool__ - boolean values: `True` and `False`\n",
    "- __complex__ - A complex number is defined using a real component + an imaginary component j\n",
    "\n",
    "\n",
    "- __list__ - An ordered list of items : `[ 'apple', 'orange', 1, 5.3, 'Hello']`\n",
    "- __tuple__ - Tuples are immutable lists, while the list data can be modified, : `(1, 3, 5)`\n",
    "- __dict__ - Dictionaries are made up of key: value pairs: `{\"Lee\": 8 , \"Kay\": 5}`\n",
    "- __set__ - An unordered collection of data type without duplicate elements: `{1, 2, 'hello`}`\n",
    "\n",
    "- __range__ - range"
   ]
  },
  {
   "cell_type": "markdown",
   "metadata": {},
   "source": [
    "\n",
    "## 2. int - Integer data type\n",
    "\n",
    "The first of these is the integer type.  We can add integers, getting another integer as the result:"
   ]
  },
  {
   "cell_type": "code",
   "execution_count": null,
   "metadata": {},
   "outputs": [],
   "source": [
    "1+1"
   ]
  },
  {
   "cell_type": "markdown",
   "metadata": {},
   "source": [
    "We can also assign an integer to a variable:"
   ]
  },
  {
   "cell_type": "code",
   "execution_count": null,
   "metadata": {},
   "outputs": [],
   "source": [
    "a = 1\n",
    "type(a)\n",
    "a = 'hello'\n",
    "type(a)"
   ]
  },
  {
   "cell_type": "markdown",
   "metadata": {},
   "source": [
    "We can ask the variable for its type, and see that it is `int`:"
   ]
  },
  {
   "cell_type": "code",
   "execution_count": null,
   "metadata": {},
   "outputs": [],
   "source": [
    "  2**256                 # 2**8 * 2**8 = 2**16"
   ]
  },
  {
   "cell_type": "code",
   "execution_count": null,
   "metadata": {},
   "outputs": [],
   "source": [
    "          # 2**16"
   ]
  },
  {
   "cell_type": "code",
   "execution_count": null,
   "metadata": {},
   "outputs": [],
   "source": []
  },
  {
   "cell_type": "markdown",
   "metadata": {},
   "source": [
    "__NOTE__: There is no longer a limit to the value of integers. "
   ]
  },
  {
   "cell_type": "code",
   "execution_count": null,
   "metadata": {},
   "outputs": [],
   "source": [
    "a = 2 ** 1000\n",
    "2 ** 1000"
   ]
  },
  {
   "cell_type": "code",
   "execution_count": null,
   "metadata": {},
   "outputs": [],
   "source": [
    "a = '123'"
   ]
  },
  {
   "cell_type": "markdown",
   "metadata": {},
   "source": [
    "## 3. Specifying a Variable Type\n",
    "\n",
    "There may be times when you want to specify a type on to a variable. This can be done with casting. Python is an object-orientated language, and as such it uses classes to define data types, including its primitive types.\n",
    "\n",
    "__Casting in python is therefore done using constructor functions:__\n",
    "\n",
    "- `int()` - constructs an integer number from an int, float, str literals \n",
    "- `float()` - constructs a float number from an int, float, str literals\n",
    "- `str()` - constructs a string from a wide variety of data types, including strings, integer literals and float literals"
   ]
  },
  {
   "cell_type": "markdown",
   "metadata": {},
   "source": [
    "#### For example\n",
    "- Convert `int` to `float` using `float()`"
   ]
  },
  {
   "cell_type": "code",
   "execution_count": null,
   "metadata": {},
   "outputs": [],
   "source": [
    "a = '12.34'\n",
    "a = float(a)\n",
    "type(a)"
   ]
  },
  {
   "cell_type": "markdown",
   "metadata": {},
   "source": [
    "## 4. float - Floating Point Numbers\n",
    "\n",
    "You can represent real numbers in Python as easily as integers. You may use `float()` to convert `int` to `float` data type. For example,"
   ]
  },
  {
   "cell_type": "markdown",
   "metadata": {},
   "source": [
    "Notice that the type of `a` is now `float`.\n",
    "\n",
    "This can be generalized for other numeric types: `int()`, `complex()`. It is called __type conversion__.\n",
    "\n",
    "#### convert `float` to `int` using `int()`"
   ]
  },
  {
   "cell_type": "code",
   "execution_count": null,
   "metadata": {},
   "outputs": [],
   "source": [
    "# float a = -1.98765 to int \n",
    "a = -1.98765 \n",
    "b = float(a)\n",
    "type(b)\n",
    "print(b)\n",
    "c = int(b)\n",
    "print(c)"
   ]
  },
  {
   "cell_type": "markdown",
   "metadata": {},
   "source": [
    "__Notice__ that int() type conversion always __rounds towards 0__.\n"
   ]
  },
  {
   "cell_type": "markdown",
   "metadata": {},
   "source": [
    "Even you can convert a number in string as well.  "
   ]
  },
  {
   "cell_type": "code",
   "execution_count": null,
   "metadata": {},
   "outputs": [],
   "source": [
    "int('123')"
   ]
  },
  {
   "cell_type": "code",
   "execution_count": null,
   "metadata": {},
   "outputs": [],
   "source": [
    "float('1.234')"
   ]
  },
  {
   "cell_type": "markdown",
   "metadata": {},
   "source": [
    "\n",
    "## 4. Str - string data type\n",
    "\n",
    "Another built-in Python data type is strings. Strings are sequences of letters, numbers, symbols, and spaces. In Python, strings can be almost any length and can contain spaces. Strings are assigned in Python using single quotation marks ' ' or double quotation marks \" \".\n",
    "\n",
    "- To represent a string, you may use a pair of single, double, or triple of double quations. Use a triple quote to have a multiple lines of comments. \n",
    "\n",
    "- For example\n",
    "```\n",
    "    'Hello World' \n",
    "    \"Hello World\"\n",
    "    \"\"\"Hello World\"\"\"\n",
    "    'Hello \"Mr. Kim\"'\n",
    "```\n"
   ]
  },
  {
   "cell_type": "markdown",
   "metadata": {},
   "source": [
    "#### Example 1.\n",
    "\n",
    "- `print()` function - prints a textual representation to the console"
   ]
  },
  {
   "cell_type": "code",
   "execution_count": null,
   "metadata": {},
   "outputs": [],
   "source": [
    "a = \"\"\"Hello \n",
    "World\"\"\"\n",
    "type(a)\n",
    "print(a)"
   ]
  },
  {
   "cell_type": "markdown",
   "metadata": {},
   "source": [
    "- Multiple lines quoted by triple quartation markers shown below:\n",
    "```\n",
    "Hello    \n",
    "World\n",
    "```"
   ]
  },
  {
   "cell_type": "code",
   "execution_count": null,
   "metadata": {},
   "outputs": [],
   "source": [
    "b = None\n",
    "type(b)\n",
    "print(b)"
   ]
  },
  {
   "cell_type": "markdown",
   "metadata": {},
   "source": [
    "#### Example 2. Make an observation of three different outputs "
   ]
  },
  {
   "cell_type": "code",
   "execution_count": null,
   "metadata": {},
   "outputs": [],
   "source": [
    "print(\"Hello World\")"
   ]
  },
  {
   "cell_type": "code",
   "execution_count": null,
   "metadata": {},
   "outputs": [],
   "source": [
    "print(\"Hello\", 'World')"
   ]
  },
  {
   "cell_type": "code",
   "execution_count": null,
   "metadata": {},
   "outputs": [],
   "source": [
    "print(\"Hello\" + 'World')"
   ]
  },
  {
   "cell_type": "markdown",
   "metadata": {},
   "source": [
    "#### Example 3: \n",
    "How do you print the follwoing sentence as shown exactly?\n",
    "```\n",
    "Hello \"Mr. Kim\"\n",
    "Hello 'Mr. Kim'\n",
    "```"
   ]
  },
  {
   "cell_type": "code",
   "execution_count": null,
   "metadata": {},
   "outputs": [],
   "source": [
    "print('Hello \"Mr. Kim\"')\n",
    "print(\"Hello 'Mr. Kim'\")"
   ]
  },
  {
   "cell_type": "markdown",
   "metadata": {},
   "source": [
    "#### Example 4:\n",
    "\n",
    "How do you print the follwoing sentence as shown exactly?\n",
    "```\n",
    "-----------------------------------\n",
    "| Hello World, God loves you all. |\n",
    "-----------------------------------\n",
    "```"
   ]
  },
  {
   "cell_type": "code",
   "execution_count": null,
   "metadata": {},
   "outputs": [],
   "source": [
    "print(\"\"\"-----------------------------------\n",
    "| Hello World, God loves you all. |\n",
    "-----------------------------------\"\"\")"
   ]
  },
  {
   "cell_type": "markdown",
   "metadata": {},
   "source": [
    "## 5. Strings are Arrays\n",
    "- Like many other popular programming languages, strings in Python are arrays of bytes representing unicode characters.\n",
    "- However, Python does not have a character data type, a single character is simply a string with a length of 1.\n",
    "- Square brackets can be used to access elements of the string.\n",
    "\n",
    "#### Example 1: \n",
    "- Get the character at position 1 (remember that the first character has the position 0):"
   ]
  },
  {
   "cell_type": "code",
   "execution_count": null,
   "metadata": {},
   "outputs": [],
   "source": [
    "a = \"Hello, World!\"\n",
    "print(a[1])"
   ]
  },
  {
   "cell_type": "markdown",
   "metadata": {},
   "source": [
    "#### Example 2: Slicing\n",
    "- Get the characters from position 2 to position 5 (not included):"
   ]
  },
  {
   "cell_type": "code",
   "execution_count": null,
   "metadata": {},
   "outputs": [],
   "source": [
    "b = \"Hello, World!\"\n",
    "print(b[2:5])"
   ]
  },
  {
   "cell_type": "markdown",
   "metadata": {},
   "source": [
    "#### Example 3: Negative Indexing\n",
    "- Use negative indexes to start the slice from the end of the string\n",
    "- Get the characters from position 5 to position 1 (not included), starting the count from the end of the string:"
   ]
  },
  {
   "cell_type": "code",
   "execution_count": null,
   "metadata": {},
   "outputs": [],
   "source": [
    "b = \"Hello, World!\"\n",
    "print(b[-5:-1])"
   ]
  },
  {
   "cell_type": "markdown",
   "metadata": {},
   "source": [
    "------------\n",
    "## 6. Arithmetic Operations\n",
    "\n",
    "Let's use an example of a more involved numerical expression to get some familiarity with Python's operation syntax and order of operations."
   ]
  },
  {
   "cell_type": "markdown",
   "metadata": {},
   "source": [
    "####   Evalueate `1 - 4 * 2**3 - 60 // 7 + 89 % 98`"
   ]
  },
  {
   "cell_type": "markdown",
   "metadata": {},
   "source": [
    "Looking at this, most of the operations should be straightforward, but `**` in Python indicates exponentiation, and `%` is the modulo (or remainder) operation.\n",
    "\n",
    "Python's precedence order for operations is fairly standard (from highest to lowest):\n",
    "\n",
    "* `( )` (parenthesis grouping)\n",
    "* `**`  (exponentiation)\n",
    "* `*`   (multiplication), \n",
    "* `/`(__true division__), \n",
    "* `//`(__integer division__) - also called __floor division__ since applying the floor function after division.\n",
    "* `%`(modulus) - remainder of the division of the two operands, rather than the quotient\n",
    "* `+`, `-` (addition, subtraction)\n",
    "\n",
    "Example 1: `23 // 4` evaluates to `5`.\n",
    "\n",
    "Example 2: `23 % 4` evaluates to `3` because there's a remainder of 3.\n",
    "\n",
    "Example 3: `4*2**3` evaluates the exponentiation part first and multiplication. "
   ]
  },
  {
   "cell_type": "code",
   "execution_count": null,
   "metadata": {},
   "outputs": [],
   "source": [
    "None"
   ]
  },
  {
   "cell_type": "markdown",
   "metadata": {},
   "source": [
    "So we now have `1 - 32 - 60 // 7 + 89 % 98`.\n",
    "\n",
    "The next operations are multiplication, integer division // and modulo. Be caucious when there is a negative number in modulo operation. "
   ]
  },
  {
   "cell_type": "code",
   "execution_count": null,
   "metadata": {},
   "outputs": [],
   "source": [
    "None"
   ]
  },
  {
   "cell_type": "markdown",
   "metadata": {},
   "source": [
    "and the expression simplifies to `1 - 32 + 8 + 89`."
   ]
  },
  {
   "cell_type": "code",
   "execution_count": null,
   "metadata": {},
   "outputs": [],
   "source": [
    "print(1 - 4*2**3 - 60 // 7 + 89 % 98) \n",
    "\n",
    "print(1 - 32 - 8 + 89)"
   ]
  },
  {
   "cell_type": "markdown",
   "metadata": {},
   "source": [
    "## 7. Evaluating expressions: \n",
    "\n",
    "#### Example 1: Print each digit in a three-digit number."
   ]
  },
  {
   "cell_type": "code",
   "execution_count": null,
   "metadata": {},
   "outputs": [],
   "source": [
    "digits = 248\n",
    "digit1 = 248 // 100\n",
    "digit2 = (248 % 100) // 10\n",
    "digit3 = 248 % 10\n",
    "\n",
    "print(digit1)\n",
    "print(digit2)\n",
    "print(digit3)"
   ]
  },
  {
   "cell_type": "markdown",
   "metadata": {},
   "source": [
    "#### Example 2: Evaluate the expression."
   ]
  },
  {
   "cell_type": "code",
   "execution_count": null,
   "metadata": {},
   "outputs": [],
   "source": [
    "((2 * 3 + 4) / 5) ** 2 % 3"
   ]
  },
  {
   "cell_type": "markdown",
   "metadata": {},
   "source": [
    "#### Example 3:\n",
    "\n",
    "Write a code that accepts an age from user and display the result as shown below. You may need to use `int()` and `input()`. \n",
    "\n",
    "```\n",
    "What is your age?\n",
    "7\n",
    "Your age becomes 8 tomorrow. \n",
    "```"
   ]
  },
  {
   "cell_type": "code",
   "execution_count": null,
   "metadata": {},
   "outputs": [],
   "source": [
    "age = input(\"What is your age?  \")\n",
    "print('Your age becomes', int(age) + 1, 'tomorrow. Happy Birthday!')"
   ]
  },
  {
   "cell_type": "markdown",
   "metadata": {},
   "source": [
    "## 8. Simple Math Functions\n",
    "\n",
    "There are a number of simple math functions that are available in Python, and we'll show a few here to give you an idea.\n",
    "```\n",
    "    abs()\n",
    "    round()\n",
    "    max()\n",
    "    min()\n",
    "```\n",
    "\n",
    "#### Example 1. You can get the absolute value with `abs()`:"
   ]
  },
  {
   "cell_type": "code",
   "execution_count": null,
   "metadata": {},
   "outputs": [],
   "source": [
    "abs(-10)"
   ]
  },
  {
   "cell_type": "markdown",
   "metadata": {},
   "source": [
    "\n",
    "#### Example 2. You can round a floating point number to the nearest whole number using `round()`: "
   ]
  },
  {
   "cell_type": "code",
   "execution_count": null,
   "metadata": {},
   "outputs": [],
   "source": [
    "a = [1, 2, 3, 4]\n",
    "import numpy as np\n",
    "print(np.sqrt(a))\n",
    "\n",
    "import math\n",
    "print(math.sqrt(a))"
   ]
  },
  {
   "cell_type": "markdown",
   "metadata": {},
   "source": [
    "#### Example 3.  And you can use `max()` and `min()` functions to compute minimum and maximum values from a collection of values:"
   ]
  },
  {
   "cell_type": "code",
   "execution_count": null,
   "metadata": {},
   "outputs": [],
   "source": [
    "max(0, min(10, -1, 4, 3))"
   ]
  },
  {
   "cell_type": "markdown",
   "metadata": {},
   "source": [
    "This example is a little more involved, what's happening is that we have two parts.\n",
    "\n",
    "- The first is the minimum of `10`, `-1`, `4` and `3`.\n",
    "- The second is the maximum of 0 and the result of the first part which is 0, and that's the result."
   ]
  },
  {
   "cell_type": "markdown",
   "metadata": {},
   "source": [
    "#### Example 4. Find the max in the list."
   ]
  },
  {
   "cell_type": "code",
   "execution_count": null,
   "metadata": {},
   "outputs": [],
   "source": [
    "colors = ['red', 'orange', 'yellow', 'green', 'navy blue', 'indigo', 'violet']\n",
    "primes = [11, 13, 2, 3, 5, 7]\n",
    "print(max(colors))\n",
    "print(max(primes))\n"
   ]
  },
  {
   "cell_type": "code",
   "execution_count": null,
   "metadata": {},
   "outputs": [],
   "source": [
    "del max\n",
    "print(max(colors))\n"
   ]
  },
  {
   "cell_type": "markdown",
   "metadata": {},
   "source": [
    "#### Example 5. Find the max string length among colors.\n",
    "\n",
    "- The built-in max() function returns the maximum element in the list. The elements could be int, float, or string. \n",
    "- To get the longest word, use `max() with key=len` argument. It is passing a comparison function as an argument. \n",
    "- help(max)\n"
   ]
  },
  {
   "cell_type": "code",
   "execution_count": null,
   "metadata": {},
   "outputs": [],
   "source": [
    "max(colors, None)"
   ]
  },
  {
   "cell_type": "markdown",
   "metadata": {},
   "source": [
    "## 9. bool - Boolean Data Type\n",
    "\n",
    "- In programming you often need to know if an expression is True or False.\n",
    "- You can evaluate any expression in Python, and get one of two answers, True or False.\n",
    "- When you compare two values, the expression is evaluated and Python returns the Boolean answer:\n",
    "\n",
    "#### Example 1:"
   ]
  },
  {
   "cell_type": "code",
   "execution_count": null,
   "metadata": {},
   "outputs": [],
   "source": [
    "print(10 > 9)\n",
    "print(10 == 9)\n",
    "print(10 < 9)"
   ]
  },
  {
   "cell_type": "markdown",
   "metadata": {},
   "source": [
    "When you run a condition in an if statement, Python returns True or False:\n",
    "\n",
    "#### Example 2:"
   ]
  },
  {
   "cell_type": "code",
   "execution_count": null,
   "metadata": {},
   "outputs": [],
   "source": [
    "a = 200\n",
    "b = 33\n",
    "\n",
    "if b > a:\n",
    "    print(\"b is greater than a\")\n",
    "else:\n",
    "    print(\"b is not greater than a\")"
   ]
  },
  {
   "cell_type": "markdown",
   "metadata": {},
   "source": [
    "__Boolean operators:__\n",
    "\n",
    "```\n",
    "    or\n",
    "    and \n",
    "    not\n",
    "```\n",
    "\n",
    "__Comparison Operators:__\n",
    "- `>`\tGreater than - True if left operand is greater than the right\t`x > y`\n",
    "- `<`\tLess than - True if left operand is less than the right\t`x < y`\n",
    "- `==`\tEqual to - True if both operands are equal\t`x == y`\n",
    "- `!=`\tNot equal to - True if operands are not equal\t`x != y`\n",
    "- `>=`\tGreater than or equal to - True if left operand is greater than or equal to the right\t`x >= y`\n",
    "- `<=`\tLess than or equal to - True if left operand is less than or equal to the right\n",
    "\n",
    "These comparison operators are quite standard. So for example: see that the type of `q` is now `bool`:"
   ]
  },
  {
   "cell_type": "code",
   "execution_count": null,
   "metadata": {},
   "outputs": [],
   "source": [
    "# Evaluate p and q and print whetehr or not it is true.  \n",
    "q = 5 > 10\n",
    "p = 5 < 10\n",
    "if q != True:\n",
    "    print('q is true')"
   ]
  },
  {
   "cell_type": "code",
   "execution_count": null,
   "metadata": {},
   "outputs": [],
   "source": [
    "if (None):\n",
    "    print('q is true')"
   ]
  },
  {
   "cell_type": "markdown",
   "metadata": {},
   "source": [
    "### Boolean(Logical) Expressions \n",
    "A boolean expression (or logical expression) evaluates to one of two states true or false. Comparisons can be combined using the logical operators `and`, `or` and `not`.  So for example:"
   ]
  },
  {
   "cell_type": "markdown",
   "metadata": {},
   "source": [
    "#### Example 1: \n",
    "\n",
    "Write a boolean expression that returns true if `age` is between `20` and `29`, inclusively, false otherwise."
   ]
  },
  {
   "cell_type": "code",
   "execution_count": null,
   "metadata": {},
   "outputs": [],
   "source": [
    "for age in [15, 18, 19, 20, 21, 29, 30]:\n",
    "    print(20 <= age <= 29)"
   ]
  },
  {
   "cell_type": "markdown",
   "metadata": {},
   "source": [
    "#### Example 2: Using chained comparison\n",
    "\n",
    "- One really __slick feature__ of Python's comparisons are chained comparisons:"
   ]
  },
  {
   "cell_type": "code",
   "execution_count": null,
   "metadata": {},
   "outputs": [],
   "source": [
    "None"
   ]
  },
  {
   "cell_type": "markdown",
   "metadata": {},
   "source": [
    "#### Example 3: What is the result of the following expression?"
   ]
  },
  {
   "cell_type": "code",
   "execution_count": null,
   "metadata": {},
   "outputs": [],
   "source": [
    "5 < 10 and 10 < 20"
   ]
  },
  {
   "cell_type": "code",
   "execution_count": null,
   "metadata": {},
   "outputs": [],
   "source": [
    "5 < 10 or 10 < 20"
   ]
  },
  {
   "cell_type": "code",
   "execution_count": null,
   "metadata": {},
   "outputs": [],
   "source": [
    "5 < 10 or 10 > 20"
   ]
  },
  {
   "cell_type": "markdown",
   "metadata": {},
   "source": [
    "### Short-circuit evaluation\n",
    "\n",
    "Python uses [\"short-circuit\" evaluation](http://en.wikipedia.org/wiki/Short-circuit_evaluation) of logical expressions if the value of subsequent terms can't affect the result.  \n",
    "\n",
    "\n",
    "#### Example 4: "
   ]
  },
  {
   "cell_type": "code",
   "execution_count": null,
   "metadata": {},
   "outputs": [],
   "source": [
    "1 < 0 and max(0, 1, 2) > 1"
   ]
  },
  {
   "cell_type": "markdown",
   "metadata": {},
   "source": [
    "`False` since the first operand is `False` regrardless of the following part of expression.  \n",
    "\n",
    "There is no way that the full expression could ever evalute to `True` and so Python __skips the evaluation of the second operand__, and returns `False` straight away. This is called __short-circuit evaluation__."
   ]
  },
  {
   "cell_type": "markdown",
   "metadata": {},
   "source": [
    "#### Example 5: What do you expect from the following two logical expressions, respectively?\n",
    "\n",
    "1. `1 > 4 and 5 < xx`\n",
    "1. `1 > 4 or 5 < xx`\n",
    "\n",
    "Possible choices:\n",
    "1. Name error\n",
    "1. Type error\n",
    "1. True \n",
    "1. False"
   ]
  },
  {
   "cell_type": "code",
   "execution_count": null,
   "metadata": {},
   "outputs": [],
   "source": [
    "1 > 4 and 5 < xx"
   ]
  },
  {
   "cell_type": "code",
   "execution_count": null,
   "metadata": {},
   "outputs": [],
   "source": [
    "1 > 4 or 5 < xx"
   ]
  },
  {
   "cell_type": "markdown",
   "metadata": {},
   "source": [
    "#### Example 6:  What is the evaluation of the following expreesion?"
   ]
  },
  {
   "cell_type": "code",
   "execution_count": null,
   "metadata": {},
   "outputs": [],
   "source": [
    "a = 50\n",
    "a < 10 or a > 100"
   ]
  },
  {
   "cell_type": "markdown",
   "metadata": {},
   "source": [
    "Python's `or` operator works in a similar way. The short-circuit evaluation works here since the first operand is `True`:\n",
    "\n",
    "#### Example 7:  What is the evaluation of the following expreesion?"
   ]
  },
  {
   "cell_type": "code",
   "execution_count": null,
   "metadata": {},
   "outputs": [],
   "source": [
    "b = 0\n",
    "b < 10 or b > yy   # second term won't be evaluated"
   ]
  },
  {
   "cell_type": "markdown",
   "metadata": {},
   "source": [
    "And finally, the `not` operation inverts the value of the argument:"
   ]
  },
  {
   "cell_type": "code",
   "execution_count": null,
   "metadata": {},
   "outputs": [],
   "source": [
    "not 10 <= a <= 90"
   ]
  },
  {
   "cell_type": "markdown",
   "metadata": {},
   "source": [
    "#### Example 8:\n",
    "Write a logical expression which evaluates an age to be `True` if the age is a teenage. The teenage means between 13 and 19 inclusively."
   ]
  },
  {
   "cell_type": "code",
   "execution_count": null,
   "metadata": {},
   "outputs": [],
   "source": [
    "age = 15\n",
    "# write a logical expression below to determine whether or not age is teen.\n",
    "\n",
    "13 <= age <= 19"
   ]
  },
  {
   "cell_type": "markdown",
   "metadata": {},
   "source": [
    "------------------\n",
    "\n",
    "# Homework \n",
    "\n",
    "코딩을 처음 배우는 학습자는 다음 문제들 중에서 여러 방법으로 코딩할 수 있는 문제는 단 하나의 방법으로만 코딩해도 됩니다. \n",
    "\n",
    "## 1. Given an integer number, print its last digit.\n",
    "\n",
    "Print the last digit of a which is an integer.\n",
    "\n",
    "For example, print `5` if `35`, `6` if `6`, and `9` if `5679`. \n",
    "\n"
   ]
  },
  {
   "cell_type": "markdown",
   "metadata": {},
   "source": [
    "#### Method 1: Using any arithmetic operators. \n",
    "- Often we use both modulus `%` operator and floor division `//`. "
   ]
  },
  {
   "cell_type": "code",
   "execution_count": null,
   "metadata": {},
   "outputs": [],
   "source": [
    "# Read an integer:\n",
    "a = input(\"Enter an integer number: \")\n",
    "print(type(a))\n",
    "# using mod % operator\n"
   ]
  },
  {
   "cell_type": "markdown",
   "metadata": {},
   "source": [
    "#### Method 2: Using `len()` and indexing "
   ]
  },
  {
   "cell_type": "code",
   "execution_count": null,
   "metadata": {},
   "outputs": [],
   "source": [
    "# Read an integer as a string\n",
    "s = input(\"Enter an integer number: \")\n",
    "print(type(s))\n",
    "# Using len() and indexing  \n"
   ]
  },
  {
   "cell_type": "markdown",
   "metadata": {},
   "source": [
    "#### Method 3: Using indexing "
   ]
  },
  {
   "cell_type": "code",
   "execution_count": null,
   "metadata": {},
   "outputs": [],
   "source": [
    "# Read an integer as a string\n",
    "s = input(\"Enter an integer number: \")\n",
    "print(type(s))\n",
    "# using indexing \n",
    "\n"
   ]
  },
  {
   "cell_type": "markdown",
   "metadata": {},
   "source": [
    "## 2. Given a three-digit number. Find the sum of its digits.\n",
    "\n",
    "Print the sum of three-digit number which is an integer.\n",
    "\n",
    "For example, print `10` if `316`, `13` if `256`, `18` if `567`. \n",
    "\n",
    "#### Method 1: Using % (mod operator) and // (integer division)"
   ]
  },
  {
   "cell_type": "code",
   "execution_count": null,
   "metadata": {},
   "outputs": [],
   "source": [
    "a = int(input(\"3 digit number: \"))\n",
    "x = None                 # get 100's \n",
    "y = None                 # get 10's\n",
    "z = None                 # get 1's\n",
    "print (x + y + z)"
   ]
  },
  {
   "cell_type": "code",
   "execution_count": null,
   "metadata": {},
   "outputs": [],
   "source": [
    "a = int(input(\"3 digit number: \"))\n",
    "x = None                 # get 100's \n",
    "y = None                 # get 10's\n",
    "z = None                 # get 1's\n",
    "print (x + y + z)"
   ]
  },
  {
   "cell_type": "markdown",
   "metadata": {},
   "source": [
    "#### Method 2: Sum all digits any number of digits and using str() and for loop"
   ]
  },
  {
   "cell_type": "code",
   "execution_count": null,
   "metadata": {},
   "outputs": [],
   "source": [
    "int_str = input(\"Enter an int number: \")\n",
    "sum = 0\n",
    "for ch in int_str:\n",
    "    sum += int(ch)\n",
    "print(sum)"
   ]
  },
  {
   "cell_type": "code",
   "execution_count": null,
   "metadata": {},
   "outputs": [],
   "source": [
    "int_str = input(\"Enter an int number: \")\n",
    "sum = 0\n",
    "for x in range(len(int_str)):\n",
    "    sum += int(int_str[x])\n",
    "print(sum)"
   ]
  },
  {
   "cell_type": "markdown",
   "metadata": {},
   "source": [
    "#### Method 4 - Using list comprehension"
   ]
  },
  {
   "cell_type": "code",
   "execution_count": 2,
   "metadata": {},
   "outputs": [
    {
     "name": "stdout",
     "output_type": "stream",
     "text": [
      "Enter an int number: 12345\n",
      "15\n"
     ]
    }
   ],
   "source": [
    "int_str = input(\"Enter an int number: \")\n",
    "total = sum([int(i) for i in int_str])\n",
    "print(total)"
   ]
  },
  {
   "cell_type": "code",
   "execution_count": 2,
   "metadata": {},
   "outputs": [
    {
     "name": "stdout",
     "output_type": "stream",
     "text": [
      "Enter an int number: 12345\n",
      "15\n"
     ]
    }
   ],
   "source": [
    "int_str = input(\"Enter an int number: \")\n",
    "total = sum([int(i) for i in int_str])\n",
    "print(total)\n"
   ]
  },
  {
   "cell_type": "markdown",
   "metadata": {},
   "source": [
    "## 3. Clock displays military time\n",
    "\n",
    "The integer N given is the number of minutes that is passed since midnight. Display the hour and minute in military time. The program should print two numbers: the number of hours (between 0 and 23) and the number of minutes (between 0 and 59). \n",
    "\n",
    "For example, if N = 150, then 150 minutes have passed since midnight - i.e. now is 2:30 am. So the program should print 2:30. Diplay 16:40 for 1000, 9:20 for 2000. "
   ]
  },
  {
   "cell_type": "code",
   "execution_count": 7,
   "metadata": {},
   "outputs": [
    {
     "name": "stdout",
     "output_type": "stream",
     "text": [
      "444\n",
      "7 : 24\n",
      "07:24\n"
     ]
    }
   ],
   "source": [
    "# Read an integer:\n",
    "a = int(input())\n",
    "a = a % (24 * 60)\n",
    "print(a // 60, ':', a % 60)\n",
    "# print 3:0 for 180, 7:24 for 444, 18:31 for 1111, 23:59 for 1439 \n",
    "print('{:02d}:{:02d}'.format(a // 60, a % 60))"
   ]
  },
  {
   "cell_type": "markdown",
   "metadata": {},
   "source": [
    "## 4. Equal numbers\n",
    "\n",
    "Given three integers, determine how many of them are equal to each other. The program must print one of these numbers: 3 (if all are the same), 2 (if two of them are equal to each other and the third is different) or 0 (if all numbers are different)."
   ]
  },
  {
   "cell_type": "code",
   "execution_count": 12,
   "metadata": {},
   "outputs": [
    {
     "name": "stdout",
     "output_type": "stream",
     "text": [
      "x:2\n",
      "y:3\n",
      "z:3\n",
      "2\n"
     ]
    }
   ],
   "source": [
    "# Read an integer:\n",
    "x = int(input(\"x:\"))\n",
    "y = int(input(\"y:\"))\n",
    "z = int(input(\"z:\"))\n",
    "ans = len(set([x, y, z]))\n",
    "if ans == 3:\n",
    "    print(3)\n",
    "else:\n",
    "    print(4 - ans)"
   ]
  },
  {
   "cell_type": "code",
   "execution_count": null,
   "metadata": {},
   "outputs": [],
   "source": []
  },
  {
   "cell_type": "markdown",
   "metadata": {},
   "source": [
    "--------\n",
    "__The LORD bless you and keep you.__ Numbers 6:24"
   ]
  }
 ],
 "metadata": {
  "kernelspec": {
   "display_name": "Python 3",
   "language": "python",
   "name": "python3"
  },
  "language_info": {
   "codemirror_mode": {
    "name": "ipython",
    "version": 3
   },
   "file_extension": ".py",
   "mimetype": "text/x-python",
   "name": "python",
   "nbconvert_exporter": "python",
   "pygments_lexer": "ipython3",
   "version": "3.7.7"
  }
 },
 "nbformat": 4,
 "nbformat_minor": 1
}
