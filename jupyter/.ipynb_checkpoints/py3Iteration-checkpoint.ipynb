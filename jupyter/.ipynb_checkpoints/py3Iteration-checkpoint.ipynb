{
 "cells": [
  {
   "cell_type": "markdown",
   "metadata": {},
   "source": [
    "# Welcome to \"CrushPython\"\n",
    "\n",
    "__So whether you eat or drink or whatever you do, do it all for the glory of God.__ \n",
    "1 Corinthians 10:31\n",
    "\n",
    "\n",
    "------"
   ]
  },
  {
   "cell_type": "markdown",
   "metadata": {},
   "source": [
    "__NOTE:__ The following materials have been compiled and adapted from the numerous sources including my own. Please help me to keep this tutorial up-to-date by reporting any issues or questions. Send any comments or criticisms to `idebtor@gmail.com` Your assistances and comments will be appreciated."
   ]
  },
  {
   "cell_type": "markdown",
   "metadata": {},
   "source": [
    "# Revisit Data Types \n",
    "\n",
    "\n",
    "- Primitive data types: `int, float, complex, bool, str`\n",
    "- Collection data types: `list, tuple, dict, set` \n",
    "\n",
    "#### Example: "
   ]
  },
  {
   "cell_type": "code",
   "execution_count": null,
   "metadata": {},
   "outputs": [],
   "source": [
    "fruits = [\"apple\", \"banana\", \"kiwi\", \"orange\"]    #list - mutable, ordered\n",
    "counts = (5, 7, 3)                                #tuple - immutable, ordered\n",
    "stocks = {'apple': 5 , 'banana': 7, 'orange': 3}  #dictionary - key:value pair, not ordered\n",
    "cities = {'daegue', 'pusan', 'jeju' , 'pohang'}   #set - no duplicate, not ordered"
   ]
  },
  {
   "cell_type": "markdown",
   "metadata": {},
   "source": [
    "---------\n",
    "\n",
    "# Lesson - Iteration \n",
    "\n",
    "------------\n",
    "\n",
    "# 1. Iteration using for loop  \n",
    "\n",
    "__Iteration__ means executing the same block of code over and over, potentially many times. A programming structure that implements iteration is called a loop. \n",
    "Often the program needs to repeat some code many times. That's where the loops come in handy. There are `for` and `while` loop operators in Python, in this lesson we cover for."
   ]
  },
  {
   "cell_type": "markdown",
   "metadata": {},
   "source": [
    "The `for` loop iterates over any sequence that is either a list, a tuple, a dictionary, a set, or a string.\n",
    "With the `for` loop we can execute a set of statements, once for each item in a list, tuple, set etc.\n",
    "\n",
    "For instance, you may print each fruit in a fruit list:\n",
    "```\n",
    "apple\n",
    "banana\n",
    "kiwi\n",
    "orange\n",
    "```"
   ]
  },
  {
   "cell_type": "code",
   "execution_count": null,
   "metadata": {},
   "outputs": [],
   "source": [
    "fruits = [\"apple\", \"banana\", \"kiwi\", \"orange\"]    #list - mutable, ordered\n",
    "\n",
    "None"
   ]
  },
  {
   "cell_type": "markdown",
   "metadata": {},
   "source": [
    "The for loop does not require an indexing variable to set beforehand.\n",
    "\n",
    "Even strings are iterable objects, they contain a sequence of characters. You may loop through the letters in the word `apple`:\n",
    "```\n",
    "a\n",
    "p\n",
    "p\n",
    "l\n",
    "e\n",
    "```"
   ]
  },
  {
   "cell_type": "code",
   "execution_count": 1,
   "metadata": {},
   "outputs": [
    {
     "name": "stdout",
     "output_type": "stream",
     "text": [
      "a\n",
      "p\n",
      "p\n",
      "l\n",
      "e\n"
     ]
    }
   ],
   "source": [
    "for ch in \"apple\":\n",
    "    print(ch)"
   ]
  },
  {
   "cell_type": "markdown",
   "metadata": {},
   "source": [
    "## The break statement\n",
    "With the break statement we can stop the loop before it has looped through all the items:\n",
    "\n",
    "For example, While print each fruit in the fruit list, exit the loop when it encounters \"kiwi\" without printing it. \n",
    "```\n",
    "apple\n",
    "banana\n",
    "```"
   ]
  },
  {
   "cell_type": "code",
   "execution_count": null,
   "metadata": {},
   "outputs": [],
   "source": [
    "fruits = [\"apple\", \"banana\", \"kiwi\", \"orange\"]    #list - mutable, ordered\n",
    "\n",
    "None"
   ]
  },
  {
   "cell_type": "markdown",
   "metadata": {},
   "source": [
    "## Nested loops\n",
    "\n",
    "A nested loop is a loop inside a loop.\n",
    "\n",
    "The \"inner loop\" will be executed one time for each iteration of the \"outer loop\":\n",
    "```\n",
    "red apple\n",
    "red banana\n",
    "red kiwi\n",
    "big apple\n",
    "big banana\n",
    "big kiwi\n",
    "tasty apple\n",
    "tasty banana\n",
    "tasty kiwi\n",
    "```"
   ]
  },
  {
   "cell_type": "code",
   "execution_count": null,
   "metadata": {},
   "outputs": [],
   "source": [
    "looks = [\"red\", \"big\", \"tasty\"]\n",
    "fruits = [\"apple\", \"banana\", \"kiwi\"]    #list - mutable, ordered\n",
    "\n",
    "None"
   ]
  },
  {
   "cell_type": "markdown",
   "metadata": {},
   "source": [
    "#### Example 1: \n",
    "\n",
    "Print each fruit in a list and add \"my favorite\" if it encounters \"kiwi\".as shown below:\n",
    "\n",
    "```\n",
    "fruits = [\"apple\", \"banana\", \"kiwi\", \"orange\"]\n",
    "```\n",
    "\n",
    "Expected output:\n",
    "```\n",
    "apple\n",
    "banana\n",
    "kiwi - my favorite\n",
    "orange\n",
    "```"
   ]
  },
  {
   "cell_type": "code",
   "execution_count": null,
   "metadata": {},
   "outputs": [],
   "source": [
    "fruits = [\"apple\", \"banana\", \"kiwi\", \"orange\"]    #list - mutable, ordered\n",
    "\n",
    "None"
   ]
  },
  {
   "cell_type": "markdown",
   "metadata": {},
   "source": [
    "#### Example 2: Using `for` loop, print `hello` in one line.\n",
    "\n",
    "Expected output:\n",
    "\n",
    "```\n",
    "h e l l o \n",
    "```\n",
    "\n",
    "__Hint__: By default, the function `print()` prints all its arguments separating them by a space and the puts a newline symbol after it. This behavior can be changed using keyword arguments `sep` (separator) and `end`."
   ]
  },
  {
   "cell_type": "code",
   "execution_count": null,
   "metadata": {},
   "outputs": [],
   "source": [
    "# print each letter using for loop in a row\n",
    "None"
   ]
  },
  {
   "cell_type": "markdown",
   "metadata": {},
   "source": [
    "\n",
    "#### Example 3: Using `for` loop, print `hello` in one line wihtout spaces between chars.\n",
    "Expected output:\n",
    "```\n",
    "hello\n",
    "```"
   ]
  },
  {
   "cell_type": "code",
   "execution_count": null,
   "metadata": {},
   "outputs": [],
   "source": [
    "# print each letter using for loop in a row without spaces\n",
    "None"
   ]
  },
  {
   "cell_type": "markdown",
   "metadata": {},
   "source": [
    "#### Example 4: Print `12:3` when `hour = 12` and `min = 3` are given.\n",
    "\n",
    "Expected output:\n",
    "```\n",
    "12:3\n",
    "```"
   ]
  },
  {
   "cell_type": "code",
   "execution_count": null,
   "metadata": {},
   "outputs": [],
   "source": [
    "hour = 12\n",
    "min = 3\n",
    "print(None)"
   ]
  },
  {
   "cell_type": "markdown",
   "metadata": {},
   "source": [
    "#### Example 5: Using print format - Print the following hours and mins.\n",
    "\n",
    "```\n",
    "12:03\n",
    "02:05\n",
    "01:45\n",
    "23:32\n",
    "```\n",
    "\n",
    "__step.1__  `12:3` - it may use 'sep=''' separator option "
   ]
  },
  {
   "cell_type": "code",
   "execution_count": null,
   "metadata": {},
   "outputs": [],
   "source": [
    "print(None)"
   ]
  },
  {
   "cell_type": "markdown",
   "metadata": {},
   "source": [
    "__step.2__  `12: 3`"
   ]
  },
  {
   "cell_type": "code",
   "execution_count": null,
   "metadata": {},
   "outputs": [],
   "source": [
    "print(None)"
   ]
  },
  {
   "cell_type": "markdown",
   "metadata": {},
   "source": [
    "__step.3__  `12:03`"
   ]
  },
  {
   "cell_type": "code",
   "execution_count": null,
   "metadata": {},
   "outputs": [],
   "source": [
    "print(None)"
   ]
  },
  {
   "cell_type": "markdown",
   "metadata": {},
   "source": [
    "__step.4__  \n",
    "```\n",
    "12:03\n",
    "02:05\n",
    "01:45\n",
    "23:32\n",
    "```"
   ]
  },
  {
   "cell_type": "code",
   "execution_count": null,
   "metadata": {},
   "outputs": [],
   "source": [
    "hours = [12, 2,  1, 23]\n",
    "mins  = [ 3, 5, 45, 32]  \n",
    "None"
   ]
  },
  {
   "cell_type": "markdown",
   "metadata": {},
   "source": [
    "# 2. Iteration with for loop & range()\n",
    "\n",
    "Another use case for a for-loop is to iterate some integer variable in increasing or decreasing order. Such a sequence of integer can be created using the built-in function `range()`. The `range()` function returns a sequence of numbers, starting from 0 by default, and increments by 1 (by default), and ends at a specified number.\n",
    "\n",
    "__Syntax__\n",
    "\n",
    "```\n",
    "class range(stop)\n",
    "    - returns a sequence of numbers starting from 0 to stop - 1\n",
    "class range(start, stop[, step])\n",
    "    - returns the range of integers end at stop - 1.\n",
    "```\n",
    "\n",
    "__Parameters__\n",
    "\n",
    "- `start` - integer starting from which the sequence is returned\n",
    "- `stop`  - integer before which the sequence of integers is to be returned.\n",
    "- `step` (Optional) - integer value which determines the step in the sequence\n",
    "    \n",
    "The function `range(stop)` means that `start` is implicitly set to `0`:"
   ]
  },
  {
   "cell_type": "markdown",
   "metadata": {},
   "source": [
    "#### Example 1: Generate numbers from 0 to 5 and print them as shown below:\n",
    "```\n",
    "0, 1, 2, 3, 4, 5, \n",
    "```\n",
    "\n",
    "- Check what `range(6)` returns. "
   ]
  },
  {
   "cell_type": "code",
   "execution_count": null,
   "metadata": {},
   "outputs": [],
   "source": [
    "iter = range(6)\n",
    "for i in range(6):\n",
    "    print(i, end=', ')"
   ]
  },
  {
   "cell_type": "markdown",
   "metadata": {},
   "source": [
    "### Using `start` and `end` parameters in `range()`\n",
    "\n",
    "- Function `range(start, stop)` generates a sequence with numbers `start, start + 1, ..., start - 1`. \n",
    "- __The last number in `stop` is not included__.\n",
    "\n",
    "#### Example 2: Print the table of n cubed where n is 1 to 10 as shown below:\n",
    "\n",
    "```\n",
    "1 cubed is 1\n",
    "2 cubed is 8\n",
    "3 cubed is 27\n",
    "4 cubed is 64\n",
    "5 cubed is 125\n",
    "6 cubed is 216\n",
    "7 cubed is 343\n",
    "8 cubed is 512\n",
    "9 cubed is 729\n",
    "10 cubed is 1000\n",
    "```\n"
   ]
  },
  {
   "cell_type": "code",
   "execution_count": null,
   "metadata": {},
   "outputs": [],
   "source": [
    "for i in None:\n",
    "    None"
   ]
  },
  {
   "cell_type": "markdown",
   "metadata": {},
   "source": [
    "#### Example 3: Given an integer n = 10, sum number from 0 to n.\n",
    "\n",
    "Expected output:\n",
    "```\n",
    "Sum from 1 to 10 is 55\n",
    "```"
   ]
  },
  {
   "cell_type": "code",
   "execution_count": null,
   "metadata": {},
   "outputs": [],
   "source": [
    "n = 10\n",
    "sum = 0\n",
    "for i in None:\n",
    "    None\n",
    "\n",
    "print('Sum from 1 to {} is {}'.format(n, sum))"
   ]
  },
  {
   "cell_type": "markdown",
   "metadata": {},
   "source": [
    "#### Example 4: \n",
    "\n",
    "Count down a number starting n and print `blast off`. Complete the code to produce the following output when N = 5.\n",
    "\n",
    "```\n",
    "5\n",
    "4\n",
    "3\n",
    "2\n",
    "1\n",
    "blast off\n",
    "```\n",
    "\n",
    "#### Using a negative step size `-1`"
   ]
  },
  {
   "cell_type": "code",
   "execution_count": null,
   "metadata": {},
   "outputs": [],
   "source": [
    "N = int(input(\"Enter N: \"))\n",
    "for i in None:\n",
    "    print(None)\n",
    "print(\"blast off\")"
   ]
  },
  {
   "cell_type": "markdown",
   "metadata": {},
   "source": [
    "#### Using `range(N)`"
   ]
  },
  {
   "cell_type": "code",
   "execution_count": null,
   "metadata": {},
   "outputs": [],
   "source": [
    "N = int(input(\"Enter N: \"))\n",
    "for i in None:\n",
    "    print(None)\n",
    "    \n",
    "print(\"blast off\")"
   ]
  },
  {
   "cell_type": "markdown",
   "metadata": {},
   "source": [
    "# 3. Enumerate()\n",
    "\n",
    "Python gives you the luxury of iterating directly over the values of the list (or iterables) which is most of the time what you need. However, there are times when you actually need the index of the item as well.\n",
    "\n",
    "__Syntax__:\n",
    "```\n",
    "enumerate(iterable, start=0)\n",
    "```\n",
    "\n",
    "__Parameters__:\n",
    "- `iterable`: any object that supports iteration\n",
    "- `start`: the index value from which the counter is to be started, by default it is 0 "
   ]
  },
  {
   "cell_type": "markdown",
   "metadata": {},
   "source": [
    "              \n",
    "#### Example 1: Print a list in three different ways.\n",
    "\n",
    "Given list of car names, `cars = ['kia', 'audi', 'bmw', 'genesis']`, list car names with sequential numbers.\n",
    "\n",
    "\n",
    "#### Expected output(Case 1):\n",
    "\n",
    "```\n",
    "kia\n",
    "audi\n",
    "bmw\n",
    "genesis\n",
    "```"
   ]
  },
  {
   "cell_type": "code",
   "execution_count": null,
   "metadata": {},
   "outputs": [],
   "source": [
    "cars = ['kia', 'audi', 'bmw', 'genesis']\n",
    "for car in None:\n",
    "    print(car)"
   ]
  },
  {
   "cell_type": "markdown",
   "metadata": {},
   "source": [
    "#### Expected output(Case 2):\n",
    "```\n",
    "(1, 'kia')\n",
    "(2, 'audi')\n",
    "(3, 'bmw')\n",
    "(4, 'genesis')\n",
    "```"
   ]
  },
  {
   "cell_type": "code",
   "execution_count": null,
   "metadata": {},
   "outputs": [],
   "source": [
    "cars = ['kia', 'audi', 'bmw', 'genesis']\n",
    "for car in None:\n",
    "    print(car)"
   ]
  },
  {
   "cell_type": "markdown",
   "metadata": {},
   "source": [
    "#### Expected output(Case 3):\n",
    "```\n",
    "1 kia\n",
    "2 audi\n",
    "3 bmw\n",
    "4 genesis\n",
    "```"
   ]
  },
  {
   "cell_type": "code",
   "execution_count": null,
   "metadata": {},
   "outputs": [],
   "source": [
    "cars = ['kia', 'audi', 'bmw', 'genesis']\n",
    "for i, car in None:\n",
    "    print(None, None)"
   ]
  },
  {
   "cell_type": "markdown",
   "metadata": {},
   "source": [
    "#### Example 2: Print a list with its index\n",
    "\n",
    "Given list of names, `friends = ['Jane', 'Peter', 'John', 'Lee']`, modify the code cell such that it prouce the list with sequential numbers.\n",
    "\n",
    "```\n",
    "1: Jane\n",
    "2: Peter\n",
    "3: John\n",
    "4: Lee\n",
    "```\n",
    "\n",
    "####  Solution 1: Using an index but without using enumerate()"
   ]
  },
  {
   "cell_type": "code",
   "execution_count": null,
   "metadata": {},
   "outputs": [],
   "source": [
    "for i in None:\n",
    "    print(i + 1, None, None)"
   ]
  },
  {
   "cell_type": "markdown",
   "metadata": {},
   "source": [
    "####  Solution 2: with using enumerate()"
   ]
  },
  {
   "cell_type": "code",
   "execution_count": null,
   "metadata": {},
   "outputs": [],
   "source": [
    "for i, friend in None:\n",
    "    print(i, None, None)"
   ]
  },
  {
   "cell_type": "markdown",
   "metadata": {},
   "source": [
    "# Homework\n",
    "\n",
    "### 1. Count to N\n",
    "\n",
    "Get an integer N from the user, print all the numbers from 1 to N twice as shown below.\n",
    "```\n",
    "1\n",
    "2\n",
    "3\n",
    "4\n",
    "5\n",
    "1 2 3 4 5\n",
    "```"
   ]
  },
  {
   "cell_type": "code",
   "execution_count": null,
   "metadata": {},
   "outputs": [],
   "source": [
    "N = int(input(\"Enter N: \"))\n",
    "None"
   ]
  },
  {
   "cell_type": "markdown",
   "metadata": {},
   "source": [
    "## 2. Print even numbers twice\n",
    "\n",
    "Given an integer N, print all even numbers from 0 to N in ascending order and descending order\n",
    "\n",
    "Sample runs:\n",
    "```\n",
    "Enter N: 5\n",
    "0 2 4 \n",
    "4 2 0\n",
    "\n",
    "Enter N: 10\n",
    "0 2 4 6 8 10 \n",
    "10 8 6 4 2 0\n",
    "\n",
    "Enter N: 11\n",
    "0 2 4 6 8 10 \n",
    "10 8 6 4 2 0\n",
    "```"
   ]
  },
  {
   "cell_type": "code",
   "execution_count": null,
   "metadata": {},
   "outputs": [],
   "source": [
    "N = int(input(\"Enter N: \"))\n",
    "None\n",
    "print()\n",
    "\n",
    "None"
   ]
  },
  {
   "cell_type": "markdown",
   "metadata": {},
   "source": [
    "## 3. Print every other character in a string \n",
    "\n",
    "Given a string, print every other character. You may need to use a for-loop, if, len(), and range(). \n",
    "\n",
    "Sample runs:\n",
    "```\n",
    "Enter a string: hello\n",
    "h l o \n",
    "\n",
    "Enter a string: Hello World\n",
    "H l o W r d \n",
    "\n",
    "Enter a string: Hello World!\n",
    "H l o W r d \n",
    "\n",
    "```"
   ]
  },
  {
   "cell_type": "code",
   "execution_count": null,
   "metadata": {},
   "outputs": [],
   "source": [
    "str = input(\"Enter a string: \")\n",
    "None\n"
   ]
  },
  {
   "cell_type": "markdown",
   "metadata": {},
   "source": [
    "## 4. Ladder \n",
    "\n",
    "For given integer n ≤ 9 print a ladder of n steps. The k-th step consists of the integers from 1 to k without spaces between them.\n",
    "To do that, you can use the sep and end arguments for the function print().\n",
    "\n",
    "```\n",
    "Enter N: 5\n",
    "1\n",
    "12\n",
    "123\n",
    "1234\n",
    "12345\n",
    "\n",
    "Enter N: 3\n",
    "1\n",
    "12\n",
    "123\n",
    "```"
   ]
  },
  {
   "cell_type": "code",
   "execution_count": null,
   "metadata": {},
   "outputs": [],
   "source": [
    "N = int(input('Enter N: '))\n",
    "None"
   ]
  },
  {
   "cell_type": "markdown",
   "metadata": {},
   "source": [
    "## 5. Stair\n",
    "For given positive integer N ≤ 9 print a stair of N steps. The k-th step consists of k of 1's  without spaces between them.\n",
    "To do that, you can use the sep and end arguments for the function print().\n",
    "\n",
    "```\n",
    "Enter N: 5\n",
    "1\n",
    "11\n",
    "111\n",
    "1111\n",
    "11111\n",
    "\n",
    "Enter N: 4\n",
    "1\n",
    "11\n",
    "111\n",
    "1111\n",
    "```"
   ]
  },
  {
   "cell_type": "code",
   "execution_count": null,
   "metadata": {},
   "outputs": [],
   "source": []
  },
  {
   "cell_type": "markdown",
   "metadata": {},
   "source": [
    "## 6. Print the sum of its digits.\n",
    "\n",
    "For example, print `10` if `316`, `13` if `256`, `26` if `5678`. "
   ]
  },
  {
   "cell_type": "markdown",
   "metadata": {},
   "source": [
    "#### Method 1: __Sum all digits for any number of digits and using str() and for loop__"
   ]
  },
  {
   "cell_type": "code",
   "execution_count": null,
   "metadata": {},
   "outputs": [],
   "source": [
    "# Read an integer as a string:\n",
    "s = input(\"Enter an int number: \")\n",
    "# for example, print 6 if a is 123, 18 if a is 369. \n",
    "sum = 0\n",
    "\n",
    "None\n",
    "\n",
    "print(sum)"
   ]
  },
  {
   "cell_type": "markdown",
   "metadata": {},
   "source": [
    "#### Method 2: Using indexing for for"
   ]
  },
  {
   "cell_type": "code",
   "execution_count": null,
   "metadata": {},
   "outputs": [],
   "source": [
    "# Read an integer as a string:\n",
    "s = input(\"Enter an int number: \")\n",
    "# for example, print 6 if a is 123, 18 if a is 369. \n",
    "sum = 0\n",
    "\n",
    "None\n",
    "\n",
    "print(sum)"
   ]
  },
  {
   "cell_type": "markdown",
   "metadata": {},
   "source": [
    "#### Method 3: Do it for any number of digits and using while loop"
   ]
  },
  {
   "cell_type": "code",
   "execution_count": null,
   "metadata": {},
   "outputs": [],
   "source": [
    "# Read an integer:\n",
    "n = int(input(\"Enter an int number: \"))\n",
    "# for example, print 6 if a is 123, 18 if a is 369. \n",
    "sum = 0\n",
    "\n",
    "None\n",
    "    \n",
    "print(sum)"
   ]
  },
  {
   "cell_type": "markdown",
   "metadata": {},
   "source": [
    "---------\n",
    "__\"Everything is permissible\" - but not everything is beneficial. \"Everything is permissible\" - but not everything is constructive.__\n",
    "1 Corinthians 10:23\n",
    "    "
   ]
  }
 ],
 "metadata": {
  "kernelspec": {
   "display_name": "Python 3",
   "language": "python",
   "name": "python3"
  },
  "language_info": {
   "codemirror_mode": {
    "name": "ipython",
    "version": 3
   },
   "file_extension": ".py",
   "mimetype": "text/x-python",
   "name": "python",
   "nbconvert_exporter": "python",
   "pygments_lexer": "ipython3",
   "version": "3.7.7"
  }
 },
 "nbformat": 4,
 "nbformat_minor": 1
}
