{
 "cells": [
  {
   "cell_type": "markdown",
   "metadata": {},
   "source": [
    "너는 청년의 때에 너의 창조주를 기억하라 곧 곤고한 날이 이르기 전에, 나는 아무 낙이 없다고 할 해들이 가깝기 전에 (전12:1)\n",
    "\n",
    "-------\n",
    "\n",
    "<center><img src=\"https://github.com/idebtor/KMOOC-ML/blob/master/ipynb/images/joyai/LectureNotes_ML.png?raw=true\" width=1000></center>\n",
    "\n",
    "__NOTE:__ The following materials have been compiled and adapted from the numerous sources including my own. Please help me to keep this tutorial up-to-date by reporting any issues or questions. Send any comments or criticisms to `idebtor@gmail.com` Your assistances and comments will be appreciated."
   ]
  },
  {
   "cell_type": "markdown",
   "metadata": {},
   "source": [
    "# Jupyter\n",
    "\n",
    "주피터는 코드 실행, 텍스트, 수학, 플롯 등을 하나의 문서로 결합할 수 있는 웹 기반 대화형 개발환경입니다. 이러한 파일의 확장자는 ipynb입니다. 주피터는 코드 또는 문서를 포함하는 일련의 셀로 구성됩니다.\n",
    "\n",
    "- If you are new to Python see http://python.org - it will be best to spend some time learning basic Python syntax before attempting the interactive parts of these lessons.\n",
    "\n",
    "- If you are new to Jupyter Notebook see http://ipython.org/notebook - prepare to be impressed.\n",
    "\n",
    "- If you are new to numpy/scipy/matplotlib/pandas see http://www.scipy.org/ - it is not necessary to have a mastery of all these to get value out of these lessons.  However the more you know these technologies the faster you will be able to apply these techniques immediately."
   ]
  },
  {
   "cell_type": "markdown",
   "metadata": {},
   "source": [
    "# Why Jupyter?\n",
    "\n",
    "네이처 지의 Toolbox 섹션에 [“Why Jupyter is data scientists’ computational notebook of choice”](https://www.nature.com/articles/d41586-018-07196-1)(주피터가 데이터 과학자를 위한 선택된 계산용 노트북이 된 이유는?)라는 글이 실릴 정도로 주피터 노트북은 데이터 과학자들 사이에서 사랑을 받고 있습니다. \n",
    "\n",
    "<center><img attr=\"center\" src=\"https://github.com/idebtor/KMOOC-ML/blob/master/ipynb/images/joyai/nb_why_jupyter.png?raw=true\"></center>\n",
    "<center>그림 1: 주피터가 왜 데이터 과학자를 위한 노트북인가?(Nature's Article) </center>"
   ]
  },
  {
   "cell_type": "markdown",
   "metadata": {},
   "source": [
    "더불어 Python도 역시 엔지니어링뿐만 아니라 인문 사회학계를 포함하여 모든 학계에서 가장 선호하는 프로그래밍 언어가 되었습니다. 주피터 노트북에서는 다른 언어도 지원하지만, 파이썬이 가장 많이 사용되고 있습니다. \n",
    "\n",
    "특별히, 인공지능과 머신러닝의 데이터 분석에는 주피터 노트북과 파이썬이 단연 압도적으로 인기를 끌고 있습니다. 우리가 이번 학기에 이 세 가지를 모두 조금씩 다루어 보면서 경험해 보면서, 여러분 각자가 앞으로 더 깊이 있는 전공 공부를 할 수 있는 디딤돌을 놓으려고 합니다.  "
   ]
  },
  {
   "cell_type": "markdown",
   "metadata": {},
   "source": [
    "우선, 인공지능이나 머신러닝에 주피터 노트북을 사용해야 하는 이유를 알아보면, 여기에 다 열거할 수 없을 정도입니다. [참고](https://medium.com/@salaryup/%EB%A8%B8%EC%8B%A0%EB%9F%AC%EB%8B%9D%EC%97%90-%ED%8C%8C%EC%9D%B4%EC%8D%AC-%EB%85%B8%ED%8A%B8%EB%B6%81%EC%9D%84-%EC%82%AC%EC%9A%A9%ED%95%B4%EC%95%BC-%ED%95%98%EB%8A%94-10%EA%B0%80%EC%A7%80-%EC%9D%B4%EC%9C%A0-feat-%ED%81%B4%EB%A6%B0%EC%BD%94%EB%93%9C-d7c170925309) \n",
    "\n",
    "1. __문서에 다양한 표현 수단을 제공한다.__ 파이썬 노트북은 코드, 텍스트, 그래프, 이미지, 비디오, 수식, 지도를 문서 하나에 모두 통합해서 표현할 수 있다.\n",
    "\n",
    "1. __공유가 손쉽다.__ 파이썬 노트북은 텍스트 문서이므로 앞서 이야기한 깃허브, 구글 드라이브, 드롭박스를 위시해 다양한 사이트에서 공유가 가능하다. 심지어 바인더라는 서비스를 사용하면 상호대화식 노트북을 도커 형태로 공유할 수도 있다.\n",
    "\n",
    "1. __웹 브라우저만 있으면 된다.__ 복잡한 프로그램 설치나 구성 과정 없이 웹 브라우저만 있으면 파이썬 노트북 서버에 접속해서 작업을 바로 시작할 수 있다.\n",
    "\n",
    "1. __다양한 프로그래밍 언어를 지원한다.__ 데이터 과학자들이 많이 사용하는 파이썬과 R은 물론이고 40여 개에 이르는 프로그래밍 언어를 지원한다.\n",
    "\n",
    "1. __상호 대화식으로 동작한다.__ 코드를 작성하고 즉시 실행해 결과를 볼 수 있으며, 중간에 그래프를 그리거나 이미지를 출력하는 등 다양한 시각화 효과까지 곁들일 수 있다.\n",
    "\n",
    "1. __다중 사용자를 지원한다.__ 주피터 허브(JupyterHub)를 사용하면 공동으로 작업할 필요가 있는 다중 사용자를 동시에 지원해서 작업 생산성을 높여준다.\n",
    "\n",
    "1. __보고서 형태로 결과만 확인할 수 있다.__ 만들어진 파이썬 노트북은 nbviewer를 사용해 파이썬 노트북 서비스에 익숙하지 않은 사람들도 읽기 전용의 보고서 형태로 손쉽게 확인할 수 있다. 또한 nbconvert를 사용하면 노트북을 HTML이나 PDF와 같은 문서로 바로 변환할 수 있다.\n",
    "\n",
    "1. __확장성이 높다.__ 통신 프로토콜과 위젯 API가 모두 공개되어 있으므로 파이썬 노트북을 확장하는 여러 가지 애플리케이션과 위젯이 늘어나고 있다. 3차원 데이터 시각화, 구글 맵스를 활용한 지도 표시 등 다양한 컴포넌트를 활용할 수 있다.\n",
    "\n",
    "1. __무엇보다 쉽다.__ 파이썬 노트북의 문서 작성 마크업 언어인 마크다운 언어는 복잡하지 않으므로 금방 배울 수 있으며, 파이썬 노트북의 편집기도 특별히 학습해야만 사용 가능한 복잡한 기능이 없으므로 쉽게 익숙해질 수 있다.\n",
    "\n",
    "\n",
    "이렇게 유용한 파이썬 노트북도 제대로 사용하기 위해서는 우리가 몇 가지 배워야 할 것들이 있습니다. 가장 먼저, 알아야 할 것은 주피터를 어떻게 시작할 수 있느냐는 것입니다. "
   ]
  },
  {
   "cell_type": "markdown",
   "metadata": {},
   "source": [
    "# Jupyter notebook or Jupyter-lab\n",
    "\n",
    "JupyterLab(주피터 랩)은 노트, 코드 및 데이터를 위한 최신 웹 기반 대화형 개발 환경입니다.  주피터 랩은 주피터 노트북(Jupyter Notebook)에서 발전된 것으로,   주피터 노트북보다 유연한 인터페이스를 통해 사용자로 하여금 데이터 과학, 과학 컴퓨팅, 컴퓨터 저널리즘 및 머신러닝의 워크플로우를 구성하고 배열할 수 있도록 돕고 있습니다.   또한, 주피터 랩은 별도의 extensions을 설치하지 않아도 extensions을 제공하고 있습니다.   \n",
    "주피터 랩은 주피터 노트북과 UI만 조금 다르고, 사용방법은 같습니다."
   ]
  },
  {
   "cell_type": "markdown",
   "metadata": {
    "tags": []
   },
   "source": [
    "## A few ways to start Jupyter notebook or Jupyter Lab\n",
    "\n",
    "__Method 1__: \n",
    "This option always works:\n",
    "  1. Go to the Windows menu `<Start> -> <Anaconda 3> -> <Anaconda Prompt>`\n",
    "     For OSX, start a terminal. \n",
    "  2. At a console, enter the following:\n",
    "  ```\n",
    "  (base) C:\\Users\\user> jupyter notebook\n",
    "  (base) C:\\Users\\user> jupyter-lab\n",
    "  ```\n",
    "\n",
    "__Method 2__: (Windows Only)\n",
    "This method may not work unless you have set PATH environment variable.\n",
    "  1. Using File Explorer, navigate to where your Jupyter notebook file is\n",
    "  2. Using File menu in File Explorer, click Open PowerShell(PS).\n",
    "  3. At PS console, enter the following:\n",
    "  ```\n",
    "  PS C:\\> jupyter notebook\n",
    "  PS C:\\> jupyter-lab\n",
    "  ```\n",
    "\n",
    "__Method 3__: (Windows Only)\n",
    "This is one-line batch command file that runs Jupyter notebook.\n",
    "  1. Get a copy of the batch file `_start_jupyter.bat` which is available at https://github.com/idebtor/JoyAI\n",
    "  2. Place the batch file at the folder where your notebook file is.\n",
    "  3. Double-click the batch file.\n",
    "\n",
    "__Method 4__: (Windows & OSX)\n",
    "\n",
    "This is not recommended since it is too slow to start the notebook. \n",
    "  1. Using Anaconda Navigator, choose Jupyter Notebook."
   ]
  },
  {
   "cell_type": "markdown",
   "metadata": {},
   "source": [
    "만약 자동으로 주피터 노트북이 실행되지 않는다면, 방법은 두가지입니다.\n",
    "\n",
    "1. 프롬프트에 나온 웹 주소를 복사해서 웹 브라우저에 복사한다.\n",
    "    - 일시적인 방법이며, 매번 실행시 위 작업을 반복해야 합니다.\n",
    "1. anaconda prompt를 실행하고 다음 커멘드를 작성합니다.\n",
    "`jupyter notebook --generate-config`   \n",
    "그리고, `.jupyter` 폴더를 찾아 `jupyter_notebook_config.py` 파이썬 파일을 찾아줍니다. `.jupyter`파일은 보통 사용자 폴더 하위에 있습니다.\n",
    "`jupyter_notebook_config.py`파일을 열어 `c.NotebookApp.browser = ''`라고 주석되어 있는 부분을 발견하고, 주석을 제거한 후 '' 안에 본인이 열고자 하는 웹 브라우저를 입력해줍니다. 여기에서는 예시로 Chrome을 들도록 하겠습니다.  \n",
    "`c.NotebookApp.browser = 'C:/Program Files (x86)/Google/Chrome/Application/chrome.exe %s'`\n",
    "컴퓨터마다 exe파일이 있는 위치가 조금씩 다를 수 있으니 본인 환경에 맞게 설정해주시면 됩니다."
   ]
  },
  {
   "cell_type": "markdown",
   "metadata": {
    "tags": []
   },
   "source": [
    "## 콘솔과 대시보드(Dashboard) \n",
    "\n",
    "주피터 노트북을 시작하면 가장 먼저 콘솔이 생기면서 Local 웹서버가 만들어지고, 웹서버의 Client로 디폴드 웹브라우저에 주피터 노트북의 웹페이지가 나타납니다. 다음 그림에 웹서버의 주소를 관찰할 수 있습니다. "
   ]
  },
  {
   "cell_type": "markdown",
   "metadata": {},
   "source": [
    "<center><img attr=\"center\" src=\"https://github.com/idebtor/KMOOC-ML/blob/master/ipynb/images/joyai/nb_console.png?raw=true\"></center>\n",
    "<center>그림 2: 주피터 웹서버 콘솔 </center>"
   ]
  },
  {
   "cell_type": "markdown",
   "metadata": {},
   "source": [
    "\n",
    "이 첫 웹 페이지를 대시보드(Dashboard)라 부릅니다. 대시보드는 폴더와 파일들이 나열되어 있고, 폴더와 파일들을 쉽게 접근할 수 있도록 도와주는 일종의 파일 탐색기입니다. 새로운 notebook 파일도 생성할 수 있고, 저장 및 삭제가 가능합니다.  \n",
    "\n",
    "주피터 노트북의 모든 작업은 웹에서 수행할 수 있습니다. 대시보드 탭을 삭제했을 경우는, 콘솔에서 Local 웹서버의 주소를 복사하여, 웹주소창에 넣으면, 다시 대시보드를 복구할 있습니다. \n",
    "\n",
    "대시보드의 오른쪽 위에 있는 `[New] -> [Python 3]` 메뉴를 차례로 선택하여 새로운 노트북 파일을 생성할 수 있습니다. "
   ]
  },
  {
   "cell_type": "markdown",
   "metadata": {},
   "source": [
    "<center><img attr=\"center\" src=\"https://github.com/idebtor/KMOOC-ML/blob/master/ipynb/images/joyai/nb_dashboard.png?raw=true\"></center>\n",
    "<center>그림 3: 주피터 노트북 대시보드 </center>"
   ]
  },
  {
   "cell_type": "code",
   "execution_count": null,
   "metadata": {},
   "outputs": [],
   "source": []
  },
  {
   "cell_type": "markdown",
   "metadata": {},
   "source": [
    "##  문서와 코드 작성하기\n",
    "\n",
    "주피터 노트북이 다른 IDE 개발 환경(PyCharm, Visual Studio 등등)과 구별되는 점은 문서와 코드를 가장 보편적인 웹 환경에서 한 번에 함께 작업할 수 있다는 것입니다. \n",
    "\n",
    "노트북은 두 종류의 셀(Cell)로 구성되어 있습니다. 하나는 Markdown 셀이고, 다른 하나는 코드 셀입니다. Markdown 셀은 문서 작성에 사용되며, 아주 간편한 Markdown 문법으로 작성하는데, 자세한 것은 여기를 참조하십시오. 코드 셀은 파이썬으로 작성합니다. \n",
    "\n",
    "이렇게 작성한 셀을 실행하면 셀의 특성에 따라 실행 결과가 엡에 표현이 됩니다. 입력한 셀의 실행은 다음 세 가지 방법 중에 하나로 할 수 있습니다. \n",
    "\n",
    "1. `<Shift + Enter>`   셀을 실행하고 다음 셀로 이동합니다.\n",
    "1. `<Ctrl + Enter>`    셀을 실행합니다.\n",
    "1. `<Alt + Enter>`     셀을 실행하고, 아래에 새로운 셀을 생성합니다. \n"
   ]
  },
  {
   "cell_type": "markdown",
   "metadata": {},
   "source": [
    "물론, 노트북 윗부분에 있는 직관적으로 기능을 알 수 있는 메뉴 아이콘들을 사용하여 적절한 작업을 할 수 있습니다. \n",
    "\n",
    "<center><img attr=\"center\" src=\"https://github.com/idebtor/KMOOC-ML/blob/master/ipynb/images/joyai/nb_menu.png?raw=true\"></center>\n",
    "<center>그림 4: 노트북 편집창의 전체 메뉴 </center>"
   ]
  },
  {
   "cell_type": "markdown",
   "metadata": {},
   "source": [
    "커넬 부분 메뉴는 다음과 같습니다. 코드 셀을 실행했는데, 만약 무한 루프에 걸려 있거나 시간이 너무 지체되었을 때, 강제로 커넬의 실행을 중단하고 다시 시작할 수 있습니다. \n",
    "\n",
    "<center><img attr=\"center\" src=\"https://github.com/idebtor/KMOOC-ML/blob/master/ipynb/images/joyai/nb_kernel.png?raw=true\"></center>\n",
    "<center>그림 5: 노트북 커넬 메뉴 설명 </center>"
   ]
  },
  {
   "cell_type": "markdown",
   "metadata": {},
   "source": [
    "좀 더 자세한 설명이 필요하면 인터넷 검색을 통해 알아보길 바랍니다.  \n",
    "- https://doomed-lab.tistory.com/28\n",
    "- https://dojang.io/mod/page/view.php?id=2457"
   ]
  },
  {
   "cell_type": "markdown",
   "metadata": {},
   "source": [
    "\n",
    "## 단축키 (Shortcut or hot-key)\n",
    "\n",
    "주피터 노트북의 셀을 편집할 때 2가지 모드가 있습니다. 셀을 선택하여 셀 자체를 다루는 셀 선택(명령)모드와 셀 안의 내용을 편집하는 모드입니다. 현재 셀의 모드는 셀 테두리의 색으로 구별할 수 있습니다. \n",
    "\n",
    "- 명령 모드(Command Mode): 파란색, 셀을 선택하여 셀 자체를 다룰 수 있는 모드\n",
    "- 입력 모드(Edit Mode): 초록색, 셀 안의 내용을 편집할 때 사용하는 모드\n",
    "\n",
    "단축키에 익숙해지면, 빠르게 셀을 편집하고 다룰 수 있어서 참 편합니다."
   ]
  },
  {
   "cell_type": "markdown",
   "metadata": {},
   "source": [
    "`<Esc>` 키를 눌러 명령 모드로 들어갈 수 있고, `<Enter>`키를 눌러 편집 모드로 들어갈 수 있습니다. \n",
    "\n",
    "<center><img attr=\"center\" src=\"https://github.com/idebtor/KMOOC-ML/blob/master/ipynb/images/joyai/nb_hotkey1.png?raw=true\" width=400></center>\n",
    "<center>그림 6: 주피터 노트북 단축키(명령 모드 혹은 셀 선택 모드) </center>"
   ]
  },
  {
   "cell_type": "markdown",
   "metadata": {},
   "source": [
    "<center><img attr=\"center\" src=\"https://github.com/idebtor/KMOOC-ML/blob/master/ipynb/images/joyai/nb_hotkey2.png?raw=true\" width=400></center>\n",
    "<center>그림 7: 주피터 노트북 단축키(명령 모드 혹은 셀 선택 모드) </center>"
   ]
  },
  {
   "cell_type": "markdown",
   "metadata": {},
   "source": [
    "주피터 노트북에서는 단축키 변경도 가능하다. `[Help] - [Edit Keyboard ShortCut]`에 가면 기존의 단축키를 수정하거나 추가할 수도 있다. "
   ]
  },
  {
   "cell_type": "markdown",
   "metadata": {},
   "source": [
    "# Jupyter Lab"
   ]
  },
  {
   "cell_type": "markdown",
   "metadata": {},
   "source": [
    "JupyterLab(주피터 랩)은 노트, 코드 및 데이터를 위한 최신 웹 기반 대화형 개발 환경입니다.    \n",
    "주피터 랩은 주피터 노트북에서 발전된 것으로,   주피터 노트북보다 유연한 인터페이스를 통해 사용자로 하여금 데이터 과학, 과학 컴퓨팅, 컴퓨터 저널리즘 및 머신러닝의 워크플로우를 구성하고 배열할 수 있도록 돕고 있습니다.   또한, 주피터 랩은 별도의 extensions을 설치하지 않아도 extensions을 제공하고 있습니다.   \n",
    "주피터 랩은 주피터 노트북과 UI만 조금 다르고, 사용방법은 같습니다.\n",
    "\n",
    "아나콘다가 설치되어있다면, 별도로 주피터 랩을 설치할 필요는 없습니다.  \n",
    "만약, 아나콘다가 설치되어 있지 않다면 다음의 명령어로 jupyter lab을 설치할 수도 있습니다.   \n",
    "`pip install jupyterlab`"
   ]
  },
  {
   "cell_type": "markdown",
   "metadata": {},
   "source": [
    "## 주피터 랩 실행방법"
   ]
  },
  {
   "cell_type": "markdown",
   "metadata": {},
   "source": [
    "주피터 랩이 성공적으로 설치되었다고 가정하고, 주피터 랩을 실행하도록 하겠습니다.   \n",
    "명령프롬프트 창을 켜고 해당 명령어를 입력하여 주피터 랩을 실행시켜줍니다.   \n",
    "`jupyter lab`\n",
    "또는\n",
    "`jupyter-lab`\n",
    "\n",
    "혹은 위에서 언급한대로, PC환경에서는 현재 폴더에 있는 `jupyter-lab.bat` 파일을 더블 클릭으로 실행하면 됩니다. \n",
    "- Get a copy of the batch file `_start_jupyter.bat` which is available at https://github.com/idebtor/JoyAI"
   ]
  },
  {
   "cell_type": "markdown",
   "metadata": {},
   "source": [
    "## Move cell up/down buttons"
   ]
  },
  {
   "cell_type": "markdown",
   "metadata": {},
   "source": [
    "주피터 랩에서는 cell을 이동시킬 때 별도의 단축키가 설정되어있지 않습니다. 그래서 cell을 이동시키기 위해서는 Edit 탭에서 Move Cells Up/Down을 눌러줘야 합니다.   하지만, 이는 작업시에 적지않은 불편함이 있습니다.   \n",
    "이를 해결하고자, 우리는 cell을 이동시키는 단축키를 직접 설정해보도록 하겠습니다."
   ]
  },
  {
   "cell_type": "markdown",
   "metadata": {},
   "source": [
    "먼저, `Settings` 탭으로 들어갑니다.   \n",
    "그리고, 가장 아래에 있는 `Advanced Settings Editor`를 클릭합니다.   \n",
    "왼쪽에 보이는 것들 중 `Keyboard Shortcuts`(키보드 단축키)를 클릭해줍니다.   \n",
    "그러면 두가지 창이 나옵니다. 하나는 `System default`이고, 다른 하나는 `User Preferences`입니다.    \n",
    "`System default`는 말 그대로, 주피터 랩이 설치될 때 `default` 상태에 키보드 명령어들을 의미합니다.    \n",
    "우리는 `User Preferences`에 코드를 추가하여 기존의 `default` 상태는 유지하되, `cell up/down`을 수행하는 키보드 단축키를 추가해보도록 하겠습니다. \n",
    "\n",
    "제일 처음 `User Preferences`를 들어가면 아무것도 안보이고, `{}` 중괄호 한쌍만 보입니다.   \n",
    "이제 추가하고자 하는 명령어를 이 중괄호 안에다가 넣어주기만 하면 됩니다.   \n",
    "해당 format의 문법은 `JSON`문법을 사용하고 있습니다.\n",
    "\n",
    "먼저, \"shortcuts\"명령어를 사용하여 키보드 단축키를 지정해줄 것을 명시해줍니다.   \n",
    "그리고, 키보드 단축키를 한묶음씩 입력해주면 됩니다.   \n",
    "여기서는 총 2개의 키보드 단축키(up/down)을 입력하도록 하겠습니다.\n",
    "\n",
    "키보드 단축키에서 한묶음은 총 3가지의 구성요소로 이루어져 있습니다.   \n",
    "그중 첫번째인 command는 어떤 명령어를 사용할 것인지 나타냅니다.  \n",
    "`notebook:move-cell-up`은 노트북의 `move-cell-up` 버튼을 사용하겠다는 것입니다.\n",
    "\n",
    "다음으로 key는 실제로 사용자가 어떤 key를 입력하여 해당 명령을 수행할 것인지 정하는 명령어입니다.   \n",
    "`Ctrl Shitf Arrowup`은 말그대로 해당 키를 입력하면 위에서 명시한 `move-cell-up`명령어를 수행한다는 의미입니다.   \n",
    "\n",
    "마지막으로 selector는 focus를 어디로 설정할 건지를 정하는 명령어입니다."
   ]
  },
  {
   "cell_type": "markdown",
   "metadata": {},
   "source": [
    "```\n",
    "{\n",
    "\"shortcuts\":[\n",
    "        {\n",
    "            \"command\": \"notebook:move-cell-up\",\n",
    "            \"keys\": [\n",
    "                \"Ctrl Shift ArrowUp\"\n",
    "            ],\n",
    "            \"selector\": \".jp-Notebook:focus\"\n",
    "        },\n",
    "        {\n",
    "            \"command\": \"notebook:move-cell-down\",\n",
    "            \"keys\": [\n",
    "                \"Ctrl Shift ArrowDown\"\n",
    "            ],\n",
    "            \"selector\": \".jp-Notebook:focus\"\n",
    "        }\n",
    "    ]\n",
    "}\n",
    "```"
   ]
  },
  {
   "cell_type": "markdown",
   "metadata": {},
   "source": [
    "# 실습 - Step by Step 따라하기"
   ]
  },
  {
   "cell_type": "markdown",
   "metadata": {},
   "source": [
    "## 셀 추가하기\n",
    "1. Ctrl + Enter\n",
    "1. Alt + Enter\n",
    "1. Shift + Enter"
   ]
  },
  {
   "cell_type": "markdown",
   "metadata": {},
   "source": [
    "## 간단한 코딩"
   ]
  },
  {
   "cell_type": "code",
   "execution_count": null,
   "metadata": {},
   "outputs": [],
   "source": [
    "print(\"God is Good, All the time\")"
   ]
  },
  {
   "cell_type": "code",
   "execution_count": 1,
   "metadata": {},
   "outputs": [
    {
     "ename": "NameError",
     "evalue": "name 'name' is not defined",
     "output_type": "error",
     "traceback": [
      "\u001b[1;31m---------------------------------------------------------------------------\u001b[0m",
      "\u001b[1;31mNameError\u001b[0m                                 Traceback (most recent call last)",
      "\u001b[1;32m~\\AppData\\Local\\Temp/ipykernel_32680/148453499.py\u001b[0m in \u001b[0;36m<module>\u001b[1;34m\u001b[0m\n\u001b[1;32m----> 1\u001b[1;33m \u001b[0mprint\u001b[0m\u001b[1;33m(\u001b[0m\u001b[0mname\u001b[0m\u001b[1;33m,\u001b[0m \u001b[0mage\u001b[0m\u001b[1;33m)\u001b[0m\u001b[1;33m\u001b[0m\u001b[1;33m\u001b[0m\u001b[0m\n\u001b[0m",
      "\u001b[1;31mNameError\u001b[0m: name 'name' is not defined"
     ]
    }
   ],
   "source": [
    "print(name, age)"
   ]
  },
  {
   "cell_type": "markdown",
   "metadata": {},
   "source": [
    "쉬운 것부터 차례대로 몇가지 따라하기 실습이 [여기](https://copycoding.tistory.com/72) 있습니다. 여러 분이 처음 주피터 노트북을 시도해보고 있다면, 한 번만 따라 해보십시오. 가벼운 마음으로. \n",
    "\n",
    "[따라하기 십습 웹사이트](https://copycoding.tistory.com/72)"
   ]
  },
  {
   "cell_type": "markdown",
   "metadata": {},
   "source": [
    "-------\n",
    "__Be joyful always!__ 1 Thes.5:16"
   ]
  }
 ],
 "metadata": {
  "kernelspec": {
   "display_name": "Python 3 (ipykernel)",
   "language": "python",
   "name": "python3"
  },
  "language_info": {
   "codemirror_mode": {
    "name": "ipython",
    "version": 3
   },
   "file_extension": ".py",
   "mimetype": "text/x-python",
   "name": "python",
   "nbconvert_exporter": "python",
   "pygments_lexer": "ipython3",
   "version": "3.8.12"
  },
  "toc-autonumbering": false,
  "toc-showmarkdowntxt": false
 },
 "nbformat": 4,
 "nbformat_minor": 4
}
