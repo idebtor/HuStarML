{
 "cells": [
  {
   "cell_type": "markdown",
   "metadata": {},
   "source": [
    "오라 우리가 여호와께로 돌아가자 여호와께서 우리를 찢으셨으나 도로 낫게 하실 것이요 우리를 치셨으나 싸매어 주실 것임이라 (호6:1)\n",
    "\n",
    "-------\n",
    "\n",
    "<center><img src=\"https://github.com/idebtor/KMOOC-ML/blob/master/ipynb/images/joyai/LectureNotes_ML.png?raw=true\" width=1000></center>\n",
    "\n",
    "__NOTE:__ The following materials have been compiled and adapted from the numerous sources including my own. Please help me to keep this tutorial up-to-date by reporting any issues or questions. Send any comments or criticisms to `idebtor@gmail.com` Your assistances and comments will be appreciated."
   ]
  },
  {
   "cell_type": "markdown",
   "metadata": {},
   "source": [
    "<b style=\"font-size:30px\"> Chapter 3. NumPy Basics:넘파이 기초 </b>\n",
    "\n",
    "__학습 목표__\n",
    "\n",
    "    - 기계학습에서 왜 넘파이를 사용하는지 이해한다\n",
    "    - 넘파이 개념과 기본적인 사용법을 익힌다.\n",
    "\n",
    "__학습 내용__\n",
    "1. 넘파이 배열\n",
    "1. 배열의 연산 속도\n",
    "1. 벡터화 연산\n",
    "1. 배열의 속성  \n",
    "1. 배열의 인덱싱 (표준, 팬시)"
   ]
  },
  {
   "cell_type": "markdown",
   "metadata": {},
   "source": [
    "# 넘파이의 특징\n",
    "NumPy는 '넘파이'라고 읽고, NumPy쓰는 것이 정석입니다. NumPy는 “Numerical Python“의 약자로 대규모 다차원 배열과 행렬 연산에 필요한 다양한 함수를 제공합니다. 파이썬 기반 데이터 분석 환경에서 넘파이는 행렬 연산을 위한 핵심 라이브러리입니다. \n",
    "\n",
    "파이썬 리스트(list) 클래스를 개선하여 만든 넘파이의 `ndarray` 클래스를 사용하면 더 많은 데이터를 더 빠르게 처리할 수 있습니다. 메모리 버퍼에 배열 데이터를 저장하고 처리하는 효율적인 인터페이스를 제공합니다. "
   ]
  },
  {
   "cell_type": "markdown",
   "metadata": {},
   "source": [
    "NumPy는 다음과 같이 기계학습, 딥러닝, 인공지능, 통계처리 및 분석을 구현하는데 상당히 유용한 특징을 갖고 있습니다.\n",
    "\n",
    "- 강력한 N 차원 배열 객체\n",
    "- 벡터화 연산\n",
    "- 정교한 브로드케스팅(Broadcast) 기능\n",
    "- 다양한 선형 대수학 함수와 난수 기능\n",
    "- 범용적 데이터 처리에 사용 가능한 다차원 컨테이너\n",
    "- C/C ++ 및 Fortran 코드 통합 도구"
   ]
  },
  {
   "cell_type": "markdown",
   "metadata": {},
   "source": [
    "파이썬에서 NumPy를 사용할 때, 다음과 같이 `numpy` 모듈을 `np` 로 임포트하여 사용합니다. `np`로 임포트 하지 않으면, `numpy`를 사용해야 합니다. `numpy` 버전은 다음과 같이 확인 할 수 있습니다."
   ]
  },
  {
   "cell_type": "code",
   "execution_count": 1,
   "metadata": {},
   "outputs": [
    {
     "data": {
      "text/plain": [
       "'1.20.3'"
      ]
     },
     "execution_count": 1,
     "metadata": {},
     "output_type": "execute_result"
    }
   ],
   "source": [
    "import numpy\n",
    "numpy.__version__"
   ]
  },
  {
   "cell_type": "code",
   "execution_count": 2,
   "metadata": {},
   "outputs": [
    {
     "data": {
      "text/plain": [
       "'1.20.3'"
      ]
     },
     "execution_count": 2,
     "metadata": {},
     "output_type": "execute_result"
    }
   ],
   "source": [
    "import numpy as np\n",
    "np.__version__"
   ]
  },
  {
   "cell_type": "markdown",
   "metadata": {},
   "source": [
    "## 파이썬 리스트 복습하기\n",
    "\n",
    "넘파이를 실습하기 전에 넘파이 배열과 비슷한 파이썬 리스트를 먼저 복습해봅니다. 다음은 3개의 숫자와 하나의 문자열로 구성된 파이썬 리스트입니다."
   ]
  },
  {
   "cell_type": "code",
   "execution_count": 3,
   "metadata": {},
   "outputs": [
    {
     "name": "stdout",
     "output_type": "stream",
     "text": [
      "[10, 20, 'aim high', 30]\n",
      "aim high\n"
     ]
    }
   ],
   "source": [
    "alist = [10, 20, 'aim high', 30] \n",
    "print(alist)\n",
    "print(alist[2])"
   ]
  },
  {
   "cell_type": "markdown",
   "metadata": {},
   "source": [
    "리스트는 다른 리스트를 요소로 포함할 수 있습니다. 이렇게 중첩된 배열을 2차원 배열이라고 합니다. 예를 들면, 다음과 같이 만들 수 있습니다. 다만, 배열(array)이라고 할 때는 같은 형식(type)의 자료만으로 요소를 구성해야 합니다.  "
   ]
  },
  {
   "cell_type": "code",
   "execution_count": 4,
   "metadata": {},
   "outputs": [],
   "source": [
    "alist = [[10, 20, 30], [50, 60, 70]]"
   ]
  },
  {
   "cell_type": "markdown",
   "metadata": {},
   "source": [
    "이 리스트의 크기는 `2 x 3`(two by three)라고 말합니다. 또는 2개의 행과 3개의 열이 있다고 말합니다. 그리고, 배열의 요소를 선택할 때는 대괄호를 사용합니다. 예를 들어 두 번째 행의 세 번째 열을 선택하면, 70이 출력이 되어야 합니다. 인덱스는 0부터 시작합니다.  "
   ]
  },
  {
   "cell_type": "code",
   "execution_count": 5,
   "metadata": {},
   "outputs": [
    {
     "name": "stdout",
     "output_type": "stream",
     "text": [
      "70\n"
     ]
    }
   ],
   "source": [
    "print(alist[1][2])"
   ]
  },
  {
   "cell_type": "markdown",
   "metadata": {},
   "source": [
    "다차원 배열을 파이썬 리스트로 만들어 사용해도 되지만, 파이썬 리스트로 만든 배열은 배열의 크기가 커질수록 성능이 떨어지는 단점이 있습니다. 넘파이를 사용하면, 이런 성능의 문제가 많이 해결이 됩니다. 예를 들어, 파이썬 리스트의 요소를 모두 더하려면 for 문을 만들어야 합니다. \n",
    "\n",
    "넘파이에서는 배열에 관한 다양한 함수를 제공하기 때문에 반복문을 사용하지 않고도 배열의 합을 계산할 수 있습니다. sum() 함수는 배열의 요소를 모두 더해 주는 함수입니다. "
   ]
  },
  {
   "cell_type": "code",
   "execution_count": 6,
   "metadata": {},
   "outputs": [
    {
     "name": "stdout",
     "output_type": "stream",
     "text": [
      "240\n"
     ]
    }
   ],
   "source": [
    "# compute sum of allist \n",
    "\n",
    "sum = 0\n",
    "for row in alist:\n",
    "    for x in row:\n",
    "        sum += x\n",
    "print(sum)"
   ]
  },
  {
   "cell_type": "code",
   "execution_count": 7,
   "metadata": {},
   "outputs": [
    {
     "name": "stdout",
     "output_type": "stream",
     "text": [
      "240\n"
     ]
    }
   ],
   "source": [
    "# convert a list type to ndarray type\n",
    "# compute sum of ndarray\n",
    "\n",
    "arr = np.array(alist)\n",
    "sum = np.sum(arr)\n",
    "print(sum)"
   ]
  },
  {
   "cell_type": "markdown",
   "metadata": {},
   "source": [
    "위의 넘파이 함수의 방법은 반복문을 사용하는 것보다 간편합니다. "
   ]
  },
  {
   "cell_type": "markdown",
   "metadata": {},
   "source": [
    "## 넘파이의 연산속도\n",
    "\n",
    "넘파이를 사용하면, 다차원 행렬 연산을 손쉽게 할 수 있습니다. 특히, 앞으로 살펴볼 신경망에서 가중치를 계산하게 될 것입니다. 신경망이 복잡해지고 수행해야할 연산이 많아질수록 넘파이를 사용한 연산이 빛을 발하게 됩니다. 하나의 예제를 통해 행렬 연산을 사용해야 하는 이유를 보여드리겠습니다.\n",
    "\n",
    "다음 셀에서는 일백만개의 가중치 w와 입력값 x를 초기화합니다. 그리고, \n",
    "1. 한 경우는 파이썬 리스트 형식의 w, x에 값을 저장하고, 또\n",
    "2. 한 경우는 넘파이 배열 형식의 w_np, x_np에 저장합니다."
   ]
  },
  {
   "cell_type": "code",
   "execution_count": 8,
   "metadata": {},
   "outputs": [],
   "source": [
    "import numpy as np\n",
    "\n",
    "n = 1000000\n",
    "w = []                # list type\n",
    "x = []\n",
    "for i in range(n):\n",
    "    w.append(1.0)\n",
    "    x.append(1.0000001)\n",
    "\n",
    "w_np = np.array(w)\n",
    "x_np = np.array(x)"
   ]
  },
  {
   "cell_type": "code",
   "execution_count": 9,
   "metadata": {},
   "outputs": [
    {
     "data": {
      "text/plain": [
       "1000000"
      ]
     },
     "execution_count": 9,
     "metadata": {},
     "output_type": "execute_result"
    }
   ],
   "source": [
    "len(w)\n",
    "len(w_np)"
   ]
  },
  {
   "cell_type": "markdown",
   "metadata": {},
   "source": [
    "### 순입력 구하기: 입력(x)과 가중치(w)의 곱(wx)"
   ]
  },
  {
   "cell_type": "markdown",
   "metadata": {},
   "source": [
    "다음 두 셀은 각각의 데이터 구조에 저장된 __입력과 가중치를 곱한 값__ 을 계산합니다. 그 후에, $wx$ 의 연산 속도를 비교하고자 합니다. "
   ]
  },
  {
   "cell_type": "code",
   "execution_count": 10,
   "metadata": {},
   "outputs": [],
   "source": [
    "total = 0\n",
    "for i in range(n):\n",
    "    total += w[i] * x[i]"
   ]
  },
  {
   "cell_type": "code",
   "execution_count": 11,
   "metadata": {},
   "outputs": [
    {
     "name": "stdout",
     "output_type": "stream",
     "text": [
      "1000000.1000007543\n"
     ]
    }
   ],
   "source": [
    "print(total)"
   ]
  },
  {
   "cell_type": "markdown",
   "metadata": {},
   "source": [
    "다음 코드 셀의 None을 적절한 키워드로 대체하십시오. "
   ]
  },
  {
   "cell_type": "code",
   "execution_count": 12,
   "metadata": {},
   "outputs": [],
   "source": [
    "total_np = np.dot(w_np, x_np)"
   ]
  },
  {
   "cell_type": "code",
   "execution_count": 13,
   "metadata": {},
   "outputs": [
    {
     "name": "stdout",
     "output_type": "stream",
     "text": [
      "1000000.0999998995\n"
     ]
    }
   ],
   "source": [
    "print(total_np)"
   ]
  },
  {
   "cell_type": "markdown",
   "metadata": {},
   "source": [
    "### 연산 속도 비교하기\n",
    "\n",
    "이제 total과 total_up의 결과값이 거의 같다는 것을 확인한 후, 두 연산의 소요시간을 비교하고자 합니다.  주피터 노트북의 셀 매직 커맨드인 `%%timeit`은 해당 셀을 수행하는데 사용된 시간을 보여줍니다. `time` 커맨드에 대한 자세한 설명은 [링크]( http://ipython.readthedocs.io/en/stable/interactive/magics.html#magic-time)를 통해 확인할 수 있습니다. "
   ]
  },
  {
   "cell_type": "code",
   "execution_count": 14,
   "metadata": {},
   "outputs": [
    {
     "name": "stdout",
     "output_type": "stream",
     "text": [
      "119 ms ± 9.43 ms per loop (mean ± std. dev. of 7 runs, 10 loops each)\n"
     ]
    }
   ],
   "source": [
    "%%timeit\n",
    "total = 0\n",
    "for i in range(n):\n",
    "    total += w[i] * x[i]"
   ]
  },
  {
   "cell_type": "code",
   "execution_count": 15,
   "metadata": {},
   "outputs": [
    {
     "name": "stdout",
     "output_type": "stream",
     "text": [
      "379 µs ± 12 µs per loop (mean ± std. dev. of 7 runs, 1000 loops each)\n"
     ]
    }
   ],
   "source": [
    "%%timeit\n",
    "total_np = np.dot(w_np, x_np)"
   ]
  },
  {
   "cell_type": "markdown",
   "metadata": {},
   "source": [
    "여러분의 컴퓨터 CPU 사양에 따라서 연산속도에는 차이가 있을 것입니다. 제가 사용하는 노트북의 환경에서는 넘파이를 사용한 연산이 비교할 수 없는 정도로 빠르다는것을 확일할 수 있습니다. 그 이유는 기존의 파이썬 리스트를 사용해서 연산을 할 경우 for 반복문이 한줄 한줄 실행되는 반면에, 넘파이 어레이를 사용할 경우 __벡터화 연산__ 을 할 수 있기 때문입니다. 선형 대수에 적용되는 벡터화 연산에 대해서는 나중에 보다 자세히 다루도록 하겠습니다.\n",
    "\n",
    "자, 그러면, 우리가 넘파이를 열공할 이유가 충분한가요?  넘파이 배열의 속성부터 알아보도록 하겠습니다. "
   ]
  },
  {
   "cell_type": "markdown",
   "metadata": {},
   "source": [
    "# 넘파이 벡터화 연산 - Vectorization\n",
    "\n",
    "넘파이 배열 객체는 배열의 각 원소에 대한 반복 연산을 하나의 명령어로 처리하는 벡터화 연산(vectorized operation, or vectorization)을 지원합니다. 예를 들어, 다음처럼 여러 개의 데이터를 모두 두 배 하려고 할 때, for 반복문을 사용하여 연산할 수 있습니다. "
   ]
  },
  {
   "cell_type": "code",
   "execution_count": 16,
   "metadata": {},
   "outputs": [
    {
     "name": "stdout",
     "output_type": "stream",
     "text": [
      "[0, 2, 4, 6, 8, 10, 12, 14, 16, 18]\n"
     ]
    }
   ],
   "source": [
    "data = [0, 1, 2, 3, 4, 5, 6, 7, 8, 9]\n",
    "\n",
    "ans = []\n",
    "for x in data:\n",
    "    ans.append(2 * x)\n",
    "print(ans)"
   ]
  },
  {
   "cell_type": "markdown",
   "metadata": {},
   "source": [
    "그런데, 이것을 벡터화 연산을 사용하면 for 반복문이 없이, 한번의 연산으로 가능합니다. 물론, 연산 속도도 훨씬 빠릅니다. "
   ]
  },
  {
   "cell_type": "code",
   "execution_count": 17,
   "metadata": {},
   "outputs": [
    {
     "name": "stdout",
     "output_type": "stream",
     "text": [
      "[ 0  2  4  6  8 10 12 14 16 18]\n"
     ]
    }
   ],
   "source": [
    "data = np.array(data)\n",
    "ans = 2 * data\n",
    "print(ans)"
   ]
  },
  {
   "cell_type": "markdown",
   "metadata": {},
   "source": [
    "벡터화 연산은 비교 연산과 논리 연산을 포함한 모든 종류의 수학 연산에 대해 적용됩니다. 선형 대수에 적용되는 벡터화 연산에 대해서는 나중에 보다 자세히 다룰 것입니다."
   ]
  },
  {
   "cell_type": "code",
   "execution_count": 18,
   "metadata": {},
   "outputs": [
    {
     "name": "stdout",
     "output_type": "stream",
     "text": [
      "[ 21  42  63  84 105]\n",
      "[False False  True  True  True]\n"
     ]
    }
   ],
   "source": [
    "a = np.array([1, 2, 3, 4, 5])\n",
    "b = np.array([10, 20, 30, 40, 50])\n",
    "c = a + b * 2\n",
    "print(c)\n",
    "print(c > 50)"
   ]
  },
  {
   "cell_type": "markdown",
   "metadata": {},
   "source": [
    "# 배열 만들기\n",
    "\n",
    "\n",
    "## 1차원 배열 만들기\n",
    "\n",
    "넘파이의 array 함수에 리스트를 넣으면 ndarray 클래스 객체 즉, 배열로 변환해 준다. 따라서 1 차원 배열을 만드는 방법은 다음과 같습니다"
   ]
  },
  {
   "cell_type": "code",
   "execution_count": 19,
   "metadata": {},
   "outputs": [
    {
     "data": {
      "text/plain": [
       "array([0, 1, 2, 3, 4, 5, 6, 7, 8, 9])"
      ]
     },
     "execution_count": 19,
     "metadata": {},
     "output_type": "execute_result"
    }
   ],
   "source": [
    "x = np.array([0, 1, 2, 3, 4, 5, 6, 7, 8, 9])\n",
    "x"
   ]
  },
  {
   "cell_type": "markdown",
   "metadata": {},
   "source": [
    "리스트와 비슷해 보이지만 type 명령으로 자료형을 살펴보면 ndarray임을 알 수 있습니다."
   ]
  },
  {
   "cell_type": "code",
   "execution_count": 20,
   "metadata": {},
   "outputs": [
    {
     "data": {
      "text/plain": [
       "numpy.ndarray"
      ]
     },
     "execution_count": 20,
     "metadata": {},
     "output_type": "execute_result"
    }
   ],
   "source": [
    "type(x)"
   ]
  },
  {
   "cell_type": "markdown",
   "metadata": {},
   "source": [
    "만들어진 ndarray 객체의 표현식(representation)을 보면 바깥쪽에 array()란 것이 붙어 있을 뿐 리스트와 동일한 구조처럼 보이지만 배열 객체와 리스트 객체는 많은 차이가 있습니다.\n",
    "\n",
    "우선 리스트 클래스 객체는 각각의 원소가 다른 자료형이 될 수 있습니다. 그러나 배열 객체 객체는 C언어의 배열처럼 연속적인 메모리 배치를 가지기 때문에 모든 원소가 같은 자료형이어야 합니다. 이러한 제약사항이 있는 대신 원소에 대한 접근과 반복문 실행이 빨라집니다.\n",
    "\n",
    "또 다른 방법으로, 0부터 11까지 나열된 1차원의 배열을 만들고, 속성을 출력해 봅니다. 파이썬 리스트와 보기는 비슷하지만 출력도 좀 다른 것에 유의하길 바랍니다. 파이썬 리스트와 무엇이 다르게 표시되나요?"
   ]
  },
  {
   "cell_type": "code",
   "execution_count": 21,
   "metadata": {},
   "outputs": [
    {
     "name": "stdout",
     "output_type": "stream",
     "text": [
      "[ 0  1  2  3  4  5  6  7  8  9 10 11]\n"
     ]
    },
    {
     "data": {
      "text/plain": [
       "array([ 0,  1,  2,  3,  4,  5,  6,  7,  8,  9, 10, 11])"
      ]
     },
     "execution_count": 21,
     "metadata": {},
     "output_type": "execute_result"
    }
   ],
   "source": [
    "import numpy as np\n",
    "a = np.arange(12)\n",
    "print(a)\n",
    "a"
   ]
  },
  {
   "cell_type": "markdown",
   "metadata": {},
   "source": [
    "배열을 생성할 때는 하나의 리스트를 인자로 제공해야 합니다. \n",
    "\n",
    "예를 들면, \n",
    "```\n",
    "a = np.array(1,2,3,4)    # wrong\n",
    "a = np.array([1,2,3,4])  # right - list\n",
    "a = np.array((1,2,3,4))  # right - tuple\n",
    "```"
   ]
  },
  {
   "cell_type": "markdown",
   "metadata": {},
   "source": [
    "__Example 1.__  리스트 `[0. 1. 2. ... 11]`를 먼저 생성한 후, ndarray로 변환하고 출력하십시오.  \n",
    "\n",
    "- Python의 리스트 형식과 ndarray 형식의 프린트 출력과 Evaluate 출력의 결과가 서로 다른 것을 관찰하십시오. "
   ]
  },
  {
   "cell_type": "code",
   "execution_count": 22,
   "metadata": {},
   "outputs": [
    {
     "name": "stdout",
     "output_type": "stream",
     "text": [
      "pylist: [0, 1, 2, 3, 4, 5, 6, 7, 8, 9, 10, 11]\n",
      "nparray: [ 0  1  2  3  4  5  6  7  8  9 10 11]\n"
     ]
    }
   ],
   "source": [
    "pylist = [ x for x in range(12) ]\n",
    "nparray = np.array(pylist)\n",
    "print('pylist:', pylist)\n",
    "print('nparray:', nparray)"
   ]
  },
  {
   "cell_type": "markdown",
   "metadata": {},
   "source": [
    "## 2차원 배열 만들기\n",
    "ndarray 는 N-dimensional Array의 약자입니다. \n",
    "이름 그대로 1차원 배열 이외에도 2차원 배열, 3차원 배열 등의 다차원 배열 자료 구조를 지원합니다. 2차원 배열은 행렬(matrix)이라고 하는데 행렬에서는 가로줄을 행(row)이라고 하고 세로줄을 열(column)이라고 부릅니다.\n",
    "\n",
    "1차원 배열처럼, 리스트의 리스트(list of list)를 이용하면 2차원 배열을 생성할 수 있습니다. 안쪽 리스트의 길이는 행렬의 열의 수 즉, 가로 크기가 되고 바깥쪽 리스트의 길이는 행렬의 행의 수, 즉 세로 크기가 됩니다. 예를 들어 2개의 행과 3개의 열을 가지는 2 x 3 배열은 다음과 같이 만듭니다."
   ]
  },
  {
   "cell_type": "code",
   "execution_count": 23,
   "metadata": {},
   "outputs": [
    {
     "data": {
      "text/plain": [
       "array([[0, 1, 2],\n",
       "       [3, 4, 5]])"
      ]
     },
     "execution_count": 23,
     "metadata": {},
     "output_type": "execute_result"
    }
   ],
   "source": [
    "x = np.array([[0, 1, 2], [3, 4, 5]])  # 2 x 3 array\n",
    "x"
   ]
  },
  {
   "cell_type": "markdown",
   "metadata": {},
   "source": [
    "2차원 배열의 행과 열의 갯수는 다음처럼 구할 수 있습니다."
   ]
  },
  {
   "cell_type": "code",
   "execution_count": 24,
   "metadata": {},
   "outputs": [
    {
     "data": {
      "text/plain": [
       "3"
      ]
     },
     "execution_count": 24,
     "metadata": {},
     "output_type": "execute_result"
    }
   ],
   "source": [
    "len(x)      # 행(row)의 갯수\n",
    "len(x[0])   # 열(col)의 갯수"
   ]
  },
  {
   "cell_type": "markdown",
   "metadata": {},
   "source": [
    "## 3차원 배열 만들기\n",
    "\n",
    "리스트의 리스트의 리스트를 이용하면 3차원 배열도 생성할 수 있습니다. 크기를 나타낼 때는 가장 바깥쪽 리스트의 길이부터 가장 안쪽 리스트 길이의 순서로 표시합니다. 예를 들어 2 x 3 x 4 배열은 다음과 같이 만들 수 있습니다. "
   ]
  },
  {
   "cell_type": "code",
   "execution_count": 25,
   "metadata": {},
   "outputs": [
    {
     "name": "stdout",
     "output_type": "stream",
     "text": [
      "[[[ 1  2  3  4]\n",
      "  [ 5  6  7  8]\n",
      "  [ 9 10 11 12]]\n",
      "\n",
      " [[13 14 15 16]\n",
      "  [17 18 19 20]\n",
      "  [21 22 23 24]]]\n"
     ]
    },
    {
     "data": {
      "text/plain": [
       "array([[[ 1,  2,  3,  4],\n",
       "        [ 5,  6,  7,  8],\n",
       "        [ 9, 10, 11, 12]],\n",
       "\n",
       "       [[13, 14, 15, 16],\n",
       "        [17, 18, 19, 20],\n",
       "        [21, 22, 23, 24]]])"
      ]
     },
     "execution_count": 25,
     "metadata": {},
     "output_type": "execute_result"
    }
   ],
   "source": [
    "x = np.array([[[1, 2, 3, 4],\n",
    "               [5, 6, 7, 8],\n",
    "               [9, 10, 11, 12]],\n",
    "               \n",
    "              [[13, 14, 15, 16],\n",
    "               [17, 18, 19, 20],\n",
    "               [21, 22, 23, 24]]])   # 2 x 3 x 4 array\n",
    "print(x)\n",
    "x"
   ]
  },
  {
   "cell_type": "markdown",
   "metadata": {},
   "source": [
    "위와 같이 각 차원을 리스트 형식으로 정의할 수도 있지만, 아래와 같이 넘파이 메소드로 만들어 낼 수도 있습니다. "
   ]
  },
  {
   "cell_type": "code",
   "execution_count": 26,
   "metadata": {},
   "outputs": [
    {
     "name": "stdout",
     "output_type": "stream",
     "text": [
      "x:\n",
      " [[[ 0  1  2]\n",
      "  [ 3  4  5]]\n",
      "\n",
      " [[ 6  7  8]\n",
      "  [ 9 10 11]]\n",
      "\n",
      " [[12 13 14]\n",
      "  [15 16 17]]\n",
      "\n",
      " [[18 19 20]\n",
      "  [21 22 23]]]\n",
      "y:\n",
      " [[[ 1  2  3  4]\n",
      "  [ 5  6  7  8]\n",
      "  [ 9 10 11 12]]\n",
      "\n",
      " [[13 14 15 16]\n",
      "  [17 18 19 20]\n",
      "  [21 22 23 24]]]\n",
      "z:\n",
      " [[[ 1  2  3  4]\n",
      "  [ 5  6  7  8]\n",
      "  [ 9 10 11 12]]\n",
      "\n",
      " [[11 12 13 14]\n",
      "  [15 16 17 18]\n",
      "  [19 20 21 22]]]\n"
     ]
    }
   ],
   "source": [
    "x = np.arange(24).reshape(4, 2, 3)\n",
    "y = np.arange(1, 25).reshape(2, 3, 4)\n",
    "z = np.array([[[1, 2, 3, 4],\n",
    "               [5, 6, 7, 8],\n",
    "               [9, 10, 11, 12]],\n",
    "              [[11, 12, 13, 14],\n",
    "               [15, 16, 17, 18],\n",
    "               [19, 20, 21, 22]]])\n",
    "print('x:\\n', x)\n",
    "print('y:\\n', y)\n",
    "print('z:\\n', z)"
   ]
  },
  {
   "cell_type": "markdown",
   "metadata": {},
   "source": [
    "3차원 배열의 깊이, 행, 열은 다음과 같이 구할 수 있습니다. "
   ]
  },
  {
   "cell_type": "code",
   "execution_count": 27,
   "metadata": {},
   "outputs": [
    {
     "data": {
      "text/plain": [
       "(2, 3, 4)"
      ]
     },
     "execution_count": 27,
     "metadata": {},
     "output_type": "execute_result"
    }
   ],
   "source": [
    "len(z), len(z[0]), len(z[0][0])"
   ]
  },
  {
   "cell_type": "markdown",
   "metadata": {},
   "source": [
    "배열의 차원 및 크기를 구하는 더 간단한 방법은 배열의 `ndim` 속성과 `shape` 속성을 이용하는 것입니다. `ndim` 속성은 배열의 차원, `shape` 속성은 배열의 크기를 반환합니다. 이러한 배열의 속성을 좀 더 자세히 살펴 보겠습니다. "
   ]
  },
  {
   "cell_type": "code",
   "execution_count": 28,
   "metadata": {},
   "outputs": [
    {
     "name": "stdout",
     "output_type": "stream",
     "text": [
      "3\n",
      "(2, 3, 4)\n"
     ]
    }
   ],
   "source": [
    "print(z.ndim)\n",
    "print(z.shape)"
   ]
  },
  {
   "cell_type": "markdown",
   "metadata": {},
   "source": [
    "# 넘파이 배열 속성 \n",
    "\n",
    "## shape, rank, axis, ndim, size\n",
    "\n",
    "넘파이 배열은 `ndarray` 클래스입니다. `ndarray` 클래스는 다음과 같은 속성이 있습니다. \n",
    "\n",
    "> `ndim       ` 차원, 축(axis)의 개수. 축의 갯수를 랭크(rank)라 부릅니다. (그림 1)에서 3D배열은 랭크가 3입니다.   \n",
    "> `shape      ` 크기 혹은 형상, 각 차원에서 배열의 사이즈를 표시하는 튜플입니다. n 행과 m 열을 갖는 매트릭스를 예를들면 shape 은 (n,m) 입니다. shape튜플의 길이는 랭크입니다. (그림 1)에서 3D배열의 형상은 `(2, 2, 3)`입니다   \n",
    "> `size       ` 배열의 모든 원소(요소)들의 개수입니다. shape의 원소들의 모두 곱한 값과 같습니다. (그림 1)에서 3D배열의 크기는 12입니다.  \n",
    "> `dtype       ` 배열 원소들의 자료 형식, 예를 들면 `numpy.int32, numpy.int16, and numpy.float64` 입니다. 다음 표에 나열된 것처럼 \"dtype prefix\"로 시작하는 문자열이고, 이 글자 뒤에 오는 숫자는 바이트의 수를 의미합니다. 예를 들면 `i8`은 8바이트 int를 뜻합니다. `U4`는 유니코드 4글자 유니코드 문자열을 뜻합니다. 숫자를 생략하면 운영체제에 따라 알맞은 크기를 지정합니다.  \n",
    "\n",
    "이러한 속성들을 다음과 같이 출력해볼 수도 있습니다. "
   ]
  },
  {
   "cell_type": "code",
   "execution_count": 29,
   "metadata": {},
   "outputs": [
    {
     "name": "stdout",
     "output_type": "stream",
     "text": [
      "[[[ 1  2  3  4]\n",
      "  [ 5  6  7  8]\n",
      "  [ 9 10 11 12]]\n",
      "\n",
      " [[11 12 13 14]\n",
      "  [15 16 17 18]\n",
      "  [19 20 21 22]]]\n"
     ]
    }
   ],
   "source": [
    "def pprint(arr):\n",
    "    print(\"type:{}, size:{}\".format(type(arr), arr.size))\n",
    "    print(\"shape:{}, ndim/rank:{}, dtype:{}\".format(arr.shape, arr.ndim, arr.dtype))\n",
    "    print(\"Array's Data:\")\n",
    "    print(arr)\n",
    "    \n",
    "print(z)"
   ]
  },
  {
   "cell_type": "markdown",
   "metadata": {},
   "source": [
    "<center><img src = \"https://github.com/idebtor/KMOOC-ML/blob/master/ipynb/images/ch2/numpy_dtype.png?raw=true\" width = \"500\">"
   ]
  },
  {
   "cell_type": "markdown",
   "metadata": {},
   "source": [
    "이러한 속성들을 알고 있으면, 강의를 들을 때, 코딩할 때, 문서를 참조할 때 상당히 도움이 됩니다.\n",
    "\n",
    "예를 들어 28x28 컬러 사진은 높이가 28, 폭이 28, 각 픽셀은 3개 채널(RGB)로 구성된 데이터 구조를 갖습니다. 즉 컬러 사진 데이터는 형상은 (3, 28, 28)인 3차원 배열이므로 rank 즉 ndim = 3입니다. 그러므로, axis = 0, 1, 2 세 축이 존재합니다. 이와 같은 다차원 배열은 입체적인 데이터 구조를 가지며, 데이터의 차원은 여러 갈래의 데이터 방향을 갖습니다. 다차원 배열의 데이터 방향을 axis로 표현할 수 있습니다."
   ]
  },
  {
   "cell_type": "markdown",
   "metadata": {},
   "source": [
    "<center><img src=\"https://github.com/idebtor/KMOOC-ML/blob/master/ipynb/images/ch2/ndarray.png?raw=true\" width=\"600\">\n",
    "<center>그림 1: 넘파이 1차원, 2차원 및 3차원 배열과 축(Axis)</center>"
   ]
  },
  {
   "cell_type": "markdown",
   "metadata": {},
   "source": [
    "## 넘파이 집계 함수\n",
    "넘파이의 배열을 다루는 다양한 집계(𝑎𝑔𝑔𝑟𝑒𝑔𝑎𝑡𝑖𝑜𝑛) 함수는 집합에 대해 간단한 통계를 계산하는 함수를 제공합니다. 이러한 함수들을 보통 기술 통계(descriptive statistics)라고 합니다. 배열 데이터의 집계 방향을 지정하는 axis 옵션을 제공합니다. \n",
    "\n",
    "> `len       `  데이터의 개수   \n",
    "> `mean      `  평균   \n",
    "> `var       `  분산   \n",
    "> `std       `  표본 표준편차  \n",
    "> `max, min  `  최댓값과 최소값  \n",
    "> `median    `  중앙값\n",
    "> `percentile`  사분위수 "
   ]
  },
  {
   "cell_type": "markdown",
   "metadata": {},
   "source": [
    "예를 들어 다음과 같은 데이터 $x$가 있다고 하면, \n",
    "\n",
    "```\n",
    "x = {8, 15, 10, 23, 9, -22, 9, 0, 7, -5, 2, 15, 8, -2, 5, 4, 15, 1, 4, 7, -42, 17, 19, 5, 8, 11 }\n",
    "```\n",
    "$x$ 를 이루는 숫자 하나하나를 수학 기호로는 $x_1, x_2, ⋯, x_n$ 처럼 표시한다. 위 예에서 $x_1 = 8, x_2 = 15$ 입니다.\n",
    "\n",
    "넘파이에서는 이러한 데이터를 1차원 배열로 구현합니다."
   ]
  },
  {
   "cell_type": "code",
   "execution_count": 30,
   "metadata": {},
   "outputs": [
    {
     "data": {
      "text/plain": [
       "array([  8,  15,  10,  23,   9, -22,   9,   0,   7,  -5,   2,  15,   8,\n",
       "        -2,   5,   4,  15,   1,   4,   7, -42,  17,  19,   5,   8,  11])"
      ]
     },
     "execution_count": 30,
     "metadata": {},
     "output_type": "execute_result"
    }
   ],
   "source": [
    "x = np.array([8, 15, 10, 23, 9, -22, 9, 0, 7, -5, 2, 15, 8, \n",
    "              -2, 5, 4, 15, 1, 4, 7, -42, 17, 19, 5, 8, 11])\n",
    "x"
   ]
  },
  {
   "cell_type": "markdown",
   "metadata": {},
   "source": [
    "### 데이터의 갯수\n",
    "데이터의 갯수는 len() 함수로 구할 수 있습니다."
   ]
  },
  {
   "cell_type": "code",
   "execution_count": 31,
   "metadata": {},
   "outputs": [
    {
     "data": {
      "text/plain": [
       "26"
      ]
     },
     "execution_count": 31,
     "metadata": {},
     "output_type": "execute_result"
    }
   ],
   "source": [
    "len(x)"
   ]
  },
  {
   "cell_type": "markdown",
   "metadata": {
    "tags": []
   },
   "source": [
    "### 표본 평균\n",
    "\n",
    "평균을 통계용어로는 표본 평균(sample average, sample mean)이라고 합니다. $x$ 데이터에 대한 표본 평균은 $\\overline{x}$라고 표시하며 다음과 같이 계산합니다. 이 식에서 $n$은 데이터의 개수입니다. \n",
    "\n",
    "\\begin{align}\n",
    "\\overline{x} = \\frac{1}{n}\\sum_{i=1}^{n}x_i\n",
    "\\end{align}"
   ]
  },
  {
   "cell_type": "code",
   "execution_count": 32,
   "metadata": {},
   "outputs": [
    {
     "data": {
      "text/plain": [
       "5.038461538461538"
      ]
     },
     "execution_count": 32,
     "metadata": {},
     "output_type": "execute_result"
    }
   ],
   "source": [
    "np.mean(x) "
   ]
  },
  {
   "cell_type": "markdown",
   "metadata": {},
   "source": [
    "### 표본 분산 \n",
    "\n",
    "분산([variance](https://en.wikipedia.org/wiki/Variance) )은 관측값에서 평균을 뺀 값을 제곱하고, 그것을 모두 더한 후 전체 개수로 나눠서 구한다. 즉, 차이값의 제곱의 평균이다. 관측값에서 평균을 뺀 값인 편차를 모두 더하면 0이 나오므로 제곱해서 더한다.\n",
    "\n",
    "표본 분산(sample variance)은 데이터와 표본 평균간의 거리의 제곱의 평균입니다. 표본 분산이 작으면 데이터가 모여있는 것이고 크면 흩어져 있는 것입니다. 수학 기호로는 $s^2$ 이라고 표시하며 다음과 같이 계산합니다.\n",
    "\n",
    "\\begin{align}\n",
    "s^2 = \\frac{1}{n}\\sum_{i=1}^{n}({x_i - \\overline{x}})^2\n",
    "\\end{align}\n",
    "\n",
    "<center><img src=\"https://github.com/idebtor/KMOOC-ML/blob/master/ipynb/images/ch2/numpy-variance.png?raw=true\" width=\"400\">\n",
    "<center>그림 2: 평균은 같지만 분산은 다른 두 확률 분포. 빨간색 분포는 100의 평균값과 100의 분산값을 가지고, 파란색 분포는 100의 확률값과 2500의 분산값을 가진다. SD는 표준편차를 의미한다 (출처: wikipedia.co.kr) </center>"
   ]
  },
  {
   "cell_type": "code",
   "execution_count": 33,
   "metadata": {},
   "outputs": [
    {
     "data": {
      "text/plain": [
       "162.72928994082838"
      ]
     },
     "execution_count": 33,
     "metadata": {},
     "output_type": "execute_result"
    }
   ],
   "source": [
    "np.var(x)"
   ]
  },
  {
   "cell_type": "markdown",
   "metadata": {},
   "source": [
    "### 표본 표준편차\n",
    "표본 표준편차(sample standard variance)는 표본 분산의 양의 제곱근 값이며, 다음과 같이 계산합니다.  \n",
    "\n",
    "\\begin{align}\n",
    "s = \\sqrt{s^2}\n",
    "\\end{align}"
   ]
  },
  {
   "cell_type": "code",
   "execution_count": 34,
   "metadata": {},
   "outputs": [
    {
     "data": {
      "text/plain": [
       "12.756539105134605"
      ]
     },
     "execution_count": 34,
     "metadata": {},
     "output_type": "execute_result"
    }
   ],
   "source": [
    "np.std(x)"
   ]
  },
  {
   "cell_type": "markdown",
   "metadata": {},
   "source": [
    "### 최댓값과 최솟값\n",
    "\n",
    "최댓값(maximum)은 데이터 중에서 가장 큰 값을, 최솟값(minimum)은 가장 작은 값을 의미합니다."
   ]
  },
  {
   "cell_type": "code",
   "execution_count": 35,
   "metadata": {},
   "outputs": [
    {
     "name": "stdout",
     "output_type": "stream",
     "text": [
      "23\n",
      "-42\n"
     ]
    }
   ],
   "source": [
    "print(max(x))\n",
    "print(min(x))"
   ]
  },
  {
   "cell_type": "markdown",
   "metadata": {},
   "source": [
    "### 중앙값\n",
    "\n",
    "중앙값(median)은 데이터를 크기대로 정렬하였을 때 가장 가운데에 있는 수를 말합니다. 만약 데이터의 수가 짝수이면 가장 가운데에 있는 두 수의 평균을 사용합니다."
   ]
  },
  {
   "cell_type": "code",
   "execution_count": 36,
   "metadata": {},
   "outputs": [
    {
     "data": {
      "text/plain": [
       "7.5"
      ]
     },
     "execution_count": 36,
     "metadata": {},
     "output_type": "execute_result"
    }
   ],
   "source": [
    "np.median(x)"
   ]
  },
  {
   "cell_type": "markdown",
   "metadata": {},
   "source": [
    "### 사분위수\n",
    "사분위수(quartile)는 데이터를 가장 작은 수부터 가장 큰 수까지 크기가 커지는 순서대로 정렬하였을 때 1/4, 2/4, 3/4 위치에 있는 수를 말합니다. 각각 1사분위수, 2사분위수, 3사분위수라고 합니다. 1/4의 위치란 전체 데이터의 수가 만약 100개이면 25번째 순서, 즉 하위 25%를 말한다. 따라서 2사분위수는 중앙값과 같습니다. \n",
    "\n",
    "때로는 위치를 1/100 단위로 나눈 백분위수(percentile)을 사용하기도 합니다. 1사분위수는 25% 백분위수와 같습니다."
   ]
  },
  {
   "cell_type": "code",
   "execution_count": 37,
   "metadata": {},
   "outputs": [
    {
     "data": {
      "text/plain": [
       "-42.0"
      ]
     },
     "execution_count": 37,
     "metadata": {},
     "output_type": "execute_result"
    }
   ],
   "source": [
    "np.percentile(x, 0)   # 최소값"
   ]
  },
  {
   "cell_type": "code",
   "execution_count": 38,
   "metadata": {},
   "outputs": [
    {
     "data": {
      "text/plain": [
       "2.5"
      ]
     },
     "execution_count": 38,
     "metadata": {},
     "output_type": "execute_result"
    }
   ],
   "source": [
    "np.percentile(x, 25)  # 1사분위 수"
   ]
  },
  {
   "cell_type": "code",
   "execution_count": 39,
   "metadata": {},
   "outputs": [
    {
     "data": {
      "text/plain": [
       "7.5"
      ]
     },
     "execution_count": 39,
     "metadata": {},
     "output_type": "execute_result"
    }
   ],
   "source": [
    "np.percentile(x, 50)  # 2사분위 수"
   ]
  },
  {
   "cell_type": "code",
   "execution_count": 40,
   "metadata": {},
   "outputs": [
    {
     "data": {
      "text/plain": [
       "10.75"
      ]
     },
     "execution_count": 40,
     "metadata": {},
     "output_type": "execute_result"
    }
   ],
   "source": [
    "np.percentile(x, 75)  # 3사분위 수"
   ]
  },
  {
   "cell_type": "code",
   "execution_count": 41,
   "metadata": {},
   "outputs": [
    {
     "data": {
      "text/plain": [
       "23.0"
      ]
     },
     "execution_count": 41,
     "metadata": {},
     "output_type": "execute_result"
    }
   ],
   "source": [
    "np.percentile(x, 100)  # 최댓값"
   ]
  },
  {
   "cell_type": "markdown",
   "metadata": {},
   "source": [
    "## inf 와 nan\n",
    "\n",
    "넘파이에서는 무한대를 표현하기 위한 `np.inf`(infinity)와 정의할 수 없는 숫자를 나타내는 `np.nan`(not a number)을 사용할 수 있습니다. 다음 예와 같이 1을 0으로 나누려고 하거나 0에 대한 로그 값을 계산하면 무한대인 `np.inf`가 나옵니다. 0을 0으로 나누려고 시도하면 `np.nan`이 나옵니다. \n",
    "\n",
    "__Example:__"
   ]
  },
  {
   "cell_type": "code",
   "execution_count": 42,
   "metadata": {},
   "outputs": [
    {
     "data": {
      "text/plain": [
       "array([  0.,  inf, -inf,  nan])"
      ]
     },
     "execution_count": 42,
     "metadata": {},
     "output_type": "execute_result"
    }
   ],
   "source": [
    "# You may see some warnings if you don't have the next two lines\n",
    "import warnings;\n",
    "warnings.filterwarnings('ignore');\n",
    "\n",
    "np.array([0, 1, -1, 0]) / np.array([1, 0, 0, 0])"
   ]
  },
  {
   "cell_type": "code",
   "execution_count": 43,
   "metadata": {},
   "outputs": [
    {
     "data": {
      "text/plain": [
       "-inf"
      ]
     },
     "execution_count": 43,
     "metadata": {},
     "output_type": "execute_result"
    }
   ],
   "source": [
    "np.log(0)"
   ]
  },
  {
   "cell_type": "code",
   "execution_count": 44,
   "metadata": {},
   "outputs": [
    {
     "data": {
      "text/plain": [
       "0.0"
      ]
     },
     "execution_count": 44,
     "metadata": {},
     "output_type": "execute_result"
    }
   ],
   "source": [
    "np.exp(-np.inf)"
   ]
  },
  {
   "cell_type": "markdown",
   "metadata": {},
   "source": [
    "## 배열의 형식과 형상(크기)\n",
    "\n",
    "배열을 생성할 때 배열의 형식$^{type}$과 형상$^{shape}$을 지정할 수 있습니다. shape을 __크기__ 라고 번역하기도 합니다.  "
   ]
  },
  {
   "cell_type": "markdown",
   "metadata": {},
   "source": [
    "### Example 1: \n",
    "\n",
    "다음 코드 셀에 있는 None을 다른 코드로 대체 하여 아래와 같은 행렬(3 x 4)을 만드십시오.  \n",
    "\n",
    "```\n",
    "[[ 0  1  2  3]\n",
    " [ 4  5  6  7]\n",
    " [ 8  9 10 11]]\n",
    "```"
   ]
  },
  {
   "cell_type": "code",
   "execution_count": 45,
   "metadata": {},
   "outputs": [
    {
     "name": "stdout",
     "output_type": "stream",
     "text": [
      "[[ 0  1  2  3]\n",
      " [ 4  5  6  7]\n",
      " [ 8  9 10 11]]\n"
     ]
    }
   ],
   "source": [
    "a = np.arange(12).reshape(3, 4)\n",
    "print(a)"
   ]
  },
  {
   "cell_type": "markdown",
   "metadata": {},
   "source": [
    "### Example 2: \n",
    "\n",
    "위와 같은 행렬(3 x 4)을 만들되, -1을 활용하여 생성하십시오.   \n"
   ]
  },
  {
   "cell_type": "code",
   "execution_count": 46,
   "metadata": {},
   "outputs": [
    {
     "name": "stdout",
     "output_type": "stream",
     "text": [
      "[[ 0  1  2  3]\n",
      " [ 4  5  6  7]\n",
      " [ 8  9 10 11]]\n"
     ]
    }
   ],
   "source": [
    "#Using -1 \n",
    "a = np.arange(12).reshape(3, -1)\n",
    "print(a)"
   ]
  },
  {
   "cell_type": "code",
   "execution_count": 47,
   "metadata": {},
   "outputs": [
    {
     "name": "stdout",
     "output_type": "stream",
     "text": [
      "[[ 0  1  2  3]\n",
      " [ 4  5  6  7]\n",
      " [ 8  9 10 11]]\n"
     ]
    }
   ],
   "source": [
    "#Using -1 \n",
    "\n",
    "a = np.arange(12).reshape(-1, 4)\n",
    "print(a)"
   ]
  },
  {
   "cell_type": "markdown",
   "metadata": {},
   "source": [
    "## 배열의 인덱싱 - 표준 인덱싱\n",
    "\n",
    "배열의 인덱싱은 리스트의 인덱싱과 같으며, 팬시 인덱싱과 구별하기 위해서는 표준 인덱싱 혹은 단순 인덱싱이라고 부르기도 합니다. 다차원 배열일 때는 다음과 같이 콤마(comma ,)를 사용하여 접근할 수 있습니다. 콤마로 구분된 차원을 축(axis)이라고도 합니다. 그래프의 x축과 y축과 같은 역할을 한다고 생각하면 됩니다. "
   ]
  },
  {
   "cell_type": "code",
   "execution_count": 48,
   "metadata": {},
   "outputs": [
    {
     "name": "stdout",
     "output_type": "stream",
     "text": [
      "[[0 1 2]\n",
      " [3 4 5]]\n"
     ]
    }
   ],
   "source": [
    "a = np.array([[0, 1, 2], [3, 4, 5]])\n",
    "print(a)"
   ]
  },
  {
   "cell_type": "code",
   "execution_count": 49,
   "metadata": {},
   "outputs": [
    {
     "name": "stdout",
     "output_type": "stream",
     "text": [
      "1st row, 1st col: 0\n",
      "1st row, 2nd col: 1\n",
      "last row, last col: 5\n"
     ]
    }
   ],
   "source": [
    "print('1st row, 1st col:', a[0, 0])\n",
    "print('1st row, 2nd col:', a[0, 1])\n",
    "print('last row, last col:', a[-1, -1])"
   ]
  },
  {
   "cell_type": "markdown",
   "metadata": {},
   "source": [
    "## 배열 슬라이싱\n",
    "\n",
    "배열 객체로 구현한 다차원 배열의 원소 중 여러 개를 접근하려면 일반적인 파이썬 슬라이싱(slicing)과 comma(,)를 함께 사용하면 됩니다."
   ]
  },
  {
   "cell_type": "code",
   "execution_count": 55,
   "metadata": {},
   "outputs": [
    {
     "data": {
      "text/plain": [
       "array([[0, 1, 2, 3],\n",
       "       [4, 5, 6, 7]])"
      ]
     },
     "execution_count": 55,
     "metadata": {},
     "output_type": "execute_result"
    }
   ],
   "source": [
    "a = np.array([[0, 1, 2, 3], [4, 5, 6, 7]])\n",
    "a"
   ]
  },
  {
   "cell_type": "code",
   "execution_count": 11,
   "metadata": {},
   "outputs": [
    {
     "name": "stdout",
     "output_type": "stream",
     "text": [
      "1st row: [1 2 3 4]\n",
      "2nd col: [5 6 7 8]\n",
      "all except 1st row and 1st col: [[ 6  7  8]\n",
      " [10 11 12]]\n",
      "all except 1st row and 1st col: [6 7 8]\n",
      "2 x 2 upper left corner:\n",
      " [[1 2]\n",
      " [5 6]]\n"
     ]
    }
   ],
   "source": [
    "print('1st row:', a[0, :])\n",
    "print('2nd col:', a[1, :])\n",
    "print('all except 1st row and 1st col:', a[1:, 1:])\n",
    "print('all except 1st row and 1st col:', a[1, 1:])\n",
    "print('2 x 2 upper left corner:\\n', a[:2, :2])"
   ]
  },
  {
   "cell_type": "markdown",
   "metadata": {},
   "source": [
    "## Fancy Indexing\n",
    "\n",
    "넘파이 배열 객체의 또다른 강력한 배열 인덱싱 기능은 팬시 인덱싱(fancy indexing)이라고도 부릅니다. 인덱싱이라는 이름이 붙었지만 사실은 데이터베이스의 질의(Query) 기능을 수행합니다. 배열 인덱싱에서는 대괄호(Bracket, `[]`)안의 인덱스 정보로 숫자나 슬라이스가 아니라 위치 정보를 나타내는 또 다른 `ndarray` 배열을 받을 수 있습니다. 여기에서는 이 배열을 편의상 인덱스 배열이라고 부르겠다. 배열 인덱싱의 방식에은 불리언(Boolean) 배열 방식과 정수 배열 방식 두가지가 있습니다.\n",
    "\n",
    "먼저 불리안 배열 인덱싱 방식은 인덱스 배열의 원소가 True, False 두 값으로만 구성되며 인덱스 배열의 크기가 원래 `ndarray` 객체의 크기와 같아야 합니다. \n",
    "\n",
    "Fancy Indexing 을 하게 되면 view가 아니라 copy가 생성이 됩니다. 따라서 Fancy Indexing후의 __copy된 배열에__ 변화를 주어도 원본 배열에는 아무런 영향이 없습니다. "
   ]
  },
  {
   "cell_type": "markdown",
   "metadata": {},
   "source": [
    "### Example 1\n",
    "다음과 같은 1차원 ndarray에서 짝수인 원소만 골라내려면 짝수인 원소에 대응하는 인덱스 값이 True이고 홀수인 원소에 대응하는 인덱스 값이 False인 인덱스 배열을 넣으면 됩니다."
   ]
  },
  {
   "cell_type": "code",
   "execution_count": 50,
   "metadata": {},
   "outputs": [
    {
     "name": "stdout",
     "output_type": "stream",
     "text": [
      "[0 2 4 6]\n"
     ]
    }
   ],
   "source": [
    "a = np.array([0, 1, 2, 3, 4, 5, 6, 7])\n",
    "idx = np.array([True, False, True, False, True, False, True, False])\n",
    "print(a[idx])"
   ]
  },
  {
   "cell_type": "markdown",
   "metadata": {},
   "source": [
    "위와 같은 연산을 조건문 연산을 사용하면 다음과 같이 간단히 쓸 수 있습니다. \n",
    "왜냐하면, `a % 2`의 연산 결과는 위의 `idx` 배열 값과 사실 상 같기 때문입니다. "
   ]
  },
  {
   "cell_type": "code",
   "execution_count": 51,
   "metadata": {},
   "outputs": [
    {
     "name": "stdout",
     "output_type": "stream",
     "text": [
      "[ True False  True False  True False  True False]\n",
      "[0 1 0 1 0 1 0 1]\n",
      "[0 2 4 6]\n"
     ]
    }
   ],
   "source": [
    "print(a % 2 == 0)\n",
    "print(a % 2)\n",
    "print(a[a % 2 == 0])"
   ]
  },
  {
   "cell_type": "markdown",
   "metadata": {},
   "source": [
    "### 원소들 추출하기\n",
    "\n",
    "정수 배열 인덱싱에서는 인덱스 배열의 원소 각각이 원래 ndarray 객체 원소 하나를 가리키는 인덱스 정수이여야 합니다. 예를 들어 1차원 배열에서 홀수번째 원소만 골라내는 것은 다음과 같습니다"
   ]
  },
  {
   "cell_type": "code",
   "execution_count": 52,
   "metadata": {},
   "outputs": [
    {
     "data": {
      "text/plain": [
       "array([11, 33, 55, 77, 99])"
      ]
     },
     "execution_count": 52,
     "metadata": {},
     "output_type": "execute_result"
    }
   ],
   "source": [
    "a = np.array([11, 22, 33, 44, 55, 66, 77, 88, 99])\n",
    "idx = np.array([0, 2, 4, 6, 8])\n",
    "a[idx]"
   ]
  },
  {
   "cell_type": "markdown",
   "metadata": {},
   "source": [
    "### 배열의 행(row)을 Fancy Indexing으로 추출하기\n",
    "\n",
    "- 그림과 같이 다차원 배열에서도 두 서브배열을 Fancy Indexing으로 추출(Slicing)할 수 있습니다. \n",
    "\n",
    "<center><img src=\"https://github.com/idebtor/KMOOC-ML/blob/master/ipynb/images/ch2/numpy-fancyindex1.png?raw=true\" width=\"600\">\n",
    "<center>그림 3: 다차원 배열의 행(row) Fancy Indexing 하기 </center>"
   ]
  },
  {
   "cell_type": "code",
   "execution_count": 2,
   "metadata": {},
   "outputs": [
    {
     "name": "stdout",
     "output_type": "stream",
     "text": [
      "[[3 4 5]\n",
      " [6 7 8]]\n",
      "[[12 13 14]\n",
      " [ 9 10 11]]\n"
     ]
    }
   ],
   "source": [
    "import numpy as np\n",
    "\n",
    "a = np.arange(15).reshape(5, 3)\n",
    "print(a[[1, 2]])\n",
    "print(a[[-1, -2]])"
   ]
  },
  {
   "cell_type": "markdown",
   "metadata": {},
   "source": [
    "### Fancy indexing으로 열을 추출하기\n",
    "배열 인덱싱은 다차원 배열의 각 차원에 대해서도 할 수 있습니다. \n",
    "```\n",
    "array([[ 1,  2,  3,  4],\n",
    "       [ 5,  6,  7,  8],\n",
    "       [ 9, 10, 11, 12]])\n",
    "```\n",
    "\n",
    "아래 코드는 모든 행들 중에서 첫째 열과 마지막 열을 슬라이싱합니다. "
   ]
  },
  {
   "cell_type": "code",
   "execution_count": 4,
   "metadata": {},
   "outputs": [
    {
     "name": "stdout",
     "output_type": "stream",
     "text": [
      "[[ 1  2  3  4]\n",
      " [ 5  6  7  8]\n",
      " [ 9 10 11 12]]\n",
      "[[ 1  4]\n",
      " [ 5  8]\n",
      " [ 9 12]]\n"
     ]
    }
   ],
   "source": [
    "a = np.array([[1, 2, 3, 4], [5, 6, 7, 8], [9, 10, 11, 12]])\n",
    "print(a)\n",
    "print(a[:, [True, False, False, True]])"
   ]
  },
  {
   "cell_type": "markdown",
   "metadata": {},
   "source": [
    "### Fancy Index으로 행을 교환하기\n",
    "\n",
    "다음은 마지막 행을 첫 번째 행으로 올리고, 첫 번째 행과 두 번째 행은 각각 두 번째와 세 번째로 자리 바꿈을 합니다. "
   ]
  },
  {
   "cell_type": "code",
   "execution_count": 54,
   "metadata": {},
   "outputs": [
    {
     "name": "stdout",
     "output_type": "stream",
     "text": [
      "[[7 4 4 3 2 2]\n",
      " [8 2 8 4 3 0]\n",
      " [7 1 3 5 7 2]]\n",
      "[[7 1 3 5 7 2]\n",
      " [7 4 4 3 2 2]\n",
      " [8 2 8 4 3 0]]\n"
     ]
    }
   ],
   "source": [
    "a = np.random.random((3, 6)) * 10\n",
    "a = a.astype(np.int32)\n",
    "print(a)\n",
    "print(a[[2, 0, 1], :])    # column(열)은 이동하지 않습니다. "
   ]
  },
  {
   "cell_type": "markdown",
   "metadata": {},
   "source": [
    "# Fancy Indexing Application \n",
    "\n",
    "Fancy Indexing은 배열/행렬에서 일부분을 추출하는데 흔히 사용합니다. 다차원의 특성 자료들을 많이 사용하는 기계학습에서도 많이 응용하고 있습니다.  \n",
    "\n",
    "예를 들어서, 다음과 같은 2차원의 정규 분포를 보이는 자료들이 있다고 가정하고, 그 자료들 중에 무작위로 중복되지 않는 20개의 데이터를 찾아서 표시하고자 합니다. 이 때, 그 데이터를 찾는데 Fancy Indexing을 사용할 수 있습니다. "
   ]
  },
  {
   "cell_type": "code",
   "execution_count": 37,
   "metadata": {},
   "outputs": [
    {
     "data": {
      "text/plain": [
       "(100, 2)"
      ]
     },
     "execution_count": 37,
     "metadata": {},
     "output_type": "execute_result"
    }
   ],
   "source": [
    "mean = [0, 0]\n",
    "cov = [[1, 2],\n",
    "       [2, 5]]\n",
    "X = np.random.multivariate_normal(mean, cov, 100)\n",
    "X.shape"
   ]
  },
  {
   "cell_type": "code",
   "execution_count": 38,
   "metadata": {},
   "outputs": [
    {
     "data": {
      "image/png": "[encoded data removed]",
      "text/plain": [
       "<Figure size 432x288 with 1 Axes>"
      ]
     },
     "metadata": {},
     "output_type": "display_data"
    }
   ],
   "source": [
    "import matplotlib.pyplot as plt\n",
    "import seaborn; seaborn.set()  # for plot styling\n",
    "\n",
    "plt.scatter(X[:, 0], X[:, 1], marker='.');"
   ]
  },
  {
   "cell_type": "code",
   "execution_count": 39,
   "metadata": {},
   "outputs": [
    {
     "data": {
      "text/plain": [
       "array([53, 41, 70, 46, 24,  7, 61, 95, 81, 99, 68, 75, 78, 42, 25, 34, 67,\n",
       "       10, 11, 82])"
      ]
     },
     "execution_count": 39,
     "metadata": {},
     "output_type": "execute_result"
    }
   ],
   "source": [
    "indices = np.random.choice(X.shape[0], 20, replace=False)\n",
    "indices"
   ]
  },
  {
   "cell_type": "markdown",
   "metadata": {},
   "source": [
    "이제 이 indices를 사용하여 원 자료 X에서 해당 point들을 찾아내려고 합니다. "
   ]
  },
  {
   "cell_type": "code",
   "execution_count": 40,
   "metadata": {},
   "outputs": [
    {
     "data": {
      "text/plain": [
       "(20, 2)"
      ]
     },
     "execution_count": 40,
     "metadata": {},
     "output_type": "execute_result"
    }
   ],
   "source": [
    "selection = X[indices]  # fancy indexing here\n",
    "selection.shape"
   ]
  },
  {
   "cell_type": "markdown",
   "metadata": {},
   "source": [
    "이와 같이 무작위로 선택한 point들 위에 좀 더 큰 원으로 그려 표시할 수 있습니다. "
   ]
  },
  {
   "cell_type": "code",
   "execution_count": 46,
   "metadata": {},
   "outputs": [
    {
     "data": {
      "image/png": "[encoded data removed]",
      "text/plain": [
       "<Figure size 432x288 with 1 Axes>"
      ]
     },
     "metadata": {},
     "output_type": "display_data"
    }
   ],
   "source": [
    "plt.scatter(X[:, 0], X[:, 1], alpha=0.3, marker = '.')\n",
    "plt.scatter(selection[:, 0], selection[:, 1], color ='red', facecolor='None', s=150);"
   ]
  },
  {
   "cell_type": "markdown",
   "metadata": {},
   "source": [
    "# Exercises\n",
    "\n",
    "## 배열에 대한 연산\n",
    "\n",
    "다음과 같이 주어진 배열 `x`가 있을 때 다음을 구하는 연산을 하십시오. 적절할 때, 배열 인덱싱, 다른 말로, 팬시 인덱싱을 사용하면 좋습니다. \n",
    "\n",
    "1. 이 배열에서 3의 배수를 찾아 출력하십시오\n",
    "1. 이 배열에서 4로 나누면 1이 남는 수를 찾으십시오. \n",
    "1. 이 배열에서 3으로 나누면 나누어지고 4로 나누면 1이 남는 수를 찾으십시오."
   ]
  },
  {
   "cell_type": "markdown",
   "metadata": {},
   "source": [
    "__Sample Run:__\n",
    "```\n",
    "x = np.arange(1, 21)\n",
    "print(x)\n",
    "```\n",
    "\n",
    "__Expected Output:__\n",
    "```\n",
    "[ 3  6  9 12 15 18]\n",
    "[ 1  5  9 13 17]\n",
    "[9]\n",
    "```\n",
    "\n",
    "__Solution:__"
   ]
  },
  {
   "cell_type": "code",
   "execution_count": 47,
   "metadata": {},
   "outputs": [
    {
     "name": "stdout",
     "output_type": "stream",
     "text": [
      "[ 1  2  3  4  5  6  7  8  9 10 11 12 13 14 15 16 17 18 19 20]\n",
      "[ 3  6  9 12 15 18]\n",
      "[ 1  5  9 13 17]\n",
      "[9]\n"
     ]
    }
   ],
   "source": [
    "import numpy as np\n",
    "\n",
    "None"
   ]
  },
  {
   "cell_type": "markdown",
   "metadata": {},
   "source": [
    "## 벡터화 연산 \n",
    "\n",
    "다음과 같이, a, b, c가 주어졌을 때, a의 원소가 짝수이고, c의 원소는 50보다 큰 원소 True로 설정하고, 아니면 모두 False설정한 넘파이 배열을 구하십시오. \n",
    "\n",
    "__Sample Run:__\n",
    "```\n",
    "a = np.array([1, 2, 3, 4, 5])\n",
    "b = np.array([10, 20, 30, 40, 50])\n",
    "c = a + b * 2\n",
    "print(c > 50)\n",
    "```\n",
    "\n",
    "__Expected Output:__\n",
    "```\n",
    "[False False False  True False]\n",
    "```"
   ]
  },
  {
   "cell_type": "code",
   "execution_count": 58,
   "metadata": {},
   "outputs": [
    {
     "name": "stdout",
     "output_type": "stream",
     "text": [
      "[ 21  42  63  84 105]\n",
      "[False False  True  True  True]\n",
      "[False False False  True False]\n"
     ]
    }
   ],
   "source": [
    "None"
   ]
  },
  {
   "cell_type": "markdown",
   "metadata": {},
   "source": [
    "## Fancy Indexing\n",
    "\n",
    "주어진 행렬로부터 다음 두 개의 배열을 각각 추출하십시오. \n",
    "\n",
    "__Sample Run:__\n",
    "```\n",
    "[[ 0  1  2  3]\n",
    " [ 4  5  6  7]\n",
    " [ 8  9 10 11]]\n",
    "```\n",
    "__Expected Output:__\n",
    "```\n",
    "[10,  8,  9]\n",
    "\n",
    "[[ 6,  4, 5],\n",
    " [10,  8,  9]]\n",
    "```"
   ]
  },
  {
   "cell_type": "code",
   "execution_count": 12,
   "metadata": {},
   "outputs": [
    {
     "name": "stdout",
     "output_type": "stream",
     "text": [
      "[[ 0  1  2  3]\n",
      " [ 4  5  6  7]\n",
      " [ 8  9 10 11]]\n"
     ]
    }
   ],
   "source": [
    "None"
   ]
  },
  {
   "cell_type": "code",
   "execution_count": 15,
   "metadata": {},
   "outputs": [
    {
     "name": "stdout",
     "output_type": "stream",
     "text": [
      "[10  8  9]\n",
      "[[ 6  4  5]\n",
      " [10  8  9]]\n"
     ]
    }
   ],
   "source": [
    "None"
   ]
  },
  {
   "cell_type": "markdown",
   "metadata": {},
   "source": [
    "## Fancy Indexing으로 행과 열을 추출하기\n",
    "\n",
    "다음 그림과 같이 2차원 배열(행렬)에서 각 행과 열에서 6개의 원소를 Fancy Indexing으로 추출하십시오. \n",
    "\n",
    "<center><img src=\"https://github.com/idebtor/KMOOC-ML/blob/master/ipynb/images/ch2/numpy-fancyindex2.png?raw=true\" width=\"600\">\n",
    "<center>그림 3: 다차원 배열의 행과 열에서 Fancy Indexing 하기 </center>"
   ]
  },
  {
   "cell_type": "markdown",
   "metadata": {},
   "source": [
    "__Expected Output:__\n",
    "```\n",
    "[[ 0  2]\n",
    " [ 6  8]\n",
    " [12 14]]\n",
    "```"
   ]
  },
  {
   "cell_type": "markdown",
   "metadata": {},
   "source": [
    "__Solution:__"
   ]
  },
  {
   "cell_type": "code",
   "execution_count": 16,
   "metadata": {},
   "outputs": [
    {
     "name": "stdout",
     "output_type": "stream",
     "text": [
      "[[ 0  1  2]\n",
      " [ 3  4  5]\n",
      " [ 6  7  8]\n",
      " [ 9 10 11]\n",
      " [12 13 14]]\n",
      "[[ 0  2]\n",
      " [ 6  8]\n",
      " [12 14]]\n"
     ]
    }
   ],
   "source": [
    "None"
   ]
  },
  {
   "cell_type": "markdown",
   "metadata": {},
   "source": [
    "__Alternative:__"
   ]
  },
  {
   "cell_type": "code",
   "execution_count": 26,
   "metadata": {},
   "outputs": [
    {
     "name": "stdout",
     "output_type": "stream",
     "text": [
      "[[ 0  1  2]\n",
      " [ 3  4  5]\n",
      " [ 6  7  8]\n",
      " [ 9 10 11]\n",
      " [12 13 14]]\n",
      "[[ 0  2]\n",
      " [ 6  8]\n",
      " [12 14]]\n"
     ]
    }
   ],
   "source": [
    "None"
   ]
  },
  {
   "cell_type": "markdown",
   "metadata": {},
   "source": [
    "## Fancy Indexing으로 정렬하기\n",
    "\n",
    "다음 배열은 학생 4 명의 과목 성적을 학번 순으로 기록한 것입니다.  첫번째 열(col)은 학번, 두번째 열은 국어 성적, 세번째 열은 수학 성적, 등등 입니다. 각 행(row)를 국어 성적으로 재정렬 할 수 있는 인덱스를 구하고, 그 인덱스를 이용하여 grade 배열을 재정렬하여 출력하십시오.\n",
    "\n",
    "```\n",
    "grade = np.array([[ 2011, 91,  89,  71, 98],\n",
    "                  [ 2122, 82, 100,  92, 99],\n",
    "                  [ 2230, 93,  83, 100, 80],\n",
    "                  [ 2240, 77,  99,  80, 90]])\n",
    "```"
   ]
  },
  {
   "cell_type": "markdown",
   "metadata": {},
   "source": [
    "__Expected Output:__\n",
    "```\n",
    "[[2230   93   83  100   80]\n",
    " [2011   91   89   71   98]\n",
    " [2240   77   99   80   90]\n",
    " [2122   82  100   92   99]]\n",
    " ```\n",
    "\n",
    "__참고__: 우리가 아직 argsort()를 배우지 않았으므로, sort index를 수동적으로 구해서 입력해도 좋습니다. 다음 세션에서 argsort()를 사용하면, sort index를 구할 수 있습니다.  \n",
    "\n",
    "__Solution:__"
   ]
  },
  {
   "cell_type": "code",
   "execution_count": 59,
   "metadata": {},
   "outputs": [
    {
     "name": "stdout",
     "output_type": "stream",
     "text": [
      "[[2011   91   89   71   98]\n",
      " [2122   82  100   92   99]\n",
      " [2230   93   83  100   80]\n",
      " [2240   77   99   80   90]]\n",
      "[2 0 3 1]\n",
      "[[2230   93   83  100   80]\n",
      " [2011   91   89   71   98]\n",
      " [2240   77   99   80   90]\n",
      " [2122   82  100   92   99]]\n"
     ]
    }
   ],
   "source": [
    "None"
   ]
  },
  {
   "cell_type": "markdown",
   "metadata": {},
   "source": [
    "# 학습 정리\n",
    "\n",
    "넘파이 배열이 왜 필요한지, 연산 속도가 얼마나 빠른지, 넘파의 배열의 기본적인 특성을 살펴보았습니다. \n",
    "\n",
    "1. 넘파이 배열\n",
    "1. 배열의 연산 속도\n",
    "1. 벡터화 연산 (Vectorization)\n",
    "1. 배열의 속성  \n",
    "1. 배열의 인덱싱 (표준, 팬시)"
   ]
  },
  {
   "cell_type": "markdown",
   "metadata": {},
   "source": [
    "# 참고자료\n",
    "- CS231n Convolutional Neural Networks for Visual Recognition, [Python Numpy Tutorial](http://cs231n.github.io/python-numpy-tutorial/), Stanford University\n",
    "- [Python For Data Science Cheat Sheet NumPy Basics](https://s3.amazonaws.com/assets.datacamp.com/blog_assets/Numpy_Python_Cheat_Sheet.pdf), DataCamp\n",
    "- [astroML](http://www.astroml.org/book_figures/appendix/fig_broadcast_visual.html) \n",
    "- Python Numpy Tutorial - http://cs231n.github.io/\n",
    "- 김태완 블로그: [파이썬 데이터 사이언스 Cheat Sheet](http://taewan.kim/post/numpy_cheat_sheet/)"
   ]
  }
 ],
 "metadata": {
  "kernelspec": {
   "display_name": "Python 3",
   "language": "python",
   "name": "python3"
  },
  "language_info": {
   "codemirror_mode": {
    "name": "ipython",
    "version": 3
   },
   "file_extension": ".py",
   "mimetype": "text/x-python",
   "name": "python",
   "nbconvert_exporter": "python",
   "pygments_lexer": "ipython3",
   "version": "3.8.3"
  },
  "toc-autonumbering": true
 },
 "nbformat": 4,
 "nbformat_minor": 4
}
