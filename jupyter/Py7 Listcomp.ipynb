{
 "cells": [
  {
   "cell_type": "markdown",
   "metadata": {},
   "source": [
    "이 세상이나 세상에 있는 것들을 사랑하지 말라 누구든지 세상을 사랑하면 아버지의 사랑이 그 안에 있지 아니하니\n",
    "이는 세상에 있는 모든 것이 육신의 정욕과 안목의 정욕과 이생의 자랑이니 다 아버지께로부터 온 것이 아니요 세상으로부터 온 것이라\n",
    "이 세상도, 그 정욕도 지나가되 오직 하나님의 뜻을 행하는 자는 영원히 거하느니라 (요일2:15-17)\n",
    "\n",
    "-------\n",
    "\n",
    "<center><img src=\"https://github.com/idebtor/KMOOC-ML/blob/master/ipynb/images/joyai/pythonML.png?raw=true\" width=1000></center>\n",
    "\n",
    "__NOTE:__ The following materials have been compiled and adapted from the numerous sources including my own. Please help me to keep this tutorial up-to-date by reporting any issues or questions. Send any comments or criticisms to `idebtor@gmail.com` Your assistances and comments will be appreciated."
   ]
  },
  {
   "cell_type": "markdown",
   "metadata": {
    "tags": []
   },
   "source": [
    "# List comprehension \n",
    "\n",
    "__학습 목표__   \n",
    "- 리스트 컴프리핸션에 대해 이해한다.\n",
    "- 리스트 컴프리핸션과 loop를 비교할 수 있다.\n",
    "- 파이썬의 강점을 살린 코딩을 할 수 있다.\n",
    "\n",
    "__학습 내용__\n",
    "1. 리스트 컴프리헨션, 셋 컴프리헨션, 딕셔너리 컴프리헨션\n",
    "1. 파이써닉 코딩\n",
    "\n",
    "## What is List Comprehension?\n",
    "- The list comprehension provides us with __a simple way to create a list__ based on some iterable. \n",
    "- During the creation, elements from the iterable can be conditionally included in the new list and transformed as needed. An iterable is something you can loop over. \n",
    "\n",
    "## Three components of a comprehension\n",
    "\n",
    "The components of a list comprehension are:\n",
    "- Output Expression (Optional)\n",
    "- Iterable\n",
    "- Iterator variable which represents the members of the iterable"
   ]
  },
  {
   "cell_type": "markdown",
   "metadata": {},
   "source": [
    "## Syntax\n",
    "- The syntax is:\n",
    "    - [**expression** for **variable** in **iterable**] \n",
    "\n",
    "    - [**expression** for **variable** in **iterable** if **condition**] \n",
    "    \n",
    "- It sounds like \n",
    "\n",
    "```\n",
    "    - [output expression for item in iterable]\n",
    "    - [output expression for item in iterable if condition]\n",
    "```\n",
    "\n",
    "- The `if` **condition** part is optional, the statement and the condition can use variable.\n",
    "\n",
    "<center><img src=\"https://github.com/idebtor/KMOOC-ML/blob/master/ipynb/images/joyai/list_comprehension.png?raw=true\" width=\"600\"></center>\n",
    "<center>그림 1: 리스트 컴프리헨션</center>"
   ]
  },
  {
   "cell_type": "markdown",
   "metadata": {},
   "source": [
    "## Three kinds of Comprehensions\n",
    "There are three different kind of comprehensions in Python\n",
    "\n",
    "- list comprehensions, \n",
    "- set comprehensions and \n",
    "- dictionary comprehensions"
   ]
  },
  {
   "cell_type": "markdown",
   "metadata": {},
   "source": [
    "## Loops and Comprehensions \n",
    "\n",
    "The list comprehension is more efficient both computationally and in terms of coding space and time than a for loop. \n",
    "Typically, they are written in a single line of code."
   ]
  },
  {
   "cell_type": "markdown",
   "metadata": {},
   "source": [
    "### Example\n",
    "\n",
    "- Create a list from 0 to 9 using a for loop.\n",
    "\n",
    "__Using hand-coding__ "
   ]
  },
  {
   "cell_type": "code",
   "execution_count": 1,
   "metadata": {},
   "outputs": [],
   "source": [
    "numbers = [0, 1, 2, 3, 4, 5, 6, 7, 8, 9]"
   ]
  },
  {
   "cell_type": "markdown",
   "metadata": {},
   "source": [
    "__Using for loop__"
   ]
  },
  {
   "cell_type": "code",
   "execution_count": 2,
   "metadata": {},
   "outputs": [
    {
     "data": {
      "text/plain": [
       "[]"
      ]
     },
     "execution_count": 2,
     "metadata": {},
     "output_type": "execute_result"
    }
   ],
   "source": [
    "numbers = []\n",
    "None\n",
    "numbers"
   ]
  },
  {
   "cell_type": "markdown",
   "metadata": {},
   "source": [
    "__Using List comprehension__"
   ]
  },
  {
   "cell_type": "code",
   "execution_count": 3,
   "metadata": {},
   "outputs": [],
   "source": [
    "numbers = None\n",
    "numbers"
   ]
  },
  {
   "cell_type": "markdown",
   "metadata": {
    "tags": []
   },
   "source": [
    "### Example \n",
    "\n",
    "- Generate numbers squared from 1 to 10 using a list comprehension as shown below\n",
    "\n",
    "__Expected Output:__\n",
    "```\n",
    "[1, 4, 9, 16, 25, 36, 49, 64, 81, 100]\n",
    "```\n",
    "\n",
    "__Using a for loop__"
   ]
  },
  {
   "cell_type": "code",
   "execution_count": null,
   "metadata": {},
   "outputs": [],
   "source": [
    "squares = None\n",
    "None\n",
    "print(squares)"
   ]
  },
  {
   "cell_type": "markdown",
   "metadata": {},
   "source": [
    "__Using list comprehension__"
   ]
  },
  {
   "cell_type": "code",
   "execution_count": null,
   "metadata": {},
   "outputs": [],
   "source": [
    "numbers = None\n",
    "numbers"
   ]
  },
  {
   "cell_type": "markdown",
   "metadata": {},
   "source": [
    "### Example\n",
    "\n",
    "- Generate odd numbers squared from 1 to 10 using a list comprehension as shown below\n",
    "\n",
    "__Expected Output:__\n",
    "```\n",
    "squares = [1, 9, 25, 49, 81]\n",
    "```\n",
    "\n",
    "__Using a for loop__ \n",
    "- With using a conditional statement `if`\n",
    "- Without using a conditional statement `if`, but utilizing the step in range()"
   ]
  },
  {
   "cell_type": "code",
   "execution_count": null,
   "metadata": {},
   "outputs": [],
   "source": [
    "# using for loop and a conditional statement `if`\n",
    "squares = None\n",
    "None\n",
    "print(squares)"
   ]
  },
  {
   "cell_type": "code",
   "execution_count": null,
   "metadata": {},
   "outputs": [],
   "source": [
    "# using for loop without a conditional statement `if`, but utilizing the step in range()\n",
    "squares = None\n",
    "None\n",
    "print(squares)"
   ]
  },
  {
   "cell_type": "markdown",
   "metadata": {},
   "source": [
    "__Using list comprehension__\n",
    "\n",
    "We can also create more advanced list comprehensions which include __a conditional statement__ on the iterable. "
   ]
  },
  {
   "cell_type": "code",
   "execution_count": null,
   "metadata": {},
   "outputs": [],
   "source": [
    "# list comprehension without if, but use the step in range()\n",
    "squares = None\n",
    "print(squares)"
   ]
  },
  {
   "cell_type": "code",
   "execution_count": null,
   "metadata": {},
   "outputs": [],
   "source": [
    "# list comprehension with if \n",
    "squares = None\n",
    "print(squares)"
   ]
  },
  {
   "cell_type": "markdown",
   "metadata": {},
   "source": [
    "### Example\n",
    "\n",
    "- Convert a list of temperatures in Celsius into Fahrenheit using \n",
    "    - Using a for loop and \n",
    "    - Using a list comprehension.\n",
    "- You may convert a Celsisus into Fahrenheit using the formula:\n",
    "```f = 1.8 * c + 32```"
   ]
  },
  {
   "cell_type": "markdown",
   "metadata": {},
   "source": [
    "__Sample Run:__\n",
    "```\n",
    "clist = [-10, 0, 10, 50, 100, 200]\n",
    "```\n",
    "__Expected Output:__\n",
    "```\n",
    "[14.0, 32.0, 50.0, 122.0, 212.0, 392.0]\n",
    "```\n",
    "\n",
    "__Using a for loop__"
   ]
  },
  {
   "cell_type": "code",
   "execution_count": null,
   "metadata": {},
   "outputs": [],
   "source": [
    "clist = [-10, 0, 10, 50, 100, 200]\n",
    "flist = None\n",
    "None\n",
    "    \n",
    "print(flist)"
   ]
  },
  {
   "cell_type": "markdown",
   "metadata": {},
   "source": [
    "__Using list comprehension__"
   ]
  },
  {
   "cell_type": "code",
   "execution_count": null,
   "metadata": {},
   "outputs": [],
   "source": [
    "#use list comprehension\n",
    "clist = [-10, 0, 10, 50, 100, 200] \n",
    "flist = None\n",
    "flist"
   ]
  },
  {
   "cell_type": "markdown",
   "metadata": {},
   "source": [
    "### Example \n",
    "\n",
    "- Find numbers that are divisible by 2 and 3 from 1 to 50.\n",
    "\n",
    "__Expected Output:__\n",
    "\n",
    "```\n",
    "[6, 12, 18, 24, 30, 36, 42, 48]\n",
    "```\n",
    "__Using logical `and`__"
   ]
  },
  {
   "cell_type": "code",
   "execution_count": null,
   "metadata": {},
   "outputs": [],
   "source": [
    "num = [ None ]\n",
    "num"
   ]
  },
  {
   "cell_type": "markdown",
   "metadata": {},
   "source": [
    "__Using nested `if`__"
   ]
  },
  {
   "cell_type": "code",
   "execution_count": null,
   "metadata": {
    "tags": []
   },
   "outputs": [],
   "source": [
    "num = [ None ]\n",
    "num"
   ]
  },
  {
   "cell_type": "markdown",
   "metadata": {},
   "source": [
    "### Example\n",
    "\n",
    "Given a list of scores Convert a list of scores into 'P' and 'F'. It is 'P' if the score is greater than or equal to 70, `F` otherwise.\n",
    "\n",
    "__Sample Run:__\n",
    "```\n",
    "scores = [75, 85, 95, 65, 70]\n",
    "```\n",
    "\n",
    "__Expected Output:__\n",
    "```\n",
    "['P', 'P', 'P', 'F', 'P']\n",
    "```\n",
    "__Using a for-loop and `if ... else`__ "
   ]
  },
  {
   "cell_type": "code",
   "execution_count": 10,
   "metadata": {},
   "outputs": [
    {
     "name": "stdout",
     "output_type": "stream",
     "text": [
      "['P', 'P', 'P', 'F', 'P']\n"
     ]
    }
   ],
   "source": [
    "scores = [75, 85, 95, 65, 70]\n",
    "pf = []\n",
    "\n",
    "None\n",
    "\n",
    "print(pf)"
   ]
  },
  {
   "cell_type": "code",
   "execution_count": null,
   "metadata": {},
   "outputs": [],
   "source": [
    "__Using list comprehension__ "
   ]
  },
  {
   "cell_type": "code",
   "execution_count": 4,
   "metadata": {},
   "outputs": [
    {
     "data": {
      "text/plain": [
       "['P', 'P', 'P', 'F', 'P']"
      ]
     },
     "execution_count": 4,
     "metadata": {},
     "output_type": "execute_result"
    }
   ],
   "source": [
    "pf = None\n",
    "print(pf)"
   ]
  },
  {
   "cell_type": "markdown",
   "metadata": {},
   "source": [
    "### Example\n",
    "\n",
    "Let's suppose we have lists in a list or a __matrix__(행렬).   \n",
    "For example, a matrix is a sort of lists in a list. Sometimes, we want to make lists in a list into a list. This operation is called `flatten`. For example,  the following `matrix` may be flattened as shown below:\n",
    "\n",
    "__Sample Run:__\n",
    "```\n",
    "matrix = [ [1, 2, 3, 4],\n",
    "           [5, 6, 7, 8],\n",
    "           [9, 10, 11, 12]]\n",
    "```\n",
    "__Expected Output:__\n",
    "```\n",
    "[1, 2, 3, 4, 5, 6, 7, 8, 9, 10, 11, 12]\n",
    "```"
   ]
  },
  {
   "cell_type": "markdown",
   "metadata": {},
   "source": [
    "__Using for loops__"
   ]
  },
  {
   "cell_type": "code",
   "execution_count": null,
   "metadata": {},
   "outputs": [],
   "source": [
    "matrix = [\n",
    "    [1, 2, 3, 4],\n",
    "    [5, 6, 7, 8],\n",
    "    [9, 10, 11, 12],\n",
    "]\n",
    "\n",
    "flattened = []\n",
    "None\n",
    "        \n",
    "flattened"
   ]
  },
  {
   "cell_type": "markdown",
   "metadata": {},
   "source": [
    "__Using list comprehension__"
   ]
  },
  {
   "cell_type": "code",
   "execution_count": null,
   "metadata": {},
   "outputs": [],
   "source": [
    "flattened = None      # incorrect ->  [n for n in row for row in matrix]\n",
    "flattened"
   ]
  },
  {
   "cell_type": "markdown",
   "metadata": {},
   "source": [
    "## List Comprehension vs loop\n",
    "\n",
    "The list comprehensions is more efficient in terms of coding space than a `for` loop since they are typically written in a single line of code. Computationally, however, is it always faster than For-loops?  Let's find out.\n",
    "\n",
    "__Step 1:__\n",
    "\n",
    "Let’s square for every item in a list from 1 to 5 such that it produces the following:\n",
    "\n",
    "```[1, 4, 9, 16, 25]```\n",
    "\n",
    "Let's implement this (when N = 5) when  using a for loop. "
   ]
  },
  {
   "cell_type": "code",
   "execution_count": null,
   "metadata": {},
   "outputs": [],
   "source": [
    "N = 5\n",
    "result = []\n",
    "for x in range(1, N + 1):\n",
    "    result.append(x * x)\n",
    "    \n",
    "print(result)"
   ]
  },
  {
   "cell_type": "markdown",
   "metadata": {},
   "source": [
    "__Step 2:__\n",
    "\n",
    "Let us implement it as a function that returns a list."
   ]
  },
  {
   "cell_type": "code",
   "execution_count": null,
   "metadata": {},
   "outputs": [],
   "source": [
    "def squares(N):\n",
    "    return None"
   ]
  },
  {
   "cell_type": "markdown",
   "metadata": {},
   "source": [
    "__Step 3:__\n",
    "\n",
    "Let us implement it as a list comprehension."
   ]
  },
  {
   "cell_type": "code",
   "execution_count": null,
   "metadata": {},
   "outputs": [],
   "source": [
    "def squares_x(N):\n",
    "    return None"
   ]
  },
  {
   "cell_type": "markdown",
   "metadata": {},
   "source": [
    "__Step 4__   \n",
    "Let us run two functions 10_000 times, respectively and time it."
   ]
  },
  {
   "cell_type": "code",
   "execution_count": null,
   "metadata": {},
   "outputs": [],
   "source": [
    "None"
   ]
  },
  {
   "cell_type": "code",
   "execution_count": null,
   "metadata": {},
   "outputs": [],
   "source": [
    "None"
   ]
  },
  {
   "cell_type": "markdown",
   "metadata": {},
   "source": [
    "# Emordnilap is a different kind of Palindrome(회문)\n",
    "\n",
    "A string is said to be __palindrome__ if the reverse of the string is the same as string. For example, __'radar'__ or __'civic__ is a palindrome, \n",
    "\n",
    "__Emordnilap__ is a word that, when spelled in reverse, generates a new real word. For example, reverse the word __'stop'__ and it becomes __'pots'__, __\"drawer\"__ and __\"reward\"__. English contains a surprising variety of words that change meanings as soon as you read them right to left.\n",
    "\n",
    "__Emordnilap examples:__ \n",
    "- desserts and stressed, \n",
    "- decaf and faced\n",
    "- edit and tide\n",
    "- deeps and speed\n",
    "- stops and spots\n",
    "- drawer and reward"
   ]
  },
  {
   "cell_type": "markdown",
   "metadata": {},
   "source": [
    "## Example\n",
    "- Find emordnilaps in a book read from a web:\n",
    "    - using a for-loop\n",
    "    - using list comprehension\n",
    "- Compare the elapsed timing of two methods. \n",
    "    - Which one are you going to use `%%time` or `%%timeit`?\n",
    "- Two books available\n",
    "    - Bible(King James Version) - http://composingprograms.com/shakespeare.txt\n",
    "    - Shakespeare's Book - http://composingprograms.com/shakespeare.txt"
   ]
  },
  {
   "cell_type": "code",
   "execution_count": null,
   "metadata": {},
   "outputs": [],
   "source": [
    "from urllib.request import urlopen \n",
    "#book = urlopen('http://www.gutenberg.org/cache/epub/10/pg10.txt')\n",
    "book = urlopen('http://composingprograms.com/shakespeare.txt')\n",
    "\n",
    "# Make a list words out of the book read from url.\n",
    "wlist = book.read().decode().split()"
   ]
  },
  {
   "cell_type": "code",
   "execution_count": null,
   "metadata": {},
   "outputs": [],
   "source": [
    "## make a list that has a set of unique words.\n",
    "ulist = None\n",
    "\n",
    "# then, convert the set back to a list type\n",
    "wlist = None"
   ]
  },
  {
   "cell_type": "markdown",
   "metadata": {},
   "source": [
    "__Using a for-loop__"
   ]
  },
  {
   "cell_type": "code",
   "execution_count": null,
   "metadata": {},
   "outputs": [],
   "source": [
    "alist = [] \n",
    "\n",
    "print(alist)"
   ]
  },
  {
   "cell_type": "markdown",
   "metadata": {},
   "source": [
    "__Using list comprehension__ "
   ]
  },
  {
   "cell_type": "code",
   "execution_count": null,
   "metadata": {},
   "outputs": [],
   "source": [
    "alist = None\n",
    "print(alist)"
   ]
  },
  {
   "cell_type": "markdown",
   "metadata": {},
   "source": [
    "## Which one is more efficient computationally?\n",
    "\n",
    "- You may use `%%time` instead of `%%timeit` since it takes long enough to run it once."
   ]
  },
  {
   "cell_type": "code",
   "execution_count": null,
   "metadata": {},
   "outputs": [],
   "source": []
  },
  {
   "cell_type": "code",
   "execution_count": null,
   "metadata": {},
   "outputs": [],
   "source": []
  },
  {
   "cell_type": "markdown",
   "metadata": {},
   "source": [
    "# Tuple\n",
    "\n",
    "- A __tuple__ is an __immutable__ sequence type. \n",
    "One of the ways of creating tuple is by using the `tuple()` construct.\n",
    "\n",
    "## Example\n",
    "\n",
    "- Create a list of tuple from a list of colors `['red', 'green', 'blue']`.\n",
    "- Create a list of a string `faith`. \n",
    "\n",
    "__Expected Output:__\n",
    "```\n",
    "colors = ('red', 'green', 'blue')\n",
    "word = ('f', 'a', 'i', 't', 'h')\n",
    "```"
   ]
  },
  {
   "cell_type": "code",
   "execution_count": null,
   "metadata": {},
   "outputs": [],
   "source": [
    "# creating a tuple from a list\n",
    "colors = None\n",
    "print('colors =', colors)\n",
    "\n",
    "# creating a tuple from a string 'faith'\n",
    "word = None\n",
    "print('word =', word)"
   ]
  },
  {
   "cell_type": "markdown",
   "metadata": {},
   "source": [
    "## Example \n",
    "\n",
    "- Make a list of tuples from two collections or lists.\n",
    "- `zip()` with `n` arguments returns an __iterator__ that generates `tuple`s of length `n`. \n",
    "\n",
    "__Sample Run:__\n",
    "```\n",
    "fruits = ['apple', 'banana', 'kiwi', 'mango']\n",
    "counts = [2, 8, 1, 9]\n",
    "```\n",
    "__Expected Output:__\n",
    "```\n",
    "[('apple', 2), ('banana', 8), ('kiwi', 1), ('mango', 9)]\n",
    "```"
   ]
  },
  {
   "cell_type": "code",
   "execution_count": null,
   "metadata": {},
   "outputs": [],
   "source": [
    "fruits = ['apple', 'banana', 'kiwi', 'mango']\n",
    "counts = [2, 8, 1, 9]\n",
    "store = None\n",
    "print(store)"
   ]
  },
  {
   "cell_type": "markdown",
   "metadata": {},
   "source": [
    "## Example\n",
    "\n",
    "- Count the number of fruits in a list of tuples.\n",
    "    - using a for-loop\n",
    "    - using list comprehension\n",
    "\n",
    "__Sample Run:__\n",
    "```\n",
    "store = [('apple', 2), ('banana', 8), ('kiwi', 1), ('mango', 9)]\n",
    "```\n",
    "__Expected Output:__\n",
    "```\n",
    "20\n",
    "```"
   ]
  },
  {
   "cell_type": "markdown",
   "metadata": {},
   "source": [
    "__Using a for-loop__"
   ]
  },
  {
   "cell_type": "code",
   "execution_count": 28,
   "metadata": {},
   "outputs": [
    {
     "name": "stdout",
     "output_type": "stream",
     "text": [
      "20\n"
     ]
    }
   ],
   "source": [
    "store = [('apple', 2), ('banana', 8), ('kiwi', 1), ('mango', 9)]\n",
    "n = 0\n",
    "\n",
    "None\n",
    "\n",
    "print(n)"
   ]
  },
  {
   "cell_type": "markdown",
   "metadata": {},
   "source": [
    "__Using list comprehension__"
   ]
  },
  {
   "cell_type": "code",
   "execution_count": 7,
   "metadata": {},
   "outputs": [
    {
     "name": "stdout",
     "output_type": "stream",
     "text": [
      "None\n"
     ]
    }
   ],
   "source": [
    "store = [('apple', 2), ('banana', 8), ('kiwi', 1), ('mango', 9)]\n",
    "n = None\n",
    "print(n)"
   ]
  },
  {
   "cell_type": "markdown",
   "metadata": {},
   "source": [
    "# Dictionary and dict comprehension\n",
    "\n",
    "- Python dictionary is an unordered collection of items. \n",
    "- Each item of a dictionary has a key/value pair. \n",
    "- Creating a dictionary is as simple as placing items inside curly braces `{ }` separated by commas.\n",
    "\n",
    "An item has a key and a corresponding value that is expressed as a pair or `key: value`. You may use the `dict()` construct. \n",
    "\n",
    "__For example:__\n",
    "```\n",
    "my_dict = {'apple': 5, 'orange': 10}\n",
    "ur_dict = {'apple': 2, 'banana': 3, 'kiwi': 1, 'mango': 5}\n",
    "```"
   ]
  },
  {
   "cell_type": "markdown",
   "metadata": {},
   "source": [
    "## Example - Construct\n",
    "\n",
    "- Construct a dictionary from a list of tuples: \n",
    "\n",
    "__Sample Run__: \n",
    "```\n",
    "alist = [('apple', 2), ('banana', 8), ('kiwi', 1), ('mango', 9)]\n",
    "```\n",
    "__Expected Output:__\n",
    "```\n",
    "{'apple': 2, 'banana': 8, 'kiwi': 1, 'mango': 9}\n",
    "```"
   ]
  },
  {
   "cell_type": "code",
   "execution_count": null,
   "metadata": {},
   "outputs": [],
   "source": [
    "alist = [('apple', 2), ('banana', 8), ('kiwi', 1), ('mango', 9)]\n",
    "store = None\n",
    "print(store)"
   ]
  },
  {
   "cell_type": "markdown",
   "metadata": {},
   "source": [
    "## Example - List keys\n",
    "\n",
    "- List all keys   \n",
    "\n",
    "__Sample Run__:  \n",
    "```\n",
    "store = {'apple': 2, 'banana': 8, 'kiwi': 1, 'mango': 9}\n",
    "```\n",
    "__Expected Output:__  \n",
    "```\n",
    "['apple', 'banana', 'kiwi', 'mango']\n",
    "```"
   ]
  },
  {
   "cell_type": "code",
   "execution_count": null,
   "metadata": {},
   "outputs": [],
   "source": [
    "store = {'apple': 2, 'banana': 8, 'kiwi': 1, 'mango': 9}\n",
    "alist = None\n",
    "print(alist)"
   ]
  },
  {
   "cell_type": "markdown",
   "metadata": {},
   "source": [
    "## Example - Sum of values\n",
    "\n",
    "- List all values and its sum\n",
    "\n",
    "__Sample Run:__\n",
    "```\n",
    "store = {'apple': 2, 'banana': 8, 'kiwi': 1, 'mango': 9}\n",
    "```\n",
    "__Expected Output:__\n",
    "```\n",
    "[2, 8, 1, 9]\n",
    "20\n",
    "```"
   ]
  },
  {
   "cell_type": "code",
   "execution_count": 8,
   "metadata": {},
   "outputs": [
    {
     "name": "stdout",
     "output_type": "stream",
     "text": [
      "None\n",
      "None\n"
     ]
    }
   ],
   "source": [
    "store = {'apple': 2, 'banana': 8, 'kiwi': 1, 'mango': 9}\n",
    "alist = None\n",
    "print(None)\n",
    "print(None)"
   ]
  },
  {
   "cell_type": "markdown",
   "metadata": {},
   "source": [
    "## Example - Print items\n",
    "\n",
    "Print all `key:value` pairs in one line.\n",
    "\n",
    "__Sample Run:__\n",
    "```\n",
    "store = {'apple': 2, 'banana': 8, 'kiwi': 1, 'mango': 9}\n",
    "```\n",
    "__Expected Output:__\n",
    "```\n",
    "apple:2, banana:8, kiwi:1, mango:9,\n",
    "```\n",
    "\n",
    "__Hint:__ \n",
    "- Use for-loop and `items()`.\n",
    "- Use some options in `print()`."
   ]
  },
  {
   "cell_type": "code",
   "execution_count": null,
   "metadata": {},
   "outputs": [],
   "source": [
    "store = {'apple': 2, 'banana': 8, 'kiwi': 1, 'mango': 9}\n",
    "None"
   ]
  },
  {
   "cell_type": "markdown",
   "metadata": {},
   "source": [
    "## Example - Construct\n",
    "\n",
    "- Make a dict from two lists.\n",
    "\n",
    "__Sample Run:__\n",
    "```\n",
    "fruit = ['apple', 'banana', 'kiwi', 'mango']\n",
    "count = [2, 8, 1, 9]\n",
    "```\n",
    "__Expected Output:__\n",
    "```\n",
    "{'apple': 2, 'banana': 8, 'kiwi': 1, 'mango': 9}\n",
    "```\n",
    "__Hint:__ \n",
    "- Use `zip()` to combine fruit and count as a pair. \n",
    "- The key of a dict object acts like an index to access dict items.\n",
    "\n",
    "__Using for-loop__"
   ]
  },
  {
   "cell_type": "code",
   "execution_count": 6,
   "metadata": {},
   "outputs": [
    {
     "name": "stdout",
     "output_type": "stream",
     "text": [
      "{'apple': 2, 'banana': 8, 'kiwi': 1, 'mango': 9}\n"
     ]
    }
   ],
   "source": [
    "#converting two lists or sets into one dict type object\n",
    "fruit = ['apple', 'banana', 'kiwi', 'mango']        # keys\n",
    "count = [2, 8, 1, 9]                                # values\n",
    "\n",
    "store = {}                                          # empty dict\n",
    "None\n",
    "\n",
    "print(store)"
   ]
  },
  {
   "cell_type": "markdown",
   "metadata": {},
   "source": [
    "__Using list comprehension__"
   ]
  },
  {
   "cell_type": "code",
   "execution_count": 9,
   "metadata": {},
   "outputs": [
    {
     "name": "stdout",
     "output_type": "stream",
     "text": [
      "None\n"
     ]
    }
   ],
   "source": [
    "fruit = ['apple', 'banana', 'kiwi', 'mango']\n",
    "count = [2, 8, 1, 9]\n",
    "\n",
    "store = None\n",
    "print(store)"
   ]
  },
  {
   "cell_type": "markdown",
   "metadata": {},
   "source": [
    "## Example - List keys\n",
    "\n",
    "- List all keys   \n",
    "\n",
    "__Sample Run__:  \n",
    "```\n",
    "store = {'apple': 2, 'banana': 8, 'kiwi': 1, 'mango': 9}\n",
    "```\n",
    "__Expected Output:__  \n",
    "```\n",
    "['apple', 'banana', 'kiwi', 'mango']\n",
    "```"
   ]
  },
  {
   "cell_type": "code",
   "execution_count": 32,
   "metadata": {},
   "outputs": [
    {
     "name": "stdout",
     "output_type": "stream",
     "text": [
      "['apple', 'banana', 'kiwi', 'mango']\n"
     ]
    }
   ],
   "source": [
    "store = {'apple': 2, 'banana': 8, 'kiwi': 1, 'mango': 9}\n",
    "alist = None\n",
    "print(alist)"
   ]
  },
  {
   "cell_type": "markdown",
   "metadata": {},
   "source": [
    "## Example - Sum of values\n",
    "\n",
    "- List all values and its sum\n",
    "\n",
    "__Sample Run:__\n",
    "```\n",
    "store = {'apple': 2, 'banana': 8, 'kiwi': 1, 'mango': 9}\n",
    "```\n",
    "__Expected Output:__\n",
    "```\n",
    "[2, 8, 1, 9]\n",
    "20\n",
    "```"
   ]
  },
  {
   "cell_type": "code",
   "execution_count": 33,
   "metadata": {},
   "outputs": [
    {
     "name": "stdout",
     "output_type": "stream",
     "text": [
      "[2, 8, 1, 9]\n",
      "20\n"
     ]
    }
   ],
   "source": [
    "store = {'apple': 2, 'banana': 8, 'kiwi': 1, 'mango': 9}\n",
    "alist = None\n",
    "print(alist)\n",
    "print(sum(alist))"
   ]
  },
  {
   "cell_type": "markdown",
   "metadata": {},
   "source": [
    "## Example - Print items\n",
    "\n",
    "Print all `key:value` pairs in one line.\n",
    "\n",
    "__Sample Run:__\n",
    "```\n",
    "store = {'apple': 2, 'banana': 8, 'kiwi': 1, 'mango': 9}\n",
    "```\n",
    "__Expected Output:__\n",
    "```\n",
    "apple:2, banana:8, kiwi:1, mango:9,\n",
    "```\n",
    "\n",
    "__Hint:__ \n",
    "- Use for-loop and `items()`.\n",
    "- Use some options in `print()`."
   ]
  },
  {
   "cell_type": "code",
   "execution_count": 5,
   "metadata": {
    "tags": []
   },
   "outputs": [
    {
     "name": "stdout",
     "output_type": "stream",
     "text": [
      "apple:2, banana:8, kiwi:1, mango:9, "
     ]
    }
   ],
   "source": [
    "store = {'apple': 2, 'banana': 8, 'kiwi': 1, 'mango': 9}\n",
    "\n",
    "None"
   ]
  },
  {
   "cell_type": "markdown",
   "metadata": {},
   "source": [
    "## Example - Update a value\n",
    "\n",
    "- Update the value of from 1 to 111. \n",
    "\n",
    "__Sample Run:__\n",
    "```\n",
    "store = {'apple': 2, 'banana': 8, 'kiwi': 1, 'mango': 9}\n",
    "```\n",
    "__Expected Output:__\n",
    "```\n",
    "store = {'apple': 2, 'banana': 8, 'kiwi': 111, 'mango': 9}\n",
    "```"
   ]
  },
  {
   "cell_type": "code",
   "execution_count": 44,
   "metadata": {},
   "outputs": [
    {
     "name": "stdout",
     "output_type": "stream",
     "text": [
      "{'apple': 2, 'banana': 8, 'kiwi': 111, 'mango': 9}\n"
     ]
    }
   ],
   "source": [
    "store = {'apple': 2, 'banana': 8, 'kiwi': 1, 'mango': 9}\n",
    "None\n",
    "print(store)"
   ]
  },
  {
   "cell_type": "code",
   "execution_count": 35,
   "metadata": {
    "collapsed": true,
    "jupyter": {
     "outputs_hidden": true
    },
    "tags": []
   },
   "outputs": [
    {
     "name": "stdout",
     "output_type": "stream",
     "text": [
      "Help on class dict in module builtins:\n",
      "\n",
      "class dict(object)\n",
      " |  dict() -> new empty dictionary\n",
      " |  dict(mapping) -> new dictionary initialized from a mapping object's\n",
      " |      (key, value) pairs\n",
      " |  dict(iterable) -> new dictionary initialized as if via:\n",
      " |      d = {}\n",
      " |      for k, v in iterable:\n",
      " |          d[k] = v\n",
      " |  dict(**kwargs) -> new dictionary initialized with the name=value pairs\n",
      " |      in the keyword argument list.  For example:  dict(one=1, two=2)\n",
      " |  \n",
      " |  Built-in subclasses:\n",
      " |      StgDict\n",
      " |  \n",
      " |  Methods defined here:\n",
      " |  \n",
      " |  __contains__(self, key, /)\n",
      " |      True if the dictionary has the specified key, else False.\n",
      " |  \n",
      " |  __delitem__(self, key, /)\n",
      " |      Delete self[key].\n",
      " |  \n",
      " |  __eq__(self, value, /)\n",
      " |      Return self==value.\n",
      " |  \n",
      " |  __ge__(self, value, /)\n",
      " |      Return self>=value.\n",
      " |  \n",
      " |  __getattribute__(self, name, /)\n",
      " |      Return getattr(self, name).\n",
      " |  \n",
      " |  __getitem__(...)\n",
      " |      x.__getitem__(y) <==> x[y]\n",
      " |  \n",
      " |  __gt__(self, value, /)\n",
      " |      Return self>value.\n",
      " |  \n",
      " |  __init__(self, /, *args, **kwargs)\n",
      " |      Initialize self.  See help(type(self)) for accurate signature.\n",
      " |  \n",
      " |  __iter__(self, /)\n",
      " |      Implement iter(self).\n",
      " |  \n",
      " |  __le__(self, value, /)\n",
      " |      Return self<=value.\n",
      " |  \n",
      " |  __len__(self, /)\n",
      " |      Return len(self).\n",
      " |  \n",
      " |  __lt__(self, value, /)\n",
      " |      Return self<value.\n",
      " |  \n",
      " |  __ne__(self, value, /)\n",
      " |      Return self!=value.\n",
      " |  \n",
      " |  __repr__(self, /)\n",
      " |      Return repr(self).\n",
      " |  \n",
      " |  __reversed__(self, /)\n",
      " |      Return a reverse iterator over the dict keys.\n",
      " |  \n",
      " |  __setitem__(self, key, value, /)\n",
      " |      Set self[key] to value.\n",
      " |  \n",
      " |  __sizeof__(...)\n",
      " |      D.__sizeof__() -> size of D in memory, in bytes\n",
      " |  \n",
      " |  clear(...)\n",
      " |      D.clear() -> None.  Remove all items from D.\n",
      " |  \n",
      " |  copy(...)\n",
      " |      D.copy() -> a shallow copy of D\n",
      " |  \n",
      " |  get(self, key, default=None, /)\n",
      " |      Return the value for key if key is in the dictionary, else default.\n",
      " |  \n",
      " |  items(...)\n",
      " |      D.items() -> a set-like object providing a view on D's items\n",
      " |  \n",
      " |  keys(...)\n",
      " |      D.keys() -> a set-like object providing a view on D's keys\n",
      " |  \n",
      " |  pop(...)\n",
      " |      D.pop(k[,d]) -> v, remove specified key and return the corresponding value.\n",
      " |      If key is not found, d is returned if given, otherwise KeyError is raised\n",
      " |  \n",
      " |  popitem(self, /)\n",
      " |      Remove and return a (key, value) pair as a 2-tuple.\n",
      " |      \n",
      " |      Pairs are returned in LIFO (last-in, first-out) order.\n",
      " |      Raises KeyError if the dict is empty.\n",
      " |  \n",
      " |  setdefault(self, key, default=None, /)\n",
      " |      Insert key with a value of default if key is not in the dictionary.\n",
      " |      \n",
      " |      Return the value for key if key is in the dictionary, else default.\n",
      " |  \n",
      " |  update(...)\n",
      " |      D.update([E, ]**F) -> None.  Update D from dict/iterable E and F.\n",
      " |      If E is present and has a .keys() method, then does:  for k in E: D[k] = E[k]\n",
      " |      If E is present and lacks a .keys() method, then does:  for k, v in E: D[k] = v\n",
      " |      In either case, this is followed by: for k in F:  D[k] = F[k]\n",
      " |  \n",
      " |  values(...)\n",
      " |      D.values() -> an object providing a view on D's values\n",
      " |  \n",
      " |  ----------------------------------------------------------------------\n",
      " |  Class methods defined here:\n",
      " |  \n",
      " |  fromkeys(iterable, value=None, /) from builtins.type\n",
      " |      Create a new dictionary with keys from iterable and values set to value.\n",
      " |  \n",
      " |  ----------------------------------------------------------------------\n",
      " |  Static methods defined here:\n",
      " |  \n",
      " |  __new__(*args, **kwargs) from builtins.type\n",
      " |      Create and return a new object.  See help(type) for accurate signature.\n",
      " |  \n",
      " |  ----------------------------------------------------------------------\n",
      " |  Data and other attributes defined here:\n",
      " |  \n",
      " |  __hash__ = None\n",
      "\n"
     ]
    }
   ],
   "source": [
    "help(dict)"
   ]
  },
  {
   "cell_type": "markdown",
   "metadata": {},
   "source": [
    "# Homework\n",
    "\n",
    "## Find colors\n",
    "\n",
    "Given a list of colors, create a list of colors of which the length is greater than 5.  \n",
    "    - Use a for loop\n",
    "    - Use a list comprehension.\n",
    "    \n",
    "### Using for-loop"
   ]
  },
  {
   "cell_type": "code",
   "execution_count": null,
   "metadata": {},
   "outputs": [],
   "source": [
    "# Use a for loop\n",
    "rainbow = ['red', 'orange', 'yellow', 'green', 'blue', 'indigo', 'violet']\n",
    "colors = []\n",
    "\n",
    "\n",
    "print(colors)"
   ]
  },
  {
   "cell_type": "markdown",
   "metadata": {},
   "source": [
    "### Using list comprehension"
   ]
  },
  {
   "cell_type": "code",
   "execution_count": null,
   "metadata": {},
   "outputs": [],
   "source": [
    "# Use a list comprehension.\n",
    "\n",
    "rainbow = ['red', 'orange', 'yellow', 'green', 'blue', 'indigo', 'violet']\n",
    "colors = None\n",
    "print(colors)"
   ]
  },
  {
   "cell_type": "markdown",
   "metadata": {},
   "source": [
    "## Grading\n",
    "Given a list of grades, count how many are above the average.\n",
    "\n",
    "1. Get an average\n",
    "2. Get a list of grades above the average using a for loop\n",
    "3. Get the number of grades above the average \n",
    "\n",
    "The output expected:\n",
    "```\n",
    "17 grades are above the average 73.74074074074075\n",
    "[88, 76, 78, 87, 100, 77, 89, 92, 87, 88, 95, 99, 76, 87, 98, 87, 89]\n",
    "```\n",
    "\n",
    "### Using for loop:"
   ]
  },
  {
   "cell_type": "code",
   "execution_count": null,
   "metadata": {},
   "outputs": [],
   "source": [
    "grades = [88,67,45,67,76,78,53,87,12,100,77,89,92,53,55,45,87,88,95,99,76,87,56,45,98,87,89]\n",
    "avg = None\n",
    "alist = []\n",
    "\n",
    "\n",
    "        \n",
    "        \n",
    "print(len(alist), \"grades are above the average\", avg)\n",
    "print(alist)"
   ]
  },
  {
   "cell_type": "markdown",
   "metadata": {},
   "source": [
    "### Using list comprehension"
   ]
  },
  {
   "cell_type": "code",
   "execution_count": null,
   "metadata": {},
   "outputs": [],
   "source": [
    "avg = None\n",
    "alist = None\n",
    "        \n",
    "print(len(alist), \"grades are above the average\", avg)\n",
    "print(alist)"
   ]
  },
  {
   "cell_type": "markdown",
   "metadata": {},
   "source": [
    "## Given a three-digit number. Find the sum of its digits.\n",
    "\n",
    "Print the sum of three-digit number which is an integer.\n",
    "\n",
    "For example, print `10` if `316`, `13` if `256`, `18` if `567`. \n"
   ]
  },
  {
   "cell_type": "markdown",
   "metadata": {},
   "source": [
    "Using built-in function `sum()`, `int()`, and list comprehension, we can just do it in one line of code.\n",
    "\n",
    "- To use built-in `sum()` function.\n",
    "- `Input()` returns a `str` type data. \n",
    "- Use list comprehension and get each character.\n",
    "- Use `sum()` to sum up the element in the list. "
   ]
  },
  {
   "cell_type": "code",
   "execution_count": null,
   "metadata": {},
   "outputs": [],
   "source": [
    "# del sum\n",
    "# Read an integer as a string:\n",
    "s = None\n",
    "\n",
    "# for example, print 6 if a is 123, 18 if a is 369. \n",
    "total = None\n",
    "print(total)"
   ]
  },
  {
   "cell_type": "markdown",
   "metadata": {},
   "source": [
    "## Create the following dict type data set.\n",
    "\n",
    "```\n",
    "data = {'a': 1, 'b': 2, 'c': 3, ..., 'x': 24, 'y': 25, 'z': 26}\n",
    "```\n",
    "- You may import the sequence of ASCII lowercase as shown below:\n",
    "\n",
    "```\n",
    "from string import ascii_lowercase as lowers\n",
    "```"
   ]
  },
  {
   "cell_type": "markdown",
   "metadata": {},
   "source": [
    "__Solution 1:__ Using dict() function and zip()."
   ]
  },
  {
   "cell_type": "code",
   "execution_count": null,
   "metadata": {},
   "outputs": [],
   "source": [
    "from string import ascii_lowercase as lowers\n",
    "\n",
    "data = dict( None )\n",
    "print(data)"
   ]
  },
  {
   "cell_type": "markdown",
   "metadata": {},
   "source": [
    "__Solution 2:__ Using dict comprehension\n"
   ]
  },
  {
   "cell_type": "code",
   "execution_count": null,
   "metadata": {},
   "outputs": [],
   "source": [
    "data = { None }\n",
    "print(data)"
   ]
  },
  {
   "cell_type": "markdown",
   "metadata": {},
   "source": [
    "## List all keys: value pairs\n",
    "List all keys without extra comma or space at the end of the list.\n",
    "```\n",
    "apple:2, banana:8, kiwi:1, mango:9\n",
    "```\n",
    "\n",
    "__Hint:__ \n",
    "- Use `join()` and list-comprehension like syntax."
   ]
  },
  {
   "cell_type": "code",
   "execution_count": 1,
   "metadata": {
    "tags": []
   },
   "outputs": [
    {
     "name": "stdout",
     "output_type": "stream",
     "text": [
      "apple:2, banana:8, kiwi:1, mango:9\n"
     ]
    }
   ],
   "source": [
    "store = {'apple': 2, 'banana': 8, 'kiwi': 1, 'mango': 9}\n",
    "print(None)"
   ]
  },
  {
   "cell_type": "markdown",
   "metadata": {},
   "source": [
    "## Pythagorean triplet\n",
    "\n",
    "A Pythagorean triplet is a set of three positive integers a, b and c such that $a^2 + b^2 = c^2$. Given a limit, generate all Pythagorean Triples with values smaller than given limit n. Assume that a < b < c."
   ]
  },
  {
   "cell_type": "markdown",
   "metadata": {},
   "source": [
    "\n",
    "### Pythagorean triplet 1 - Warming-up\n",
    "피타고라스 정리(Pythagorean theorem)는 직각 삼각형의 빗변의 제곱이 두 직각변의 제곱의 합과 같다라는 것입니다.  삼각형 세 변의 길이가 각각 a, b, c 이며, a < b < c 라고 가정한다면, $a^2 + b^2 = c^2$ 를 만족합니다. 피타고라스 정리의 조건을 만족하는 n 보다 작은 정수 a, b, c를 요소로 하는 list를 출력하십시오. \n",
    "\n",
    "If n is 10, the following output is expected:\n",
    "\n",
    "```\n",
    "3, 4, 5\n",
    "6, 8, 10\n",
    "```\n",
    "\n",
    "If n is 20, the following output is expected:\n",
    "```\n",
    "3, 4, 5\n",
    "5, 12, 13\n",
    "6, 8, 10\n",
    "8, 15, 17\n",
    "9, 12, 15\n",
    "12, 16, 20\n",
    "```\n",
    "\n",
    "__Hints and Tips__: You may use `sep` option duing print(). "
   ]
  },
  {
   "cell_type": "code",
   "execution_count": null,
   "metadata": {
    "scrolled": true
   },
   "outputs": [],
   "source": [
    "n = 20\n",
    "for a in range(1, n):\n",
    "    for b in range(a, n):\n",
    "        for c in range(b, n):\n",
    "            if a * a + b * b == c * c:\n",
    "                print(a, b, c, sep = ', ')"
   ]
  },
  {
   "cell_type": "markdown",
   "metadata": {},
   "source": [
    "### Pythagorean triplet 2\n",
    "Write a function, `pythagorean(n)`, that returns a list of Pythagorean triplet lists. \n",
    "\n",
    "If n is 20, the following output is expected:\n",
    "\n",
    "```\n",
    "[[3, 4, 5], [5, 12, 13], [6, 8, 10], [8, 15, 17], [9, 12, 15], [12, 16, 20]]\n",
    "```"
   ]
  },
  {
   "cell_type": "code",
   "execution_count": null,
   "metadata": {},
   "outputs": [],
   "source": [
    "def pythagorean(n):\n",
    "    None\n",
    "    for a in None\n",
    "        for b in None\n",
    "            for c in None\n",
    "                if None\n",
    "                    None\n",
    "    return None\n",
    "\n",
    "n = 20\n",
    "pythagorean(n) "
   ]
  },
  {
   "cell_type": "markdown",
   "metadata": {},
   "source": [
    "### Pythagorean triplet 3\n",
    "Write a function, `pythagorean(n)`, that returns a list of Pythagorean triplet tuples. The __tuple__ data type in Python just works like a __list__ but it is immutable.\n",
    "\n",
    "If n is 20, the following output is expected:\n",
    "\n",
    "```\n",
    "[(3, 4, 5), (5, 12, 13), (6, 8, 10), (8, 15, 17), (9, 12, 15), (12, 16, 20)]\n",
    "```"
   ]
  },
  {
   "cell_type": "code",
   "execution_count": null,
   "metadata": {},
   "outputs": [],
   "source": [
    "def pythagorean(n):\n",
    "    None\n",
    "    for a in None\n",
    "        for b in None\n",
    "            for c in None\n",
    "                if None\n",
    "                    None\n",
    "    return None\n",
    "\n",
    "n = 20\n",
    "pythagorean(n) "
   ]
  },
  {
   "cell_type": "markdown",
   "metadata": {},
   "source": [
    "### Pythagorean triplet 4\n",
    "Using a list comprehension, implement `pythagorean(n)`, that returns a list of Pythagorean triplet tuples. "
   ]
  },
  {
   "cell_type": "code",
   "execution_count": null,
   "metadata": {},
   "outputs": [],
   "source": [
    "def pythagorean(n):\n",
    "    return [None]\n",
    "\n",
    "n = 20\n",
    "pythagorean(n) "
   ]
  },
  {
   "cell_type": "markdown",
   "metadata": {},
   "source": [
    "### Reference for Pythagorean triplet\n",
    "\n",
    "There are some useful discussions to make this function faster. \n",
    "\n",
    "- https://stackoverflow.com/questions/575117/generating-unique-ordered-pythagorean-triplets\n",
    "- https://www.geeksforgeeks.org/generate-pythagorean-triplets/"
   ]
  },
  {
   "cell_type": "markdown",
   "metadata": {},
   "source": [
    "# Key Points to Remember\n",
    "- List comprehension is an elegant way to define and create lists based on existing lists.\n",
    "- List comprehension is generally more compact and faster than normal functions and loops for creating list.\n",
    "- However, we should avoid writing very long list comprehensions in one line to ensure that code is user-friendly.\n",
    "- Remember, every list comprehension can be rewritten in for loop, but every for loop can’t be rewritten in the form of list comprehension."
   ]
  },
  {
   "cell_type": "markdown",
   "metadata": {},
   "source": [
    "# 학습 정리\n",
    "\n",
    "1. 리스트 컴프리핸션 \n",
    "1. 파이써닉 코딩"
   ]
  },
  {
   "cell_type": "markdown",
   "metadata": {},
   "source": [
    "# 참고자료\n",
    "\n",
    "- [Python-List Comprehension](https://www.w3schools.com/python/python_lists_comprehension.asp)"
   ]
  },
  {
   "cell_type": "markdown",
   "metadata": {},
   "source": [
    "--------\n",
    "__슬기로운 자는 재앙을 보면 숨어 피하여도 어리석은 자들은 나가다가 해를 받느니라.__\n",
    "잠언27:12"
   ]
  }
 ],
 "metadata": {
  "kernelspec": {
   "display_name": "Python 3 (ipykernel)",
   "language": "python",
   "name": "python3"
  },
  "language_info": {
   "codemirror_mode": {
    "name": "ipython",
    "version": 3
   },
   "file_extension": ".py",
   "mimetype": "text/x-python",
   "name": "python",
   "nbconvert_exporter": "python",
   "pygments_lexer": "ipython3",
   "version": "3.8.12"
  }
 },
 "nbformat": 4,
 "nbformat_minor": 4
}
