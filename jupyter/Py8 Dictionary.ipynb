{
 "cells": [
  {
   "cell_type": "markdown",
   "metadata": {},
   "source": [
    "이 세상이나 세상에 있는 것들을 사랑하지 말라 누구든지 세상을 사랑하면 아버지의 사랑이 그 안에 있지 아니하니\n",
    "이는 세상에 있는 모든 것이 육신의 정욕과 안목의 정욕과 이생의 자랑이니 다 아버지께로부터 온 것이 아니요 세상으로부터 온 것이라\n",
    "이 세상도, 그 정욕도 지나가되 오직 하나님의 뜻을 행하는 자는 영원히 거하느니라 (요일2:15-17)\n",
    "\n",
    "-------\n",
    "\n",
    "<center><img src=\"https://github.com/idebtor/KMOOC-ML/blob/master/ipynb/images/joyai/pythonML.png?raw=true\" width=1000></center>\n",
    "\n",
    "__NOTE:__ The following materials have been compiled and adapted from the numerous sources including my own. Please help me to keep this tutorial up-to-date by reporting any issues or questions. Send any comments or criticisms to `idebtor@gmail.com` Your assistances and comments will be appreciated."
   ]
  },
  {
   "cell_type": "markdown",
   "metadata": {},
   "source": [
    "<b style=\"font-size:30px\"> Chapter 8. Dictionary: 딕셔너리 </b>\n",
    "\n",
    "__학습 목표__\n",
    "\n",
    "- 딕셔너리의 데이터 구조를 익힌다\n",
    "- 딕셔너리를 다루는 다양한 코딩 기법을 익힌다\n",
    "- 딕셔너리를 사용하여 문제해결 역량을 갖춘다\n",
    "\n",
    "__학습 내용__\n",
    "1. 딕셔너리 데이터 구조의 소개\n",
    "    - 딕셔너리 정의하기 \n",
    "    - 딕셔너리 특성\n",
    "    - 딕셔너리 정의하기와 생성하기\n",
    "    - 딕셔너리 자료 접근과 조작\n",
    "1. 딕셔너리 메소드와 순회\n",
    "1. 딕셔너리 컴프리헨션\n",
    "    - 정렬\n",
    "    - 익명함수(lambda function) \n",
    "\n"
   ]
  },
  {
   "cell_type": "markdown",
   "metadata": {
    "tags": []
   },
   "source": [
    "# 딕셔너리 데이터 구조 소개\n",
    "Dictionary는 파이썬에서 상당히 중요한 위치를 차지합니다. 파이썬이란 언어 자체가 딕셔너리로 구성되어 있다고 해도 과언이 아닙니다. 예를 들면, Modules, classes, objects와 같은 것들이 사실상 딕셔너리로 되어 있습니다. \n",
    "\n",
    "\n",
    "## 딕션너리 정의\n",
    "파이썬의 공식적인 문서에는 Dictionary를 다음과 같이 정의합니다. \n",
    "\n",
    ">> An associative array, where arbitrary keys are mapped to values. The keys can be any object with `__hash__()` and `__eq__()` methods.\n",
    "\n",
    "\n",
    "## 딕션너리 특성 \n",
    "\n",
    "딕션너리가 __연관 배열(associative array)__ 이라는 말은 배열의 인덱스를 정수뿐만이 아니라 다른 다양한 타입으로 설정할 수 있는 배열을 의미합니다. 연관 배열을 파이썬에서는 딕셔너리 데이터 구조로 구현한 것이며, 딕셔너리는 키-값(key-value)으로 이루어진 데이터의 콜렉션이라 볼 수 있습니다. \n",
    "\n",
    "이러한 연관 배열을 사용하면 __키__ 즉 __배열의 인덱스__ 에 좀 더 명확한 의미를 부여할 수 있습니다. 예를 들면, 주민번호 혹은 전화번호를 키 즉 배열의 인덱스로 사용할 수 있다는 것입니다.  그래서, 다음과 같은 두 가지를 기억해두어야 합니다. \n",
    "\n",
    "1. 딕셔너리는 배열의 인덱스 역할을 하는 키를 변환(map)하여 배열이나 콜렉션에 자료를 저장합니다.\n",
    "1. 딕셔너리의 키 값은 __hashable__ 이어야 합니다. 다른 말로 키 값은 해시값이 있어야 하고, 또한 삭제하지 않는 한 바꿀 수 없습니다. \n",
    "\n",
    "파이썬 시퀀스(sequence) 자료형(list, tuple)은 인덱스 0부터 시작하여 순서대로 자료가 저장되어 있고, 정수 인덱스로 접근하지만, 딕셔너리는 키(key)로 접근 가능하다는 것입니다. \n",
    "\n",
    "파이썬의 set은 해시값(hash value)이 있고, 객체들이 중복되지 않아야 하는 것처럼 한 딕셔너리의 키 값들도 하나의 set처럼 중복하지 않고, 고유한 해시값이 있어야 합니다. 그러므로, 리스트같은 mutable한 객체는 키로 사용할 수 없지만 튜플은 키로 사용할 수 있습니다.  그러나 딕셔너리의 value에 대해서는 제약이 없이 어떠한 객체들도 사용할 수 있습니다. \n",
    "\n",
    "딕셔너리가 파이썬 2.7 버전까지는 순서가 없는 unordered 데이터 구조였으나, 파이썬 3.7 이후부터는 순서가 있는 ordered 구조입니다. \n",
    "\n",
    "딕셔너리는 리스트처럼 가변(mutability) 데이터 타입이기 때문에 사전을 선언 후에 자유롭게 새로운 키에 값을 추가하거나 갱신이 가능하고, 또한 기존 키와 값을 삭제할 수 있습니다.\n",
    "\n",
    "동적 언어인 파이썬에서는 키로 해시가 가능한(hashable) 모든 데이터를 사용할 수 있고, 값에 대해서는 아무런 제한없이 어떤 데이터도 보관할 수 있습니다. 자바와 같이 동일한 타입의 키와 값만 사용하도록 제한하는 다른 언어와 상당히 대조되는 부분입니다."
   ]
  },
  {
   "cell_type": "markdown",
   "metadata": {},
   "source": [
    "## 딕션너리 정의하기 \n",
    "\n",
    "파이썬의 딕셔너리는 리스트와 튜플과 마찬가지로 객체의 컬렉션을 저장하지만, 객체들을 순서대로 배열에 저장하는 대신, 딕셔너리는 키-값 쌍(key-value pairs)라고 불리는 방식으로 정보를 저장합니다. 즉, 딕셔너리를 정의하는 문법은 다음과 같이 Key와 Value의 쌍 여러 개가 `{ }`로 둘러싸여 있습니다. 각각의 요소는 `Key : Value` 형태로 이루어져 있고 쉼표(,)로 구분되어 집니다. \n",
    "\n",
    "```\n",
    "{ Key1:Value1, Key2:Value2, Key3:Value3, ...}\n",
    "```"
   ]
  },
  {
   "cell_type": "markdown",
   "metadata": {},
   "source": [
    "## 딕션너리 생성하기\n",
    "\n",
    "주로 다음 세 가지 방법으로 생성할 수 있습니다. \n",
    "\n",
    "1. key-value 쌍의 값들로 구성된 항목들을 `{ }` 묶음으로 생성할 수 있습니다. \n",
    "1. key-value 쌍의 튜플들로 구성된 리스트로 `dict()` construct 호출합니다. \n",
    "1. key-value 쌍의 값들이 단순한 문자열이면, 이를 keyword argument로 삼아서 `dict()`를 호출합니다. "
   ]
  },
  {
   "cell_type": "markdown",
   "metadata": {},
   "source": [
    "__Method 1:__\n",
    "\n",
    "아래와 같이 key-value 쌍으로 값을 지정하고 대괄호 curly braces `{}`로 묶어주는 방법입니다. \n",
    "\n",
    "```\n",
    "nickname = { 'Alabama': 'Cotton State', 'Alaska': 'The Last Frontier', 'Arizona': 'Grand Canyon State' }\n",
    "teams = { 'Atlanta': 'Braves', 'Boston': 'Red Sox', 'Colorado': 'Rockies' }\n",
    "```    "
   ]
  },
  {
   "cell_type": "code",
   "execution_count": 1,
   "metadata": {},
   "outputs": [
    {
     "name": "stdout",
     "output_type": "stream",
     "text": [
      "{'Alabama': 'Cotton State', 'Alaska': 'The Last Frontier', 'Arizona': 'Grand Canyon State'}\n",
      "{'Atlanta': 'Braves', 'Boston': 'Red Sox', 'Colorado': 'Rockies'}\n"
     ]
    }
   ],
   "source": [
    "nickname = { 'Alabama': 'Cotton State', 'Alaska': 'The Last Frontier', 'Arizona': 'Grand Canyon State' }\n",
    "print(nickname)\n",
    "teams = { 'Atlanta': 'Braves', 'Boston': 'Red Sox', 'Colorado': 'Rockies' }\n",
    "print(teams)"
   ]
  },
  {
   "cell_type": "markdown",
   "metadata": {},
   "source": [
    "__Method 2:__\n",
    "key-pair 튜플로 구성된 항목들의 리스트로 `dict()` construct를 호출함으로 생성할 수 있습니다. \n",
    "```\n",
    "teams = dict([ ('Atlanta', 'Braves'), ('Boston', 'Red Sox'), ('Colorado', 'Rockies') ])\n",
    "```"
   ]
  },
  {
   "cell_type": "code",
   "execution_count": 2,
   "metadata": {},
   "outputs": [
    {
     "name": "stdout",
     "output_type": "stream",
     "text": [
      "{'Atlanta': 'Braves', 'Boston': 'Red Sox', 'Colorado': 'Rockies'}\n"
     ]
    }
   ],
   "source": [
    "teams = dict([ ('Atlanta', 'Braves'), ('Boston', 'Red Sox'), ('Colorado', 'Rockies') ])\n",
    "print(teams)"
   ]
  },
  {
   "cell_type": "markdown",
   "metadata": {},
   "source": [
    "__Method 3:__\n",
    "\n",
    "key-value 쌍의 값들이 단순한 문자열이라면, 이를 keyword argument로 삼아서 `dict()` construct를 호출합니다. \n",
    "\n",
    "```\n",
    "teams = dict(Atlanta = 'Braves', Boston = 'Red Sox', Colorado = 'Rockies')\n",
    "```"
   ]
  },
  {
   "cell_type": "code",
   "execution_count": 3,
   "metadata": {},
   "outputs": [
    {
     "name": "stdout",
     "output_type": "stream",
     "text": [
      "{'Atlanta': 'Braves', 'Boston': 'Red Sox', 'Colorado': 'Rockies'}\n"
     ]
    }
   ],
   "source": [
    "teams = dict(Atlanta = 'Braves', Boston = 'Red Sox', Colorado = 'Rockies')\n",
    "print(teams)"
   ]
  },
  {
   "cell_type": "markdown",
   "metadata": {},
   "source": [
    "## 딕셔너리 항목을 추가, 삭제, 갱신하기\n",
    "\n",
    "딕셔너리의 한 항목은 언제나 key-value 쌍으로 이루어져 있습니다. \n",
    "\n",
    "### 추가하기\n",
    "기존의 딕셔너리에 새로운 항목을 추가하기 위해, 새로운 key를 인덱스로 주고, 새로운 value를 추가할 수 있습니다. \n",
    "\n",
    "__Sample Run:__\n",
    "```\n",
    "teams = {'Atlanta': 'Braves', 'Boston': 'Red Sox', 'Colorado': 'Rockies'}\n",
    "```\n",
    "\n",
    "__Expected Output:__\n",
    "```\n",
    "{'Atlanta': 'Braves', 'Boston': 'Red Sox', 'Colorado': 'Rockies', 'Toronto': 'Blue Jay'}\n",
    "```"
   ]
  },
  {
   "cell_type": "code",
   "execution_count": 2,
   "metadata": {},
   "outputs": [
    {
     "name": "stdout",
     "output_type": "stream",
     "text": [
      "{'Atlanta': 'Braves', 'Boston': 'Red Sox', 'Colorado': 'Rockies', 'Toronto': 'Blue Jay'}\n"
     ]
    }
   ],
   "source": [
    "teams = {'Atlanta': 'Braves', 'Boston': 'Red Sox', 'Colorado': 'Rockies'}\n",
    "None\n",
    "print(teams)"
   ]
  },
  {
   "cell_type": "markdown",
   "metadata": {},
   "source": [
    "### 갱신하기\n",
    "이미 존재하는 항목의 키는 수정할 수 없지만, 값(value)은 덮어쓰기 형식으로 진행합니다.  \n",
    "\n",
    "다음 예제는 이미 딕셔너리에 존재하는 'Toronto'의 value를 'Blue Jays'로 갱신합니다. \n",
    "\n",
    "__Expected Output__\n",
    "```\n",
    "{'Atlanta': 'Braves', 'Boston': 'Red Sox', 'Colorado': 'Rockies', 'Toronto': 'Blue Jays'}\n",
    "```"
   ]
  },
  {
   "cell_type": "code",
   "execution_count": 4,
   "metadata": {},
   "outputs": [
    {
     "name": "stdout",
     "output_type": "stream",
     "text": [
      "{'Atlanta': 'Braves', 'Boston': 'Red Sox', 'Colorado': 'Rockies'}\n",
      "{'Atlanta': 'Braves', 'Boston': 'Red Sox', 'Colorado': 'Rockies', 'Toronto': 'Blue Jays'}\n"
     ]
    }
   ],
   "source": [
    "teams = {'Atlanta': 'Braves', 'Boston': 'Red Sox', 'Colorado': 'Rockies'}\n",
    "None\n",
    "print(teams)"
   ]
  },
  {
   "cell_type": "markdown",
   "metadata": {},
   "source": [
    "### 삭제하기\n",
    "\n",
    "`del` 함수를 사용해서 `del teams[key]`처럼 입력하면 지정한 키에 해당하는 `{key : value}` 항목이 삭제됩니다.\n",
    "\n",
    "'Colorado' 항목(key and value)을 삭제하십시오. \n",
    "\n",
    "__Expected Output__\n",
    "```\n",
    "{'Atlanta': 'Braves', 'Boston': 'Red Sox', 'Toronto': 'Blue Jays'}\n",
    "```"
   ]
  },
  {
   "cell_type": "code",
   "execution_count": 6,
   "metadata": {},
   "outputs": [
    {
     "name": "stdout",
     "output_type": "stream",
     "text": [
      "{'Atlanta': 'Braves', 'Boston': 'Red Sox', 'Toronto': 'Blue Jays'}\n"
     ]
    }
   ],
   "source": [
    "teams = {'Atlanta': 'Braves', 'Boston': 'Red Sox', 'Colorado': 'Rockies', 'Toronto': 'Blue Jays'}\n",
    "del teams['Colorado'] \n",
    "print(teams)"
   ]
  },
  {
   "cell_type": "markdown",
   "metadata": {},
   "source": [
    "## 딕셔너리 키로 값(value) 구하기 \n",
    "\n",
    "딕셔너리 값(value)은 키(key)를 배열의 인덱스처럼 간주하여 값을 찾을수 있습니다. \n",
    "\n",
    "teams 딕셔너리에서 'Atlanta' key의 value을 출력하십시오. \n",
    "\n",
    "__Expected Output__\n",
    "```\n",
    "Braves\n",
    "```"
   ]
  },
  {
   "cell_type": "code",
   "execution_count": 5,
   "metadata": {},
   "outputs": [
    {
     "name": "stdout",
     "output_type": "stream",
     "text": [
      "Braves\n"
     ]
    }
   ],
   "source": [
    "None"
   ]
  },
  {
   "cell_type": "markdown",
   "metadata": {},
   "source": [
    "딕셔너리에 없는 객체, 예를 들면 `teams['Seattle']`, 토론토 팀 이름을 찾으려 하면 아래와 같이 오류가 발생합니다. \n",
    "\n",
    "```\n",
    "teams['Seattle']\n",
    "\n",
    "---------------------------------------------------------------------------\n",
    "KeyError                                  Traceback (most recent call last)\n",
    "~\\AppData\\Local\\Temp/ipykernel_22312/3662211662.py in <module>\n",
    "----> 1 teams['Seattle']\n",
    "\n",
    "KeyError: 'Seattle'\n",
    "```"
   ]
  },
  {
   "cell_type": "markdown",
   "metadata": {},
   "source": [
    "## 딕셔너리 연산자와 함수\n",
    "\n",
    "딕셔너리를 자유자재로 사용하기 위해 딕셔너리가 자체적으로 가지고 있는 관련 함수와 메소드에 익숙해야 합니다. 몇 가지를 다루어 봅시다. \n",
    "\n",
    "### in, not in 연산자 - membership test\n",
    "이러한 연산자는 딕셔너리의 키에 대하여 작동합니다. `in` 연산자는 지정한 키가 딕셔너리에 존재하면 True, 아니면 False를 반환합니다. \n",
    "\n",
    "현재 teams를 출력하고, `Toronto` 팀이 있으면, True를 출력하십시오. 또한 `Seattle` 팀이 존재하지 않으면, 삽입하고 아래와 같이 출력하십시오. \n",
    "\n",
    "__Expected Output__\n",
    "```\n",
    "{'Atlanta': 'Braves', 'Boston': 'Red Sox', 'Toronto': 'Blue Jays'}\n",
    "True\n",
    "{'Atlanta': 'Braves', 'Boston': 'Red Sox', 'Toronto': 'Blue Jays', 'Seattle': 'Mariner'}\n",
    "```"
   ]
  },
  {
   "cell_type": "code",
   "execution_count": 8,
   "metadata": {},
   "outputs": [
    {
     "name": "stdout",
     "output_type": "stream",
     "text": [
      "{'Atlanta': 'Braves', 'Boston': 'Red Sox', 'Toronto': 'Blue Jays'}\n",
      "True\n",
      "{'Atlanta': 'Braves', 'Boston': 'Red Sox', 'Toronto': 'Blue Jays', 'Seattle': 'Mariner'}\n"
     ]
    }
   ],
   "source": [
    "teams= {'Atlanta': 'Braves', 'Boston': 'Red Sox', 'Toronto': 'Blue Jays'}\n",
    "None\n",
    "print(teams)"
   ]
  },
  {
   "cell_type": "markdown",
   "metadata": {},
   "source": [
    "### 데이터 순회\n",
    "\n",
    "`in` 연산자를 통해서 딕셔너리에 있는 모든 데이터를 `for` 루프문으로 순회할 수 있습니다. 기본적으로는 키만 얻어지기 때문에, 값은 대괄호를 이용해서 접근해야 합니다.\n",
    "\n",
    "현재 teams 딕셔너리를 출력하고, for 문을 사용하여 각 팀의 key와 value를 아래와 같이 출력하십시오. \n",
    "\n",
    "__Sample Run:__\n",
    "```\n",
    "teams = {'Atlanta': 'Braves', 'Boston': 'Red Sox', 'Toronto': 'Blue Jays', 'Seattle': 'Mariner'}\n",
    "```\n",
    "\n",
    "__Expected Output__\n",
    "```\n",
    "Atlanta: Braves\n",
    "Boston: Red Sox\n",
    "Toronto: Blue Jays\n",
    "Seattle: Mariner\n",
    "```"
   ]
  },
  {
   "cell_type": "code",
   "execution_count": 9,
   "metadata": {},
   "outputs": [
    {
     "name": "stdout",
     "output_type": "stream",
     "text": [
      "{'Atlanta': 'Braves', 'Boston': 'Red Sox', 'Toronto': 'Blue Jays', 'Seattle': 'Mariner'}\n",
      "Atlanta: Braves\n",
      "Boston: Red Sox\n",
      "Toronto: Blue Jays\n",
      "Seattle: Mariner\n"
     ]
    }
   ],
   "source": [
    "teams = {'Atlanta': 'Braves', 'Boston': 'Red Sox', 'Toronto': 'Blue Jays', 'Seattle': 'Mariner'}\n",
    "None"
   ]
  },
  {
   "cell_type": "markdown",
   "metadata": {},
   "source": [
    "__Alternative:__\n",
    "\n",
    "하지만 `items()` 메서드를 활용하면 키와 값을 큐플의 형태로 한 번에 얻을 수 있어서 좀 더 깔끔하게 루프문을 작성할 수 있습ㄴ다."
   ]
  },
  {
   "cell_type": "code",
   "execution_count": 10,
   "metadata": {},
   "outputs": [
    {
     "name": "stdout",
     "output_type": "stream",
     "text": [
      "Atlanta: Braves\n",
      "Boston: Red Sox\n",
      "Toronto: Blue Jays\n",
      "Seattle: Mariner\n"
     ]
    }
   ],
   "source": [
    "None"
   ]
  },
  {
   "cell_type": "markdown",
   "metadata": {},
   "source": [
    "### 딕셔너리 병합\n",
    "\n",
    "여러 개의 사전을 합쳐야할 때는 ** 연산자를 사용하여, 중괄호 안에 합칠 사전들을 쉼표(,)로 구분하여 나열하면 됩니다.\n",
    "\n",
    "파이썬 3.9부터는 ** 대신에 | 연산자를 사용하여 좀 더 편하게 사전을 병합할 수 있습니다. 예를 들면, `dic3 = {dic1 | dic2}` 코드가 가능합니다. "
   ]
  },
  {
   "cell_type": "code",
   "execution_count": 11,
   "metadata": {},
   "outputs": [
    {
     "name": "stdout",
     "output_type": "stream",
     "text": [
      "{'apple': 1, 'banana': 5, 'lemon': 3, 'orange': 4}\n"
     ]
    }
   ],
   "source": [
    "dic1 = {'apple': 1, 'banana': 2}\n",
    "dic2 = {'banana': 5, 'lemon': 3, 'orange': 4}\n",
    "\n",
    "dic3 = {**dic1, **dic2}\n",
    "print(dic3)"
   ]
  },
  {
   "cell_type": "markdown",
   "metadata": {},
   "source": [
    "### len() 함수\n",
    "\n",
    "딕셔너리의 key-value쌍으로 이루어진 항목의 갯수를 반환합니다. "
   ]
  },
  {
   "cell_type": "code",
   "execution_count": 12,
   "metadata": {},
   "outputs": [
    {
     "data": {
      "text/plain": [
       "4"
      ]
     },
     "execution_count": 12,
     "metadata": {},
     "output_type": "execute_result"
    }
   ],
   "source": [
    "len(teams)"
   ]
  },
  {
   "cell_type": "markdown",
   "metadata": {},
   "source": [
    "# 딕셔너리 메소드와 순회\n",
    "\n",
    "## 딕셔너리 메소드 \n",
    "\n",
    "- `d.clear()                  `  clears a dictionary\n",
    "- `d.get(<key>[, <default>])  `  returns the value of a key if it exists\n",
    "- `d.items()                  `  returns a list of key-value pairs in a dict.\n",
    "- `d.keys()                   `  returns a list of keys in a dict.\n",
    "- `d.values()                 `  returns a list of values in a dict.\n",
    "- `d.pop(<key>[, <default>])  `  removes a key from a dict, if present, and returns its value\n",
    "- `d.popitem()                `  removes the last key-value pair from a dict and returns it as a tuple\n",
    "- `d.update(<obj>)            `  merges a dict with another dict or with an iterable of key-value pair\n"
   ]
  },
  {
   "cell_type": "markdown",
   "metadata": {},
   "source": [
    "## 딕셔너리 순회(Iterating)\n",
    "\n",
    "딕혀너리의 항목들을 모두 순회하는데 다음과 같은 방법들이 있습니다. \n",
    "\n",
    "- `d          `  `__iter()__`를 호출하여 키들을 우히나 __반복자(iterator)__ 를 반환한다.   \n",
    "- `d.items()  `  딕셔너러의 키와 값으로 구성된 새로운 view를 리스트로 반환한다.   \n",
    "- `d.keys()   `  딕셔너리의 키들로 구성된 리스트를 반환한다    \n",
    "- `d.values() `  딕셔너리의 값들로 구성된 리스트를 반환한다.    "
   ]
  },
  {
   "cell_type": "markdown",
   "metadata": {},
   "source": [
    "### keys를 통해 직접 순회하기\n",
    "\n",
    "딕셔너리는 파이썬의 mapping 클래스에 속하는 객체입니다. mapping 클래스로부터 상속받는 특별한 메소드들이 있습니다. 이러한 객체의 메소드와 속성을 `dir()`로 찾아볼 수 있습니다. 아래와 같이 `dir()`의 인자로 빈 딕셔너리 즉 `{}`를 전달하는 식으로 코드 셀에서 호출하면 됩니다. \n",
    "\n",
    "```\n",
    "dir({}) \n",
    "\n",
    "['__class__', '__contains__', '__delattr__', 'delitem', ... , '__iter__', ...]\n",
    "```"
   ]
  },
  {
   "cell_type": "code",
   "execution_count": 13,
   "metadata": {},
   "outputs": [
    {
     "data": {
      "text/plain": [
       "['__class__',\n",
       " '__contains__',\n",
       " '__delattr__',\n",
       " '__delitem__',\n",
       " '__dir__',\n",
       " '__doc__',\n",
       " '__eq__',\n",
       " '__format__',\n",
       " '__ge__',\n",
       " '__getattribute__',\n",
       " '__getitem__',\n",
       " '__gt__',\n",
       " '__hash__',\n",
       " '__init__',\n",
       " '__init_subclass__',\n",
       " '__iter__',\n",
       " '__le__',\n",
       " '__len__',\n",
       " '__lt__',\n",
       " '__ne__',\n",
       " '__new__',\n",
       " '__reduce__',\n",
       " '__reduce_ex__',\n",
       " '__repr__',\n",
       " '__reversed__',\n",
       " '__setattr__',\n",
       " '__setitem__',\n",
       " '__sizeof__',\n",
       " '__str__',\n",
       " '__subclasshook__',\n",
       " 'clear',\n",
       " 'copy',\n",
       " 'fromkeys',\n",
       " 'get',\n",
       " 'items',\n",
       " 'keys',\n",
       " 'pop',\n",
       " 'popitem',\n",
       " 'setdefault',\n",
       " 'update',\n",
       " 'values']"
      ]
     },
     "execution_count": 13,
     "metadata": {},
     "output_type": "execute_result"
    }
   ],
   "source": [
    "dir({})"
   ]
  },
  {
   "cell_type": "markdown",
   "metadata": {},
   "source": [
    "위의 `dir({})`의 출력 결과의 리스트를 자세히 보면 `__iter__`이 있습니다. 이것은 바로 딕셔너리, 리스트, 셑 같은 container 객체들이 가지고 있는 특별한 메소드들 중에 하나입니다. `__iter__`메소드는 container에 있는 모든 항목들을 순회할 수 있도록 하는 iterator 객체를 반환합니다. \n",
    "\n",
    "딕셔너리의 `__iter__` 메소드는 반환하는 iterator는 `key`로 순회할 수 있도록 구현되어 있습니다. 아래의 예제에서 살펴볼 수 있습니다. "
   ]
  },
  {
   "cell_type": "code",
   "execution_count": 14,
   "metadata": {},
   "outputs": [
    {
     "name": "stdout",
     "output_type": "stream",
     "text": [
      "kiwi\n",
      "mango\n",
      "apple\n",
      "banana\n"
     ]
    }
   ],
   "source": [
    "fruits = {'kiwi': 1, 'mango': 9, 'apple': 2, 'banana': 8}\n",
    "for key in fruits:\n",
    "    print(key)"
   ]
  },
  {
   "cell_type": "markdown",
   "metadata": {},
   "source": [
    "### d.items()로 순회하기\n",
    "\n",
    "딕셔너리를 다루려면, 대개 키와 값에 대하여 함께 작업할 때가 많습니다. 그러므로, 상당히 유용할 때가 많은 `.items()` 메소드는 딕셔너리 항목들에 대한 새로운 view 객체인 리스트를 반환해 줍니다. \n",
    "\n",
    "예를 들면, 아래와 같이 각 항목을 __튜플__ 로 전환하여 만든 튜플들의 리스트를 반환합니다. "
   ]
  },
  {
   "cell_type": "code",
   "execution_count": 15,
   "metadata": {},
   "outputs": [
    {
     "name": "stdout",
     "output_type": "stream",
     "text": [
      "dict_items([('kiwi', 1), ('mango', 9), ('apple', 2), ('banana', 8)])\n"
     ]
    }
   ],
   "source": [
    "fruits = {'kiwi': 1, 'mango': 9, 'apple': 2, 'banana': 8}\n",
    "ditems = fruits.items() \n",
    "print(ditems)"
   ]
  },
  {
   "cell_type": "markdown",
   "metadata": {},
   "source": [
    "그러므로, 튜플을 해체(unpacking)해야 각 항목의 키와 값을 다룰 수 있습니다. 다음과 같이 하면 간단히 각 키와 값을 튜플의 두 원소를 접근할 수 있습니다.  "
   ]
  },
  {
   "cell_type": "code",
   "execution_count": 16,
   "metadata": {},
   "outputs": [
    {
     "name": "stdout",
     "output_type": "stream",
     "text": [
      "kiwi -> 1\n",
      "mango -> 9\n",
      "apple -> 2\n",
      "banana -> 8\n"
     ]
    }
   ],
   "source": [
    "for key, value in fruits.items():\n",
    "    print(key, '->', value)"
   ]
  },
  {
   "cell_type": "markdown",
   "metadata": {},
   "source": [
    "### d.keys()로 순회하기\n",
    "\n",
    "`.keys()` 메소드는 딕셔너리의 키들로만 구성된 새로운 view 객체인 리스트를 반환해 줍니다. \n"
   ]
  },
  {
   "cell_type": "code",
   "execution_count": 17,
   "metadata": {},
   "outputs": [
    {
     "name": "stdout",
     "output_type": "stream",
     "text": [
      "dict_keys(['kiwi', 'mango', 'apple', 'banana'])\n"
     ]
    }
   ],
   "source": [
    "fruits = {'kiwi': 1, 'mango': 9, 'apple': 2, 'banana': 8}\n",
    "ditems = fruits.keys() \n",
    "print(ditems)"
   ]
  },
  {
   "cell_type": "markdown",
   "metadata": {},
   "source": [
    "`.keys()` 메소드로 키를 찾으며, 그 키를 사용하면, 그 키에 해당하는 값은 바로 구할 수 있습니다.  "
   ]
  },
  {
   "cell_type": "code",
   "execution_count": 18,
   "metadata": {},
   "outputs": [
    {
     "name": "stdout",
     "output_type": "stream",
     "text": [
      "kiwi -> 1\n",
      "mango -> 9\n",
      "apple -> 2\n",
      "banana -> 8\n"
     ]
    }
   ],
   "source": [
    "for key in fruits.keys():\n",
    "    print(key, '->', fruits[key])"
   ]
  },
  {
   "cell_type": "markdown",
   "metadata": {},
   "source": [
    "### d.values()로 순회하기\n",
    "\n",
    "`.values()` 메소드는 딕셔너리의 값들로만 구성된 새로운 view 객체인 리스트를 반환해 줍니다. "
   ]
  },
  {
   "cell_type": "code",
   "execution_count": 19,
   "metadata": {},
   "outputs": [
    {
     "name": "stdout",
     "output_type": "stream",
     "text": [
      "dict_values([1, 9, 2, 8])\n"
     ]
    }
   ],
   "source": [
    "fruits = {'kiwi': 1, 'mango': 9, 'apple': 2, 'banana': 8}\n",
    "ditems = fruits.values() \n",
    "print(ditems)"
   ]
  },
  {
   "cell_type": "code",
   "execution_count": 20,
   "metadata": {},
   "outputs": [
    {
     "name": "stdout",
     "output_type": "stream",
     "text": [
      "1\n",
      "9\n",
      "2\n",
      "8\n"
     ]
    }
   ],
   "source": [
    "for value in fruits.values():\n",
    "    print(value)"
   ]
  },
  {
   "cell_type": "markdown",
   "metadata": {},
   "source": [
    "### `d.update(<obj>)` \n",
    "> Merges a dictionary with another dictionary or with an iterable of key-value pairs.\n",
    "\n",
    "만약 `<obj>`이 딕셔너리이면, `d.update(<obj>)`는 `<obj>` 항목들을 d에 합병합니다. \n",
    "\n",
    "`<obj>`에 있는 각 키에 대하여, \n",
    "    - 만약, 키가 `d`에 존재하지 않으면, `<obj>`의 key-value쌍은 `d`에 추가 됩니다. \n",
    "    - 만약, 키가 `d`에 존재하고 있다면, `<obj>`의 value로 갱신(update)됩니다. "
   ]
  },
  {
   "cell_type": "code",
   "execution_count": 21,
   "metadata": {},
   "outputs": [
    {
     "data": {
      "text/plain": [
       "{'a': 10, 'b': 200, 'c': 30, 'd': 400}"
      ]
     },
     "execution_count": 21,
     "metadata": {},
     "output_type": "execute_result"
    }
   ],
   "source": [
    "d1 = {'a': 10, 'b': 20, 'c': 30}\n",
    "d2 = {'b': 200, 'd': 400}\n",
    "\n",
    "d1.update(d2)\n",
    "d1"
   ]
  },
  {
   "cell_type": "markdown",
   "metadata": {},
   "source": [
    "# Dictionary Comprehension \n",
    "\n",
    "리스트 컴프리헨션처럼 딕셔너리 컴프리헨션도 간결한 코딩으로 작업을 할 수 있고 결과로 딕셔너리를 생성합니다. \n",
    "예를 들어, 다음과 같은 두 리스트로 하나의 딕셔너리로 만들고 싶다면 다음과 같이 Dictionary Comprehension으로 코딩할 수 있습니다. "
   ]
  },
  {
   "cell_type": "code",
   "execution_count": 22,
   "metadata": {},
   "outputs": [
    {
     "data": {
      "text/plain": [
       "{'apple': 'red', 'banana': 'yellow', 'kiwi': 'brown'}"
      ]
     },
     "execution_count": 22,
     "metadata": {},
     "output_type": "execute_result"
    }
   ],
   "source": [
    "fruits = ['apple', 'banana', 'kiwi']\n",
    "colors = ['red', 'yellow', 'brown']\n",
    "d = {key: value for key, value in zip(fruits, colors)}\n",
    "d"
   ]
  },
  {
   "cell_type": "markdown",
   "metadata": {},
   "source": [
    "여기서 `zip()`은 두 개의 iterables 즉 `fruits`와 `colors`를 인자로 받아서 한 묶음으로 반복자(`iterator`)를 만들어 튜플로 반환한 것을 key와 value로 각각 풀어서 새로운 딕셔너리를 생성하는데 사용한 것입니다. "
   ]
  },
  {
   "cell_type": "markdown",
   "metadata": {},
   "source": [
    "## 딕셔너리 정렬과 순회(Sorting and Iterating)\n",
    "\n",
    "__파이썬 3.7__ 부터, 딕셔너리가 생성될 때 항목이 추가된 순서를 유지하므로, 항목들을 정렬하여 딕셔너를 새로 구성하면 정렬이 된 딕션너리가 산출이 됩니다.  \n",
    "\n",
    "### Sorted by Keys\n",
    "\n",
    "아래 코드는 `sorted()`함수를 사용하여, __키로 정렬되어__ 반환되는 항목들을 순서대로 받아서 딕셔너리로 구성합니다. 딕션너리를 만들지 않고, 다른 작업도 가능합니다. "
   ]
  },
  {
   "cell_type": "code",
   "execution_count": 23,
   "metadata": {},
   "outputs": [
    {
     "name": "stdout",
     "output_type": "stream",
     "text": [
      "{'apple': 2, 'banana': 8, 'kiwi': 1, 'mango': 9}\n"
     ]
    }
   ],
   "source": [
    "# Python 3.7 이상 \n",
    "fruits = {'kiwi': 1, 'mango': 9, 'apple': 2, 'banana': 8}\n",
    "sorted_fruits = {k: fruits[k] for k in sorted(fruits)}\n",
    "print(sorted_fruits)"
   ]
  },
  {
   "cell_type": "code",
   "execution_count": 24,
   "metadata": {},
   "outputs": [
    {
     "name": "stdout",
     "output_type": "stream",
     "text": [
      "apple: 2\n",
      "banana: 8\n",
      "kiwi: 1\n",
      "mango: 9\n"
     ]
    }
   ],
   "source": [
    "for key in sorted(fruits):\n",
    "    print(f\"{key}: {fruits[key]}\")"
   ]
  },
  {
   "cell_type": "markdown",
   "metadata": {},
   "source": [
    "### Soted by Values\n",
    "딕셔너리의 항목들을 아래와 같이 값(value)을 기준으로 정렬하려면 어떻게 해야 할까요? \n",
    "\n",
    "```\n",
    "kiwi -> 1\n",
    "apple -> 2\n",
    "banana -> 8\n",
    "mango -> 9\n",
    "```\n",
    "\n",
    "여기서도 키로 정렬할 때 사용한 `sorted()`함수를 사용할 수 있습니다. 다만, 키가 아니라 다른 것을 기준으로 정렬하라는 명령할 수 있는 함수의 인자에 설정해야 합니다. 이러한 내용을 좀 더 자세히 살펴보려면, `help(sorted)` 명령을 실행해보면, 다음과 같은 설명을 볼 수 있습니다. "
   ]
  },
  {
   "cell_type": "markdown",
   "metadata": {},
   "source": [
    "```\n",
    "help(sorted)\n",
    "\n",
    "Help on built-in function sorted in module builtins:\n",
    "\n",
    "sorted(iterable, /, *, key=None, reverse=False)\n",
    "    Return a new list containing all items from the iterable in ascending order.\n",
    "    \n",
    "    A custom key function can be supplied to customize the sort order, and the\n",
    "    reverse flag can be set to request the result in descending order.\n",
    "```"
   ]
  },
  {
   "cell_type": "markdown",
   "metadata": {},
   "source": [
    "설명에 제시된 것처럼, \"a custom key function\"을 인자로 설정하면 사용자가 원하는대로 정렬이 가능하다고 합니다. sorted 함수가 비교할 것(즉 여기 예제는 딕셔너리의 value)을 정해주는 함수를 만들고, 그 함수의 이름을 인자로 넘겨줍니다. \n",
    "\n",
    "이 예제에서 우리가 비교할 것은 딕셔너리 (key, value) 튜플의 두 번째 것이므로, 이것을 반환하는 함수를 만들면 됩니다. "
   ]
  },
  {
   "cell_type": "code",
   "execution_count": 25,
   "metadata": {},
   "outputs": [
    {
     "name": "stdout",
     "output_type": "stream",
     "text": [
      "kiwi -> 1\n",
      "apple -> 2\n",
      "banana -> 8\n",
      "mango -> 9\n"
     ]
    }
   ],
   "source": [
    "fruits = { 'mango': 9, 'kiwi': 1, 'apple': 2, 'banana': 8}\n",
    "\n",
    "def by_value(item):\n",
    "    return item[1]\n",
    "\n",
    "for k, v in sorted(fruits.items(), key=by_value):\n",
    "    print(k, '->', v)"
   ]
  },
  {
   "cell_type": "markdown",
   "metadata": {},
   "source": [
    "### Using Lambda function 익명함수\n",
    "\n",
    "위의 `by_value()`와 같은 함수는 여기서만 사용하고 다시 사용하지 않을 것으로 보입니다. 이런 경우, 이런 간단한 함수는 __익명함수__ ( __lambda함수__ )로 처리하면 편리합니다. 람다함수는 함수이름이 없으며, `return`을 사용하지 않고 자동으로 결과를 반환할 수 있습니다. 아래 그림을 참조하십시오. \n",
    "\n",
    "<center><img src=\"https://github.com/idebtor/KMOOC-ML/blob/master/ipynb/images/joyai/dict-lambda.png?raw=true\" width=500></center>\n",
    "\n",
    "예를 들면, x를 인자로 받아 5를 더해서 반환하는 이름없는 lambda함수는 다음과 같이 정의할 수 있습니다. \n",
    "```\n",
    "lambda x: x + 5 \n",
    "```\n",
    "람다함수는 정의하면서 동시에 사용할 수 있으며, 아래와 같이 람다 함수에 3을 입력한 것이고 8이 출력됩니다. \n",
    "```\n",
    "(lambda x: x + 5)(3)\n",
    "8\n",
    "``` \n",
    "\n",
    "람다함수도 객체이기 때문에 정의와 동시에 변수에 저장할 수 있습니다. 다시 사용할 수 있습니다.  \n",
    "```\n",
    "func = lambda x: x + 5 \n",
    "func(3)\n",
    "8\n",
    "```"
   ]
  },
  {
   "cell_type": "code",
   "execution_count": 26,
   "metadata": {},
   "outputs": [
    {
     "name": "stdout",
     "output_type": "stream",
     "text": [
      "kiwi -> 1\n",
      "apple -> 2\n",
      "banana -> 8\n",
      "mango -> 9\n"
     ]
    }
   ],
   "source": [
    "fruits = { 'mango': 9, 'kiwi': 1, 'apple': 2, 'banana': 8}\n",
    "\n",
    "for k, v in sorted(fruits.items(), key = lambda item: item[1]):\n",
    "    print(k, '->', v)"
   ]
  },
  {
   "cell_type": "markdown",
   "metadata": {},
   "source": [
    "### Reversed\n",
    "\n",
    "딕셔너리의 항목들을 거꾸로 정렬하면, `sorted()`함수의 매개변수 `reverse = True`로 설정하면 됩니다. "
   ]
  },
  {
   "cell_type": "code",
   "execution_count": 27,
   "metadata": {},
   "outputs": [
    {
     "name": "stdout",
     "output_type": "stream",
     "text": [
      "{'mango': 9, 'kiwi': 1, 'banana': 8, 'apple': 2}\n",
      "{'kiwi': 1, 'mango': 9, 'apple': 2, 'banana': 8}\n"
     ]
    }
   ],
   "source": [
    "fruits = {'kiwi': 1, 'mango': 9, 'apple': 2, 'banana': 8}\n",
    "reversed = {k: fruits[k] for k in sorted(fruits, reverse=True)}\n",
    "print(reversed)\n",
    "print(fruits)"
   ]
  },
  {
   "cell_type": "markdown",
   "metadata": {},
   "source": [
    "한 가지 유의할 점은 sorted() 함수는 딕셔너리 원자료는 변형하지 않고, 새로운 복사본을 반환하고 있다는 것입니다. "
   ]
  },
  {
   "cell_type": "markdown",
   "metadata": {},
   "source": [
    "# Complex Dictionary - 중첩 딕셔너리\n",
    "\n",
    "파이썬에서 리스트 안에 리스트를, 튜플 안에 튜플을 중첩할 수 있는 것처럼 중첩 딕셔너리 또한 생성할 수 있습니다. \n",
    "\n",
    "아래와 같이 주(state) 이름을 키로 하고, 주도(capital)와 주 별명을 값으로 하는 딕셔너리이지만, 그 값 자체가 또 다른 딕셔너리입니다.  "
   ]
  },
  {
   "cell_type": "code",
   "execution_count": 28,
   "metadata": {},
   "outputs": [
    {
     "data": {
      "text/plain": [
       "{'Alabama': {'capital': 'Montgomery', 'nickname': 'Cotton State'},\n",
       " 'Arizona': {'capital': 'Phoenix', 'nickname': 'Grand Canyon State'},\n",
       " 'California': {'capital': 'Sacramento', 'nickname': 'Golden State'},\n",
       " 'New York': {'capital': 'Albany', 'nickname': 'Empire State'},\n",
       " 'Texas': {'capital': 'Austin', 'nickname': 'Lone Star State'}}"
      ]
     },
     "execution_count": 28,
     "metadata": {},
     "output_type": "execute_result"
    }
   ],
   "source": [
    "states = {\n",
    "    \"Alabama\": {\"capital\": \"Montgomery\", \"nickname\": \"Cotton State\"},\n",
    "    \"Arizona\": {\"capital\": \"Phoenix\", \"nickname\": \"Grand Canyon State\" },\n",
    "    \"California\": {\"capital\": \"Sacramento\", \"nickname\": \"Golden State\"},\n",
    "    \"New York\": {\"capital\": \"Albany\", \"nickname\": \"Empire State\" }, \n",
    "    \"Texas\": {\"capital\": \"Austin\",  \"nickname\": \"Lone Star State\" }\n",
    "}\n",
    "\n",
    "states"
   ]
  },
  {
   "cell_type": "markdown",
   "metadata": {},
   "source": [
    "다음과 같이 각 키의 값은 딕셔너리입니다. "
   ]
  },
  {
   "cell_type": "code",
   "execution_count": 29,
   "metadata": {},
   "outputs": [
    {
     "data": {
      "text/plain": [
       "{'capital': 'Austin', 'nickname': 'Lone Star State'}"
      ]
     },
     "execution_count": 29,
     "metadata": {},
     "output_type": "execute_result"
    }
   ],
   "source": [
    "states[\"Texas\"]"
   ]
  },
  {
   "cell_type": "markdown",
   "metadata": {},
   "source": [
    "텍사스의 주 별명은 다음과 같이 얻을 수 있습니다."
   ]
  },
  {
   "cell_type": "code",
   "execution_count": 30,
   "metadata": {},
   "outputs": [
    {
     "data": {
      "text/plain": [
       "'Lone Star State'"
      ]
     },
     "execution_count": 30,
     "metadata": {},
     "output_type": "execute_result"
    }
   ],
   "source": [
    "states[\"Texas\"][\"nickname\"]"
   ]
  },
  {
   "cell_type": "code",
   "execution_count": 31,
   "metadata": {},
   "outputs": [],
   "source": [
    "capitals = {\n",
    "    \"Alabama\":  \"Montgomery\", \n",
    "    \"Arizona\": \"Phoenix\",\n",
    "    \"California\": \"Sacramento\",\n",
    "    \"New York\": \"Albany\",\n",
    "    \"Texas\": \"Austin\"\n",
    "}"
   ]
  },
  {
   "cell_type": "code",
   "execution_count": 32,
   "metadata": {},
   "outputs": [],
   "source": [
    "nicknames = { \n",
    "    \"Alabama\": \"Cotton State\",\n",
    "    \"Arizona\": \"Grand Canyon State\",\n",
    "    \"California\": \"Golden State\",\n",
    "    \"New York\": \"Empire State\",\n",
    "    \"Texas\": \"Lone Star State\"\n",
    "}"
   ]
  },
  {
   "cell_type": "markdown",
   "metadata": {},
   "source": [
    "# Exercises\n",
    "\n",
    "## 리스트로 딕셔너리 생성하기\n",
    "\n",
    "다음과 같이 두 개의 원소로 구성된 튜플들의 리스트는 `dict()` construct를 사용하여 바로 딕셔너리로 전환할 수 있습니다. \n",
    "\n",
    "__Sample Run:__ \n",
    "```\n",
    "alist = [('apple', 2), ('banana', 8), ('kiwi', 1), ('mango', 9)]\n",
    "```\n",
    "__Expected Outptut:__\n",
    "```\n",
    "store = {'apple': 2, 'banana': 8, 'kiwi': 1, 'mango': 9}\n",
    "```"
   ]
  },
  {
   "cell_type": "code",
   "execution_count": 34,
   "metadata": {},
   "outputs": [
    {
     "name": "stdout",
     "output_type": "stream",
     "text": [
      "{'apple': 2, 'banana': 8, 'kiwi': 1, 'mango': 9}\n"
     ]
    }
   ],
   "source": [
    "\n",
    "alist = ([('apple', 2), ('banana', 8), ('kiwi', 1), ('mango', 9)])\n",
    "store = dict(alist)\n",
    "print(store)"
   ]
  },
  {
   "cell_type": "markdown",
   "metadata": {},
   "source": [
    "## 함수로 딕셔너리 생성하기 \n",
    "\n",
    "주어진 영어 문자열(단어)에서 각 알파벳 글자의 수를 세어서 딕셔너리로 반환하는 함수 `count()`를 구현하고 테스트 하십시오. \n",
    "\n",
    "__Sample Run:__\n",
    "```\n",
    "if __name__ == '__main__':\n",
    "    print(count('tennessee'))\n",
    "    print(count('mississippi'))\n",
    "```    \n",
    "__Expected Output:__\n",
    "```\n",
    "{'t': 1, 'e': 4, 'n': 2, 's': 2}\n",
    "{'m': 1, 'i': 4, 's': 4, 'p': 2}\n",
    "```\n",
    "__Solution:__"
   ]
  },
  {
   "cell_type": "code",
   "execution_count": 35,
   "metadata": {},
   "outputs": [
    {
     "name": "stdout",
     "output_type": "stream",
     "text": [
      "{'t': 1, 'e': 4, 'n': 2, 's': 2}\n",
      "{'m': 1, 'i': 4, 's': 4, 'p': 2}\n"
     ]
    }
   ],
   "source": [
    "def count(word):\n",
    "    counter = {}\n",
    "    for letter in word:\n",
    "        if letter not in counter:\n",
    "            counter[letter] = 0\n",
    "        counter[letter] += 1    \n",
    "    return counter\n",
    "\n",
    "if __name__ == '__main__':\n",
    "    print(count('tennessee'))\n",
    "    print(count('mississippi'))\n",
    "    "
   ]
  },
  {
   "cell_type": "markdown",
   "metadata": {},
   "source": [
    "## 함수로 딕셔너리 생성하기 - sorted()\n",
    "\n",
    "주어진 영어 문자열(단어)에서 각 알파벳 글자의 수를 세고, __알파벳 순으로 정렬한__ 딕셔너리로 반환하는 함수 `count()`를 구현하고 테스트 하십시오. \n",
    "\n",
    "__Sample Run:__\n",
    "```\n",
    "if __name__ == '__main__':\n",
    "    print(count('tennessee'))\n",
    "    print(count('mississippi'))\n",
    "```    \n",
    "__Expected Output:__\n",
    "```\n",
    "{'e': 4, 'n': 2, 's': 2, 't': 1}\n",
    "{'i': 4, 'm': 1, 'p': 2, 's': 4}\n",
    "```\n",
    "__Solution:__"
   ]
  },
  {
   "cell_type": "code",
   "execution_count": 36,
   "metadata": {},
   "outputs": [
    {
     "name": "stdout",
     "output_type": "stream",
     "text": [
      "{'e': 4, 'n': 2, 's': 2, 't': 1}\n",
      "{'i': 4, 'm': 1, 'p': 2, 's': 4}\n"
     ]
    }
   ],
   "source": [
    "def count(word):\n",
    "    counter = {}\n",
    "    for letter in word:\n",
    "        if letter not in counter:\n",
    "            counter[letter] = 0\n",
    "        counter[letter] += 1    \n",
    "    return { k: v for k, v in sorted(counter.items()) }\n",
    "\n",
    "if __name__ == '__main__':\n",
    "    print(count('tennessee'))\n",
    "    print(count('mississippi'))"
   ]
  },
  {
   "cell_type": "markdown",
   "metadata": {},
   "source": [
    "## 함수로 딕셔너리 생성하기 - lambda function\n",
    "\n",
    "주어진 영어 문자열(단어)에서 각 알파벳 글자의 수를 세고,  __키와 값을 교환하고, 낮은 갯수부터 정렬한__ 딕셔너리로 반환하는 함수 `count()`를 구현하고 테스트 하십시오. \n",
    "\n",
    "__Sample Run:__\n",
    "```\n",
    "if __name__ == '__main__':\n",
    "    print(count('tennessee'))\n",
    "    print(count('mississippi'))\n",
    "```    \n",
    "__Expected Output:__\n",
    "```\n",
    "{1: 't', 2: 's', 4: 'e'}\n",
    "{1: 'm', 2: 'p', 4: 's'}\n",
    "```\n",
    "__Solution:__"
   ]
  },
  {
   "cell_type": "code",
   "execution_count": 37,
   "metadata": {},
   "outputs": [
    {
     "name": "stdout",
     "output_type": "stream",
     "text": [
      "{1: 't', 2: 's', 4: 'e'}\n",
      "{1: 'm', 2: 'p', 4: 's'}\n"
     ]
    }
   ],
   "source": [
    "def count(word):\n",
    "    counter = {}\n",
    "    for letter in word:\n",
    "        if letter not in counter:\n",
    "            counter[letter] = 0\n",
    "        counter[letter] += 1    \n",
    "    return { v: k for k, v in sorted(counter.items(), key=lambda item: item[1]) }\n",
    "\n",
    "if __name__ == '__main__':\n",
    "    print(count('tennessee'))\n",
    "    print(count('mississippi'))"
   ]
  },
  {
   "cell_type": "markdown",
   "metadata": {},
   "source": [
    "__참고 사항 using setdefualt()__"
   ]
  },
  {
   "cell_type": "code",
   "execution_count": 38,
   "metadata": {},
   "outputs": [
    {
     "name": "stdout",
     "output_type": "stream",
     "text": [
      "{'t': 1, 'e': 4, 'n': 2, 's': 2}\n",
      "{'m': 1, 'i': 4, 's': 4, 'p': 2}\n"
     ]
    }
   ],
   "source": [
    "def count(word):\n",
    "    counter = {}\n",
    "    for letter in word:\n",
    "        counter.setdefault(letter, 0)\n",
    "        counter[letter] += 1\n",
    "    return counter\n",
    "\n",
    "if __name__ == '__main__':\n",
    "    print(count('tennessee'))\n",
    "    print(count('mississippi'))\n",
    "    "
   ]
  },
  {
   "cell_type": "markdown",
   "metadata": {},
   "source": [
    "__참고 사항 using defualtdict()__"
   ]
  },
  {
   "cell_type": "code",
   "execution_count": 39,
   "metadata": {},
   "outputs": [
    {
     "name": "stdout",
     "output_type": "stream",
     "text": [
      "defaultdict(<class 'int'>, {'t': 1, 'e': 4, 'n': 2, 's': 2})\n",
      "defaultdict(<class 'int'>, {'m': 1, 'i': 4, 's': 4, 'p': 2})\n"
     ]
    }
   ],
   "source": [
    "from collections import defaultdict\n",
    "\n",
    "def count(word):\n",
    "    counter = defaultdict(int)\n",
    "    for letter in word:\n",
    "        counter[letter] += 1\n",
    "    return counter\n",
    "\n",
    "if __name__ == '__main__':\n",
    "    print(count(\"tennessee\"))\n",
    "    print(count(\"mississippi\"))"
   ]
  },
  {
   "cell_type": "markdown",
   "metadata": {},
   "source": [
    "## 딕셔너리 생성하기 \n",
    "\n",
    "아래 이미지와 같은 정보가 있다고 가정할 때, 각 박스에 지정되어 있는 두 숫자(key)와 과일의 이름(value)을 key-value 쌍으로 하는 딕셔너리를 생성하고, 각 과일의 key로 값을 출력하십시오. 과일의 이름은 apple, banana, lemon, and orange입니다. \n",
    "\n",
    "<center><img src=\"https://github.com/idebtor/KMOOC-ML/blob/master/ipynb/images/joyai/dict-fruits.png?raw=true\" width=300></center>\n",
    "\n",
    "__Hint:__ 딕셔너리의 key로 사용하려면, 그 객체는 immutable해야 하고, hashable해야 합니다. 예를 들어, 리스트 `[1, 2]`가 hashable인지 아닌지 테스트하려면, `hash([1, 2])` 실행해보면 됩니다. "
   ]
  },
  {
   "cell_type": "code",
   "execution_count": 40,
   "metadata": {},
   "outputs": [
    {
     "data": {
      "text/plain": [
       "-3550055125485641917"
      ]
     },
     "execution_count": 40,
     "metadata": {},
     "output_type": "execute_result"
    }
   ],
   "source": [
    "hash((1, 2))"
   ]
  },
  {
   "cell_type": "markdown",
   "metadata": {},
   "source": [
    "__Solution:__"
   ]
  },
  {
   "cell_type": "code",
   "execution_count": 41,
   "metadata": {},
   "outputs": [
    {
     "name": "stdout",
     "output_type": "stream",
     "text": [
      "banana\n"
     ]
    }
   ],
   "source": [
    "# keys should be immutable obejcts. Tuple is ok, but not list. \n",
    "fruits = { (1, 1):'apple', (1, 2): 'banana', (2, 1): 'lemon', (2, 2): 'orange' }\n",
    "\n",
    "print(fruits[(1, 2)])"
   ]
  },
  {
   "cell_type": "markdown",
   "metadata": {},
   "source": [
    "## 키와 값을 교환한 딕셔너리 생성하기\n",
    "\n",
    "주어진 딕셔너리 mydict에 있는 모든 항목의 키와 값을 서로 교환하여 새로운 딕셔너리 urdit를 생성하십시오.   \n",
    "\n",
    "__Sample Run:__ \n",
    "```\n",
    "mydict = {'one': 1, 'two': 2, 'thee': 3, 'four': 4}\n",
    "```\n",
    "__Expected Output:__\n",
    "```\n",
    "mydict = {'one': 1, 'two': 2, 'thee': 3, 'four': 4}\n",
    "urdict = {1: 'one', 2: 'two', 3: 'thee', 4: 'four'}\n",
    "```"
   ]
  },
  {
   "cell_type": "markdown",
   "metadata": {},
   "source": [
    "### Using for loop"
   ]
  },
  {
   "cell_type": "code",
   "execution_count": 42,
   "metadata": {},
   "outputs": [
    {
     "data": {
      "text/plain": [
       "{1: 'one', 2: 'two', 3: 'thee', 4: 'four'}"
      ]
     },
     "execution_count": 42,
     "metadata": {},
     "output_type": "execute_result"
    }
   ],
   "source": [
    "mydict = {'one': 1, 'two': 2, 'thee': 3, 'four': 4}\n",
    "urdict = {}\n",
    "for key, value in mydict.items():\n",
    "    urdict[value] = key\n",
    "    \n",
    "urdict"
   ]
  },
  {
   "cell_type": "markdown",
   "metadata": {},
   "source": [
    "### Using Dictionary Comprehension"
   ]
  },
  {
   "cell_type": "code",
   "execution_count": 43,
   "metadata": {},
   "outputs": [
    {
     "data": {
      "text/plain": [
       "{1: 'one', 2: 'two', 3: 'thee', 4: 'four'}"
      ]
     },
     "execution_count": 43,
     "metadata": {},
     "output_type": "execute_result"
    }
   ],
   "source": [
    "mydict = {'one': 1, 'two': 2, 'thee': 3, 'four': 4}\n",
    "urdict = { value: key for key, value in mydict.items() }\n",
    "urdict"
   ]
  },
  {
   "cell_type": "markdown",
   "metadata": {},
   "source": [
    "이렇게 식으로 간결하고 효율적인 코딩을 하여 가독성을 높이는 것을 바람직한 일입니다. 이런 코딩 방식을 흔히 Pythonic Code라고 합니다. "
   ]
  },
  {
   "cell_type": "markdown",
   "metadata": {},
   "source": [
    "## 조건에 맞는 항목들로 딕셔너리 생성하기\n",
    "\n",
    "주어진 딕셔너리에 있는 항목들 중에 어떤 조건에 맞는 항목들로을 찾아서 새로운 딕셔너리를 만들려고 합니다. 다음에 주어진 딕셔너리 mydict에서 값이 짝수인 항목들로 구성한 딕셔너리 urdict를 생성하십시오. \n",
    "\n",
    "__Sample Run:__ \n",
    "```\n",
    "mydict = {'one': 1, 'two': 2, 'thee': 3, 'four': 4}\n",
    "```\n",
    "__Expected Output:__\n",
    "```\n",
    "mydict = {'one': 1, 'two': 2, 'thee': 3, 'four': 4}\n",
    "urdict = {'two': 2, 'four': 4}\n",
    "```"
   ]
  },
  {
   "cell_type": "markdown",
   "metadata": {},
   "source": [
    "### Using for-loop "
   ]
  },
  {
   "cell_type": "code",
   "execution_count": 44,
   "metadata": {},
   "outputs": [
    {
     "name": "stdout",
     "output_type": "stream",
     "text": [
      "{'two': 2, 'four': 4}\n"
     ]
    }
   ],
   "source": [
    "mydict = {'one': 1, 'two': 2, 'thee': 3, 'four': 4}\n",
    "urdict = {}\n",
    "for key, value in mydict.items():\n",
    "    if value % 2 == 0:\n",
    "        urdict[key] = value\n",
    "print(urdict)"
   ]
  },
  {
   "cell_type": "markdown",
   "metadata": {},
   "source": [
    "### Using Dictionary Comprehension"
   ]
  },
  {
   "cell_type": "code",
   "execution_count": 45,
   "metadata": {},
   "outputs": [
    {
     "name": "stdout",
     "output_type": "stream",
     "text": [
      "{'two': 2, 'four': 4}\n"
     ]
    }
   ],
   "source": [
    "mydict = {'one': 1, 'two': 2, 'thee': 3, 'four': 4}\n",
    "urdict = {k: v for k, v in mydict.items() if v % 2 == 0 }\n",
    "print(urdict)"
   ]
  },
  {
   "cell_type": "markdown",
   "metadata": {},
   "source": [
    "## 계산하기 \n",
    "\n",
    "주어진 딕셔너리에 있는 항목들 중에 어떤 조건에 맞는 항목들로을 찾아서 새로운 딕셔너리를 만들려고 합니다. 다음에 주어진 딕셔너리 mydict에서 값이 짝수인 항목들로 구성한 딕셔너리 urdict를 생성하십시오. \n",
    "\n",
    "__Sample Run:__ \n",
    "```\n",
    "fruits = {'apple': 12, 'banana': 21, 'lemon': 8, 'orange': 9, 'kiwi':49}\n",
    "```\n",
    "__Expected Output:__\n",
    "```\n",
    "99\n",
    "```\n",
    "\n",
    "### Using for-loop"
   ]
  },
  {
   "cell_type": "code",
   "execution_count": 46,
   "metadata": {},
   "outputs": [
    {
     "name": "stdout",
     "output_type": "stream",
     "text": [
      "99\n"
     ]
    }
   ],
   "source": [
    "fruits = {'apple': 12, 'banana': 21, 'lemon': 8, 'orange': 9, 'kiwi':49}\n",
    "counts = 0\n",
    "for value in fruits.values():\n",
    "    counts += value\n",
    "\n",
    "print(counts)"
   ]
  },
  {
   "cell_type": "markdown",
   "metadata": {},
   "source": [
    "### Using __list comprehension__ & sum()"
   ]
  },
  {
   "cell_type": "code",
   "execution_count": 47,
   "metadata": {},
   "outputs": [
    {
     "data": {
      "text/plain": [
       "99"
      ]
     },
     "execution_count": 47,
     "metadata": {},
     "output_type": "execute_result"
    }
   ],
   "source": [
    "fruits = {'apple': 12, 'banana': 21, 'lemon': 8, 'orange': 9, 'kiwi':49}\n",
    "counts = sum([value for value in fruits.values()])\n",
    "counts"
   ]
  },
  {
   "cell_type": "markdown",
   "metadata": {},
   "source": [
    "### Using generator expression & sum()\n",
    "아래 코드는 리스트 컴프리헨션을 사용한 것 같지만, 자세히 보면 `[]`를 사용하는 대신에 `()`를 사용하여 generator expression를 사용한 것입니다.  \n",
    "\n",
    "Generator는 다음과 같은 특징이 있습니다. \n",
    "- Generator expression은 iterator를 반환하는 코드입니다. \n",
    "- 반환 받은 iterator로 for-loop로 순회하거나 sum()함수에 넣어 합을 구할 수 있습니다. \n",
    "- iterator 객체는 한번만 순회하는데 사용할 수 있습니다. \n",
    "- 더 자세한 것은 [여기](https://docs.python.org/3/glossary.html#term-generator-expression)를 참조하세요. "
   ]
  },
  {
   "cell_type": "code",
   "execution_count": 48,
   "metadata": {},
   "outputs": [
    {
     "name": "stdout",
     "output_type": "stream",
     "text": [
      "<generator object <genexpr> at 0x0000019B78B34040>\n",
      "12\n",
      "21\n",
      "8\n",
      "9\n",
      "49\n"
     ]
    },
    {
     "data": {
      "text/plain": [
       "0"
      ]
     },
     "execution_count": 48,
     "metadata": {},
     "output_type": "execute_result"
    }
   ],
   "source": [
    "fruits = {'apple': 12, 'banana': 21, 'lemon': 8, 'orange': 9, 'kiwi':49}\n",
    "counts = (value for value in fruits.values())\n",
    "print(counts)  # iterator object\n",
    "for x in counts:\n",
    "    print(x)\n",
    "sum(counts)    # for loop에서 사용했기 때문에 더 이상 순회할 것이 없음."
   ]
  },
  {
   "cell_type": "code",
   "execution_count": 49,
   "metadata": {},
   "outputs": [
    {
     "data": {
      "text/plain": [
       "99"
      ]
     },
     "execution_count": 49,
     "metadata": {},
     "output_type": "execute_result"
    }
   ],
   "source": [
    "fruits = {'apple': 12, 'banana': 21, 'lemon': 8, 'orange': 9, 'kiwi':49}\n",
    "sum(value for value in fruits.values())"
   ]
  },
  {
   "cell_type": "markdown",
   "metadata": {},
   "source": [
    "### Using sum() simply"
   ]
  },
  {
   "cell_type": "code",
   "execution_count": 50,
   "metadata": {},
   "outputs": [
    {
     "data": {
      "text/plain": [
       "99"
      ]
     },
     "execution_count": 50,
     "metadata": {},
     "output_type": "execute_result"
    }
   ],
   "source": [
    "fruits = {'apple': 12, 'banana': 21, 'lemon': 8, 'orange': 9, 'kiwi':49}\n",
    "sum(fruits.values())"
   ]
  },
  {
   "cell_type": "markdown",
   "metadata": {},
   "source": [
    "## 두 개의 리스트로 딕셔너리 생성하기\n",
    "\n",
    "다음과 같이 크기가 같은 두 개의 리스트로 하나의 딕셔너리를 생성하십시오. \n",
    "\n",
    "__Sample Run:__\n",
    "```\n",
    "fruit = ['apple', 'banana', 'kiwi', 'mango']\n",
    "count = [2, 8, 1, 9]\n",
    "```\n",
    "__Expected Output:__\n",
    "```\n",
    "store = {'apple': 2, 'banana': 8, 'kiwi': 1, 'mango': 9}\n",
    "```\n",
    "__Hint:__ \n",
    "- Use `zip()` to combine fruit and count as a pair. \n",
    "- Use list comprehension to make a list of those pairs.\n",
    "- Use `dict()` construct to convert the list to a dict data type"
   ]
  },
  {
   "cell_type": "markdown",
   "metadata": {},
   "source": [
    "__Solution 1:__ Using for-loop\n",
    "\n",
    "`(apple, 2)`와 같은 튜플들로 구성된 리스트를 for-loop로 만들고 난 후, 그 결롸를 딕셔너리로 전환합니다. "
   ]
  },
  {
   "cell_type": "code",
   "execution_count": 51,
   "metadata": {},
   "outputs": [
    {
     "name": "stdout",
     "output_type": "stream",
     "text": [
      "{'apple': 2, 'banana': 8, 'kiwi': 1, 'mango': 9}\n"
     ]
    }
   ],
   "source": [
    "#converting two lists or sets into one dict type object\n",
    "fruit = ['apple', 'banana', 'kiwi', 'mango']\n",
    "count = [2, 8, 1, 9]\n",
    "alist = []\n",
    "for f, c in zip(fruit, count):\n",
    "    alist.append((f, c))\n",
    "store = dict(alist)\n",
    "print(store)"
   ]
  },
  {
   "cell_type": "markdown",
   "metadata": {},
   "source": [
    "__Solution 2:__ Using list-comprehension\n",
    "\n",
    "리스트 컴프리헨션으로 튜를들로 이루어진 리스트를 딕셔너리로 전환합니다."
   ]
  },
  {
   "cell_type": "code",
   "execution_count": 52,
   "metadata": {},
   "outputs": [
    {
     "name": "stdout",
     "output_type": "stream",
     "text": [
      "{'apple': 2, 'banana': 8, 'kiwi': 1, 'mango': 9}\n"
     ]
    }
   ],
   "source": [
    "fruit = ['apple', 'banana', 'kiwi', 'mango']\n",
    "count = [2, 8, 1, 9]\n",
    "\n",
    "store = dict([(f, c) for f, c in zip(fruit, count)])\n",
    "print(store)"
   ]
  },
  {
   "cell_type": "markdown",
   "metadata": {},
   "source": [
    "## Create the following dict type data set.\n",
    "\n",
    "```\n",
    "data = {'a': 1, 'b': 2, 'c': 3, ..., 'x': 24, 'y': 25, 'z': 26}\n",
    "```\n",
    "\n",
    "\n",
    "- You may import `string` to get ASCII lowercase as shown below:\n",
    "\n",
    "\n",
    "```\n",
    "from string import ascii_lowercase as lowers\n",
    "```"
   ]
  },
  {
   "cell_type": "markdown",
   "metadata": {},
   "source": [
    "__Solution 1:__ Using dict() function and zip()."
   ]
  },
  {
   "cell_type": "code",
   "execution_count": 53,
   "metadata": {},
   "outputs": [
    {
     "name": "stdout",
     "output_type": "stream",
     "text": [
      "{'a': 1, 'b': 2, 'c': 3, 'd': 4, 'e': 5, 'f': 6, 'g': 7, 'h': 8, 'i': 9, 'j': 10, 'k': 11, 'l': 12, 'm': 13, 'n': 14, 'o': 15, 'p': 16, 'q': 17, 'r': 18, 's': 19, 't': 20, 'u': 21, 'v': 22, 'w': 23, 'x': 24, 'y': 25, 'z': 26}\n"
     ]
    }
   ],
   "source": [
    "from string import ascii_lowercase as lowers\n",
    "\n",
    "data = dict( zip(lowers, range(1, len(lowers) + 1)) )\n",
    "print(data)"
   ]
  },
  {
   "cell_type": "code",
   "execution_count": 54,
   "metadata": {},
   "outputs": [
    {
     "name": "stdout",
     "output_type": "stream",
     "text": [
      "{'a': 1, 'b': 2, 'c': 3, 'd': 4, 'e': 5, 'f': 6, 'g': 7, 'h': 8, 'i': 9, 'j': 10, 'k': 11, 'l': 12, 'm': 13, 'n': 14, 'o': 15, 'p': 16, 'q': 17, 'r': 18, 's': 19, 't': 20, 'u': 21, 'v': 22, 'w': 23, 'x': 24, 'y': 25, 'z': 26}\n"
     ]
    }
   ],
   "source": [
    "import string\n",
    "\n",
    "data = dict( zip(string.ascii_lowercase, range(1, len(lowers) + 1)) )\n",
    "print(data)"
   ]
  },
  {
   "cell_type": "markdown",
   "metadata": {},
   "source": [
    "__Solution 2:__ Using dict comprehension"
   ]
  },
  {
   "cell_type": "code",
   "execution_count": 55,
   "metadata": {},
   "outputs": [
    {
     "name": "stdout",
     "output_type": "stream",
     "text": [
      "{'a': 1, 'b': 2, 'c': 3, 'd': 4, 'e': 5, 'f': 6, 'g': 7, 'h': 8, 'i': 9, 'j': 10, 'k': 11, 'l': 12, 'm': 13, 'n': 14, 'o': 15, 'p': 16, 'q': 17, 'r': 18, 's': 19, 't': 20, 'u': 21, 'v': 22, 'w': 23, 'x': 24, 'y': 25, 'z': 26}\n"
     ]
    }
   ],
   "source": [
    "data = {ch: num for ch, num in zip(lowers, range(1, 27))}\n",
    "print(data)"
   ]
  },
  {
   "cell_type": "markdown",
   "metadata": {},
   "source": [
    "## 딕셔너리 항목들을 한 줄로 출력하기(1)\n",
    "\n",
    "주어진 딕셔너리의 내용을 한 줄로 출력하길 원합니다. \n",
    "\n",
    "__Hint:__ \n",
    "- Use for-loop and items().\n",
    "- Use some options in print().\n",
    "\n",
    "__Sample Run:__\n",
    "```\n",
    "store = {'apple': 2, 'banana': 8, 'kiwi': 1, 'mango': 9}\n",
    "```\n",
    "__Expected Output:__\n",
    "```\n",
    "apple:2, banana:8, kiwi:1, mango:9, \n",
    "```"
   ]
  },
  {
   "cell_type": "code",
   "execution_count": 56,
   "metadata": {},
   "outputs": [
    {
     "name": "stdout",
     "output_type": "stream",
     "text": [
      "apple:2, banana:8, kiwi:1, mango:9, "
     ]
    }
   ],
   "source": [
    "store = {'apple': 2, 'banana': 8, 'kiwi': 1, 'mango': 9}\n",
    "\n",
    "for key, value in store.items():\n",
    "    print(key, value, sep = ':', end = ', ')"
   ]
  },
  {
   "cell_type": "markdown",
   "metadata": {},
   "source": [
    "## 딕셔너리 항목들을 한 줄로 출력하기(2)\n",
    "\n",
    "주어진 딕셔너리의 내용을 끝에 extra comma없이 한 줄로 깔끔하게 출력하길 원합니다. \n",
    "\n",
    "__Hint:__ \n",
    "- Use list comprehension and join()  \n",
    "\n",
    "__Sample Run:__\n",
    "```\n",
    "store = {'apple': 2, 'banana': 8, 'kiwi': 1, 'mango': 9}\n",
    "```\n",
    "__Expected Output:__\n",
    "```\n",
    "apple:2, banana:8, kiwi:1, mango:9\n",
    "```"
   ]
  },
  {
   "cell_type": "code",
   "execution_count": 57,
   "metadata": {
    "tags": []
   },
   "outputs": [
    {
     "name": "stdout",
     "output_type": "stream",
     "text": [
      "apple:2, banana:8, kiwi:1, mango:9\n"
     ]
    }
   ],
   "source": [
    "store = {'apple': 2, 'banana': 8, 'kiwi': 1, 'mango': 9}\n",
    "print(', '.join(k + ':' + str(v) for k, v in store.items()))"
   ]
  },
  {
   "cell_type": "markdown",
   "metadata": {},
   "source": [
    "## Soted by key's length using a custom function\n",
    "\n",
    "주어진 딕셔너리의 항목들을 아래와 같이 키(key) 문자열의 길이를 기준으로 정렬하려고 합니다.  여기서는 `def by_length(item)`함수를 정의하고, 이를 사용하십시오. \n",
    "\n",
    "__Sample Run:__\n",
    "```\n",
    "fruits = { 'apple':2, 'kiwi': 5, 'pineapple': 3, 'banana': 8}\n",
    "```\n",
    "__Expected Output:__\n",
    "```\n",
    "kiwi -> 5\n",
    "apple -> 2\n",
    "banana -> 8\n",
    "pineapple -> 3\n",
    "```\n",
    "\n",
    "여기서도 value로 정렬할 때 사용한 `sorted()`함수와 `sorted()`함수의 인자로 비교/정렬하기 원하는 값을 함수로 지정해주는 방법이 있습니다.  본 단원에서 제공하는 예제를 살펴보십시오. 좀 더 자세히 살펴보려면, `help(sorted)` 명령을 실행해보면, 다음과 같은 설명을 볼 수 있습니다. \n",
    "\n",
    "\n",
    "\n",
    "__Solution:__"
   ]
  },
  {
   "cell_type": "code",
   "execution_count": 58,
   "metadata": {},
   "outputs": [
    {
     "name": "stdout",
     "output_type": "stream",
     "text": [
      "kiwi -> 5\n",
      "apple -> 2\n",
      "banana -> 8\n",
      "pineapple -> 3\n"
     ]
    }
   ],
   "source": [
    "fruits = { 'apple':2, 'kiwi': 5, 'pineapple': 3, 'banana': 8}\n",
    "\n",
    "def by_length(item):\n",
    "    return len(item[0])\n",
    "\n",
    "for k, v in sorted(fruits.items(), key=by_length):\n",
    "    print(k, '->', v)"
   ]
  },
  {
   "cell_type": "markdown",
   "metadata": {},
   "source": [
    "## Soted by key's length using a lambda function\n",
    "\n",
    "주어진 딕셔너리의 항목들을 아래와 같이 키(key) 문자열의 길이를 기준으로 정렬하려고 합니다.  여기서는 익명함수(lambda function)을 사용하십시오. \n",
    "그러면, 별도의 함수를 정의하지 않고도, for-loop에서 직접 처리할 수 있습니다. 이러한 코딩 기법을 가리켜 Pythonic way of coding, 간단히 Pythonic Coding이라고 합니다. \n",
    "\n",
    "__Sample Run:__\n",
    "```\n",
    "fruits = { 'apple':2, 'kiwi': 5, 'pineapple': 3, 'banana': 8}\n",
    "```\n",
    "__Expected Output:__\n",
    "```\n",
    "kiwi -> 5\n",
    "apple -> 2\n",
    "banana -> 8\n",
    "pineapple -> 3\n",
    "```"
   ]
  },
  {
   "cell_type": "code",
   "execution_count": 59,
   "metadata": {},
   "outputs": [
    {
     "name": "stdout",
     "output_type": "stream",
     "text": [
      "kiwi -> 5\n",
      "apple -> 2\n",
      "banana -> 8\n",
      "pineapple -> 3\n"
     ]
    }
   ],
   "source": [
    "fruits = { 'apple':2, 'kiwi': 5, 'pineapple': 3, 'banana': 8}\n",
    "\n",
    "for k, v in sorted(fruits.items(), key=lambda item: len(item[0])):\n",
    "    print(k, '->', v)"
   ]
  },
  {
   "cell_type": "markdown",
   "metadata": {},
   "source": [
    "## 딕셔너리 생성하기(1) \n",
    "\n",
    "다음과 같이 각각 State 이름을 키로 사용하는 딕셔너리 두 개가 있다고 가정합시다. 하나는 State의 capital을 value로 저장하고 있고, 다른 하나는 State의 별명(nickname)을 value로 가지고 있습니다. 두 딕셔너리에는 같은 State들의 정보들이 각각 나열되어 있다고 가정합니다. \n",
    "\n",
    "두 딕셔너리 곧 `capitals`와 `nicknames`를 합병하여, 키는 state가 되고, 값은 capital과 nickname이 되도록 `states` 딕셔너리를 생성하십시오. \n",
    "\n",
    "__Hint:__    \n",
    "`states` 딕셔너리의 값은 `{ }`으로 즉 set으로 정의됨으로 그 안에 원소들의 순서는 우리가 조정할 수 없습니다. "
   ]
  },
  {
   "cell_type": "markdown",
   "metadata": {},
   "source": [
    "__Sample Run:__\n",
    "\n",
    "```\n",
    "capitals = {\n",
    "    \"Alabama\":  \"Montgomery\", \n",
    "    \"Arizona\": \"Phoenix\",\n",
    "    \"California\": \"Sacramento\",\n",
    "    \"New York\": \"Albany\",\n",
    "    \"Texas\": \"Austin\"\n",
    "}\n",
    "\n",
    "nicknames = { \n",
    "    \"Alabama\": \"Cotton State\",\n",
    "    \"Arizona\": \"Grand Canyon State\",\n",
    "    \"California\": \"Golden State\",\n",
    "    \"New York\": \"Empire State\",\n",
    "    \"Texas\": \"Lone Star State\"\n",
    "}\n",
    "```"
   ]
  },
  {
   "cell_type": "markdown",
   "metadata": {},
   "source": [
    "__Expected Outptut:__\n",
    "```\n",
    "states = {\n",
    " 'Alabama': {'Montgomery', 'Cotton State'}, \n",
    " 'Arizona': {'Phoenix', 'Grand Canyon State'},\n",
    " 'California': {'Sacramento', 'Golden State'},\n",
    " 'New York': {'Albany', 'Empire State'},\n",
    " 'Texas': {'Austin', 'Lone Star State'}\n",
    " }\n",
    " ```"
   ]
  },
  {
   "cell_type": "code",
   "execution_count": 60,
   "metadata": {},
   "outputs": [],
   "source": [
    "capitals = {\n",
    "    \"Alabama\":  \"Montgomery\", \n",
    "    \"Arizona\": \"Phoenix\",\n",
    "    \"California\": \"Sacramento\",\n",
    "    \"New York\": \"Albany\",\n",
    "    \"Texas\": \"Austin\"\n",
    "}"
   ]
  },
  {
   "cell_type": "code",
   "execution_count": 61,
   "metadata": {},
   "outputs": [],
   "source": [
    "nicknames = { \n",
    "    \"Alabama\": \"Cotton State\",\n",
    "    \"Arizona\": \"Grand Canyon State\",\n",
    "    \"California\": \"Golden State\",\n",
    "    \"New York\": \"Austin\",\n",
    "    \"Texas\": \"Lone Star State\"\n",
    "}"
   ]
  },
  {
   "cell_type": "code",
   "execution_count": 62,
   "metadata": {},
   "outputs": [
    {
     "data": {
      "text/plain": [
       "{'Alabama': {'Cotton State', 'Montgomery'},\n",
       " 'Arizona': {'Grand Canyon State', 'Phoenix'},\n",
       " 'California': {'Golden State', 'Sacramento'},\n",
       " 'New York': {'Albany', 'Austin'},\n",
       " 'Texas': {'Austin', 'Lone Star State'}}"
      ]
     },
     "execution_count": 62,
     "metadata": {},
     "output_type": "execute_result"
    }
   ],
   "source": [
    "states = {}\n",
    "for key, value in capitals.items():\n",
    "    states[key] = { value, nicknames[key] }\n",
    "\n",
    "states"
   ]
  },
  {
   "cell_type": "code",
   "execution_count": 63,
   "metadata": {},
   "outputs": [
    {
     "data": {
      "text/plain": [
       "{'Alabama': {'Cotton State', 'Montgomery'},\n",
       " 'Arizona': {'Grand Canyon State', 'Phoenix'},\n",
       " 'California': {'Golden State', 'Sacramento'},\n",
       " 'New York': {'Albany', 'Austin'},\n",
       " 'Texas': {'Austin', 'Lone Star State'}}"
      ]
     },
     "execution_count": 63,
     "metadata": {},
     "output_type": "execute_result"
    }
   ],
   "source": [
    "states = { key: {value, nicknames[key]} for key, value in capitals.items() }\n",
    "states"
   ]
  },
  {
   "cell_type": "markdown",
   "metadata": {},
   "source": [
    "## 중첩 딕셔너리 생성하기(2) \n",
    "\n",
    "다음과 같이 각각 State 이름을 키로 사용하는 딕셔너리 두 개가 있다고 가정합시다. 하나는 State의 capital을 value로 저장하고 있고, 다른 하나는 State의 별명(nickname)을 value로 가지고 있습니다. 두 딕셔너리에는 같은 State들의 정보들이 각각 나열되어 있다고 가정합니다. \n",
    "\n",
    "두 딕셔너리 곧 `capitals`와 `nicknames`를 병합하여 `states` 중첩 딕셔너리를 생성하십시오. \n",
    "\n",
    "__Hint:__    \n",
    "`states` 딕셔너리의 값은 `{ key-value }`로 즉 딕셔너리로 정의됨으로 그 안에 원소들은 더해지는 순서로 정해집니다.  "
   ]
  },
  {
   "cell_type": "markdown",
   "metadata": {},
   "source": [
    "__Sample Run:__\n",
    "\n",
    "```\n",
    "capitals = {\n",
    "    \"Alabama\":  \"Montgomery\", \n",
    "    \"Arizona\": \"Phoenix\",\n",
    "    \"California\": \"Sacramento\",\n",
    "    \"New York\": \"Albany\",\n",
    "    \"Texas\": \"Austin\"\n",
    "}\n",
    "\n",
    "nicknames = { \n",
    "    \"Alabama\": \"Cotton State\",\n",
    "    \"Arizona\": \"Grand Canyon State\",\n",
    "    \"California\": \"Golden State\",\n",
    "    \"New York\": \"Empire State\",\n",
    "    \"Texas\": \"Lone Star State\"\n",
    "}\n",
    "```"
   ]
  },
  {
   "cell_type": "markdown",
   "metadata": {},
   "source": [
    "__Expected Outptut:__\n",
    "```\n",
    "states = {\n",
    " 'Alabama': {'capital': 'Montgomery', 'nickname': 'Cotton State'}, \n",
    " 'Arizona': {'capital': 'Phoenix', 'nickname': 'Grand Canyon State'},\n",
    " 'California': {'capital': 'Sacramento', 'nickname': 'Golden State'},\n",
    " 'New York': {'capital': 'Albany', 'nickname': 'Empire State'},\n",
    " 'Texas': {'capital': 'Austin', 'nickname': 'Lone Star State'}\n",
    " }\n",
    " ```"
   ]
  },
  {
   "cell_type": "code",
   "execution_count": 64,
   "metadata": {},
   "outputs": [],
   "source": [
    "capitals = {\n",
    "    \"Alabama\":  \"Montgomery\", \n",
    "    \"Arizona\": \"Phoenix\",\n",
    "    \"California\": \"Sacramento\",\n",
    "    \"New York\": \"Albany\",\n",
    "    \"Texas\": \"Austin\"\n",
    "}"
   ]
  },
  {
   "cell_type": "code",
   "execution_count": 65,
   "metadata": {},
   "outputs": [],
   "source": [
    "nicknames = { \n",
    "    \"Alabama\": \"Cotton State\",\n",
    "    \"Arizona\": \"Grand Canyon State\",\n",
    "    \"California\": \"Golden State\",\n",
    "    \"New York\": \"Austin\",\n",
    "    \"Texas\": \"Lone Star State\"\n",
    "}"
   ]
  },
  {
   "cell_type": "code",
   "execution_count": 66,
   "metadata": {},
   "outputs": [
    {
     "data": {
      "text/plain": [
       "{'Alabama': {'capital': 'Montgomery', 'nickname': 'Cotton State'},\n",
       " 'Arizona': {'capital': 'Phoenix', 'nickname': 'Grand Canyon State'},\n",
       " 'California': {'capital': 'Sacramento', 'nickname': 'Golden State'},\n",
       " 'New York': {'capital': 'Albany', 'nickname': 'Austin'},\n",
       " 'Texas': {'capital': 'Austin', 'nickname': 'Lone Star State'}}"
      ]
     },
     "execution_count": 66,
     "metadata": {},
     "output_type": "execute_result"
    }
   ],
   "source": [
    "states = {}\n",
    "for key, value in capitals.items():\n",
    "    states[key] = {'capital': value, 'nickname': nicknames[key] }\n",
    "\n",
    "states"
   ]
  },
  {
   "cell_type": "markdown",
   "metadata": {},
   "source": [
    "__Step 3:__\n",
    "\n",
    "위의 코드를 딕셔너리 컴프리헨션으로 변환하십시오. "
   ]
  },
  {
   "cell_type": "code",
   "execution_count": 67,
   "metadata": {},
   "outputs": [
    {
     "data": {
      "text/plain": [
       "{'Alabama': {'capital': 'Montgomery', 'nickname': 'Cotton State'},\n",
       " 'Arizona': {'capital': 'Phoenix', 'nickname': 'Grand Canyon State'},\n",
       " 'California': {'capital': 'Sacramento', 'nickname': 'Golden State'},\n",
       " 'New York': {'capital': 'Albany', 'nickname': 'Austin'},\n",
       " 'Texas': {'capital': 'Austin', 'nickname': 'Lone Star State'}}"
      ]
     },
     "execution_count": 67,
     "metadata": {},
     "output_type": "execute_result"
    }
   ],
   "source": [
    "states = { key: {'capital': value, 'nickname': nicknames[key]} for key, value in capitals.items() }\n",
    "states"
   ]
  },
  {
   "cell_type": "markdown",
   "metadata": {},
   "source": [
    "## 중첩 딕셔너리 생성하기 (3) \n",
    "\n",
    "다음과 같이 각각 State 이름을 키로 사용하는 딕셔너리 두 개가 있다고 가정합시다. 하나는 State의 `capital`키에, 주도를 value로 저장하고 있고, 다른 하나는 State의 별명(nickname)을 value로 가지고 있습니다. 두 딕셔너리에 있는 주들이 갯수나 이름들이 일치하지 않을 수도 있습니다. 예를 들면, 'New York'주는 `capitals` 딕셔너리에는 존재하지만, `nicknames`딕셔너리에는 존재하지 않습니다. `Texas`주는 그 반대의 경우입니다. \n",
    "\n",
    "이러한 두 딕셔너리(`capitals, nicknames`)를 병합하여 새로운 중첩 딕셔너리 `states`를 생성하십시오. \n",
    "\n",
    "__Sample Run:__\n",
    "\n",
    "```\n",
    "capitals = {\n",
    "    \"Alabama\":  \"Montgomery\", \n",
    "    \"Arizona\": \"Phoenix\",\n",
    "    \"California\": \"Sacramento\",\n",
    "    \"New York\": \"Albany\",\n",
    "}\n",
    "\n",
    "nicknames = { \n",
    "    \"Alabama\": \"Cotton State\",\n",
    "    \"Arizona\": \"Grand Canyon State\",\n",
    "    \"California\": \"Golden State\",\n",
    "    \"Texas\": \"Lone Star State\"\n",
    "}\n",
    "```\n",
    "\n",
    "__Expected Outptut:__\n",
    "```\n",
    "states = {\n",
    " 'Alabama': {'capital': 'Montgomery', 'nickname': 'Cotton State'},\n",
    " 'Arizona': {'capital': 'Phoenix', 'nickname': 'Grand Canyon State'},\n",
    " 'California': {'capital': 'Sacramento', 'nickname': 'Golden State'},\n",
    " 'New York': {'capital': 'Albany'},\n",
    " 'Texas': {'nickname': 'Lone Star State'}\n",
    " }\n",
    " ```\n",
    " "
   ]
  },
  {
   "cell_type": "code",
   "execution_count": 68,
   "metadata": {},
   "outputs": [],
   "source": [
    "capitals = {\n",
    "    \"Alabama\":  \"Montgomery\", \n",
    "    \"Arizona\": \"Phoenix\",\n",
    "    \"California\": \"Sacramento\",\n",
    "    \"New York\": \"Albany\",\n",
    "}"
   ]
  },
  {
   "cell_type": "code",
   "execution_count": 69,
   "metadata": {},
   "outputs": [],
   "source": [
    "nicknames = { \n",
    "    \"Alabama\": \"Cotton State\",\n",
    "    \"Arizona\": \"Grand Canyon State\",\n",
    "    \"California\": \"Golden State\",\n",
    "    \"Texas\": \"Lone Star State\"\n",
    "}"
   ]
  },
  {
   "cell_type": "code",
   "execution_count": 70,
   "metadata": {},
   "outputs": [
    {
     "data": {
      "text/plain": [
       "{'a': [1, 2, 2.4, 3.4], 'c': [5, 6, 5.6, 7.6], 'b': [3, 4, 3.5, 4.5]}"
      ]
     },
     "execution_count": 70,
     "metadata": {},
     "output_type": "execute_result"
    }
   ],
   "source": [
    "one={'a': [1, 2], 'c': [5, 6], 'b': [3, 4]}\n",
    "two={'a': [2.4, 3.4], 'c': [5.6, 7.6], 'b': [3.5, 4.5]}\n",
    "three={'a': 1.2, 'c': 3.4, 'b': 2.3, 'x': 5}\n",
    "\n",
    "{key: value + two[key] for key, value in one.items() }"
   ]
  },
  {
   "cell_type": "code",
   "execution_count": 71,
   "metadata": {},
   "outputs": [
    {
     "data": {
      "text/plain": [
       "{'Alabama': {'Cotton State', 'Montgomery'},\n",
       " 'Arizona': {'Grand Canyon State', 'Phoenix'},\n",
       " 'California': {'Golden State', 'Sacramento'},\n",
       " 'New York': {'Albany'},\n",
       " 'Texas': {'Lone Star State'}}"
      ]
     },
     "execution_count": 71,
     "metadata": {},
     "output_type": "execute_result"
    }
   ],
   "source": [
    "states = {}\n",
    "for key, value in capitals.items():\n",
    "    states[key] = {value} \n",
    "    if key in nicknames:\n",
    "        states[key].update({ nicknames[key] })\n",
    "\n",
    "for key, value in nicknames.items():\n",
    "    if key not in capitals:\n",
    "        states[key] = { nicknames[key] }\n",
    "\n",
    "states"
   ]
  },
  {
   "cell_type": "code",
   "execution_count": 72,
   "metadata": {
    "tags": []
   },
   "outputs": [
    {
     "data": {
      "text/plain": [
       "{'Alabama': {'capital': 'Montgomery', 'nickname': 'Cotton State'},\n",
       " 'Arizona': {'capital': 'Phoenix', 'nickname': 'Grand Canyon State'},\n",
       " 'California': {'capital': 'Sacramento', 'nickname': 'Golden State'},\n",
       " 'New York': {'capital': 'Albany'},\n",
       " 'Texas': {'nickname': 'Lone Star State'}}"
      ]
     },
     "execution_count": 72,
     "metadata": {},
     "output_type": "execute_result"
    }
   ],
   "source": [
    "states = {}\n",
    "for key, value in capitals.items():\n",
    "    states[key] = { 'capital': value } \n",
    "    if key in nicknames:\n",
    "        states[key].update({ 'nickname': nicknames[key] })\n",
    "\n",
    "for key, value in nicknames.items():\n",
    "    if key not in capitals:\n",
    "        states[key] = {'nickname': nicknames[key] }\n",
    "\n",
    "states"
   ]
  },
  {
   "cell_type": "markdown",
   "metadata": {},
   "source": [
    "## 중첩 딕셔너리 생성하기 (4) \n",
    "\n",
    "다음과 같이 각각 State 이름을 키로 사용하는 딕셔너리 두 개가 있다고 가정합시다. 하나는 State의 `capital`키에, 주도를 value로 저장하고 있고, 다른 하나는 State의 별명(nickname)을 value로 가지고 있습니다. 두 딕셔너리에 있는 주들이 갯수나 이름들이 일치하지 않을 수도 있습니다. 예를 들면, 'New York'주는 `capitals` 딕셔너리에는 존재하지만, `nicknames`딕셔너리에는 존재하지 않습니다. `Texas`주는 그 반대의 경우입니다. \n",
    "\n",
    "이러한 두 딕셔너리(`capitals, nicknames`)를 병합하여 새로운 중첩 딕셔너리 `states`를 생성하십시오. \n",
    "\n",
    "__Sample Run:__\n",
    "\n",
    "```\n",
    "capitals = {\n",
    "    \"California\": \"Sacramento\",\n",
    "    \"New York\": \"Albany\",\n",
    "    \"Alabama\":  \"Montgomery\", \n",
    "    \"Arizona\": \"Phoenix\"\n",
    "}\n",
    "\n",
    "nicknames = { \n",
    "    \"Alabama\": \"Cotton State\",\n",
    "    \"Arizona\": \"Grand Canyon State\",\n",
    "    \"California\": \"Golden State\",\n",
    "    \"Texas\": \"Lone Star State\"\n",
    "}\n",
    "\n",
    "flowers = { \n",
    "    \"New York\": \"Rose\",\n",
    "    \"Florida\": \"Orange Blossom\",\n",
    "    \"Georgia\": \"Native Azalea\",\n",
    "    \"Alabama\": \"Camellia\",\n",
    "}\n",
    "```\n",
    "__Expected Outptut:__ (after sorted)\n",
    "```\n",
    "states = {\n",
    "    Alabama : {'capital': 'Montgomery', 'nickname': 'Cotton State', 'flower': 'Camellia'}, \n",
    "    Arizona : {'capital': 'Phoenix', 'nickname': 'Grand Canyon State'},\n",
    "    California : {'capital': 'Sacramento', 'nickname': 'Golden State'},\n",
    "    Florida : {'flower': 'Orange Blossom'}, \n",
    "    Georgia : {'flower': 'Native Azalea'}, \n",
    "    New York : {'capital': 'Albany', 'flower': 'Rose'},\n",
    "    Texas : {'nickname': 'Lone Star State'}\n",
    " }\n",
    " ```\n",
    " \n",
    "\n"
   ]
  },
  {
   "cell_type": "code",
   "execution_count": 73,
   "metadata": {
    "tags": []
   },
   "outputs": [],
   "source": [
    "capitals = {\n",
    "    \"Alabama\":  \"Montgomery\", \n",
    "    \"Arizona\": \"Phoenix\",\n",
    "    \"California\": \"Sacramento\",\n",
    "    \"New York\": \"Albany\",\n",
    "}"
   ]
  },
  {
   "cell_type": "code",
   "execution_count": 74,
   "metadata": {
    "tags": []
   },
   "outputs": [],
   "source": [
    "nicknames = { \n",
    "    \"Alabama\": \"Cotton State\",\n",
    "    \"Arizona\": \"Grand Canyon State\",\n",
    "    \"California\": \"Golden State\",\n",
    "    \"Texas\": \"Lone Star State\"\n",
    "}"
   ]
  },
  {
   "cell_type": "code",
   "execution_count": 75,
   "metadata": {
    "tags": []
   },
   "outputs": [],
   "source": [
    "flowers = { \n",
    "    \"Florida\": \"Orange Blossom\",\n",
    "    \"Georgia\": \"Native Azalea\",\n",
    "    \"Alabama\": \"Camellia\",     \n",
    "    \"New York\": \"Rose\"         # [\"Rose\", \"Lilac\"]   \n",
    "}"
   ]
  },
  {
   "cell_type": "markdown",
   "metadata": {},
   "source": [
    "__Step 1:__"
   ]
  },
  {
   "cell_type": "code",
   "execution_count": 76,
   "metadata": {},
   "outputs": [
    {
     "name": "stdout",
     "output_type": "stream",
     "text": [
      "Alabama : {'Camellia', 'Montgomery', 'Cotton State'}\n",
      "Arizona : {'Grand Canyon State', 'Phoenix'}\n",
      "California : {'Sacramento', 'Golden State'}\n",
      "Florida : {'Orange Blossom'}\n",
      "Georgia : {'Native Azalea'}\n",
      "New York : {'Albany', 'Rose'}\n",
      "Texas : {'Lone Star State'}\n"
     ]
    }
   ],
   "source": [
    "states = dict()\n",
    "for key, value in capitals.items():\n",
    "    states[key] = { value } \n",
    "    \n",
    "    if key in nicknames:\n",
    "        states[key].update({ nicknames[key] })\n",
    "    if key in flowers:\n",
    "        states[key].update({ flowers[key] })\n",
    "\n",
    "for key, value in nicknames.items():\n",
    "    if key not in capitals:\n",
    "        states[key] = { nicknames[key] }\n",
    "\n",
    "for key, value in flowers.items():\n",
    "    if key not in capitals:\n",
    "        states[key] = {flowers[key]}\n",
    "        \n",
    "for k, v in sorted(states.items()): \n",
    "    print(k, ':', v)"
   ]
  },
  {
   "cell_type": "markdown",
   "metadata": {},
   "source": [
    "__Step 2:__"
   ]
  },
  {
   "cell_type": "code",
   "execution_count": 77,
   "metadata": {},
   "outputs": [
    {
     "name": "stdout",
     "output_type": "stream",
     "text": [
      "Alabama : {'capital': 'Montgomery', 'nickname': 'Cotton State', 'flower': 'Camellia'}\n",
      "Arizona : {'capital': 'Phoenix', 'nickname': 'Grand Canyon State'}\n",
      "California : {'capital': 'Sacramento', 'nickname': 'Golden State'}\n",
      "Florida : {'flower': 'Orange Blossom'}\n",
      "Georgia : {'flower': 'Native Azalea'}\n",
      "New York : {'capital': 'Albany', 'flower': 'Rose'}\n",
      "Texas : {'nickname': 'Lone Star State'}\n"
     ]
    }
   ],
   "source": [
    "states = {}\n",
    "for key, value in capitals.items():\n",
    "    states[key] = { 'capital': value } \n",
    "    if key in nicknames:\n",
    "        states[key].update({ 'nickname': nicknames[key] })\n",
    "    if key in flowers:\n",
    "        states[key].update({ 'flower': flowers[key] })\n",
    "\n",
    "for key, value in nicknames.items():\n",
    "    if key not in capitals:\n",
    "        states[key] = { 'nickname': nicknames[key] }\n",
    "\n",
    "for key, value in flowers.items():\n",
    "    if key not in capitals:\n",
    "        states[key] = { 'flower': flowers[key] }\n",
    "        \n",
    "for k, v in sorted(states.items()): \n",
    "    print(k, ':', v)"
   ]
  },
  {
   "cell_type": "code",
   "execution_count": 78,
   "metadata": {},
   "outputs": [
    {
     "name": "stdout",
     "output_type": "stream",
     "text": [
      "Alabama : {'capital': 'Montgomery', 'nickname': 'Cotton State', 'flower': 'Camellia'}\n",
      "Arizona : {'capital': 'Phoenix', 'nickname': 'Grand Canyon State'}\n",
      "California : {'capital': 'Sacramento', 'nickname': 'Golden State'}\n",
      "Florida : {'flower': 'Orange Blossom'}\n",
      "Georgia : {'flower': 'Native Azalea'}\n",
      "New York : {'capital': 'Albany', 'flower': 'Rose'}\n",
      "Texas : {'nickname': 'Lone Star State'}\n"
     ]
    }
   ],
   "source": [
    "states = {}\n",
    "for key in {*capitals.keys(), *nicknames.keys(), *flowers.keys()}:\n",
    "    states[key] = {}\n",
    "\n",
    "for key in states:\n",
    "    if key in capitals:\n",
    "        states[key].update( {'capital': capitals[key] } )\n",
    "\n",
    "    if key in nicknames:\n",
    "        states[key].update(  { 'nickname': nicknames[key] } )\n",
    "\n",
    "    if key in flowers:\n",
    "        states[key].update( { 'flower': flowers[key] } )\n",
    "        \n",
    "for k, v in sorted(states.items()): \n",
    "    print(k, ':', v)"
   ]
  },
  {
   "cell_type": "markdown",
   "metadata": {},
   "source": [
    "__참고 사항__: using chain and defaultdict"
   ]
  },
  {
   "cell_type": "code",
   "execution_count": 79,
   "metadata": {},
   "outputs": [
    {
     "name": "stdout",
     "output_type": "stream",
     "text": [
      "Alabama : ['Montgomery', 'Cotton State', 'Camellia']\n",
      "Arizona : ['Phoenix', 'Grand Canyon State']\n",
      "California : ['Sacramento', 'Golden State']\n",
      "Florida : ['Orange Blossom']\n",
      "Georgia : ['Native Azalea']\n",
      "New York : ['Albany', 'Rose']\n",
      "Texas : ['Lone Star State']\n"
     ]
    }
   ],
   "source": [
    "from itertools import chain\n",
    "from collections import defaultdict\n",
    "\n",
    "states = defaultdict(list)\n",
    "\n",
    "for k, v in chain(capitals.items(), nicknames.items(), flowers.items()):\n",
    "    states[k].append( v )\n",
    "\n",
    "for k, v in sorted(states.items()): \n",
    "    print(k, ':', v)"
   ]
  },
  {
   "cell_type": "markdown",
   "metadata": {},
   "source": [
    "## 학습정리\n",
    "\n",
    "1. 딕셔너리 데이터 구조와 그 특성을 이해하고, \n",
    "1. 딕셔너리 어떻게 정의하는지, \n",
    "1. 딕셔너리 자료 접근과 조작하는 다양한 기법을 배웠고, \n",
    "1. 딕셔너리 연산자와 함수를 사용해 보며,  \n",
    "1. 딕셔너리 다루는 예제들도 많이 연습해 보았습니다. 또한\n",
    "1. 딕셔너리 컴프리헨션과 람다(익명)함수도 다루었습니다.\n",
    "1. 마지막으로 딕셔너리들을 병합(merge)하는 것도 시도하였습니다."
   ]
  },
  {
   "cell_type": "markdown",
   "metadata": {},
   "source": [
    "# 참고자료\n",
    "- \n"
   ]
  },
  {
   "cell_type": "code",
   "execution_count": null,
   "metadata": {},
   "outputs": [],
   "source": []
  },
  {
   "cell_type": "markdown",
   "metadata": {},
   "source": [
    "--------\n",
    "__슬기로운 자는 재앙을 보면 숨어 피하여도 어리석은 자들은 나가다가 해를 받느니라.__\n",
    "잠언27:12"
   ]
  }
 ],
 "metadata": {
  "kernelspec": {
   "display_name": "Python 3 (ipykernel)",
   "language": "python",
   "name": "python3"
  },
  "language_info": {
   "codemirror_mode": {
    "name": "ipython",
    "version": 3
   },
   "file_extension": ".py",
   "mimetype": "text/x-python",
   "name": "python",
   "nbconvert_exporter": "python",
   "pygments_lexer": "ipython3",
   "version": "3.8.12"
  },
  "toc-autonumbering": true
 },
 "nbformat": 4,
 "nbformat_minor": 4
}
