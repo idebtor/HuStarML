{
 "cells": [
  {
   "cell_type": "markdown",
   "metadata": {},
   "source": [
    "# Welcome to \"CrushPython\"\n",
    "\n",
    "The fear of the LORD is the beginning of knowledge, but fools despise wisdom and discipline. Proverbs 1:7\n",
    "\n",
    "-------"
   ]
  },
  {
   "cell_type": "markdown",
   "metadata": {},
   "source": [
    "# Greetings!\n",
    "May I personally extend a warm welcome to you who are willing to come to this class. I hope that we can make this course of time will be memorable and enjoyable with a new spirit of learning together. \n",
    "\n",
    "This is a short course on Python for students who have some experience of programming in a programming language other than Python. The course assumes that you know no Python whatsoever. Also, those people who already have considerable programming experience in several different programming languages are likely to be bored, and would be better off just working through the notes in their own time, or looking at one of the many on-line Python tutorials.  \n",
    "\n",
    "__Python is named after Monty Python’s Flying Circus, not the constricting snake.__\n"
   ]
  },
  {
   "cell_type": "markdown",
   "metadata": {},
   "source": [
    "## Programming expectations\n",
    "\n",
    "All the assignments and labs for this class will use Python and, for the most part, the browser-based IPython notebook format you are currently viewing as well as a command-line mode and Python Tools for Visual Studio when needed. Knowledge of Python is not a prerequisite for this course, **provided you are comfortable learning on your own as needed**. While we have strived to make the programming component of this course straightforward, we will not devote much time to teaching Python syntax itself. Basically, you should feel comfortable with:\n",
    "\n",
    "* How to look up Python syntax on Google and StackOverflow.\n",
    "* Basic programming concepts like functions, loops, arrays, dictionaries, strings, and if statements.\n",
    "* How to learn new libraries by reading documentation.\n",
    "* Asking questions on StackOverflow or Piazza.\n",
    "\n",
    "There are many online tutorials to introduce you to [Python training courses](https://www.enthought.com/services/training/) and [scientific Python programming](https://github.com/jrjohansson/scientific-python-lectures).\n"
   ]
  },
  {
   "cell_type": "markdown",
   "metadata": {},
   "source": [
    "# Introduction\n",
    "\n",
    "---------\n",
    "\n",
    "# Python - Easy to learn, but powerful\n",
    "\n",
    "  - Readability\n",
    "  - Simplicity\n",
    "  - Extensibility"
   ]
  },
  {
   "cell_type": "markdown",
   "metadata": {},
   "source": [
    "## Getting Python\n",
    "\n",
    "You will be using Python 3.x or latest (not 2.x) throughout the course, including many popular 3rd party Python libraries or modules. There are many ways of installing Python. \n",
    "\n",
    "For the program development environment, you may use any kind of IDE. Personally, I have reviewed or used a few IDE’s such as Anaconda, Canopy, Eclipse, and PyCharm. At this point I ended up using [Anaconda](http://continuum.io/downloads) and 64 bit Python executable since my computer is 64-bit system. It comes with an easy-to-install bundle of Python and 3rd party libraries.  \n",
    "\n",
    "In this first class, we will be using a variety of data types of Python and understand the basic concepts of the language to ensure everything goes smoothly moving forward, While some of this will likely be dull, doing it now will enable us to do more exciting work in the days that follow without getting bogged down in further software development. It is essential that you complete it timely. \n"
   ]
  },
  {
   "cell_type": "markdown",
   "metadata": {},
   "source": [
    "## Python Installation Guide (if you don't use Anaconda)\n",
    "\n",
    "- Refer to a web site: www.py4e.com\n",
    "\n",
    "- https://www.py4e.com/lessons/install"
   ]
  },
  {
   "cell_type": "markdown",
   "metadata": {},
   "source": [
    "## MOOC & Textbook Available (in English and 한글 script)\n",
    "\n",
    "We are going to use the one of the best Python course available through www.coursera.org or available for free at www.py4e.com.\n",
    "\n",
    "The book \"Python for Everybody\" by Charles R. Severance available for free in many different forms including html and pdf. \n",
    "- https://www.py4e.com/book\n",
    "- over 200 pages long.\n",
    "\n",
    "Coursera offers a week for free, and $49 per month when you subscribe it.\n",
    "- You may earn a Coursera Certificate for this course\n",
    "\n",
    "\"Python for Everybody\" is designed to introduce students to programming and software development through the lens of exploring data.\n",
    "This course consists of five parts as shown below:\n",
    "\n",
    "1. Programming for Everybody (Getting Started with Python)\n",
    "2. Python Data Structures\n",
    "3. Using Python to Access Web Data\n",
    "4. Using Databases with Python\n",
    "5. Capstone: Retrieving, Processing, and Visualizing Data with Python\n",
    "\n",
    "In this specialization, I expect you are to finish 4 out of 5 parts.\n",
    "I hope that you take this course along with a Certification specialized in Python.\n",
    "\n"
   ]
  },
  {
   "cell_type": "markdown",
   "metadata": {},
   "source": [
    "## 파이썬 연습 플랫폼 - 파이썬 300문제 인강(한국어)\n",
    "\n",
    "- https://wikidocs.net/book/922 \n",
    "- 300문제 중에서 240번까지 주피터 노트북에 풀어보기\n",
    "- 오늘 강의(Overview)가 지겨운 사람은  파이썬300문제를 할 필요가 없음.\n",
    "- 오늘 강의(Overview)가 무슨 말인지 알아듣지 못하는 사람은 300문제집을 해볼만 합니다. . \n",
    "- 해당 파이썬 300제를 풀음으로써 python 주제에 대해 복습할 수 있습니다 "
   ]
  },
  {
   "cell_type": "markdown",
   "metadata": {},
   "source": [
    "## Python or IPython?\n",
    "IPython is short for __I__nteractive __Python__. It does all things Python does and more. It provides a rich architecture for interactive computing with:\n",
    "- A browser-based notebook with support for code, text, mathematical expressions, inline plots and other rich media.\n",
    "- Support for interactive data visualization and use of GUI toolkits.\n",
    "- Flexible, embeddable interpreters to load into your own projects.\n",
    "- Easy to use, high performance tools for parallel computing.\n",
    "Once again all Python scripts presented here should work in IPython seamlessly, but also provides you with more functionalities and rich set of tools. "
   ]
  },
  {
   "cell_type": "markdown",
   "metadata": {},
   "source": [
    "# 1. Overview\n",
    "\n",
    "---------\n",
    "\n",
    "In this Jupyter Notebook, we will cover a wide variety of topics about the Python language to give you a broad overview of the data structures it offers, some use cases for them and the kinds of tasks they can be used for. \n",
    "\n",
    "__NOTE__: It isn't expected for new comers to be able to follow all the details presented here. This fast-paced overview will be followed with a slower in-depth coverage of all these topics.\n",
    "\n",
    "__NOTE__: The following materials have been collected from the numerous sources including my own and my students over the years of teaching and experiences of programming. Please help me to keep this tutorial up-to-date by reporting any issues or questions. Send any comments or criticisms to `idebtor@gmail.com`. Your assistances and comments will be appreciated."
   ]
  },
  {
   "cell_type": "markdown",
   "metadata": {},
   "source": [
    "## Two kinds of cell\n",
    "\n",
    "Jupyter Notebook consists of a series of so-called cells. There are two types of cells that contains either code or document. Cells that contains code is called __code cell__, whereas cell that contains document is called __markdown cell__. \n",
    "\n",
    "By default, the notebook creates a code cell. Let's explore working with code cells. You may convert a code cell into a markdown cell by typing a short-cut `<Esc> m`, `<Esc> y` vice versa. \n",
    "\n",
    "1. __Code cells__ - contains python codes and ipython magic.\n",
    "1. __Markdown cells__ - Contains documents written in Markdown which is a lightweight markup language with plain-text-formatting syntax. "
   ]
  },
  {
   "cell_type": "markdown",
   "metadata": {},
   "source": [
    "## Two kinds of mode\n",
    "\n",
    "1. __Command mode__ - Tapping `<Esc>` let the cell into a __Command Mode__\n",
    "1. __Edit mode__ - Tapping `<Enter>` let the cell into __Edit Mode__."
   ]
  },
  {
   "cell_type": "markdown",
   "metadata": {},
   "source": [
    "### Cell menu\n",
    "The \"Cell\" menu has a number of menu items for running code in different ways. These includes:\n",
    "\n",
    "- Run and Select Below\n",
    "- Run and Insert Below\n",
    "- Run All\n",
    "- Run All Above\n",
    "- Run All Below\n",
    "\n",
    "----------"
   ]
  },
  {
   "cell_type": "code",
   "execution_count": 4,
   "metadata": {},
   "outputs": [
    {
     "data": {
      "text/plain": [
       "4"
      ]
     },
     "execution_count": 4,
     "metadata": {},
     "output_type": "execute_result"
    }
   ],
   "source": [
    "1 + 3"
   ]
  },
  {
   "cell_type": "markdown",
   "metadata": {},
   "source": [
    "## Running Cells\n",
    "Jupyter notebook cell is capable of running code in a wide range of languages. However, the default kernel in Jupyter notebook runs Python code. If the cell is a markdown cell, it just randers into webpage. \n",
    "\n",
    "Run a cell using ```<Shift-Enter>``` or \"Run Cell\" button in the toolbar above:\n",
    "\n",
    "There are two other keyboard shortcuts for running code:\n",
    "\n",
    "- `Shift + Enter` runs the current cell and move to the next cell. \n",
    "- `Ctrl+Enter` run the current cell and enters command mode.\n",
    "- `Alt+Enter` runs the current cell and inserts a new one below."
   ]
  },
  {
   "cell_type": "markdown",
   "metadata": {},
   "source": [
    "\n",
    "# 2. Run OS or magic commands in code cell\n",
    "\n",
    "IPython uses ! to run shell commands. Jupyter notebook provides shell-like magic functions as well. The followind commands available are shown below: \n",
    "\n",
    "```\n",
    "%cd, %cat, %cp, %env, %ls, %man, %mkdir, %more, %mv, %pwd, %rm, %rmdir\n",
    "```\n",
    "\n",
    "These commands can be used without the `%` sign if automagic is on. This makes it so that you can almost treat the IPython prompt as if it's a normal shell:\n",
    "\n",
    "- Use `%` to run the OS command in code cell. \n",
    "- You even omit `%`since, automagic option is on by default. \n",
    "- __Some developers__ prefer to using `!` instead of `%` since IPython uses `!` for a long time."
   ]
  },
  {
   "cell_type": "markdown",
   "metadata": {},
   "source": [
    "#### 1. Print the current folder name (present working directory).\n",
    "- Try `pwd` with % and without %, or with !.\n",
    "- `pwd` means `present working directory` or `print working directory`.\n",
    "- For example: `!pwd`"
   ]
  },
  {
   "cell_type": "code",
   "execution_count": 7,
   "metadata": {},
   "outputs": [
    {
     "data": {
      "text/plain": [
       "'C:\\\\GitHub\\\\HuStarML\\\\ipynb'"
      ]
     },
     "execution_count": 7,
     "metadata": {},
     "output_type": "execute_result"
    }
   ],
   "source": [
    "%pwd"
   ]
  },
  {
   "cell_type": "markdown",
   "metadata": {},
   "source": [
    "#### 2. Print the list of files in the current folder.\n",
    "- Try it with `!ls` and `!dir`\n",
    "- For example `!dir`"
   ]
  },
  {
   "cell_type": "code",
   "execution_count": 8,
   "metadata": {},
   "outputs": [
    {
     "name": "stdout",
     "output_type": "stream",
     "text": [
      " C 드라이브의 볼륨에는 이름이 없습니다.\n",
      " 볼륨 일련 번호: B6C7-22DE\n",
      "\n",
      " C:\\GitHub\\HuStarML\\ipynb 디렉터리\n",
      "\n",
      "21-06-21  오후 02:04    <DIR>          .\n",
      "21-06-21  오후 02:04    <DIR>          ..\n",
      "21-06-21  오후 01:58    <DIR>          .ipynb_checkpoints\n",
      "20-09-11  오전 08:41    <DIR>          __pycache__\n",
      "20-08-30  오후 08:47                78 _start_ipynb.bat\n",
      "21-06-21  오후 02:04            37,148 py1overview.ipynb\n",
      "21-06-21  오전 12:46            30,415 py2DataTypes.ipynb\n",
      "21-06-21  오전 12:47            20,645 py3Iteration.ipynb\n",
      "               4개 파일              88,286 바이트\n",
      "               4개 디렉터리  72,115,380,224 바이트 남음\n"
     ]
    }
   ],
   "source": [
    "%ls"
   ]
  },
  {
   "cell_type": "markdown",
   "metadata": {},
   "source": [
    "#### 3. Print the contents of a file. \n",
    "- Try it with `!cat <filename>` and `!type <filename>`\n",
    "- For example, `!type _start_ipynb.bat`"
   ]
  },
  {
   "cell_type": "code",
   "execution_count": 9,
   "metadata": {},
   "outputs": [
    {
     "name": "stdout",
     "output_type": "stream",
     "text": [
      "rem -- start jupyter notebook here .bat file \n",
      "pwd\n",
      "jupyter notebook\n",
      "pause \n"
     ]
    }
   ],
   "source": [
    "!type _start_ipynb.bat\n"
   ]
  },
  {
   "cell_type": "markdown",
   "metadata": {},
   "source": [
    "----------"
   ]
  },
  {
   "cell_type": "markdown",
   "metadata": {},
   "source": [
    "\n",
    "# 3. Run Python code in code cell\n",
    "\n",
    "## Arithmetic\n",
    "Let's start simple with some arithmetic..."
   ]
  },
  {
   "cell_type": "markdown",
   "metadata": {},
   "source": [
    "#### Example 1: Add two integer numbers. "
   ]
  },
  {
   "cell_type": "code",
   "execution_count": 10,
   "metadata": {},
   "outputs": [
    {
     "data": {
      "text/plain": [
       "8"
      ]
     },
     "execution_count": 10,
     "metadata": {},
     "output_type": "execute_result"
    }
   ],
   "source": [
    "3 + 5"
   ]
  },
  {
   "cell_type": "markdown",
   "metadata": {},
   "source": [
    "#### Example 2: Add two floating pointer numbers."
   ]
  },
  {
   "cell_type": "code",
   "execution_count": 11,
   "metadata": {},
   "outputs": [
    {
     "data": {
      "text/plain": [
       "7.9"
      ]
     },
     "execution_count": 11,
     "metadata": {},
     "output_type": "execute_result"
    }
   ],
   "source": [
    "3.5 + 4.4"
   ]
  },
  {
   "cell_type": "markdown",
   "metadata": {},
   "source": [
    "#### Example 3: If you add an integer to a decimal, you will get a floating point number."
   ]
  },
  {
   "cell_type": "code",
   "execution_count": 23,
   "metadata": {},
   "outputs": [
    {
     "data": {
      "text/plain": [
       "9.4"
      ]
     },
     "execution_count": 23,
     "metadata": {},
     "output_type": "execute_result"
    }
   ],
   "source": [
    "5 + 4.4"
   ]
  },
  {
   "cell_type": "markdown",
   "metadata": {},
   "source": [
    "#### Example 4: How about computing `2**8, 2**16, 2**32`?"
   ]
  },
  {
   "cell_type": "code",
   "execution_count": 17,
   "metadata": {},
   "outputs": [
    {
     "data": {
      "text/plain": [
       "179769313486231590772930519078902473361797697894230657273430081157732675805500963132708477322407536021120113879871393357658789768814416622492847430639474124377767893424865485276302219601246094119453082952085005768838150682342462881473913110540827237163350510684586298239947245938479716304835356329624224137216"
      ]
     },
     "execution_count": 17,
     "metadata": {},
     "output_type": "execute_result"
    }
   ],
   "source": [
    "2**1024"
   ]
  },
  {
   "cell_type": "markdown",
   "metadata": {},
   "source": [
    "#### Example 5: True division vs. Floor division\n",
    "- __Note__: Python 2.x vs Python 3.x - They are not compatable "
   ]
  },
  {
   "cell_type": "code",
   "execution_count": 21,
   "metadata": {},
   "outputs": [
    {
     "data": {
      "text/plain": [
       "2"
      ]
     },
     "execution_count": 21,
     "metadata": {},
     "output_type": "execute_result"
    }
   ],
   "source": [
    "5//2"
   ]
  },
  {
   "cell_type": "markdown",
   "metadata": {},
   "source": [
    "## Variables (or names)\n",
    "You can save your value into a name called __'variable(변수)'__."
   ]
  },
  {
   "cell_type": "code",
   "execution_count": 27,
   "metadata": {},
   "outputs": [
    {
     "name": "stdout",
     "output_type": "stream",
     "text": [
      "15\n",
      "5\n"
     ]
    },
    {
     "data": {
      "text/plain": [
       "5"
      ]
     },
     "execution_count": 27,
     "metadata": {},
     "output_type": "execute_result"
    }
   ],
   "source": [
    "# Save the values 10 and 5 in the variables 'a' and 'b', respectively. \n",
    "# print a, b\n",
    "\n",
    "a = 10 \n",
    "b = 5\n",
    "\n",
    "print(a + b) \n",
    "print(a - b)\n",
    "a * b\n",
    "a - b"
   ]
  },
  {
   "cell_type": "code",
   "execution_count": null,
   "metadata": {},
   "outputs": [],
   "source": [
    "# Now you can do some math with two variables. \n",
    "# Add two numbers and save the result to another variable 'c'.\n",
    "# Subtract two numbers (a - b) and save the result to another variable 'd'.\n",
    "# print the results c and d\n",
    "\n"
   ]
  },
  {
   "cell_type": "markdown",
   "metadata": {},
   "source": [
    "## Getting an input from the user and save it \n",
    "\n",
    "The varable 'name' stores a string value, not numeric value.\n",
    "- use `input()` function to get an user's input."
   ]
  },
  {
   "cell_type": "markdown",
   "metadata": {},
   "source": [
    "Ask a name (`What is your name? `) and save it in a variable called `name`. Then, you print `Hello ` and the name entered as shown below:\n",
    "\n",
    "For example, \n",
    "```\n",
    "What is your name?\n",
    "John\n",
    "Hello John!\n",
    "```"
   ]
  },
  {
   "cell_type": "code",
   "execution_count": 28,
   "metadata": {},
   "outputs": [
    {
     "name": "stdout",
     "output_type": "stream",
     "text": [
      "What is your name?\n",
      "John\n",
      "Hello John !\n"
     ]
    }
   ],
   "source": [
    "print('What is your name?')\n",
    "name = input()\n",
    "print(\"Hello\", name, \"!\")"
   ]
  },
  {
   "cell_type": "markdown",
   "metadata": {},
   "source": [
    "## List\n",
    "Python makes it easy to create lists, which can contain any kind of object. We can index these, concatenate them, and find the length, just as we can with strings. For more examples, refter to [Python Tutorials](https://docs.python.org/3/tutorial/datastructures.html?highlight=list%20comprehension#more-on-lists)\n",
    "\n",
    "#### Example 1. Create two lists, one with raibow colors and the other with a few prime numbers:"
   ]
  },
  {
   "cell_type": "code",
   "execution_count": 30,
   "metadata": {},
   "outputs": [],
   "source": [
    "colors = ['red', 'orange', 'yellow', 'green', 'blue', 'indigo', 'violet']\n",
    "primes = [2, 3, 5, 7, 11, 13]"
   ]
  },
  {
   "cell_type": "markdown",
   "metadata": {},
   "source": [
    "#### Example 2. Make a new list called `mixed` by adding two lists ."
   ]
  },
  {
   "cell_type": "code",
   "execution_count": 31,
   "metadata": {},
   "outputs": [
    {
     "data": {
      "text/plain": [
       "['red',\n",
       " 'orange',\n",
       " 'yellow',\n",
       " 'green',\n",
       " 'blue',\n",
       " 'indigo',\n",
       " 'violet',\n",
       " 2,\n",
       " 3,\n",
       " 5,\n",
       " 7,\n",
       " 11,\n",
       " 13]"
      ]
     },
     "execution_count": 31,
     "metadata": {},
     "output_type": "execute_result"
    }
   ],
   "source": [
    "mixed = colors + primes\n",
    "mixed"
   ]
  },
  {
   "cell_type": "markdown",
   "metadata": {},
   "source": [
    "#### Example 3: How many elements are in the `mixed` list? \n",
    "- Use `len()` function. \n",
    "- The most built-in function returns a value or `None`. "
   ]
  },
  {
   "cell_type": "code",
   "execution_count": 33,
   "metadata": {},
   "outputs": [
    {
     "data": {
      "text/plain": [
       "13"
      ]
     },
     "execution_count": 33,
     "metadata": {},
     "output_type": "execute_result"
    }
   ],
   "source": [
    "a = len(mixed)\n",
    "a"
   ]
  },
  {
   "cell_type": "markdown",
   "metadata": {},
   "source": [
    "#### Exmaple 4. What are the first and last elements in the `mixed`?"
   ]
  },
  {
   "cell_type": "code",
   "execution_count": 34,
   "metadata": {},
   "outputs": [
    {
     "data": {
      "text/plain": [
       "'red'"
      ]
     },
     "execution_count": 34,
     "metadata": {},
     "output_type": "execute_result"
    }
   ],
   "source": [
    "mixed[0]"
   ]
  },
  {
   "cell_type": "code",
   "execution_count": 37,
   "metadata": {},
   "outputs": [
    {
     "data": {
      "text/plain": [
       "13"
      ]
     },
     "execution_count": 37,
     "metadata": {},
     "output_type": "execute_result"
    }
   ],
   "source": [
    "mixed[len(mixed) - 1]"
   ]
  },
  {
   "cell_type": "code",
   "execution_count": 38,
   "metadata": {},
   "outputs": [
    {
     "data": {
      "text/plain": [
       "13"
      ]
     },
     "execution_count": 38,
     "metadata": {},
     "output_type": "execute_result"
    }
   ],
   "source": [
    "mixed[-1]"
   ]
  },
  {
   "cell_type": "markdown",
   "metadata": {},
   "source": [
    "#### Exmaple 5. Append the next prime number (17) at the end of the `mixed`."
   ]
  },
  {
   "cell_type": "code",
   "execution_count": 40,
   "metadata": {},
   "outputs": [
    {
     "data": {
      "text/plain": [
       "['red',\n",
       " 'orange',\n",
       " 'yellow',\n",
       " 'green',\n",
       " 'blue',\n",
       " 'indigo',\n",
       " 'violet',\n",
       " 2,\n",
       " 3,\n",
       " 5,\n",
       " 7,\n",
       " 11,\n",
       " 13,\n",
       " 17,\n",
       " 17,\n",
       " 19]"
      ]
     },
     "execution_count": 40,
     "metadata": {},
     "output_type": "execute_result"
    }
   ],
   "source": [
    "mixed.extend([17, 19])\n",
    "mixed"
   ]
  },
  {
   "cell_type": "markdown",
   "metadata": {},
   "source": [
    "#### Example 6: Sort the list.\n",
    "- Use sort() method."
   ]
  },
  {
   "cell_type": "code",
   "execution_count": 41,
   "metadata": {},
   "outputs": [
    {
     "data": {
      "text/plain": [
       "['red', 'orange', 'yellow', 'green', 'blue', 'indigo', 'violet']"
      ]
     },
     "execution_count": 41,
     "metadata": {},
     "output_type": "execute_result"
    }
   ],
   "source": [
    "colors"
   ]
  },
  {
   "cell_type": "code",
   "execution_count": 43,
   "metadata": {},
   "outputs": [
    {
     "data": {
      "text/plain": [
       "['blue', 'green', 'indigo', 'orange', 'red', 'violet', 'yellow']"
      ]
     },
     "execution_count": 43,
     "metadata": {},
     "output_type": "execute_result"
    }
   ],
   "source": [
    "colors.sort()\n",
    "colors"
   ]
  },
  {
   "cell_type": "code",
   "execution_count": 47,
   "metadata": {},
   "outputs": [
    {
     "data": {
      "text/plain": [
       "['blue', 'green', 'indigo', 'orange', 'red', 'violet', 'yellow']"
      ]
     },
     "execution_count": 47,
     "metadata": {},
     "output_type": "execute_result"
    }
   ],
   "source": [
    "a = sorted(colors)\n",
    "a"
   ]
  },
  {
   "cell_type": "markdown",
   "metadata": {},
   "source": [
    "- Reading error messages is a good habit to have to your coding skill. Accept them joyfully.\n",
    "- help(list)"
   ]
  },
  {
   "cell_type": "code",
   "execution_count": null,
   "metadata": {},
   "outputs": [],
   "source": [
    "help(list)"
   ]
  },
  {
   "cell_type": "code",
   "execution_count": null,
   "metadata": {},
   "outputs": [],
   "source": [
    "colors.sort()\n",
    "print(colors)"
   ]
  },
  {
   "cell_type": "markdown",
   "metadata": {},
   "source": [
    "## Set\n",
    "Python also provides the __set__ data structure, which can be created using curly brackets.\n",
    "- Set is a collection of unique objects. No duplicate are allowed."
   ]
  },
  {
   "cell_type": "code",
   "execution_count": 53,
   "metadata": {},
   "outputs": [
    {
     "data": {
      "text/plain": [
       "{0, 1, 2, 3, 4}"
      ]
     },
     "execution_count": 53,
     "metadata": {},
     "output_type": "execute_result"
    }
   ],
   "source": [
    "a = {0, 1, 2, 3, 4, 4, 4, 4}\n",
    "a"
   ]
  },
  {
   "cell_type": "markdown",
   "metadata": {},
   "source": [
    "#### Example 1.  Add an element such as 0 or -1 in the set `a`. Make an observation. "
   ]
  },
  {
   "cell_type": "code",
   "execution_count": 52,
   "metadata": {},
   "outputs": [
    {
     "data": {
      "text/plain": [
       "{-1, 0, 1, 2, 3, 4}"
      ]
     },
     "execution_count": 52,
     "metadata": {},
     "output_type": "execute_result"
    }
   ],
   "source": [
    "a.add(0)\n",
    "a"
   ]
  },
  {
   "cell_type": "markdown",
   "metadata": {},
   "source": [
    "#### Example 2. Make a new set `b` such that it has the some common elements in the set `a`. "
   ]
  },
  {
   "cell_type": "code",
   "execution_count": 55,
   "metadata": {},
   "outputs": [
    {
     "data": {
      "text/plain": [
       "{2, 3, 4, 5, 6}"
      ]
     },
     "execution_count": 55,
     "metadata": {},
     "output_type": "execute_result"
    }
   ],
   "source": [
    "b = {2, 3, 4, 5, 6}\n",
    "b"
   ]
  },
  {
   "cell_type": "markdown",
   "metadata": {},
   "source": [
    "#### Example 3. Intersection Operation "
   ]
  },
  {
   "cell_type": "code",
   "execution_count": 57,
   "metadata": {},
   "outputs": [
    {
     "data": {
      "text/plain": [
       "{2, 3, 4}"
      ]
     },
     "execution_count": 57,
     "metadata": {},
     "output_type": "execute_result"
    }
   ],
   "source": [
    "c = a & b\n",
    "c"
   ]
  },
  {
   "cell_type": "markdown",
   "metadata": {},
   "source": [
    "#### Example 4. Union Operation "
   ]
  },
  {
   "cell_type": "code",
   "execution_count": 60,
   "metadata": {},
   "outputs": [
    {
     "data": {
      "text/plain": [
       "{0, 1, 2, 3, 4, 5, 6}"
      ]
     },
     "execution_count": 60,
     "metadata": {},
     "output_type": "execute_result"
    }
   ],
   "source": [
    "d = a | b\n",
    "d"
   ]
  },
  {
   "cell_type": "markdown",
   "metadata": {},
   "source": [
    "## Reading a web page\n"
   ]
  },
  {
   "cell_type": "code",
   "execution_count": 61,
   "metadata": {},
   "outputs": [
    {
     "data": {
      "text/plain": [
       "True"
      ]
     },
     "execution_count": 61,
     "metadata": {},
     "output_type": "execute_result"
    }
   ],
   "source": [
    "import requests \n",
    "response = requests.get('http://www.handong.edu') \n",
    "response.ok"
   ]
  },
  {
   "cell_type": "markdown",
   "metadata": {},
   "source": [
    "Display the first 1000 characters from the response. Use `response.text[500]`"
   ]
  },
  {
   "cell_type": "code",
   "execution_count": 62,
   "metadata": {},
   "outputs": [
    {
     "data": {
      "text/plain": [
       "'\\r\\n \\r\\n\\r\\n\\r\\n\\r\\n\\r\\n\\r\\n\\r\\n\\r\\n\\r\\n\\r\\n\\r\\n\\r\\n\\r\\n\\r\\n \\r\\n\\r\\n\\r\\n<!DOCTYPE html PUBLIC \"-//W3C//DTD HTML 4.01 Transitional//EN\" \"http://www.w3.org/TR/html4/loose.dtd\">\\r\\n<html lang=\"ko\">\\r\\n\\t<head>\\r\\n\\t\\t<meta http-equiv=\"Content-Type\" content=\"text/html; charset=UTF-8\">\\r\\n\\t\\t<meta http-equiv=\"X-UA-Compatible\" content=\"IE=Edge\">\\r\\n\\t\\t<meta name=\"viewport\" content=\"width=device-width, initial-scale=1.0, maximum-scale=1.0, user-scalable=no\"/>\\r\\n\\t\\t<title>한동대학교</title>\\r\\n\\t\\t<link rel=\"shortcut icon\" href=\"/site/handong/res/img/favicon.ico'"
      ]
     },
     "execution_count": 62,
     "metadata": {},
     "output_type": "execute_result"
    }
   ],
   "source": [
    "response.text[:500]"
   ]
  },
  {
   "cell_type": "markdown",
   "metadata": {},
   "source": [
    "## Read a remote file and process the text"
   ]
  },
  {
   "cell_type": "code",
   "execution_count": 65,
   "metadata": {},
   "outputs": [],
   "source": [
    "from urllib.request import urlopen \n",
    "book = urlopen('http://www.gutenberg.org/10/10-0.txt')\n",
    "#book = urlopen('http://composingprograms.com/shakespeare.txt')"
   ]
  },
  {
   "cell_type": "markdown",
   "metadata": {},
   "source": [
    "#### Make a list words out of the book read from url."
   ]
  },
  {
   "cell_type": "code",
   "execution_count": 66,
   "metadata": {},
   "outputs": [],
   "source": [
    "wlist = book.read().decode().split()"
   ]
  },
  {
   "cell_type": "markdown",
   "metadata": {},
   "source": [
    "#### Example 1:  Get the number of words in `wlist`"
   ]
  },
  {
   "cell_type": "code",
   "execution_count": 67,
   "metadata": {},
   "outputs": [
    {
     "data": {
      "text/plain": [
       "824591"
      ]
     },
     "execution_count": 67,
     "metadata": {},
     "output_type": "execute_result"
    }
   ],
   "source": [
    "len(wlist)"
   ]
  },
  {
   "cell_type": "markdown",
   "metadata": {},
   "source": [
    "#### Example 2: Print the first 10 words in `wlist`"
   ]
  },
  {
   "cell_type": "code",
   "execution_count": 68,
   "metadata": {},
   "outputs": [
    {
     "data": {
      "text/plain": [
       "['\\ufeffThe',\n",
       " 'Project',\n",
       " 'Gutenberg',\n",
       " 'eBook',\n",
       " 'of',\n",
       " 'The',\n",
       " 'King',\n",
       " 'James',\n",
       " 'Bible',\n",
       " 'This']"
      ]
     },
     "execution_count": 68,
     "metadata": {},
     "output_type": "execute_result"
    }
   ],
   "source": [
    "wlist[:10]"
   ]
  },
  {
   "cell_type": "markdown",
   "metadata": {},
   "source": [
    "#### Example3. Sort words in `wlist`. \n",
    "\n",
    "- Use the list's method called `sort()`\n",
    "- To find methods available, Use <tab> after the class/variable name<dot>"
   ]
  },
  {
   "cell_type": "code",
   "execution_count": 70,
   "metadata": {},
   "outputs": [
    {
     "data": {
      "text/plain": [
       "['\"Defects,\"',\n",
       " '\"Information',\n",
       " '\"Plain',\n",
       " '\"Plain',\n",
       " '\"Project',\n",
       " '\"Project',\n",
       " '\"Project',\n",
       " '\"Project',\n",
       " '\"Project',\n",
       " '\"Right']"
      ]
     },
     "execution_count": 70,
     "metadata": {},
     "output_type": "execute_result"
    }
   ],
   "source": [
    "wlist.sort()\n",
    "wlist[:10]"
   ]
  },
  {
   "cell_type": "markdown",
   "metadata": {},
   "source": [
    "#### Example 4: Counter the number of '!' in `wlist`. \n",
    "- Use `count()` method."
   ]
  },
  {
   "cell_type": "code",
   "execution_count": 74,
   "metadata": {},
   "outputs": [
    {
     "data": {
      "text/plain": [
       "5"
      ]
     },
     "execution_count": 74,
     "metadata": {},
     "output_type": "execute_result"
    }
   ],
   "source": [
    "wlist.count('\"Project')"
   ]
  },
  {
   "cell_type": "markdown",
   "metadata": {},
   "source": [
    "#### Example 5:  Count a specific word `truth` and `life` in the Bible."
   ]
  },
  {
   "cell_type": "code",
   "execution_count": null,
   "metadata": {},
   "outputs": [],
   "source": [
    "None\n",
    "help(list.count)"
   ]
  },
  {
   "cell_type": "markdown",
   "metadata": {},
   "source": [
    "#### Example 6. Remove duplicated words and check its length(or number of words). \n",
    "- Use `set()` function returns unique elements in a set type which is unordered or a kind of bag.\n",
    "- Therefore, the set data type does not support indexing."
   ]
  },
  {
   "cell_type": "code",
   "execution_count": 78,
   "metadata": {},
   "outputs": [
    {
     "data": {
      "text/plain": [
       "set"
      ]
     },
     "execution_count": 78,
     "metadata": {},
     "output_type": "execute_result"
    }
   ],
   "source": [
    "ulist = set(wlist)\n",
    "type(ulist)"
   ]
  },
  {
   "cell_type": "code",
   "execution_count": 83,
   "metadata": {},
   "outputs": [
    {
     "data": {
      "text/plain": [
       "['\"Defects,\"',\n",
       " '\"Information',\n",
       " '\"Plain',\n",
       " '\"Project',\n",
       " '\"Right',\n",
       " '#10]',\n",
       " '$5,000)',\n",
       " \"'AS-IS',\",\n",
       " '(\"the',\n",
       " '($1']"
      ]
     },
     "execution_count": 83,
     "metadata": {},
     "output_type": "execute_result"
    }
   ],
   "source": [
    "len(ulist)     # set is not subscriptable; read the error message\n",
    "dlist = list(ulist)\n",
    "dlist.sort()\n",
    "dlist\n",
    "dlist[:10]"
   ]
  },
  {
   "cell_type": "markdown",
   "metadata": {},
   "source": [
    "- Reading error messages is a good habit to have to improve your coding skills. \n",
    "- Make an every effort to understand the error message if possible. "
   ]
  },
  {
   "cell_type": "markdown",
   "metadata": {},
   "source": [
    "#### Example 7:  Count a specific word `truth` and `life` in the Bible again. Make sure that there is only one each."
   ]
  },
  {
   "cell_type": "code",
   "execution_count": 84,
   "metadata": {},
   "outputs": [
    {
     "data": {
      "text/plain": [
       "1"
      ]
     },
     "execution_count": 84,
     "metadata": {},
     "output_type": "execute_result"
    }
   ],
   "source": [
    "dlist.count('truth')"
   ]
  },
  {
   "cell_type": "markdown",
   "metadata": {},
   "source": [
    "## Functions\n",
    "\n",
    "Now let's take a look at defining and using functions in Python. We will start by defining a function to evaluate a polynomial."
   ]
  },
  {
   "cell_type": "markdown",
   "metadata": {},
   "source": [
    "#### Defining your own function\n",
    "\n",
    "- Define a function if you are using the same set of code more than once. \n",
    "- Be careful when using `:` and `<tab>` characters.\n",
    "\n",
    "\n",
    "#### Example 1. Do the following task three times: \n",
    "\n",
    "Say `Hello` to him/her whose name is passed as an argument.\n"
   ]
  },
  {
   "cell_type": "code",
   "execution_count": 87,
   "metadata": {},
   "outputs": [],
   "source": [
    "def greet(name): \n",
    "    print(\"Hello\", name)"
   ]
  },
  {
   "cell_type": "code",
   "execution_count": 88,
   "metadata": {},
   "outputs": [
    {
     "name": "stdout",
     "output_type": "stream",
     "text": [
      "Hello Kim\n",
      "Hello Lee\n",
      "Hello John\n"
     ]
    }
   ],
   "source": [
    "greet('Kim')\n",
    "greet('Lee')\n",
    "greet('John')"
   ]
  },
  {
   "cell_type": "markdown",
   "metadata": {},
   "source": [
    "- Do the same thing as shown above using a for loop.\n"
   ]
  },
  {
   "cell_type": "code",
   "execution_count": 89,
   "metadata": {},
   "outputs": [
    {
     "name": "stdout",
     "output_type": "stream",
     "text": [
      "Hello Kim\n",
      "Hello Lee\n",
      "Hello John\n"
     ]
    }
   ],
   "source": [
    "for name in ['Kim', 'Lee', 'John']:\n",
    "    greet(name)"
   ]
  },
  {
   "cell_type": "markdown",
   "metadata": {},
   "source": [
    "#### Example 2. Draw a linear graph ` y = x ` or  `x = 1, 2, 3, 4 and y = 1, 2, 3, 4`"
   ]
  },
  {
   "cell_type": "code",
   "execution_count": 90,
   "metadata": {},
   "outputs": [
    {
     "data": {
      "image/png": "[encoded data removed]",
      "text/plain": [
       "<Figure size 432x288 with 1 Axes>"
      ]
     },
     "metadata": {
      "needs_background": "light"
     },
     "output_type": "display_data"
    }
   ],
   "source": [
    "import matplotlib.pyplot as plt\n",
    "\n",
    "plt.plot([1, 2, 3, 4], [1, 2, 3, 4])\n",
    "plt.show()"
   ]
  },
  {
   "cell_type": "markdown",
   "metadata": {},
   "source": [
    "#### Example 3.  Plot a polynomial from `x = -10` and  `x = 10 `.\n",
    "- Its coefficients are `a = 1, b = 2, c = 3`\n",
    "- Define a polynomial, a `poly(x, a, b, c)` function, ` y = a * x^2 + b * x + c ` that returns` y`"
   ]
  },
  {
   "cell_type": "code",
   "execution_count": 92,
   "metadata": {},
   "outputs": [],
   "source": [
    "def poly(x, a, b, c):\n",
    "    y = a * x ** 2 + b * x + c\n",
    "    return y"
   ]
  },
  {
   "cell_type": "code",
   "execution_count": 93,
   "metadata": {},
   "outputs": [
    {
     "data": {
      "image/png": "[encoded data removed]",
      "text/plain": [
       "<Figure size 432x288 with 1 Axes>"
      ]
     },
     "metadata": {
      "needs_background": "light"
     },
     "output_type": "display_data"
    }
   ],
   "source": [
    "import numpy as np\n",
    "import matplotlib.pyplot as plt\n",
    "\n",
    "x = np.arange(-10, 10)           # np.arange()  from -10 to 10\n",
    "y = poly(x, 1, 2, 3)\n",
    "plt.plot(x, y)\n",
    "\n",
    "plt.show()"
   ]
  },
  {
   "cell_type": "markdown",
   "metadata": {},
   "source": [
    "#### Example 4. Draw `cos(x)` function from `x = 0` and `x = 2 * pi`.\n",
    "    \n",
    "- To check x values, evaluate x after generating numbers using np.arange()"
   ]
  },
  {
   "cell_type": "code",
   "execution_count": 99,
   "metadata": {},
   "outputs": [
    {
     "data": {
      "image/png": "[encoded data removed]",
      "text/plain": [
       "<Figure size 432x288 with 1 Axes>"
      ]
     },
     "metadata": {
      "needs_background": "light"
     },
     "output_type": "display_data"
    }
   ],
   "source": [
    "x = np.arange(0, 2 * np.pi, 0.1)\n",
    "y = np.cos(x)\n",
    "plt.plot(x, y)\n",
    "plt.show()"
   ]
  },
  {
   "cell_type": "code",
   "execution_count": 107,
   "metadata": {},
   "outputs": [],
   "source": [
    "y = []\n",
    "for i in x:\n",
    "    y.append(math.cos(i))\n",
    "plt.plot(x, y)"
   ]
  },
  {
   "cell_type": "markdown",
   "metadata": {},
   "source": [
    "## Image Display\n",
    "\n",
    "The pictures and more exotic objects can also be displayed, as long as their representation supports the IPython display protocol."
   ]
  },
  {
   "cell_type": "code",
   "execution_count": 98,
   "metadata": {},
   "outputs": [
    {
     "data": {
      "image/png": "[encoded data removed]",
      "text/plain": [
       "<Figure size 432x288 with 1 Axes>"
      ]
     },
     "metadata": {
      "needs_background": "light"
     },
     "output_type": "display_data"
    }
   ],
   "source": [
    "import matplotlib.pyplot as plt\n",
    "from matplotlib.image import imread\n",
    "\n",
    "img = imread('https://github.com/idebtor/KMOOC-ML/blob/master/ipynb/images/lenna.png?raw=true')\n",
    "plt.imshow(img)\n",
    "plt.show()"
   ]
  },
  {
   "cell_type": "markdown",
   "metadata": {},
   "source": [
    "## Class and Object"
   ]
  },
  {
   "cell_type": "markdown",
   "metadata": {},
   "source": [
    "Now lets create a class. In Python, every class should derive from object. Our class will describe a person, with a name and an age. We will supply a constructor, and a method to get the full name.\n",
    "- How to create a class: Refer to [Wikibook](http://en.wikibooks.org/wiki/A_Beginner's_Python_Tutorial/Classes)"
   ]
  },
  {
   "cell_type": "markdown",
   "metadata": {},
   "source": [
    "#### Example 1. Create a Person class.\n",
    "\n",
    "- It has `first`, `last`, and `age` as instance variables.\n",
    "- It has a constructor that takes `first`, `last` and `age` as an initial parameters.\n",
    "- It has a method `full_name` that returns the `first` and `last` name with a space between them. "
   ]
  },
  {
   "cell_type": "code",
   "execution_count": 2,
   "metadata": {},
   "outputs": [],
   "source": [
    "class Person(object):\n",
    "    def __init__(self, first, last, age):\n",
    "        self.first = first\n",
    "        self.last = last\n",
    "        self.age = age\n",
    "    \n",
    "    def full_name(self):\n",
    "        return self.first + ' ' + self.last"
   ]
  },
  {
   "cell_type": "markdown",
   "metadata": {},
   "source": [
    "#### Example 2. Instantiate an instance, `student`. \n",
    "Now we can create an instance of a Person, and work with the attributes of the class."
   ]
  },
  {
   "cell_type": "code",
   "execution_count": 6,
   "metadata": {},
   "outputs": [
    {
     "name": "stdout",
     "output_type": "stream",
     "text": [
      "Handong\n",
      "Kim\n",
      "Handong Kim\n"
     ]
    }
   ],
   "source": [
    "student = Person(\"Handong\", \"Kim\", 20)\n",
    "print(student.first)\n",
    "print(student.last)\n",
    "print(student.full_name())"
   ]
  },
  {
   "cell_type": "code",
   "execution_count": 7,
   "metadata": {},
   "outputs": [
    {
     "data": {
      "text/plain": [
       "'Handong Kim'"
      ]
     },
     "execution_count": 7,
     "metadata": {},
     "output_type": "execute_result"
    }
   ],
   "source": [
    "Person.full_name(student)"
   ]
  },
  {
   "cell_type": "markdown",
   "metadata": {},
   "source": [
    "#### Example 3. What is `student`'s last name?"
   ]
  },
  {
   "cell_type": "code",
   "execution_count": null,
   "metadata": {},
   "outputs": [],
   "source": []
  },
  {
   "cell_type": "code",
   "execution_count": 5,
   "metadata": {},
   "outputs": [
    {
     "name": "stdout",
     "output_type": "stream",
     "text": [
      "Help on class Person in module __main__:\n",
      "\n",
      "class Person(builtins.object)\n",
      " |  Person(first, last, age)\n",
      " |  \n",
      " |  Methods defined here:\n",
      " |  \n",
      " |  __init__(self, first, last, age)\n",
      " |      Initialize self.  See help(type(self)) for accurate signature.\n",
      " |  \n",
      " |  full_name(self)\n",
      " |  \n",
      " |  ----------------------------------------------------------------------\n",
      " |  Data descriptors defined here:\n",
      " |  \n",
      " |  __dict__\n",
      " |      dictionary for instance variables (if defined)\n",
      " |  \n",
      " |  __weakref__\n",
      " |      list of weak references to the object (if defined)\n",
      "\n"
     ]
    }
   ],
   "source": [
    "help(Person)"
   ]
  },
  {
   "cell_type": "markdown",
   "metadata": {},
   "source": [
    "#### Example 4. What is `student`'s full name?"
   ]
  },
  {
   "cell_type": "code",
   "execution_count": 9,
   "metadata": {},
   "outputs": [
    {
     "name": "stdout",
     "output_type": "stream",
     "text": [
      "Handong Lee\n"
     ]
    }
   ],
   "source": [
    "student.last = 'Lee'\n",
    "print(student.full_name())"
   ]
  },
  {
   "cell_type": "markdown",
   "metadata": {},
   "source": [
    "#### Example 5. Change the last name to `Kim`. "
   ]
  },
  {
   "cell_type": "code",
   "execution_count": null,
   "metadata": {},
   "outputs": [],
   "source": []
  },
  {
   "cell_type": "markdown",
   "metadata": {},
   "source": [
    "In Python, we can add new class attributes on the fly, even if they have not been defined yet."
   ]
  },
  {
   "cell_type": "code",
   "execution_count": 10,
   "metadata": {},
   "outputs": [
    {
     "data": {
      "text/plain": [
       "False"
      ]
     },
     "execution_count": 10,
     "metadata": {},
     "output_type": "execute_result"
    }
   ],
   "source": [
    "student.smoke = False\n",
    "student.smoke"
   ]
  },
  {
   "cell_type": "markdown",
   "metadata": {},
   "source": [
    "## Writing a code cell into a file \n",
    "\n",
    "You may use __%%writefile__ cell magic command.  You have to place the command at the very first line of the code cell.\n",
    "```\n",
    "%%writefile mycode.py\n",
    "```\n",
    "\n",
    "\n",
    "## Loading external codes\n",
    "\n",
    "- Drag and drop a .py in the dashboard\n",
    "- Use __%load__  with any local or remote url: the Matplotlib Gallery http://matplotlib.org/gallery.html\n",
    "\n",
    "```\n",
    "%load mycode.py\n",
    "```\n",
    "\n",
    "In this notebook we've kept the output saved so you can see the result, but you should run the next cell yourself (with an active internet connection)."
   ]
  },
  {
   "cell_type": "markdown",
   "metadata": {},
   "source": [
    "That gives you a quick tour of the capabilities of IPython. \n",
    "\n",
    "We covered a lot of ground here, but this should give you an idea of the power that Python puts at your fingertips. In the later lectures, we will give you a more in-depth tour of most of these features."
   ]
  },
  {
   "cell_type": "markdown",
   "metadata": {},
   "source": [
    "# 5. A simple way to start Jupyter notebook in Windows\n",
    "To start an Jupyter Notebook, you create a console window first, then you type \"jupyter notebook\" and options in the command-line prompt. Then you still need to navigate to file folders where your Jupyter Notebook files(~.ipynb) are. It is cumbersome. \n",
    "\n",
    "I created a batch file (`_start_ipynb.bat`) as shown below and place it in the folder where I want to start Jupyter Notebook from. In my case, I placed it in folders where my notebooks exist such as `~/Dropbox` and `~/Dropbox/CrushPython`. Then starting jupyter notebook is __a double clicks away__. Enjoy it. \n",
    "\n",
    "The batch filename I use is `_start_ipynb.bat` since the file is usually displayed at the top in the folder view because of the prefix `_`,\n",
    "```\n",
    "rem  start jupyter notebook here .bat file \n",
    "rem  If ~.py file to be written as well, then use jupyter notebook --script \n",
    "pwd \n",
    "jupyter notebook \n",
    "pause \n",
    "```\n"
   ]
  },
  {
   "cell_type": "markdown",
   "metadata": {},
   "source": [
    "# 6. Shell\n",
    "\n",
    "In computing, a shell is a user interface for access to an __operating system's services__. In general, operating system shells use either a command-line interface (CLI) or a graphical user interface (GUI), depending on a computer's role and particular operation. It is named a __shell__ because it is the outermost layer around the operating system.\n",
    "\n",
    "One problem we are facing when using Shell is that every OS has its own shell. They are all different, but there are aliases available we can use the same shell command-like across the OS's at convenience."
   ]
  },
  {
   "cell_type": "markdown",
   "metadata": {},
   "source": [
    "## Some shell commands are often used.\n",
    "- `cd mydir` changes directory to `mydir`. \n",
    "- `cd ..` moves to the parent directory of current directory, or the directory one level up from the current directory. “..” represents parent directory.\n",
    "- `cd ~` moves to directory to the home directory. \n",
    "- `/` on its own is the root directory of the whole file system.\n",
    "- `..` means ‘the directory above the current one’; . on its own means ‘the current directory’.\n",
    "- A relative path specifies a location starting from the current location.\n",
    "- An absolute path specifies a location from the root of the file system.\n",
    "- Directory names in a path are separated with `/` on Unix/Linux/macOS, but `\\` on Windows.\n",
    "\n",
    "- `cp old new` copies a file.\n",
    "- `mkdir path` creates a new directory.\n",
    "- `mv old new` moves (renames) a file or directory.\n",
    "- `rm path` removes (deletes) a file.\n",
    "- `*` matches zero or more characters in a filename, so `*.txt` matches all files ending in `.txt`.\n",
    "- `?` matches any single character in a filename, so `?.txt` matches `a.txt` but not `any.txt`.\n",
    "- The shell does not have a trash bin: once something is deleted, it’s really gone."
   ]
  },
  {
   "cell_type": "markdown",
   "metadata": {},
   "source": [
    "###  Exercise: Creating and deleting a folder and file.\n",
    "1. Check the current directory and know where you are now.\n",
    "1. Create a `myfolder` directory. \n",
    "1. Change directory to `myfolder`.\n",
    "1. Check the current working directory\n",
    "1. Create a file called `hello.txt` which contains \"Hello World\".\n",
    "1. Check that you have the file just created.\n",
    "1. Check the file contents just created.\n",
    "1. Delete the file and directory you just created.\n",
    "1. Remove the directory `myfolder`. \n",
    "    - `cd ..` first since you cannot remove the folder, then remove the folder."
   ]
  },
  {
   "cell_type": "markdown",
   "metadata": {},
   "source": [
    "#### a solution\n",
    "\n",
    "\n",
    "\n",
    "------\n"
   ]
  },
  {
   "cell_type": "markdown",
   "metadata": {},
   "source": [
    "# Closing and Tips on Jupyter Notebook\n",
    "\n",
    "That gives you a quick tour of the capabilities of Jupyter notebook or IPython. \n",
    "\n",
    "We covered a lot of ground here, but this should give you an idea of the power that Python puts at your fingertips. In the later lectures, we will give you a more in-depth tour of most of these features.\n",
    "\n",
    "When you execute code somewhere in the middle of a notebook, the code fragment may be dependent on imports, intermediate results in local variables and other such initializations in preceding cells.  So it is better to execute code cells sequentially, starting at the top, when new to IPython Notebook, to avoid being confused by such extraneous errors.__  \n",
    "\n",
    "Even so if you want to dive in and not have to execute each preceding code cell then you'll need to execute the menu item 'Cell->Run All'.  This executes each code cell for you sequentially once, so from that point on all dependencies on prior code cells are satisfied."
   ]
  },
  {
   "cell_type": "markdown",
   "metadata": {},
   "source": [
    "-------\n",
    "__Be joyful always!__ 1 Thes.5:16"
   ]
  }
 ],
 "metadata": {
  "kernelspec": {
   "display_name": "Python 3",
   "language": "python",
   "name": "python3"
  },
  "language_info": {
   "codemirror_mode": {
    "name": "ipython",
    "version": 3
   },
   "file_extension": ".py",
   "mimetype": "text/x-python",
   "name": "python",
   "nbconvert_exporter": "python",
   "pygments_lexer": "ipython3",
   "version": "3.7.7"
  }
 },
 "nbformat": 4,
 "nbformat_minor": 1
}
