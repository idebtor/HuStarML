{
 "cells": [
  {
   "cell_type": "markdown",
   "metadata": {},
   "source": [
    "# Welcome to \"CrushPython\"\n",
    "\n",
    "__So whether you eat or drink or whatever you do, do it all for the glory of God.__ \n",
    "1 Corinthians 10:31\n",
    "\n",
    "\n",
    "------"
   ]
  },
  {
   "cell_type": "markdown",
   "metadata": {},
   "source": [
    "__NOTE:__ The following materials have been compiled and adapted from the numerous sources including my own. Please help me to keep this tutorial up-to-date by reporting any issues or questions. Send any comments or criticisms to `idebtor@gmail.com` Your assistances and comments will be appreciated."
   ]
  },
  {
   "cell_type": "markdown",
   "metadata": {},
   "source": [
    "## Revisit Iteration\n",
    "Iteration means executing the same block of code over and over, potentially many times. For example, the following code contains an iterative work of accumulating a series of addtions. It keeps on adding to sum from 1 to n, inclusively."
   ]
  },
  {
   "cell_type": "code",
   "execution_count": 2,
   "metadata": {},
   "outputs": [
    {
     "name": "stdout",
     "output_type": "stream",
     "text": [
      "Sum from 1 to 10 is 55\n"
     ]
    }
   ],
   "source": [
    "# add a series of numbers from 1 to n.\n",
    "n = 10\n",
    "sum = 0\n",
    "for i in range(1, n + 1):\n",
    "    sum += i\n",
    "\n",
    "print('Sum from 1 to {} is {}'.format(n, sum))"
   ]
  },
  {
   "cell_type": "markdown",
   "metadata": {},
   "source": [
    "What would you do if you want to do the same kind of job but with a different number `n`? For example, what do we do if want to add numbers upto 20, 50, 200, or 5000. \n",
    "\n",
    "For example,\n",
    "```\n",
    "Sum from 1 to 10 is 55\n",
    "Sum from 1 to 50 is 1275\n",
    "Sum from 1 to 1000 is 500500\n",
    "```"
   ]
  },
  {
   "cell_type": "code",
   "execution_count": 3,
   "metadata": {},
   "outputs": [
    {
     "name": "stdout",
     "output_type": "stream",
     "text": [
      "Sum from 1 to 10 is 55\n",
      "Sum from 1 to 50 is 1275\n",
      "Sum from 1 to 1000 is 500500\n"
     ]
    }
   ],
   "source": [
    "# add a series of numbers from 1 to n.\n",
    "n = 10\n",
    "sum = 0\n",
    "for i in range(1, n + 1):\n",
    "    sum += i\n",
    "\n",
    "print('Sum from 1 to {} is {}'.format(n, sum))\n",
    "\n",
    "# add a series of numbers from 1 to n.\n",
    "n = 50\n",
    "sum = 0\n",
    "for i in range(1, n + 1):\n",
    "    sum += i\n",
    "\n",
    "print('Sum from 1 to {} is {}'.format(n, sum))\n",
    "\n",
    "# add a series of numbers from 1 to n.\n",
    "n = 1000\n",
    "sum = 0\n",
    "for i in range(1, n + 1):\n",
    "    sum += i\n",
    "\n",
    "print('Sum from 1 to {} is {}'.format(n, sum))"
   ]
  },
  {
   "cell_type": "markdown",
   "metadata": {},
   "source": [
    "To satisfy this kind of needs, we introduce the function. "
   ]
  },
  {
   "cell_type": "markdown",
   "metadata": {},
   "source": [
    "---------\n",
    "\n",
    "# Lesson Function\n",
    "\n",
    "- A function is a block of code which only runs when it is called. \n",
    "- You can pass data, known as parameters, into a function.\n",
    "- A function can return data as a result."
   ]
  },
  {
   "cell_type": "markdown",
   "metadata": {},
   "source": [
    "## 1. Creating a function\n",
    "\n",
    "\n",
    "__Syntax of Function__\n",
    "```\n",
    "def function_name(parameters):\n",
    "\t\"\"\"docstring\"\"\"\n",
    "\tstatement(s)\n",
    "```\n",
    "\n",
    "__For example:__\n",
    "\n",
    "Define a function called `greet_hello()` that prints `Hello from a function`"
   ]
  },
  {
   "cell_type": "code",
   "execution_count": 4,
   "metadata": {},
   "outputs": [],
   "source": [
    "def greet_hello():\n",
    "    print('Hello from a function')"
   ]
  },
  {
   "cell_type": "markdown",
   "metadata": {},
   "source": [
    "## 2. Calling a function \n",
    "\n",
    "To invoke a function, use the function name followed by parenthesis:\n",
    "\n",
    "__For example:__\n",
    "\n",
    "Invoke `greet_hello()` defined above:"
   ]
  },
  {
   "cell_type": "code",
   "execution_count": 5,
   "metadata": {},
   "outputs": [
    {
     "name": "stdout",
     "output_type": "stream",
     "text": [
      "Hello from a function\n"
     ]
    }
   ],
   "source": [
    "greet_hello()"
   ]
  },
  {
   "cell_type": "markdown",
   "metadata": {},
   "source": [
    "## 3. Passing information as arguments  \n",
    "\n",
    "- Information can be passed into functions as arguments.\n",
    "\n",
    "- Arguments are specified after the function name, inside the parentheses. You can add as many arguments as you want, just separate them with a comma.\n",
    "\n",
    "- The following example has a function with one argument (fname). When the function is called, we pass along a first name, which is used inside the function to print the full name:\n",
    "\n",
    "__For example:__\n",
    "\n",
    "Define `greet_hello()` that takes two objects, `fname`, and `lname`, as arguments. Then it prints two arguments with `Hello` in front."
   ]
  },
  {
   "cell_type": "code",
   "execution_count": 8,
   "metadata": {},
   "outputs": [],
   "source": [
    "def greet_hello(first, last):\n",
    "    print('Hello', first, last)"
   ]
  },
  {
   "cell_type": "code",
   "execution_count": 9,
   "metadata": {},
   "outputs": [
    {
     "name": "stdout",
     "output_type": "stream",
     "text": [
      "Hello Joe Blow\n",
      "Hello Joe Adam\n",
      "Hello King David\n"
     ]
    }
   ],
   "source": [
    "greet_hello('Joe', 'Blow')\n",
    "greet_hello('Joe', 'Adam')\n",
    "greet_hello('King', 'David')"
   ]
  },
  {
   "cell_type": "markdown",
   "metadata": {},
   "source": [
    "#### For example:\n",
    "\n",
    "Define a function called `sum_n_print()` that adds upto an argument `n` and prints its result as shown below:\n",
    "\n",
    "```\n",
    "sum_n_print(10)\n",
    "sum_n_print(50)\n",
    "sum_n_print(1000)\n",
    "\n",
    "Sum from 1 to 10 is 55\n",
    "Sum from 1 to 50 is 1275\n",
    "Sum from 1 to 1000 is 500500\n",
    "```"
   ]
  },
  {
   "cell_type": "code",
   "execution_count": 10,
   "metadata": {},
   "outputs": [],
   "source": [
    "def sum_n_print(n):\n",
    "    sum = 0\n",
    "    for i in range(1, n + 1):\n",
    "        sum += i\n",
    "    print('Sum from 1 to {} is {}'.format(n, sum))"
   ]
  },
  {
   "cell_type": "code",
   "execution_count": 11,
   "metadata": {},
   "outputs": [
    {
     "name": "stdout",
     "output_type": "stream",
     "text": [
      "Sum from 1 to 10 is 55\n",
      "Sum from 1 to 50 is 1275\n",
      "Sum from 1 to 1000 is 500500\n"
     ]
    }
   ],
   "source": [
    "sum_n_print(10)\n",
    "sum_n_print(50)\n",
    "sum_n_print(1000)"
   ]
  },
  {
   "cell_type": "markdown",
   "metadata": {},
   "source": [
    "## 4. Arbitrary arguments\n",
    "\n",
    "- If you do not know how many arguments that will be passed into your function, add an `*` before the parameter name in the function definition.\n",
    "\n",
    "- This way the function will receive __a tuple of arguments__, and can access the items accordingly:"
   ]
  },
  {
   "cell_type": "markdown",
   "metadata": {},
   "source": [
    "#### For example: \n",
    "\n",
    "Define `greet_hello()`such that it takes any number of arguments and prints `Hello ` with those names.\n",
    "\n",
    "__Sample run:__\n",
    "```\n",
    "greet_hello('Joe', 'Blow', 'David', 'Stones')\n",
    "```\n",
    "__Output:__\n",
    "```\n",
    "Hello Joe\n",
    "Hello Blow\n",
    "Hello David\n",
    "Hello Stones\n",
    "```"
   ]
  },
  {
   "cell_type": "code",
   "execution_count": 12,
   "metadata": {},
   "outputs": [],
   "source": [
    "def greet_hello(*names):\n",
    "    for name in names:\n",
    "        print(\"Hello\", name)\n",
    "        "
   ]
  },
  {
   "cell_type": "code",
   "execution_count": 13,
   "metadata": {},
   "outputs": [
    {
     "name": "stdout",
     "output_type": "stream",
     "text": [
      "Hello Joe\n",
      "Hello Blow\n",
      "Hello David\n",
      "Hello Stones\n"
     ]
    }
   ],
   "source": [
    "greet_hello('Joe', 'Blow', 'David', 'Stones')"
   ]
  },
  {
   "cell_type": "markdown",
   "metadata": {},
   "source": [
    "## 5. Keyword arguments\n",
    "- You can also send arguments with the key = value syntax.\n",
    "- This way the order of the arguments does not matter.\n",
    "\n",
    "#### For example: \n",
    "Define a function that uses three keyword arguments as shown below:\n",
    "\n",
    "__Sample run:__\n",
    "```\n",
    "greet_hello(child = 'David', father = 'Joe', mother = 'Jane')\n",
    "```\n",
    "__Output:__\n",
    "```\n",
    "The youngest person is David\n",
    "```"
   ]
  },
  {
   "cell_type": "code",
   "execution_count": 14,
   "metadata": {},
   "outputs": [],
   "source": [
    "def greet_hello(mother, father, child):\n",
    "    print('The youngest person is', child)"
   ]
  },
  {
   "cell_type": "code",
   "execution_count": 15,
   "metadata": {},
   "outputs": [
    {
     "name": "stdout",
     "output_type": "stream",
     "text": [
      "The youngest person is David\n"
     ]
    }
   ],
   "source": [
    "greet_hello(child = 'David', father = 'Joe', mother = 'Jane')"
   ]
  },
  {
   "cell_type": "code",
   "execution_count": 18,
   "metadata": {},
   "outputs": [
    {
     "name": "stdout",
     "output_type": "stream",
     "text": [
      "The youngest person is David\n"
     ]
    }
   ],
   "source": [
    "greet_hello('Joe', 'Jane', 'David')"
   ]
  },
  {
   "cell_type": "markdown",
   "metadata": {},
   "source": [
    "## 6. Arbitrary keyword arguments \n",
    "- If you do not know how many keyword arguments that will be passed into your function, add two asterisk: `** ` before the parameter name in the function definition.\n",
    "\n",
    "- This way the function will receive a dictionary of arguments, and can access the items accordingly:\n",
    "\n",
    "#### For example: "
   ]
  },
  {
   "cell_type": "code",
   "execution_count": 19,
   "metadata": {},
   "outputs": [],
   "source": [
    "def greet_hello(**family):\n",
    "    print('The youngest person is', family['child'])\n",
    "    print('The lovely person is', family['mother'])\n",
    "    print('The respectful person is', family['father'])"
   ]
  },
  {
   "cell_type": "code",
   "execution_count": 20,
   "metadata": {},
   "outputs": [
    {
     "name": "stdout",
     "output_type": "stream",
     "text": [
      "The youngest person is David\n",
      "The lovely person is Jane\n",
      "The respectful person is Joe\n"
     ]
    }
   ],
   "source": [
    "greet_hello(father = 'Joe', mother = 'Jane', child = 'David')"
   ]
  },
  {
   "cell_type": "markdown",
   "metadata": {},
   "source": [
    "## 7. Default Parameter Value\n",
    "- The following example shows how to use a default parameter value.\n",
    "- If we call the function without argument, it uses the default value:\n",
    "\n",
    "#### For example: \n",
    "\n",
    "Define `greet_hello()` such that it take a default parameter value `Korea`.\n",
    "\n",
    "__Sample run:__\n",
    "```\n",
    "greet_hello('England')\n",
    "greet_hello()\n",
    "greet_hello('Heaven')\n",
    "```\n",
    "__Output:__\n",
    "```\n",
    "Are you from England?\n",
    "Are you from Korea?\n",
    "Are you from Heaven?\n",
    "```"
   ]
  },
  {
   "cell_type": "code",
   "execution_count": 21,
   "metadata": {},
   "outputs": [],
   "source": [
    "def greet_hello(country = 'Korea'):\n",
    "    print('Are you from ' + country + '?')"
   ]
  },
  {
   "cell_type": "code",
   "execution_count": 22,
   "metadata": {},
   "outputs": [
    {
     "name": "stdout",
     "output_type": "stream",
     "text": [
      "Are you from England?\n",
      "Are you from Korea?\n",
      "Are you from Heaven?\n"
     ]
    }
   ],
   "source": [
    "greet_hello('England')\n",
    "greet_hello()\n",
    "greet_hello('Heaven')"
   ]
  },
  {
   "cell_type": "markdown",
   "metadata": {},
   "source": [
    "## 8. Passing a list as an argument\n",
    "- You can send any data types of argument to a function (string, number, list, dictionary etc.), and it will be treated as the same data type inside the function.\n",
    "- E.g. if you send a List as an argument, it will still be a List when it reaches the function:\n",
    "\n",
    "#### For example: \n",
    "Define a function my_favorites() that takes a list and print elements in it.\n",
    "\n",
    "__Sample run:__\n",
    "```\n",
    "my_stuff = [\"apple\", \"banana\", 100, 200, \"Genesis\", \"John\" ]\n",
    "my_favorites(my_stuff)\n",
    "```\n",
    "__Output:__\n",
    "```\n",
    "apple banana 100 200 Genesis John \n",
    "```"
   ]
  },
  {
   "cell_type": "code",
   "execution_count": 23,
   "metadata": {},
   "outputs": [],
   "source": [
    "def my_favorites(items):\n",
    "    for item in items:\n",
    "        print(item)"
   ]
  },
  {
   "cell_type": "code",
   "execution_count": 24,
   "metadata": {},
   "outputs": [
    {
     "name": "stdout",
     "output_type": "stream",
     "text": [
      "apple\n",
      "banana\n",
      "100\n",
      "200\n",
      "Genesis\n",
      "John\n"
     ]
    }
   ],
   "source": [
    "my_stuff = [\"apple\", \"banana\", 100, 200, 'Genesis', 'John']\n",
    "my_favorites(my_stuff)"
   ]
  },
  {
   "cell_type": "markdown",
   "metadata": {},
   "source": [
    "## 9. Return Values\n",
    "To let a function return value(s), use the `return` statement:\n",
    "\n",
    "#### For example:\n",
    "Define a function `my_favorites` which takes a list and returns the first and last elements in it. Add a code to be able to handle an empty list gracefully.\n",
    "\n",
    "__Sample run 1:__\n",
    "```\n",
    "first, last = my_favorites([\"apple\", \"banana\", \"Romans\", \"Genesis\"])\n",
    "print(first, last)\n",
    "```\n",
    "__Output:__\n",
    "```\n",
    "apple Genesis\n",
    "```\n",
    "__Sample run 2:__\n",
    "```\n",
    "first, last = my_favorites([])\n",
    "print(first, last)\n",
    "```\n",
    "__Output:__\n",
    "```\n",
    "None, None\n",
    "```"
   ]
  },
  {
   "cell_type": "code",
   "execution_count": 25,
   "metadata": {},
   "outputs": [],
   "source": [
    "def my_favorites(items):\n",
    "    return items[0], items[-1]"
   ]
  },
  {
   "cell_type": "code",
   "execution_count": 26,
   "metadata": {},
   "outputs": [
    {
     "name": "stdout",
     "output_type": "stream",
     "text": [
      "apple Genesis\n"
     ]
    }
   ],
   "source": [
    "first, last = my_favorites([\"apple\", \"banana\", \"Romans\", \"Genesis\"])\n",
    "print(first, last)"
   ]
  },
  {
   "cell_type": "markdown",
   "metadata": {},
   "source": [
    "## More Examples"
   ]
  },
  {
   "cell_type": "markdown",
   "metadata": {},
   "source": [
    "#### Example 1: sum_to_n(n)\n",
    "\n",
    "- Generalize this capability of summing up to `n`. In other words, write a function, `sum_to_n(n)`, such that it returns 55 when `sum_to_n(10)` is invoked. \n",
    "- Complete the following code cells to sum the integers from `1` to `n` inclusively. \n",
    "\n",
    "```\n",
    "Sum from 1 to 10 is 55\n",
    "Sum from 1 to 100 is 5050\n",
    "Sum from 1 to 1000 is 500500\n",
    "Sum from 1 to 10000 is 50005000\n",
    "```"
   ]
  },
  {
   "cell_type": "code",
   "execution_count": 30,
   "metadata": {},
   "outputs": [],
   "source": [
    "# function to sum upto n inclusively.\n",
    "def sum_to_n(n):\n",
    "    sum = 0\n",
    "    for i in range(1, n + 1):\n",
    "        sum += i\n",
    "    return sum"
   ]
  },
  {
   "cell_type": "code",
   "execution_count": 31,
   "metadata": {
    "scrolled": false
   },
   "outputs": [
    {
     "name": "stdout",
     "output_type": "stream",
     "text": [
      "Sum from 1 to 10 is 55\n",
      "Sum from 1 to 100 is 5050\n",
      "Sum from 1 to 1000 is 500500\n",
      "Sum from 1 to 10000 is 50005000\n"
     ]
    }
   ],
   "source": [
    "# For testing\n",
    "for n in [10, 100, 1000, 10000]:\n",
    "    print('Sum from 1 to {} is {}'.format(n, sum_to_n(n)))"
   ]
  },
  {
   "cell_type": "markdown",
   "metadata": {},
   "source": [
    "Pay attention that maximum value in `range()` is `n + 1` to make `i` equal to `N` on the last step.\n",
    "\n",
    "To iterate over a decreasing sequence, we can use an extended form of `range()` with three arguments - `range(start, end, step)`. When omitted, the `step` is implicitly equal to `1`. However, can be any non-zero value. The loop always includes `start` and excludes `end` during iteration:"
   ]
  },
  {
   "cell_type": "markdown",
   "metadata": {},
   "source": [
    "#### Example 2: count_alpha()\n",
    "Write a function `count_alpha()` which takes a string and returns two values or counts of lowercase and uppercase alphabets in the string, respectively. \n",
    "\n",
    "Use two `string` class methods, `islower()` and `isupper()` to distinguish the cases. \n",
    "\n",
    "__Sample run:__\n",
    "```\n",
    "lower, upper = count_alpha(\"Hello World!\")\n",
    "print(lower)\n",
    "print(upper)\n",
    "```\n",
    "__Output:__\n",
    "```\n",
    "8\n",
    "2\n",
    "```"
   ]
  },
  {
   "cell_type": "code",
   "execution_count": 32,
   "metadata": {},
   "outputs": [],
   "source": [
    "def count_alpha(str):\n",
    "    lower = 0\n",
    "    upper = 0\n",
    "    for ch in str:\n",
    "        if ch.islower():\n",
    "            lower += 1\n",
    "        elif ch.isupper():\n",
    "            upper += 1\n",
    "    return lower, upper"
   ]
  },
  {
   "cell_type": "code",
   "execution_count": 33,
   "metadata": {},
   "outputs": [
    {
     "name": "stdout",
     "output_type": "stream",
     "text": [
      "8\n",
      "2\n"
     ]
    }
   ],
   "source": [
    "lower, upper = count_alpha(\"Hello World!\")\n",
    "print(lower)\n",
    "print(upper)"
   ]
  },
  {
   "cell_type": "markdown",
   "metadata": {},
   "source": [
    "#### Example 3: [Caesar Cypher](https://en.wikipedia.org/wiki/Caesar_cipher) \n",
    "\n",
    "카이사르 암호(Caesar cipher) 또는 시저 암호는 암호학에서 다루는 간단한 치환암호의 일종이다. 실제로 로마의 황제 카이사르는 이 카이사르 암호를 사용하기도 했다. 카이사르 암호는 암호화하고자 하는 내용을 알파벳별로 일정한 거리만큼 밀어서 다른 알파벳으로 치환하는 방식이다. 예를 들어 3글자씩 밀어내는 카이사르 암호로 'COME TO ROME'을 암호화하면 'FRPH WR URPH'가 된다. 여기서 밀어내는 글자 수는 암호를 보내는 사람과 함께 정해 더 어려운 암호를 만들 수 있다. 이런 카이사르 암호는 순환암호라고 한다. 카이사르는 'RUSQHUVKBVEHQIIQIYDQJEH' 라는 암호를 받았다. 해독하면 BECAREFULFORASSASINATOR, 암살자를 조심하라는 뜻이된다. 카이사르는 이 암호를 해독하지 못해 암살자에게 암살당하고 말았다..\n",
    "\n",
    "\n",
    "카이사르 암호는 약 기원전 100년경에 만들어져 로마의 장군인 카이사르가 동맹군들과 소통하기 위해 만든 암호이다\n",
    "\n",
    "카이사르 암호는 단순하고 간단하여 일반인도 쉽게 사용할 수 있지만, 철자의 빈도와 자주 사용되는 단어와 형태를 이용하면 쉽게 풀 수 있다는 단점이 있다.\n",
    "\n"
   ]
  },
  {
   "cell_type": "markdown",
   "metadata": {},
   "source": [
    "<img width=\"400\" alt=\"Caesar3\" src=\"https://upload.wikimedia.org/wikipedia/commons/thumb/2/2b/Caesar3.svg/512px-Caesar3.svg.png\"></a>"
   ]
  },
  {
   "cell_type": "markdown",
   "metadata": {},
   "source": [
    "#### Step 1:\n",
    "\n",
    "Write a function, `next_alpha(ch, n)` which takes an ascii character `ch` and an int `n`. Then the function returns a character at some fixed positions `n` from the current letter `ch`in the alphabet.  "
   ]
  },
  {
   "cell_type": "markdown",
   "metadata": {},
   "source": [
    "__Sample run:__\n",
    "```\n",
    "for ch in \"Hello World! zzz\":\n",
    "    print(next_alpha(ch, 1), end=' ')\n",
    "```\n",
    "__Output:__\n",
    "```\n",
    "I f m m p   X p s m e !   a a a \n",
    "```\n",
    "    "
   ]
  },
  {
   "cell_type": "markdown",
   "metadata": {},
   "source": [
    "__Hint:__ Use two constant strings `ascii_lowercase` and `ascii_uppercase` which are defined in `string` module.\n",
    "    \n",
    "__Note:__ This coding is YET to be continued in the following homework. Some bugs are left intentionally."
   ]
  },
  {
   "cell_type": "code",
   "execution_count": 34,
   "metadata": {},
   "outputs": [
    {
     "name": "stdout",
     "output_type": "stream",
     "text": [
      "abcdefghijklmnopqrstuvwxyz\n",
      "ABCDEFGHIJKLMNOPQRSTUVWXYZ\n"
     ]
    }
   ],
   "source": [
    "import string\n",
    "lower = string.ascii_lowercase  #lower = 'abcdefghijklmnopqrstuvwxyz'\n",
    "upper = string.ascii_uppercase\n",
    "\n",
    "print(lower)\n",
    "print(upper)"
   ]
  },
  {
   "cell_type": "code",
   "execution_count": 35,
   "metadata": {},
   "outputs": [],
   "source": [
    "def next_alpha(ch, n):\n",
    "    if len(ch) != 1:\n",
    "        return ch\n",
    "    if ch.islower():\n",
    "        idx = lower.find(ch)\n",
    "        return lower[(idx + n) % len(lower)]\n",
    "    elif ch.isupper():\n",
    "        idx = upper.find(ch)\n",
    "        return upper[(idx + n) % len(upper)]\n",
    "    return ch  "
   ]
  },
  {
   "cell_type": "code",
   "execution_count": 38,
   "metadata": {},
   "outputs": [
    {
     "name": "stdout",
     "output_type": "stream",
     "text": [
      "I f m m p   X p s m e ! "
     ]
    }
   ],
   "source": [
    "for ch in \"Hello World!\":\n",
    "    print(next_alpha(ch, 1), end=' ')"
   ]
  },
  {
   "cell_type": "code",
   "execution_count": 42,
   "metadata": {},
   "outputs": [
    {
     "name": "stdout",
     "output_type": "stream",
     "text": [
      "K h o o r   Z r u o g !   c c c "
     ]
    }
   ],
   "source": [
    "for ch in \"Hello World! zzz\":\n",
    "    print(next_alpha(ch, 3), end=' ')"
   ]
  },
  {
   "cell_type": "markdown",
   "metadata": {},
   "source": [
    "# Homework\n",
    "\n",
    "## 1. Teen Age \n",
    "\n",
    "- Write a function, `is_teen(age)`, which returns if `age` is a teen age.\n",
    "- Write a code to test `is_teen()` while calling it from `age = 9` to `age = 21`.\n",
    "- Print the result as shown below:\n",
    "\n",
    "```\n",
    "The age 9 is not a teen\n",
    "The age 10 is not a teen\n",
    "The age 11 is not a teen\n",
    "The age 12 is not a teen\n",
    "The age 13 is a teen\n",
    "The age 14 is a teen\n",
    "The age 15 is a teen\n",
    "The age 16 is a teen\n",
    "The age 17 is a teen\n",
    "The age 18 is a teen\n",
    "The age 19 is a teen\n",
    "The age 20 is not a teen\n",
    "The age 21 is not a teen\n",
    "```\n",
    "\n",
    "#### Step 1: Code is_teean(age) function first"
   ]
  },
  {
   "cell_type": "code",
   "execution_count": 2,
   "metadata": {},
   "outputs": [],
   "source": [
    "# Replace `None` with the logic expression you developed above.\n",
    "def is_teen(age):\n",
    "    return 13 <= age <= 19"
   ]
  },
  {
   "cell_type": "markdown",
   "metadata": {},
   "source": [
    "#### Step 2: Write a test code to produce the output shown above.\n",
    "\n",
    "#### Method 1: Using a list of ages "
   ]
  },
  {
   "cell_type": "code",
   "execution_count": 4,
   "metadata": {},
   "outputs": [
    {
     "name": "stdout",
     "output_type": "stream",
     "text": [
      "False\n",
      "False\n",
      "False\n",
      "True\n",
      "True\n",
      "True\n",
      "False\n",
      "False\n"
     ]
    }
   ],
   "source": [
    "# test is_teen() \n",
    "for age in [10, 11, 12, 13, 14, 19, 20, 21]:\n",
    "    print(is_teen(age))"
   ]
  },
  {
   "cell_type": "markdown",
   "metadata": {},
   "source": [
    "#### Method 2: Using `range()` "
   ]
  },
  {
   "cell_type": "code",
   "execution_count": 6,
   "metadata": {},
   "outputs": [
    {
     "name": "stdout",
     "output_type": "stream",
     "text": [
      "10 is teenage?  False\n",
      "11 is teenage?  False\n",
      "12 is teenage?  False\n",
      "13 is teenage?  True\n",
      "14 is teenage?  True\n",
      "15 is teenage?  True\n",
      "16 is teenage?  True\n",
      "17 is teenage?  True\n",
      "18 is teenage?  True\n",
      "19 is teenage?  True\n"
     ]
    }
   ],
   "source": [
    "for age in range(10, 20):\n",
    "    print(age, 'is teenage? ', is_teen(age))"
   ]
  },
  {
   "cell_type": "markdown",
   "metadata": {},
   "source": [
    "## 2. Leap Year \n",
    "\n",
    "A leap year is exactly divisible by 4 except for century years (years ending with 00). The century year is a leap year only if it is perfectly divisible by 400. For example,\n",
    "\n",
    "```\n",
    "2017 is not a leap year\n",
    "1900 is a not leap year\n",
    "2012 is a leap year\n",
    "2000 is a leap year\n",
    "```\n",
    "\n",
    "To test a leap year interactively, you may code it as shwon below:"
   ]
  },
  {
   "cell_type": "code",
   "execution_count": null,
   "metadata": {},
   "outputs": [],
   "source": [
    "# Python program to check if the input year is a leap year or not\n",
    "year = int(input(\"Enter a year: \"))\n",
    "if (year % 4) == 0:\n",
    "    if (year % 100) == 0:\n",
    "        if (year % 400) == 0:\n",
    "            print(\"{0} is a leap year\".format(year))\n",
    "        else:\n",
    "            print(\"{0} is not a leap year\".format(year))\n",
    "    else:\n",
    "        print(\"{0} is a leap year\".format(year))\n",
    "else:\n",
    "    print(\"{0} is not a leap year\".format(year))"
   ]
  },
  {
   "cell_type": "markdown",
   "metadata": {},
   "source": [
    "#### Step 1: Coding `is_leap_year()` function:\n",
    "Now, complete the following `is_leap_year()` function that returns `True` if `year` is a leap year, `False` otherwise. "
   ]
  },
  {
   "cell_type": "code",
   "execution_count": 13,
   "metadata": {},
   "outputs": [],
   "source": [
    "def is_leap_year(year):\n",
    "    return (year % 400 == 0) or (year % 4 == 0 and year % 100 != 0)"
   ]
  },
  {
   "cell_type": "markdown",
   "metadata": {},
   "source": [
    "#### Step 2: Coding to test `is_leap_year()` to have the following output shown below:\n",
    "```\n",
    "100 No, it is not.\n",
    "200 No, it is not.\n",
    "1990 No, it is not.\n",
    "2000 Yes, it is a leap year\n",
    "2002 No, it is not.\n",
    "2004 Yes, it is a leap year\n",
    "2010 No, it is not.\n",
    "2100 No, it is not.\n",
    "```"
   ]
  },
  {
   "cell_type": "code",
   "execution_count": 14,
   "metadata": {},
   "outputs": [
    {
     "name": "stdout",
     "output_type": "stream",
     "text": [
      "2000 is a leap year? True\n",
      "2001 is a leap year? False\n",
      "2002 is a leap year? False\n",
      "2005 is a leap year? False\n",
      "2010 is a leap year? False\n",
      "2020 is a leap year? True\n",
      "2024 is a leap year? True\n",
      "2100 is a leap year? False\n",
      "2200 is a leap year? False\n"
     ]
    }
   ],
   "source": [
    "# test leap_year()\n",
    "for year in [2000, 2001, 2002, 2005, 2010, 2020, 2024, 2100, 2200]:\n",
    "    print(year, 'is a leap year?', is_leap_year(year))\n",
    "        "
   ]
  },
  {
   "cell_type": "markdown",
   "metadata": {},
   "source": [
    "## 3. Caesar Cypher\n",
    "\n",
    "Write a function, `next_alpha(ch, n)` which takes an ascii character `ch` and an int `n`. Then the function returns a character at some fixed positions `n` from the current letter `ch`in the alphabet.  "
   ]
  },
  {
   "cell_type": "markdown",
   "metadata": {},
   "source": [
    "<img width=\"400\" alt=\"Caesar3\" src=\"https://upload.wikimedia.org/wikipedia/commons/thumb/2/2b/Caesar3.svg/512px-Caesar3.svg.png\"></a>"
   ]
  },
  {
   "cell_type": "markdown",
   "metadata": {},
   "source": [
    "#### Step 1:  Fix the following code such that it works with the following cases:\n",
    "__Hint:__ Use two constant strings `ascii_lowercase` and `ascii_uppercase` which are defined in `string` module.\n",
    "\n",
    "__Hint:__ Perform a modulo operation (%) to prevent the index from exceeding the length of alphabet."
   ]
  },
  {
   "cell_type": "markdown",
   "metadata": {},
   "source": [
    "__Sample run 1:__\n",
    "```\n",
    "for ch in \"Hello World! zzz\":\n",
    "    print(next_alpha(ch, 1), end=' ')\n",
    "```\n",
    "__Output:__\n",
    "```\n",
    "I f m m p   X p s m e !   a a a \n",
    "```\n",
    "\n",
    "__Sample run 2:__\n",
    "```\n",
    "for ch in \"aaa BBB ccc Hello World! XXX yyy zzz\":\n",
    "    print(next_alpha(ch, 3), end=' ')\n",
    "```\n",
    "__Output:__\n",
    "```\n",
    "d d d   E E E   f f f   K h o o r   Z r u o g !   A A A   b b b   c c c \n",
    "```"
   ]
  },
  {
   "cell_type": "code",
   "execution_count": 17,
   "metadata": {},
   "outputs": [],
   "source": [
    "import string\n",
    "lower = string.ascii_lowercase\n",
    "upper = string.ascii_uppercase\n",
    "\n",
    "def next_alpha(ch, n):\n",
    "    if len(ch) != 1:\n",
    "        return ch\n",
    "    if ch.islower():\n",
    "        idx = lower.find(ch)\n",
    "        return lower[(idx + n) % len(lower)]\n",
    "    elif ch.isupper():\n",
    "        idx = upper.find(ch)\n",
    "        return upper[(idx + n) % len(lower)]\n",
    "    return ch"
   ]
  },
  {
   "cell_type": "code",
   "execution_count": 18,
   "metadata": {},
   "outputs": [
    {
     "name": "stdout",
     "output_type": "stream",
     "text": [
      "I f m m p   X p s m e !   a a a "
     ]
    }
   ],
   "source": [
    "for ch in \"Hello World! zzz\":\n",
    "    print(next_alpha(ch, 1), end=' ')"
   ]
  },
  {
   "cell_type": "code",
   "execution_count": 19,
   "metadata": {},
   "outputs": [
    {
     "name": "stdout",
     "output_type": "stream",
     "text": [
      "d d d   E E E   f f f   K h o o r   Z r u o g !   A A A   b b b   c c c "
     ]
    }
   ],
   "source": [
    "for ch in \"aaa BBB ccc Hello World! XXX yyy zzz\":\n",
    "    print(next_alpha(ch, 3), end=' ')"
   ]
  },
  {
   "cell_type": "markdown",
   "metadata": {},
   "source": [
    "#### Step 2:  \n",
    "\n",
    "Write a Caesar cypher function that encoded by shifting n to the right in alphabet.\n",
    "\n",
    "__Sample run 1:__\n",
    "```\n",
    "encoded = cypher(\"aaa Hello World! zzz\", 2)\n",
    "print(encoded)\n",
    "```\n",
    "__Output:__\n",
    "```\n",
    "ccc Jgnnq Yqtnf! bbb\n",
    "```\n",
    "\n",
    "__Sample run 2:__\n",
    "```\n",
    "encoded = cypher(\"aaa Hello World! zzz\", 3)\n",
    "print(encoded)\n",
    "```\n",
    "__Output:__\n",
    "```\n",
    "ddd Khoor Zruog! ccc\n",
    "```"
   ]
  },
  {
   "cell_type": "code",
   "execution_count": null,
   "metadata": {},
   "outputs": [],
   "source": [
    "def cypher(str, n): \n",
    "    None\n",
    "    return None"
   ]
  },
  {
   "cell_type": "code",
   "execution_count": null,
   "metadata": {},
   "outputs": [],
   "source": [
    "encoded = cypher(\"aaa Hello World! zzz\", 2)\n",
    "print(encoded)"
   ]
  },
  {
   "cell_type": "code",
   "execution_count": null,
   "metadata": {},
   "outputs": [],
   "source": [
    "encoded = cypher(\"aaa Hello World! zzz\", 3)\n",
    "print(encoded)"
   ]
  },
  {
   "cell_type": "markdown",
   "metadata": {},
   "source": [
    "#### Step 3: Decypher\n",
    "\n",
    "<img src=\"https://upload.wikimedia.org/wikipedia/commons/thumb/4/4a/Caesar_cipher_left_shift_of_3.svg/1200px-Caesar_cipher_left_shift_of_3.svg.png\" width=400 alt=\"Caesar cipher left shift of 3.svg\"></a>\n",
    "\n",
    "Modify cypher() to have a default optional argument `coded = False`. The function works as `cypher` function as usual, but it works as `decypher` function if `coded = True`. \n",
    "\n",
    "__Sample run:__\n",
    "```\n",
    "hello = \"aaa Hello World! zzz\"\n",
    "print(hello)\n",
    "encoded = cypher(hello, 2)\n",
    "print(encoded)\n",
    "decoded = cypher(encoded, 2, coded = True)\n",
    "print(decoded)\n",
    "```\n",
    "\n",
    "__Output:__\n",
    "```\n",
    "aaa Hello World! zzz\n",
    "ccc Jgnnq Yqtnf! bbb\n",
    "aaa Hello World! zzz\n",
    "```"
   ]
  },
  {
   "cell_type": "code",
   "execution_count": null,
   "metadata": {},
   "outputs": [],
   "source": [
    "def cypher(None): \n",
    "    None\n",
    "    return None"
   ]
  },
  {
   "cell_type": "code",
   "execution_count": null,
   "metadata": {},
   "outputs": [],
   "source": [
    "hello = \"aaa Hello World! zzz\"\n",
    "print(hello)\n",
    "encoded = cypher(hello, 2)\n",
    "print(encoded)\n",
    "decoded = cypher(encoded, 2, coded = True)\n",
    "print(decoded)"
   ]
  },
  {
   "cell_type": "markdown",
   "metadata": {},
   "source": [
    "---------\n",
    "__\"Everything is permissible\" - but not everything is beneficial. \"Everything is permissible\" - but not everything is constructive.__\n",
    "1 Corinthians 10:23\n",
    "    "
   ]
  }
 ],
 "metadata": {
  "kernelspec": {
   "display_name": "Python 3",
   "language": "python",
   "name": "python3"
  },
  "language_info": {
   "codemirror_mode": {
    "name": "ipython",
    "version": 3
   },
   "file_extension": ".py",
   "mimetype": "text/x-python",
   "name": "python",
   "nbconvert_exporter": "python",
   "pygments_lexer": "ipython3",
   "version": "3.7.7"
  }
 },
 "nbformat": 4,
 "nbformat_minor": 1
}
