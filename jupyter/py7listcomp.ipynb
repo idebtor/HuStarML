{
 "cells": [
  {
   "cell_type": "markdown",
   "metadata": {},
   "source": [
    "# Welcome to \"CrushPython\"\n",
    "\n",
    "\n",
    "__The prudent see danger and take refuge, but the simple keep going and suffer for it.__ Proverbs 27:12\n",
    "\n",
    "---------"
   ]
  },
  {
   "cell_type": "markdown",
   "metadata": {},
   "source": [
    "# Lesson - List comprehension \n",
    "\n",
    "### What is List Comprehension?\n",
    "- List comprehensions provide us with a simple way to create a list based on some iterable. During the creation, elements from the iterable can be conditionally included in the new list and transformed as needed. An iterable is something you can loop over. \n",
    "\n",
    "### Three components of a comprehension\n",
    "\n",
    "The components of a list comprehension are:\n",
    "- Output Expression (Optional)\n",
    "- Iterable\n",
    "- Iterator variable which represents the members of the iterable"
   ]
  },
  {
   "cell_type": "markdown",
   "metadata": {},
   "source": [
    "### Syntax\n",
    "- The syntax is:\n",
    "    - [**expression** for **variable** in **iterable**] \n",
    "\n",
    "    - [**expression** for **variable** in **iterable** if **condition**] \n",
    "    \n",
    "- It sounds like \n",
    "\n",
    "```\n",
    "    - [output expression for item in iterable]\n",
    "    - [output expression for item in iterable if condition]\n",
    "```\n",
    "\n",
    "- The `if` **condition** part is optional, the statement and the condition can use variable.\n",
    "\n",
    "<img src=\"https://github.com/idebtor/KMOOC-ML/blob/master/ipynb/images/list_comprehension.png?raw=true\" width=\"600\">\n",
    "<center>그림 1: 리스트 컴프리헨션</center>"
   ]
  },
  {
   "cell_type": "markdown",
   "metadata": {},
   "source": [
    "### Three kinds of Comprehensions\n",
    "There are three different kind of comprehensions in Python\n",
    "\n",
    "- list comprehensions, \n",
    "- set comprehensions and \n",
    "- dictionary comprehensions"
   ]
  },
  {
   "cell_type": "markdown",
   "metadata": {},
   "source": [
    "## 1. Loops and Comprehensions \n",
    "\n",
    "The list comprehensions are more efficient both computationally and in terms of coding space and time than a for loop. \n",
    "Typically, they are written in a single line of code."
   ]
  },
  {
   "cell_type": "markdown",
   "metadata": {},
   "source": [
    "### Example 1\n",
    "\n",
    "#### Using hand-coding \n",
    "\n",
    "Create a list from 0 to 9 by hand-coding. "
   ]
  },
  {
   "cell_type": "code",
   "execution_count": null,
   "metadata": {},
   "outputs": [],
   "source": [
    "numbers = [0, 1, 2, 3, 4, 5, 6, 7, 8, 9]"
   ]
  },
  {
   "cell_type": "markdown",
   "metadata": {},
   "source": [
    "#### Using for loop\n",
    "Creat a list from 0 to 9 using a for loop"
   ]
  },
  {
   "cell_type": "code",
   "execution_count": null,
   "metadata": {},
   "outputs": [],
   "source": [
    "numbers = []\n",
    "None\n",
    "    \n",
    "numbers"
   ]
  },
  {
   "cell_type": "markdown",
   "metadata": {},
   "source": [
    "#### Using List comprehension"
   ]
  },
  {
   "cell_type": "code",
   "execution_count": null,
   "metadata": {},
   "outputs": [],
   "source": [
    "numbers = None\n",
    "numbers"
   ]
  },
  {
   "cell_type": "markdown",
   "metadata": {},
   "source": [
    "### Example 2\n",
    "\n",
    "Generate numbers squared from 1 to 10 using a list comprehension as shown below\n",
    "```\n",
    "[1, 4, 9, 16, 25, 36, 49, 64, 81, 100]\n",
    "```\n",
    "\n",
    "#### Using a for loop"
   ]
  },
  {
   "cell_type": "code",
   "execution_count": null,
   "metadata": {},
   "outputs": [],
   "source": [
    "squares = None\n",
    "None\n",
    "print(squares)"
   ]
  },
  {
   "cell_type": "markdown",
   "metadata": {},
   "source": [
    "#### Using list comprehension"
   ]
  },
  {
   "cell_type": "code",
   "execution_count": null,
   "metadata": {},
   "outputs": [],
   "source": [
    "numbers = None\n",
    "numbers"
   ]
  },
  {
   "cell_type": "markdown",
   "metadata": {},
   "source": [
    "### Example 3\n",
    "\n",
    "Generate odd numbers squared from 1 to 10 using a list comprehension as shown below\n",
    "```\n",
    "squares = [1, 9, 25, 49, 81]\n",
    "```\n",
    "\n",
    "\n",
    "#### Using a for loop \n",
    "- With using a conditional statement `if`\n",
    "- Without using a conditional statement `if`, but utilizing the step in range()"
   ]
  },
  {
   "cell_type": "code",
   "execution_count": null,
   "metadata": {},
   "outputs": [],
   "source": [
    "# using for loop and a conditional statement `if`\n",
    "squares = None\n",
    "None\n",
    "print(squares)"
   ]
  },
  {
   "cell_type": "code",
   "execution_count": null,
   "metadata": {},
   "outputs": [],
   "source": [
    "# using for loop without a conditional statement `if`, but utilizing the step in range()\n",
    "squares = None\n",
    "None\n",
    "print(squares)"
   ]
  },
  {
   "cell_type": "markdown",
   "metadata": {},
   "source": [
    "#### Using list comprehension\n",
    "\n",
    "We can also create more advanced list comprehensions which include __a conditional statement__ on the iterable. "
   ]
  },
  {
   "cell_type": "code",
   "execution_count": null,
   "metadata": {},
   "outputs": [],
   "source": [
    "# list comprehension without if, but use the step in range()\n",
    "squares = None\n",
    "print(squares)"
   ]
  },
  {
   "cell_type": "code",
   "execution_count": null,
   "metadata": {},
   "outputs": [],
   "source": [
    "# list comprehension with if \n",
    "squares = None\n",
    "print(squares)"
   ]
  },
  {
   "cell_type": "markdown",
   "metadata": {},
   "source": [
    "### Example 4\n",
    "\n",
    "Convert a list of temperatures in Celsius into Fahrenheit using \n",
    "\n",
    "- Using a for loop and \n",
    "- Using a list comprehension, \n",
    "\n",
    "You may convert a Celsisus into Fahrenheit using the formula:\n",
    "\n",
    "```f = 1.8 * c + 32```"
   ]
  },
  {
   "cell_type": "code",
   "execution_count": null,
   "metadata": {},
   "outputs": [],
   "source": [
    "clist = [-10, 0, 10, 50, 100, 200]\n",
    "flist = None\n",
    "None\n",
    "    \n",
    "print(flist)"
   ]
  },
  {
   "cell_type": "code",
   "execution_count": null,
   "metadata": {},
   "outputs": [],
   "source": [
    "#use list comprehension\n",
    "clist = [-10, 0, 10, 50, 100, 200] \n",
    "flist = None\n",
    "flist"
   ]
  },
  {
   "cell_type": "markdown",
   "metadata": {},
   "source": [
    "### Example 5: Using nested `if` \n",
    "\n",
    "Find numbers that are divisible by 2 and 3 from 1 to 50.\n",
    "\n",
    "The output we are expecting is\n",
    "```\n",
    "[6, 12, 18, 24, 30, 36, 42, 48]\n",
    "```\n",
    "\n",
    "#### Using logical `and`"
   ]
  },
  {
   "cell_type": "code",
   "execution_count": null,
   "metadata": {},
   "outputs": [],
   "source": [
    "num = [ None ]\n",
    "num"
   ]
  },
  {
   "cell_type": "markdown",
   "metadata": {},
   "source": [
    "#### Using nested `if`"
   ]
  },
  {
   "cell_type": "code",
   "execution_count": null,
   "metadata": {},
   "outputs": [],
   "source": [
    "num = [ None ]\n",
    "num"
   ]
  },
  {
   "cell_type": "markdown",
   "metadata": {},
   "source": [
    "### Example 6\n",
    "\n",
    "Let's suppose we have lists in a list. For example, a matrix is a sort of lists in a list. Sometimes, we want to make lists in a list into a list. This operation is called `flatten`. For example,  The following matrix may be flattened \n",
    "\n",
    "```\n",
    "matrix = [ [1, 2, 3, 4],\n",
    "           [5, 6, 7, 8],\n",
    "           [9, 10, 11, 12]]\n",
    "```\n",
    "into \n",
    "```\n",
    "[1, 2, 3, 4, 5, 6, 7, 8, 9, 10, 11, 12]\n",
    "```\n",
    "\n",
    "Flatten the following matrix by\n",
    "- Using for loops\n",
    "- Using list comprehension."
   ]
  },
  {
   "cell_type": "code",
   "execution_count": null,
   "metadata": {},
   "outputs": [],
   "source": [
    "matrix = [\n",
    "    [1, 2, 3, 4],\n",
    "    [5, 6, 7, 8],\n",
    "    [9, 10, 11, 12],\n",
    "]\n",
    "\n",
    "flattened = []\n",
    "None\n",
    "        \n",
    "flattened"
   ]
  },
  {
   "cell_type": "markdown",
   "metadata": {},
   "source": [
    "It flattens the list of the list. "
   ]
  },
  {
   "cell_type": "code",
   "execution_count": null,
   "metadata": {},
   "outputs": [],
   "source": [
    "flattened = None      # incorrect ->  [n for n in row for row in matrix]\n",
    "flattened"
   ]
  },
  {
   "cell_type": "markdown",
   "metadata": {},
   "source": [
    "## 2. List Comprehension vs loop\n",
    "\n",
    "The list comprehensions is more efficient in terms of coding space than a `for` loop since they are typically written in a single line of code. Computationally, however, is it always faster than For-loops?  Let's find out.\n",
    "\n",
    "### Step 1:\n",
    "\n",
    "Let’s square for every item in a list from 1 to 5 such that it produces the following:\n",
    "\n",
    "```[1, 4, 9, 16, 25]```\n",
    "\n",
    "Let's implement this (when N = 5) when  using a for loop. "
   ]
  },
  {
   "cell_type": "code",
   "execution_count": null,
   "metadata": {},
   "outputs": [],
   "source": [
    "N = 5\n",
    "result = []\n",
    "for x in range(1, N + 1):\n",
    "    result.append(x * x)\n",
    "    \n",
    "print(result)"
   ]
  },
  {
   "cell_type": "markdown",
   "metadata": {},
   "source": [
    "### Step 2:\n",
    "\n",
    "Let us implement it as a function that returns a list."
   ]
  },
  {
   "cell_type": "code",
   "execution_count": null,
   "metadata": {},
   "outputs": [],
   "source": [
    "def squares(N):\n",
    "    return None"
   ]
  },
  {
   "cell_type": "markdown",
   "metadata": {},
   "source": [
    "### Step 3:\n",
    "\n",
    "Let us implement it as a list comprehension."
   ]
  },
  {
   "cell_type": "code",
   "execution_count": null,
   "metadata": {},
   "outputs": [],
   "source": [
    "def squares_x(N):\n",
    "    return None"
   ]
  },
  {
   "cell_type": "markdown",
   "metadata": {},
   "source": [
    "### Step 4\n",
    "Let us run two functions 10_000 times, respectively and time it."
   ]
  },
  {
   "cell_type": "code",
   "execution_count": null,
   "metadata": {},
   "outputs": [],
   "source": [
    "None"
   ]
  },
  {
   "cell_type": "code",
   "execution_count": null,
   "metadata": {},
   "outputs": [],
   "source": [
    "None"
   ]
  },
  {
   "cell_type": "markdown",
   "metadata": {},
   "source": [
    "## 3. A pythonic way of coding: For-loop vs List comprehension\n",
    "\n",
    "#### A sort of Palindrome(회문)\n",
    "\n",
    "A string is said to be __palindrome__ if the reverse of the string is the same as string. For example, “radar”or \"civic\" is a palindrome, \n",
    "\n",
    "Emordnilaps are like __palindromes'__ evil twins. Instead of being the same word, these rare words make a different real word when spelled backward! Reverse the word \"stop\" and it becomes \"pots.\" Flip \"drawer\" and you get \"reward.\" English contains a surprising variety of words that change meanings as soon as you read them right to left.\n",
    "\n",
    "Emordnilap Examples: \n",
    "- desserts and stressed, \n",
    "- decaf and faced\n",
    "- edit and tide\n",
    "- deeps and speed\n",
    "- stops and spots"
   ]
  },
  {
   "cell_type": "code",
   "execution_count": 3,
   "metadata": {},
   "outputs": [
    {
     "data": {
      "text/plain": [
       "980637"
      ]
     },
     "execution_count": 3,
     "metadata": {},
     "output_type": "execute_result"
    }
   ],
   "source": [
    "from urllib.request import urlopen \n",
    "#book = urlopen('http://www.gutenberg.org/files/10/10-0.txt')\n",
    "book = urlopen('http://composingprograms.com/shakespeare.txt')\n",
    "\n",
    "# Make a list words out of the book read from url.\n",
    "wlist = book.read().decode().split()\n",
    "len(wlist)"
   ]
  },
  {
   "cell_type": "code",
   "execution_count": 5,
   "metadata": {},
   "outputs": [
    {
     "data": {
      "text/plain": [
       "33505"
      ]
     },
     "execution_count": 5,
     "metadata": {},
     "output_type": "execute_result"
    }
   ],
   "source": [
    "## make a list that has a set of unique words.\n",
    "ulist = set(wlist)\n",
    "len(ulist)\n",
    "# then, convert the set back to a list type\n",
    "wlist = list(ulist)\n",
    "len(wlist)"
   ]
  },
  {
   "cell_type": "markdown",
   "metadata": {},
   "source": [
    "## Finding Emordnilaps - a sort of Palindrome\n",
    "\n",
    "- Using for-loop"
   ]
  },
  {
   "cell_type": "code",
   "execution_count": 9,
   "metadata": {},
   "outputs": [
    {
     "name": "stdout",
     "output_type": "stream",
     "text": [
      "['reward', 'redder', 'repaid', 'diaper', 'drawer']\n",
      "Wall time: 1min 55s\n"
     ]
    }
   ],
   "source": [
    "%%time\n",
    "alist = [] \n",
    "for w in wlist:\n",
    "    if len(w) > 5 and w[::-1] in wlist:\n",
    "        alist.append(w)\n",
    "print(alist)"
   ]
  },
  {
   "cell_type": "markdown",
   "metadata": {},
   "source": [
    "## a pythonic way?\n",
    "\n",
    "- using list comprehension"
   ]
  },
  {
   "cell_type": "code",
   "execution_count": 8,
   "metadata": {},
   "outputs": [
    {
     "name": "stdout",
     "output_type": "stream",
     "text": [
      "['reward', 'redder', 'repaid', 'diaper', 'drawer']\n"
     ]
    }
   ],
   "source": [
    "%%time\n",
    "alist = [ w for w in wlist if len(w) > 5 and w[::-1] in wlist ]\n",
    "print(alist)"
   ]
  },
  {
   "cell_type": "markdown",
   "metadata": {},
   "source": [
    "#### Which one is more efficient computationally?\n",
    "\n",
    "- You may use `%%time` instead of `%%timeit` since it takes long enough to run it once."
   ]
  },
  {
   "cell_type": "code",
   "execution_count": null,
   "metadata": {},
   "outputs": [],
   "source": []
  },
  {
   "cell_type": "code",
   "execution_count": null,
   "metadata": {},
   "outputs": [],
   "source": [
    "%%time\n",
    "alist = [ w for w in wlist if w[::-1] in wlist and len(w) > 5 ]\n",
    "print(alist)"
   ]
  },
  {
   "cell_type": "markdown",
   "metadata": {},
   "source": [
    "## 4. Tuple\n",
    "\n",
    "A __tuple__ is an __immutable__ sequence type. One of the ways of creating tuple is by using the `tuple()` construct."
   ]
  },
  {
   "cell_type": "code",
   "execution_count": 1,
   "metadata": {},
   "outputs": [
    {
     "name": "stdout",
     "output_type": "stream",
     "text": [
      "t1 = (2, 8, 1, 9)\n",
      "t2 = ('P', 'y', 't', 'h', 'o', 'n')\n"
     ]
    }
   ],
   "source": [
    "# creating a tuple from a list\n",
    "t1 = tuple([2, 8, 1, 9])\n",
    "print('t1 =', t1)\n",
    "\n",
    "# creating a tuple from a string\n",
    "t2 = tuple('Python')\n",
    "print('t2 =',t2)"
   ]
  },
  {
   "cell_type": "markdown",
   "metadata": {},
   "source": [
    "#### Example 1: Make a list of tuples from two collections or lists.\n",
    "\n",
    "- `zip()` with `n` arguments returns an __iterator__ that generates `tuple`s of length `n`. "
   ]
  },
  {
   "cell_type": "code",
   "execution_count": 2,
   "metadata": {},
   "outputs": [
    {
     "name": "stdout",
     "output_type": "stream",
     "text": [
      "[('apple', 2), ('banana', 8), ('kiwi', 1), ('mango', 9)]\n"
     ]
    }
   ],
   "source": [
    "s1 = ['apple', 'banana', 'kiwi', 'mango']\n",
    "s2 = [2, 8, 1, 9]\n",
    "store = list(zip(s1, s2))\n",
    "print(store)"
   ]
  },
  {
   "cell_type": "markdown",
   "metadata": {},
   "source": [
    "#### Example 2: Count the number of fruits \n",
    "```\n",
    "store = [('apple', 2), ('banana', 8), ('kiwi', 1), ('mango', 9)]\n",
    "```\n",
    "- using enumerate and for-loop\n",
    "- using list comprehension\n",
    "\n",
    "Hint: `sum([2, 8, 1, 9])` returns 20. "
   ]
  },
  {
   "cell_type": "markdown",
   "metadata": {},
   "source": [
    "#### Solution 1: "
   ]
  },
  {
   "cell_type": "code",
   "execution_count": null,
   "metadata": {},
   "outputs": [],
   "source": [
    "store = [('apple', 2), ('banana', 8), ('kiwi', 1), ('mango', 9)]\n",
    "n = 0\n",
    "for fruit, count in store:\n",
    "    n += count\n",
    "\n",
    "print(n)"
   ]
  },
  {
   "cell_type": "code",
   "execution_count": 3,
   "metadata": {},
   "outputs": [
    {
     "name": "stdout",
     "output_type": "stream",
     "text": [
      "20\n"
     ]
    }
   ],
   "source": [
    "n = 0\n",
    "for fruit, count in zip(s1, s2):\n",
    "    n += count\n",
    "\n",
    "print(n)"
   ]
  },
  {
   "cell_type": "markdown",
   "metadata": {},
   "source": [
    "#### Solution 2: "
   ]
  },
  {
   "cell_type": "code",
   "execution_count": 4,
   "metadata": {},
   "outputs": [
    {
     "data": {
      "text/plain": [
       "20"
      ]
     },
     "execution_count": 4,
     "metadata": {},
     "output_type": "execute_result"
    }
   ],
   "source": [
    "store = [('apple', 2), ('banana', 8), ('kiwi', 1), ('mango', 9)]\n",
    "sum([ y for x, y in store])"
   ]
  },
  {
   "cell_type": "code",
   "execution_count": null,
   "metadata": {},
   "outputs": [],
   "source": []
  },
  {
   "cell_type": "markdown",
   "metadata": {},
   "source": [
    "## 5. Dictionary\n",
    "\n",
    "Python dictionary is an unordered collection of items. Each item of a dictionary has a key/value pair. Creating a dictionary is as simple as placing items inside curly braces `{ }` separated by commas.\n",
    "\n",
    "An item has a key and a corresponding value that is expressed as a pair or `key: value`. You may use the `dict()` construct. \n",
    "\n",
    "For example: \n",
    "```\n",
    "my_dict = {'apple': 5, 'orange': 10}\n",
    "ur_dict = {'apple': 2, 'banana': 3, 'kiwi': 1, 'mango': 5}\n",
    "\n",
    "store = {'apple': 2, 'banana': 8, 'kiwi': 1, 'mango': 9}\n",
    "```"
   ]
  },
  {
   "cell_type": "markdown",
   "metadata": {},
   "source": [
    "#### Example 1: construct a dictionary from a list.\n",
    "```\n",
    "alist = [('apple', 2), ('banana', 8), ('kiwi', 1), ('mango', 9)]\n",
    "\n",
    "store = {'apple': 2, 'banana': 8, 'kiwi': 1, 'mango': 9}\n",
    "```"
   ]
  },
  {
   "cell_type": "code",
   "execution_count": 5,
   "metadata": {},
   "outputs": [
    {
     "name": "stdout",
     "output_type": "stream",
     "text": [
      "{'apple': 2, 'banana': 8, 'kiwi': 1, 'mango': 9}\n"
     ]
    }
   ],
   "source": [
    "alist = [('apple', 2), ('banana', 8), ('kiwi', 1), ('mango', 9)]\n",
    "store = dict(alist)\n",
    "print(store)"
   ]
  },
  {
   "cell_type": "markdown",
   "metadata": {},
   "source": [
    "#### Example 2: List all keys\n",
    "```\n",
    "store = {'apple': 2, 'banana': 8, 'kiwi': 1, 'mango': 9}\n",
    "alist = ['apple', 'banana', 'kiwi', 'mango']\n",
    "```"
   ]
  },
  {
   "cell_type": "code",
   "execution_count": 6,
   "metadata": {},
   "outputs": [
    {
     "name": "stdout",
     "output_type": "stream",
     "text": [
      "['apple', 'banana', 'kiwi', 'mango']\n"
     ]
    }
   ],
   "source": [
    "store = {'apple': 2, 'banana': 8, 'kiwi': 1, 'mango': 9}\n",
    "alist = list(store.keys())\n",
    "print(alist)"
   ]
  },
  {
   "cell_type": "markdown",
   "metadata": {},
   "source": [
    "#### Example 3: List all values and its sum\n",
    "```\n",
    "store = {'apple': 2, 'banana': 8, 'kiwi': 1, 'mango': 9}\n",
    "alist = [2, 8, 1, 9]\n",
    "20\n",
    "```"
   ]
  },
  {
   "cell_type": "code",
   "execution_count": 8,
   "metadata": {},
   "outputs": [
    {
     "name": "stdout",
     "output_type": "stream",
     "text": [
      "[2, 8, 1, 9]\n",
      "20\n"
     ]
    }
   ],
   "source": [
    "store = {'apple': 2, 'banana': 8, 'kiwi': 1, 'mango': 9}\n",
    "alist = list(store.values())\n",
    "print(alist)\n",
    "print(sum(alist))"
   ]
  },
  {
   "cell_type": "markdown",
   "metadata": {},
   "source": [
    "#### Example 4: List all key: value pairs\n",
    "\n",
    "```\n",
    "apple:2, banana:8, kiwi:1, mango:9\n",
    "```\n",
    "\n",
    "__Hint:__ \n",
    "- Use for-loop and items()"
   ]
  },
  {
   "cell_type": "code",
   "execution_count": 15,
   "metadata": {},
   "outputs": [
    {
     "name": "stdout",
     "output_type": "stream",
     "text": [
      "apple:2, banana:8, kiwi:1, mango:9, "
     ]
    }
   ],
   "source": [
    "store = {'apple': 2, 'banana': 8, 'kiwi': 1, 'mango': 9}\n",
    "for key, value in store.items():\n",
    "    print(key, ':', value, sep = '', end = ', ')\n",
    "    "
   ]
  },
  {
   "cell_type": "markdown",
   "metadata": {},
   "source": [
    "## 6. Dict Comprehension \n",
    "\n",
    "A dictionary is a collection of __key/value pairs__. Python has various methods to work in dictionaries. "
   ]
  },
  {
   "cell_type": "markdown",
   "metadata": {},
   "source": [
    "#### Example 1. Make a dict from two lists.\n",
    "\n",
    "```\n",
    "fruit = ['apple', 'banana', 'kiwi', 'mango']\n",
    "count = [2, 8, 1, 9]\n",
    "\n",
    "store = {'apple': 2, 'banana': 8, 'kiwi': 1, {'mango': 9}\n",
    "```\n",
    "__Hint:__ \n",
    "- Use `zip()` to combine fruit and count as a pair. \n",
    "- Use list comprehension to make a list of those pairs.\n",
    "- Use `dict()` construct to convert the list to a dict data type\n",
    "\n",
    "#### Solution 1: Using for-loop"
   ]
  },
  {
   "cell_type": "code",
   "execution_count": 18,
   "metadata": {},
   "outputs": [
    {
     "name": "stdout",
     "output_type": "stream",
     "text": [
      "[('apple', 2), ('banana', 8), ('kiwi', 1), ('mango', 9)]\n",
      "{'apple': 2, 'banana': 8, 'kiwi': 1, 'mango': 9}\n"
     ]
    }
   ],
   "source": [
    "#converting two lists or sets into one dict type object\n",
    "fruit = ['apple', 'banana', 'kiwi', 'mango']\n",
    "count = [2, 8, 1, 9]\n",
    "\n",
    "alist = []\n",
    "for f, c in zip(fruit, count):\n",
    "    alist.append((f, c))\n",
    "\n",
    "print(alist)\n",
    "store = dict(alist)                 \n",
    "print(store)"
   ]
  },
  {
   "cell_type": "markdown",
   "metadata": {},
   "source": [
    "#### Solution 2: Using list-comprehension"
   ]
  },
  {
   "cell_type": "code",
   "execution_count": 20,
   "metadata": {},
   "outputs": [
    {
     "name": "stdout",
     "output_type": "stream",
     "text": [
      "{'apple': 2, 'banana': 8, 'kiwi': 1, 'mango': 9}\n"
     ]
    }
   ],
   "source": [
    "fruit = ['apple', 'banana', 'kiwi', 'mango']\n",
    "count = [2, 8, 1, 9]\n",
    "\n",
    "store = dict([ (f, c) for f, c in zip(fruit, count)])\n",
    "\n",
    "print(store)"
   ]
  },
  {
   "cell_type": "markdown",
   "metadata": {},
   "source": [
    "## Homework\n",
    "\n",
    "### 1.  Find colors\n",
    "\n",
    "Given a list of colors, create a list of colors of which the length is greater than 5.  \n",
    "- Use a for loop\n",
    "- Use a list comprehension.\n",
    "    \n",
    "#### Using for-loop"
   ]
  },
  {
   "cell_type": "code",
   "execution_count": null,
   "metadata": {},
   "outputs": [],
   "source": [
    "# Use a for loop\n",
    "rainbow = ['red', 'orange', 'yellow', 'green', 'blue', 'indigo', 'violet']\n",
    "colors = []\n",
    "\n",
    "\n",
    "print(colors)"
   ]
  },
  {
   "cell_type": "markdown",
   "metadata": {},
   "source": [
    "#### Using list comprehension"
   ]
  },
  {
   "cell_type": "code",
   "execution_count": null,
   "metadata": {},
   "outputs": [],
   "source": [
    "# Use a list comprehension.\n",
    "\n",
    "rainbow = ['red', 'orange', 'yellow', 'green', 'blue', 'indigo', 'violet']\n",
    "colors = None\n",
    "print(colors)"
   ]
  },
  {
   "cell_type": "markdown",
   "metadata": {},
   "source": [
    "### 2. Grading\n",
    "Given a list of grades, count how many are above the average.\n",
    "\n",
    "1. Get an average\n",
    "2. Get a list of grades above the average using a for loop\n",
    "3. Get the number of grades above the average \n",
    "\n",
    "The output expected:\n",
    "```\n",
    "17 grades are above the average 73.74074074074075\n",
    "[88, 76, 78, 87, 100, 77, 89, 92, 87, 88, 95, 99, 76, 87, 98, 87, 89]\n",
    "```\n",
    "\n",
    "#### Using for loop:"
   ]
  },
  {
   "cell_type": "code",
   "execution_count": null,
   "metadata": {},
   "outputs": [],
   "source": [
    "grades = [88,67,45,67,76,78,53,87,12,100,77,89,92,53,55,45,87,88,95,99,76,87,56,45,98,87,89]\n",
    "avg = None\n",
    "alist = []\n",
    "\n",
    "\n",
    "        \n",
    "        \n",
    "print(len(alist), \"grades are above the average\", avg)\n",
    "print(alist)"
   ]
  },
  {
   "cell_type": "markdown",
   "metadata": {},
   "source": [
    "#### Using list comprehension"
   ]
  },
  {
   "cell_type": "code",
   "execution_count": null,
   "metadata": {},
   "outputs": [],
   "source": [
    "avg = None\n",
    "alist = None\n",
    "        \n",
    "print(len(alist), \"grades are above the average\", avg)\n",
    "print(alist)"
   ]
  },
  {
   "cell_type": "markdown",
   "metadata": {},
   "source": [
    "## 3. Given a three-digit number. Find the sum of its digits.\n",
    "\n",
    "Print the sum of three-digit number which is an integer.\n",
    "\n",
    "For example, print `10` if `316`, `13` if `256`, `18` if `567`. \n"
   ]
  },
  {
   "cell_type": "markdown",
   "metadata": {},
   "source": [
    "Using built-in function `sum()`, `int()`, and list comprehension, we can just do it in one line of code.\n",
    "\n",
    "- To use built-in `sum()` function.\n",
    "- `Input()` returns a `str` type data. \n",
    "- Use list comprehension and get each character.\n",
    "- Use `sum()` to sum up the element in the list. "
   ]
  },
  {
   "cell_type": "code",
   "execution_count": null,
   "metadata": {},
   "outputs": [],
   "source": [
    "# del sum\n",
    "# Read an integer as a string:\n",
    "s = None\n",
    "\n",
    "# for example, print 6 if a is 123, 18 if a is 369. \n",
    "total = None\n",
    "print(total)"
   ]
  },
  {
   "cell_type": "markdown",
   "metadata": {},
   "source": [
    "## 4. Create the following dict type data set.\n",
    "\n",
    "```\n",
    "data = {'a': 1, 'b': 2, 'c': 3, ..., 'x': 24, 'y': 25, 'z': 26}\n",
    "```\n",
    "- You may import the sequence of ASCII lowercase as shown below:\n",
    "\n",
    "```\n",
    "from string import ascii_lowercase as lowers\n",
    "```"
   ]
  },
  {
   "cell_type": "markdown",
   "metadata": {},
   "source": [
    "#### Solution 1: Using dict() function and zip()."
   ]
  },
  {
   "cell_type": "code",
   "execution_count": 1,
   "metadata": {},
   "outputs": [
    {
     "name": "stdout",
     "output_type": "stream",
     "text": [
      "{'a': 1, 'b': 2, 'c': 3, 'd': 4, 'e': 5, 'f': 6, 'g': 7, 'h': 8, 'i': 9, 'j': 10, 'k': 11, 'l': 12, 'm': 13, 'n': 14, 'o': 15, 'p': 16, 'q': 17, 'r': 18, 's': 19, 't': 20, 'u': 21, 'v': 22, 'w': 23, 'x': 24, 'y': 25, 'z': 26}\n"
     ]
    }
   ],
   "source": [
    "from string import ascii_lowercase as lowers\n",
    "\n",
    "data = dict(zip(lowers, range(1, len(lowers) + 1)) )\n",
    "print(data)"
   ]
  },
  {
   "cell_type": "markdown",
   "metadata": {},
   "source": [
    "#### Solution 2: Using dict comprehension\n"
   ]
  },
  {
   "cell_type": "code",
   "execution_count": 2,
   "metadata": {},
   "outputs": [
    {
     "name": "stdout",
     "output_type": "stream",
     "text": [
      "{'a': 1, 'b': 2, 'c': 3, 'd': 4, 'e': 5, 'f': 6, 'g': 7, 'h': 8, 'i': 9, 'j': 10, 'k': 11, 'l': 12, 'm': 13, 'n': 14, 'o': 15, 'p': 16, 'q': 17, 'r': 18, 's': 19, 't': 20, 'u': 21, 'v': 22, 'w': 23, 'x': 24, 'y': 25, 'z': 26}\n"
     ]
    }
   ],
   "source": [
    "data = { ch: num for ch, num in zip(lowers, range(1, 27)) }\n",
    "print(data)"
   ]
  },
  {
   "cell_type": "markdown",
   "metadata": {},
   "source": [
    "## 5.1 Pythagorean triplet - Warming-up\n",
    "\n",
    "A Pythagorean triplet is a set of three positive integers a, b and c such that $a^2 + b^2 = c^2$. Given a limit, generate all Pythagorean Triples with values smaller than given limit n. Assume that a < b < c.\n",
    "\n",
    "피타고라스 정리(Pythagorean theorem)는 직각 삼각형의 빗변의 제곱이 두 직각변의 제곱의 합과 같다라는 것입니다.  삼각형 세 변의 길이가 각각 a, b, c 이며, a < b < c 라고 가정한다면, $a^2 + b^2 = c^2$ 를 만족합니다. 피타고라스 정리의 조건을 만족하는 n 보다 작은 정수 a, b, c를 요소로 하는 list를 출력하십시오. \n",
    "\n",
    "If n is 10, the following output is expected:\n",
    "\n",
    "```\n",
    "3, 4, 5\n",
    "6, 8, 10\n",
    "```\n",
    "\n",
    "If n is 20, the following output is expected:\n",
    "```\n",
    "3, 4, 5\n",
    "5, 12, 13\n",
    "6, 8, 10\n",
    "8, 15, 17\n",
    "9, 12, 15\n",
    "12, 16, 20\n",
    "```\n",
    "\n",
    "__Hints and Tips__: You may use `sep` option duing print(). "
   ]
  },
  {
   "cell_type": "code",
   "execution_count": null,
   "metadata": {
    "scrolled": true
   },
   "outputs": [],
   "source": [
    "n = 20\n",
    "for a in range(1, n):\n",
    "    for b in range(a, n):\n",
    "        for c in range(b, n):\n",
    "            if a * a + b * b == c * c:\n",
    "                print(a, b, c, sep = ', ')"
   ]
  },
  {
   "cell_type": "markdown",
   "metadata": {},
   "source": [
    "## 5.2 Pythagorean triplet\n",
    "Write a function, `pythagorean(n)`, that returns a list of Pythagorean triplet lists. \n",
    "\n",
    "If n is 20, the following output is expected:\n",
    "\n",
    "```\n",
    "[[3, 4, 5], [5, 12, 13], [6, 8, 10], [8, 15, 17], [9, 12, 15], [12, 16, 20]]\n",
    "```"
   ]
  },
  {
   "cell_type": "code",
   "execution_count": 9,
   "metadata": {},
   "outputs": [
    {
     "name": "stdout",
     "output_type": "stream",
     "text": [
      "[[3, 4, 5], [5, 12, 13], [6, 8, 10], [8, 15, 17], [9, 12, 15], [12, 16, 20]]\n"
     ]
    }
   ],
   "source": [
    "def pythagorean(n):\n",
    "    t = []\n",
    "    n = n + 1\n",
    "    for a in range(1, n):\n",
    "        for b in range(a, n):\n",
    "            for c in range(b, n):\n",
    "                if (a * a + b * b) == c * c:\n",
    "                    t.append([a, b, c])\n",
    "    return t\n",
    "\n",
    "n = 20\n",
    "t = pythagorean(n) \n",
    "print(t)"
   ]
  },
  {
   "cell_type": "markdown",
   "metadata": {},
   "source": [
    "## 5.3 Pythagorean triplet \n",
    "Write a function, `pythagorean(n)`, that returns a list of Pythagorean triplet tuples. The __tuple__ data type in Python just works like a __list__ but it is immutable.\n",
    "\n",
    "If n is 20, the following output is expected:\n",
    "\n",
    "```\n",
    "[(3, 4, 5), (5, 12, 13), (6, 8, 10), (8, 15, 17), (9, 12, 15), (12, 16, 20)]\n",
    "```"
   ]
  },
  {
   "cell_type": "code",
   "execution_count": null,
   "metadata": {},
   "outputs": [],
   "source": [
    "def pythagorean(n):\n",
    "    None\n",
    "    for a in None\n",
    "        for b in None\n",
    "            for c in None\n",
    "                if None\n",
    "                    None\n",
    "    return None\n",
    "\n",
    "n = 20\n",
    "pythagorean(n) "
   ]
  },
  {
   "cell_type": "markdown",
   "metadata": {},
   "source": [
    "## 5.4 Pythagorean triplet \n",
    "Using a list comprehension, implement `pythagorean(n)`, that returns a list of Pythagorean triplet tuples. "
   ]
  },
  {
   "cell_type": "code",
   "execution_count": null,
   "metadata": {},
   "outputs": [],
   "source": [
    "def pythagorean(n):\n",
    "    return [None]\n",
    "\n",
    "n = 20\n",
    "pythagorean(n) "
   ]
  },
  {
   "cell_type": "markdown",
   "metadata": {},
   "source": [
    "### Reference for Pythagorean triplet\n",
    "\n",
    "There are some useful discussions to make this function faster. \n",
    "\n",
    "- https://stackoverflow.com/questions/575117/generating-unique-ordered-pythagorean-triplets\n",
    "\n",
    "- https://www.geeksforgeeks.org/generate-pythagorean-triplets/"
   ]
  },
  {
   "cell_type": "markdown",
   "metadata": {},
   "source": [
    "## Key Points to Remember\n",
    "- List comprehension is an elegant way to define and create lists based on existing lists.\n",
    "- List comprehension is generally more compact and faster than normal functions and loops for creating list.\n",
    "- However, we should avoid writing very long list comprehensions in one line to ensure that code is user-friendly.\n",
    "- Remember, every list comprehension can be rewritten in for loop, but every for loop can’t be rewritten in the form of list comprehension."
   ]
  },
  {
   "cell_type": "markdown",
   "metadata": {},
   "source": [
    "--------\n",
    "__슬기로운 자는 재앙을 보면 숨어 피하여도 어리석은 자들은 나가다가 해를 받느니라.__\n",
    "잠언27:12"
   ]
  }
 ],
 "metadata": {
  "kernelspec": {
   "display_name": "Python 3",
   "language": "python",
   "name": "python3"
  },
  "language_info": {
   "codemirror_mode": {
    "name": "ipython",
    "version": 3
   },
   "file_extension": ".py",
   "mimetype": "text/x-python",
   "name": "python",
   "nbconvert_exporter": "python",
   "pygments_lexer": "ipython3",
   "version": "3.7.7"
  }
 },
 "nbformat": 4,
 "nbformat_minor": 1
}
